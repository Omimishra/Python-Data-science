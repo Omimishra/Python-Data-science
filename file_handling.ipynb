{
 "cells": [
  {
   "cell_type": "code",
   "execution_count": null,
   "metadata": {},
   "outputs": [],
   "source": [
    "import os"
   ]
  },
  {
   "cell_type": "code",
   "execution_count": null,
   "metadata": {},
   "outputs": [],
   "source": [
    "#d means directory or folder\n",
    "BASE_DIR= os.getcwd()\n",
    "print(BASE_DIR)\n"
   ]
  },
  {
   "cell_type": "code",
   "execution_count": null,
   "metadata": {},
   "outputs": [],
   "source": [
    "# all the files and content in that folder\n",
    "content = os.listdir()\n",
    "print(content)"
   ]
  },
  {
   "cell_type": "code",
   "execution_count": null,
   "metadata": {},
   "outputs": [],
   "source": [
    "addr = r'C:\\Program Files'\n",
    "content = os.listdir(addr)\n",
    "print(f'Total content: {len(content)}')"
   ]
  },
  {
   "cell_type": "code",
   "execution_count": null,
   "metadata": {},
   "outputs": [],
   "source": [
    "os.listdrives()"
   ]
  },
  {
   "cell_type": "code",
   "execution_count": null,
   "metadata": {},
   "outputs": [],
   "source": [
    "os.chdir(\"C:\")\n",
    "print(os.listdir())"
   ]
  },
  {
   "cell_type": "code",
   "execution_count": null,
   "metadata": {},
   "outputs": [],
   "source": [
    "os.makedirs(\"mynotes\",exist_ok=True)\n",
    "print(os.listdir())"
   ]
  },
  {
   "cell_type": "markdown",
   "metadata": {},
   "source": [
    "# python file handling\n",
    "`open()` - opens file resources and returns a file object.\n",
    "\n",
    "- modes\n",
    "    - 'r' - read mode(default)\n",
    "    - 'w' - write mode\n",
    "    - 'a' - append mode"
   ]
  },
  {
   "cell_type": "code",
   "execution_count": null,
   "metadata": {},
   "outputs": [],
   "source": [
    "with open ('mynotes/note1.txt' , 'w') as f:\n",
    "    f.write(\"This is my note :\\n\")\n",
    "    f.write(\"Hey I'm Omi...n yeah i know my name is weird :\\n\")\n",
    "    f.write(\"It's okay you can talk I don't bite\\n\")\n"
   ]
  },
  {
   "cell_type": "code",
   "execution_count": null,
   "metadata": {},
   "outputs": [],
   "source": [
    "with open('mynotes/note1.txt','a') as f:\n",
    "    f.write(\"Let's talk on my one of the most favorite topic \\n\")\n",
    "    f.write(\"Books and fictional characters \\n\")"
   ]
  },
  {
   "cell_type": "code",
   "execution_count": null,
   "metadata": {},
   "outputs": [],
   "source": [
    "with open(\"mynotes/note1.txt\") as file:\n",
    "    data = file.read()\n",
    "print(data)"
   ]
  },
  {
   "cell_type": "code",
   "execution_count": 19,
   "metadata": {},
   "outputs": [
    {
     "name": "stdout",
     "output_type": "stream",
     "text": [
      "kahani = \"\"\n",
      "while True:\n",
      "    data = input('enter a story')\n",
      "    if len(data) == 0:\n",
      "        print('khatam.. tata.. byebyeee!!!!')\n",
      "        break\n",
      "    kahani += data + \"\\n\"\n",
      "print ('meri kahani')\n",
      "print (kahani)\n",
      "\n",
      "\n"
     ]
    }
   ],
   "source": [
    "with open(r'C:\\Users\\omimi\\OneDrive\\Documents\\Python Data science\\kahani.py') as f:\n",
    "    data = f.read()\n",
    "print(data)"
   ]
  },
  {
   "cell_type": "code",
   "execution_count": 22,
   "metadata": {},
   "outputs": [
    {
     "name": "stdout",
     "output_type": "stream",
     "text": [
      "['1698384132668_TECHNICAL_COMMUNICATION[1].pdf', '4_Cache Memory in Computer Organization.docx.pdf', 'Anemia.pdf', 'C_Complete_Notes.pdf', 'Deficiency_Certificate.pdf', 'EAadhaar_0013080021689920221009123859_18052023185115.pdf', 'ENDANGERED-PLANTS.pdf', 'first resume.pdf', 'graph.pdf', 'Java_Complete_Notes.pdf', 'SC Order dated 29th March2023.pdf', 'school.pdf', 'SE UNIT 2.pdf', 'SE UNIT_5.pdf', 'unit3 software.pdf', 'UNIT4 software.pdf', 'Yatra Registration Letter - UTDB (1).pdf', 'Yatra Registration Letter - UTDB (10).pdf', 'Yatra Registration Letter - UTDB (11).pdf', 'Yatra Registration Letter - UTDB (12).pdf', 'Yatra Registration Letter - UTDB (2).pdf', 'Yatra Registration Letter - UTDB (3).pdf', 'Yatra Registration Letter - UTDB (4).pdf', 'Yatra Registration Letter - UTDB (5).pdf', 'Yatra Registration Letter - UTDB (6).pdf', 'Yatra Registration Letter - UTDB (7).pdf', 'Yatra Registration Letter - UTDB (8).pdf', 'Yatra Registration Letter - UTDB (9).pdf', 'Yatra Registration Letter - UTDB.pdf']\n"
     ]
    }
   ],
   "source": [
    "items = os.listdir('C:/Users/omimi/Downloads')\n",
    "pdfs = list(filter(lambda file:file.endswith('.pdf'),items))\n",
    "print(pdfs)"
   ]
  },
  {
   "cell_type": "code",
   "execution_count": 24,
   "metadata": {},
   "outputs": [
    {
     "name": "stdout",
     "output_type": "stream",
     "text": [
      "1698384132668_TECHNICAL_COMMUNICATION[1].pdf       982.06 KB\n",
      "4_Cache Memory in Computer Organization.docx.pdf   271.34 KB\n",
      "Anemia.pdf                                         131.64 KB\n",
      "C_Complete_Notes.pdf                               32367.62 KB\n",
      "Deficiency_Certificate.pdf                         308.55 KB\n",
      "EAadhaar_0013080021689920221009123859_18052023185115.pdf 907.62 KB\n",
      "ENDANGERED-PLANTS.pdf                              50684.79 KB\n",
      "first resume.pdf                                   45.68 KB\n",
      "graph.pdf                                          941.58 KB\n",
      "Java_Complete_Notes.pdf                            40028.87 KB\n",
      "SC Order dated 29th March2023.pdf                  59.34 KB\n",
      "school.pdf                                         255.96 KB\n",
      "SE UNIT 2.pdf                                      9971.59 KB\n",
      "SE UNIT_5.pdf                                      7954.45 KB\n",
      "unit3 software.pdf                                 8183.51 KB\n",
      "UNIT4 software.pdf                                 8087.69 KB\n",
      "Yatra Registration Letter - UTDB (1).pdf           132.65 KB\n",
      "Yatra Registration Letter - UTDB (10).pdf          136.55 KB\n",
      "Yatra Registration Letter - UTDB (11).pdf          221.28 KB\n",
      "Yatra Registration Letter - UTDB (12).pdf          94.92 KB\n",
      "Yatra Registration Letter - UTDB (2).pdf           79.69 KB\n",
      "Yatra Registration Letter - UTDB (3).pdf           187.90 KB\n",
      "Yatra Registration Letter - UTDB (4).pdf           89.31 KB\n",
      "Yatra Registration Letter - UTDB (5).pdf           136.55 KB\n",
      "Yatra Registration Letter - UTDB (6).pdf           151.02 KB\n",
      "Yatra Registration Letter - UTDB (7).pdf           179.12 KB\n",
      "Yatra Registration Letter - UTDB (8).pdf           63.79 KB\n",
      "Yatra Registration Letter - UTDB (9).pdf           91.43 KB\n",
      "Yatra Registration Letter - UTDB.pdf               183.25 KB\n"
     ]
    }
   ],
   "source": [
    "for file in pdfs:\n",
    "    path = f'C:/Users/omimi/Downloads/{file}'\n",
    "    size = os.path.getsize(path)\n",
    "    print(f'{file:50} {size/1024:.2f} KB')\n"
   ]
  },
  {
   "cell_type": "code",
   "execution_count": null,
   "metadata": {},
   "outputs": [],
   "source": []
  }
 ],
 "metadata": {
  "kernelspec": {
   "display_name": "base",
   "language": "python",
   "name": "python3"
  },
  "language_info": {
   "codemirror_mode": {
    "name": "ipython",
    "version": 3
   },
   "file_extension": ".py",
   "mimetype": "text/x-python",
   "name": "python",
   "nbconvert_exporter": "python",
   "pygments_lexer": "ipython3",
   "version": "3.12.3"
  }
 },
 "nbformat": 4,
 "nbformat_minor": 2
}
