{
 "cells": [
  {
   "cell_type": "markdown",
   "metadata": {},
   "source": [
    "# list \n",
    "- create \n",
    "- indexing and slicing\n",
    "- methods\n",
    "     - append()\n",
    "     - insert()\n",
    "     - extend()\n",
    "     - remove()\n",
    "     - pop()\n",
    "     - clear()\n",
    "     - count()\n",
    "     - reverse()\n",
    "     - sort()\n",
    "     - index()\n",
    "     - copy()\n",
    "- comprehension"
   ]
  },
  {
   "cell_type": "code",
   "execution_count": 75,
   "metadata": {},
   "outputs": [
    {
     "name": "stdout",
     "output_type": "stream",
     "text": [
      "[1, 2, 3] <class 'list'>\n",
      "['Alice', 'Bob', 'Charlie'] <class 'list'>\n",
      "['apple', '30', 'mango', '100', 'cherry', 70]\n",
      "[[1, 2, 3], [4, 5, 6], [7, 8]]\n",
      "[1, 2, 1, 2, 1, 2, 1, 2, 1, 2, 1, 2, 1, 2, 1, 2, 1, 2, 1, 2]\n",
      "['v', 'e', 'r', 't', 'e', 'x']\n",
      "['welcome', 'to', 'listing']\n"
     ]
    }
   ],
   "source": [
    "a = [1,2,3]\n",
    "print (a,type(a))\n",
    "names = ['Alice','Bob','Charlie']\n",
    "print(names,type(names))\n",
    "data = ['apple','30','mango','100','cherry',70]\n",
    "nested_list = [[1,2,3],[4,5,6],[7,8]]\n",
    "duplicated_list = [1,2] * 10\n",
    "print(data)\n",
    "print(nested_list)\n",
    "print(duplicated_list)\n",
    "print (list('vertex'))\n",
    "print('welcome to listing'.split())"
   ]
  },
  {
   "cell_type": "code",
   "execution_count": 76,
   "metadata": {},
   "outputs": [
    {
     "name": "stdout",
     "output_type": "stream",
     "text": [
      "first five [11, 12, 13, 14, 15]\n",
      "last five [11, 12, 13, 14, 15]\n",
      "last element = 20\n",
      "first element = 11\n",
      "except first 2 and last 2 elements = [13, 14, 15, 16, 17, 18]\n",
      "reverse list = [20, 19, 18, 17, 16, 15, 14, 13, 12, 11]\n",
      "all even indexes = [11, 13, 15, 17, 19]\n",
      "all odd indexes = [12, 14, 16, 18, 20]\n",
      "reversing first five = [15, 14, 13, 12, 11]\n"
     ]
    }
   ],
   "source": [
    "n =[11,12,13,14,15,16,17,18,19,20]\n",
    "print('first five',n[:5])\n",
    "print('last five',n[:-5])\n",
    "print ('last element =',n[-1])\n",
    "print ('first element =',n[0])\n",
    "print ('except first 2 and last 2 elements =',n[2:-2])\n",
    "print ('reverse list =',n[::-1])\n",
    "print ('all even indexes =',n[::2])\n",
    "print ('all odd indexes =',n[1::2])\n",
    "print('reversing first five =',n[4::-1])"
   ]
  },
  {
   "cell_type": "code",
   "execution_count": 77,
   "metadata": {},
   "outputs": [
    {
     "name": "stdout",
     "output_type": "stream",
     "text": [
      "[11, 12, 13, 14, 15, 200, 17, 18, 19, 20]\n",
      "[200, 12, 13, 14, 15, 200, 17, 18, 19, 20]\n"
     ]
    }
   ],
   "source": [
    "#list is mutable\n",
    "n[5] = 200 #update\n",
    "print (n)\n",
    "n[0] = 200\n",
    "print(n)"
   ]
  },
  {
   "cell_type": "code",
   "execution_count": 78,
   "metadata": {},
   "outputs": [
    {
     "name": "stdout",
     "output_type": "stream",
     "text": [
      "['Star wars', 'Harry Potter', 'The core', 'Kal ho na ho', 'Cocktail', 'The Notebook']\n",
      "6\n"
     ]
    }
   ],
   "source": [
    "movies = []\n",
    "movies.append('Star wars')\n",
    "movies.append('Harry Potter')\n",
    "movies.append('The core')\n",
    "movies.append('Kal ho na ho')\n",
    "movies.append('Cocktail')\n",
    "movies.append('The Notebook')\n",
    "print (movies)\n",
    "print(len(movies))"
   ]
  },
  {
   "cell_type": "code",
   "execution_count": 79,
   "metadata": {},
   "outputs": [
    {
     "name": "stdout",
     "output_type": "stream",
     "text": [
      "['fast and furious', '2 fast and furious', 'fast and furious :Tokyo drift', 'fast and furious 4', 'fast 5']\n"
     ]
    }
   ],
   "source": [
    "ff =['fast and furious','2 fast and furious','fast and furious :Tokyo drift',\n",
    "     'fast 5',\n",
    "     ]\n",
    "\n",
    "ff.insert(3,'fast and furious 4')\n",
    "print(ff)"
   ]
  },
  {
   "cell_type": "code",
   "execution_count": 80,
   "metadata": {},
   "outputs": [
    {
     "name": "stdout",
     "output_type": "stream",
     "text": [
      "[1, 2, 3, 4, 6, 7, 8, 9]\n",
      "[1, 2, 3, 4, 5, 6, 7, 8, 9]\n",
      "[1, 2, 3, 4, 5, 6, 7, 8, 9, 5]\n"
     ]
    }
   ],
   "source": [
    "n = [1,2,3,6,7,8,9]\n",
    "n.insert(3,4) # on 3rd index , insert value = 4\n",
    "print (n)\n",
    "n.insert(4,5) # on 4rd index , insert value = 5\n",
    "print (n)\n",
    "n.insert(100,5) # invalid index, so it will insert at the end\n",
    "print (n)"
   ]
  },
  {
   "cell_type": "code",
   "execution_count": 81,
   "metadata": {},
   "outputs": [
    {
     "name": "stdout",
     "output_type": "stream",
     "text": [
      "[1, 2, 3, 4, 5, 6]\n",
      "[4, 5, 6]\n",
      "[4, 5, 6, 7, 8, 9]\n",
      "[7, 8, 9, 1, 2, 3, 4, 5, 6]\n"
     ]
    }
   ],
   "source": [
    "#adding a list in a another list\n",
    "l1 = [1,2,3]\n",
    "l2 = [4,5,6]\n",
    "l3 = [7,8,9]\n",
    "l1.extend(l2)\n",
    "print(l1)\n",
    "print(l2)\n",
    "l2.extend(l3)\n",
    "print(l2)\n",
    "l3.extend([1,2,3,4,5,6])\n",
    "print(l3)"
   ]
  },
  {
   "cell_type": "code",
   "execution_count": 82,
   "metadata": {},
   "outputs": [
    {
     "name": "stdout",
     "output_type": "stream",
     "text": [
      "[1, 2, 4, 5, 6, 7, 8, 9, 5]\n",
      "[1, 2, 4, 6, 7, 8, 9, 5]\n"
     ]
    }
   ],
   "source": [
    "n.remove(3) #search where is 3 and remove it\n",
    "print(n)\n",
    "n.remove(5) # remove first occurence of 5\n",
    "print (n)"
   ]
  },
  {
   "cell_type": "code",
   "execution_count": 83,
   "metadata": {},
   "outputs": [
    {
     "name": "stdout",
     "output_type": "stream",
     "text": [
      "['Star wars', 'Harry Potter', 'Kal ho na ho', 'Cocktail', 'The Notebook']\n"
     ]
    }
   ],
   "source": [
    "movies\n",
    "movies.remove('The core')\n",
    "print(movies)"
   ]
  },
  {
   "cell_type": "code",
   "execution_count": 84,
   "metadata": {},
   "outputs": [
    {
     "name": "stdout",
     "output_type": "stream",
     "text": [
      "[1, 2, 4, 7, 8, 9, 5]\n"
     ]
    }
   ],
   "source": [
    "n.pop(3)\n",
    "print(n)"
   ]
  },
  {
   "cell_type": "code",
   "execution_count": 85,
   "metadata": {},
   "outputs": [
    {
     "data": {
      "text/plain": [
       "5"
      ]
     },
     "execution_count": 85,
     "metadata": {},
     "output_type": "execute_result"
    }
   ],
   "source": [
    "n.pop() # removes last element at last index"
   ]
  },
  {
   "cell_type": "code",
   "execution_count": 87,
   "metadata": {},
   "outputs": [
    {
     "name": "stdout",
     "output_type": "stream",
     "text": [
      "[]\n",
      "[]\n"
     ]
    }
   ],
   "source": [
    "n.clear()\n",
    "print(n)\n",
    "movies.clear()\n",
    "print(movies)"
   ]
  },
  {
   "cell_type": "code",
   "execution_count": 88,
   "metadata": {},
   "outputs": [
    {
     "name": "stdout",
     "output_type": "stream",
     "text": [
      "4\n",
      "4\n",
      "2\n",
      "1\n",
      "2\n"
     ]
    }
   ],
   "source": [
    "x = [1,2,3,1,1,1,2,2,2,3,4,5,5]\n",
    "print(x.count(1))\n",
    "print(x.count(2))\n",
    "print(x.count(3))\n",
    "print(x.count(4))\n",
    "print(x.count(5))\n"
   ]
  },
  {
   "cell_type": "code",
   "execution_count": 89,
   "metadata": {},
   "outputs": [
    {
     "name": "stdout",
     "output_type": "stream",
     "text": [
      "[5, 4, 3, 2, 1]\n"
     ]
    }
   ],
   "source": [
    "y =[1,2,3,4,5]\n",
    "y.reverse() # or y[::-1]\n",
    "print(y)"
   ]
  },
  {
   "cell_type": "code",
   "execution_count": 92,
   "metadata": {},
   "outputs": [
    {
     "name": "stdout",
     "output_type": "stream",
     "text": [
      "['alia', 'fina', 'heena', 'susaane', 'tina', 'zainab']\n",
      "['zainab', 'tina', 'susaane', 'heena', 'fina', 'alia']\n"
     ]
    }
   ],
   "source": [
    "names = ['zainab','tina','alia','fina','heena','susaane']\n",
    "names.sort()\n",
    "print(names)\n",
    "names.sort(reverse=True)\n",
    "print(names)"
   ]
  },
  {
   "cell_type": "code",
   "execution_count": 93,
   "metadata": {},
   "outputs": [
    {
     "name": "stdout",
     "output_type": "stream",
     "text": [
      "3\n"
     ]
    }
   ],
   "source": [
    "heroes =['Vijay','Virat','Rohit','Rishabh','Major']\n",
    "idx = heroes.index('Rishabh')\n",
    "print(idx)"
   ]
  },
  {
   "cell_type": "code",
   "execution_count": 94,
   "metadata": {},
   "outputs": [
    {
     "name": "stdout",
     "output_type": "stream",
     "text": [
      "[1, 2, 3, 4, 5]\n",
      "[1, 2, 3, 4, 5]\n",
      "[1, 2, 3, 6]\n"
     ]
    }
   ],
   "source": [
    "x = [1,2,3]\n",
    "y = x # y is a reference to x mainly for data structures in python\n",
    "z = x.copy() # z is a shallow copy of x\n",
    "x.append(4)\n",
    "y.append(5)\n",
    "z.append(6)\n",
    "print(x)\n",
    "print(y)\n",
    "print(z)\n",
    "print(x is y) #checks memory location\n",
    "print(x is z)"
   ]
  },
  {
   "cell_type": "code",
   "execution_count": 95,
   "metadata": {},
   "outputs": [
    {
     "name": "stdout",
     "output_type": "stream",
     "text": [
      "[1, 4, 9, 16, 25]\n"
     ]
    }
   ],
   "source": [
    "x =[1,2,3,4,5]\n",
    "y = []\n",
    "for i in x:\n",
    "    s = i**2\n",
    "    y.append(s)\n",
    "print(y)\n"
   ]
  },
  {
   "cell_type": "markdown",
   "metadata": {},
   "source": [
    "#### Syntax of comprehension\n",
    "`newlist = [operation loop (condition)]`"
   ]
  },
  {
   "cell_type": "code",
   "execution_count": 96,
   "metadata": {},
   "outputs": [
    {
     "name": "stdout",
     "output_type": "stream",
     "text": [
      "[1, 4, 9, 16, 25]\n"
     ]
    }
   ],
   "source": [
    "y = [i**2 for i in x]\n",
    "print(y)"
   ]
  },
  {
   "cell_type": "code",
   "execution_count": 97,
   "metadata": {},
   "outputs": [
    {
     "name": "stdout",
     "output_type": "stream",
     "text": [
      "[-9, -8, -7, -6, -5, -4, -3, -2, -1, 0]\n"
     ]
    }
   ],
   "source": [
    "a =[1,2,3,4,5,6,7,8,9,10]\n",
    "b = [i - 10 for i in a]\n",
    "print (b)"
   ]
  },
  {
   "cell_type": "code",
   "execution_count": 99,
   "metadata": {},
   "outputs": [
    {
     "name": "stdout",
     "output_type": "stream",
     "text": [
      "[576, 64, 100, 4, 676]\n"
     ]
    }
   ],
   "source": [
    "x = [5,24,8,11,25,10,2,26]\n",
    "even = [i**2 for i in x if i % 2 == 0]\n",
    "print (even)"
   ]
  },
  {
   "cell_type": "code",
   "execution_count": 100,
   "metadata": {},
   "outputs": [
    {
     "name": "stdout",
     "output_type": "stream",
     "text": [
      "[0, 6, 20]\n"
     ]
    }
   ],
   "source": [
    "odd = [i - 5 for i in x if i % 2 !=0]\n",
    "print(odd)"
   ]
  },
  {
   "cell_type": "code",
   "execution_count": 103,
   "metadata": {},
   "outputs": [
    {
     "name": "stdout",
     "output_type": "stream",
     "text": [
      "[65, 68, 59, 70, 80]\n",
      "['A', 'D', ';', 'F', 'P']\n"
     ]
    }
   ],
   "source": [
    "a = [65,68,59,70,80]\n",
    "b =[ chr(i) for i in a]\n",
    "print (a)\n",
    "print(b)"
   ]
  },
  {
   "cell_type": "code",
   "execution_count": 104,
   "metadata": {},
   "outputs": [
    {
     "name": "stdout",
     "output_type": "stream",
     "text": [
      "['A', 1, 2, 3, 'B', 'C', 'D', 4, 5, 6, 7, 2]\n",
      "[1, 2, 3, 4, 5, 6, 7, 2]\n"
     ]
    }
   ],
   "source": [
    "crap_list = ['A',1,2,3,'B','C','D',4,5,6,7,2]\n",
    "clean_list = [i for i in crap_list if isinstance(i,int)]\n",
    "print(crap_list)\n",
    "print(clean_list)"
   ]
  },
  {
   "cell_type": "code",
   "execution_count": 106,
   "metadata": {},
   "outputs": [
    {
     "name": "stdout",
     "output_type": "stream",
     "text": [
      "['A', 'B', 'C', 'D']\n"
     ]
    }
   ],
   "source": [
    "clean_list = [i for i in crap_list if isinstance(i,str)] #datatype checking function\n",
    "print (clean_list)\n"
   ]
  },
  {
   "cell_type": "code",
   "execution_count": 107,
   "metadata": {},
   "outputs": [
    {
     "name": "stdout",
     "output_type": "stream",
     "text": [
      "[1, 2, 3, 4, 5, 6]\n"
     ]
    }
   ],
   "source": [
    "# make all the input to a int list\n",
    "nums = [int(n) for n in input().split()]\n",
    "print(nums)"
   ]
  },
  {
   "cell_type": "code",
   "execution_count": 108,
   "metadata": {},
   "outputs": [
    {
     "name": "stdout",
     "output_type": "stream",
     "text": [
      "(1, 2, 3, 4, 5) <class 'tuple'>\n",
      "(1,)\n",
      "(1, 1, 1, 1, 1)\n",
      "(1, 2, 3, 4, 6) <class 'tuple'>\n"
     ]
    }
   ],
   "source": [
    "a = (1,2,3,4,5)\n",
    "print (a,type(a))\n",
    "#single element tuple\n",
    "c = (1,)\n",
    "print(c)\n",
    "d = (1,)*5\n",
    "print(d)\n",
    "e = tuple ([1,2,3,4,6])\n",
    "print (e,type(e))"
   ]
  },
  {
   "cell_type": "code",
   "execution_count": 109,
   "metadata": {},
   "outputs": [
    {
     "name": "stdout",
     "output_type": "stream",
     "text": [
      "1\n",
      "2\n",
      "5\n",
      "(1, 2, 3)\n",
      "(4, 5)\n"
     ]
    }
   ],
   "source": [
    "print(a[0])\n",
    "print(a[1])\n",
    "print(a[-1])\n",
    "print(a[:3])\n",
    "print(a[3:])"
   ]
  },
  {
   "cell_type": "code",
   "execution_count": 111,
   "metadata": {},
   "outputs": [
    {
     "name": "stdout",
     "output_type": "stream",
     "text": [
      "1\n",
      "2\n",
      "7\n"
     ]
    }
   ],
   "source": [
    "x = (1,2,2,3,4,5,6,7)\n",
    "print(x.count(1))\n",
    "print(x.count(2))\n",
    "print(x.index(7))"
   ]
  },
  {
   "cell_type": "code",
   "execution_count": null,
   "metadata": {},
   "outputs": [],
   "source": []
  }
 ],
 "metadata": {
  "kernelspec": {
   "display_name": "base",
   "language": "python",
   "name": "python3"
  },
  "language_info": {
   "codemirror_mode": {
    "name": "ipython",
    "version": 3
   },
   "file_extension": ".py",
   "mimetype": "text/x-python",
   "name": "python",
   "nbconvert_exporter": "python",
   "pygments_lexer": "ipython3",
   "version": "3.12.3"
  }
 },
 "nbformat": 4,
 "nbformat_minor": 2
}
