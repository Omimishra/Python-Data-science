{
 "cells": [
  {
   "cell_type": "markdown",
   "metadata": {},
   "source": [
    "# list \n",
    "- create \n",
    "- indexing and slicing\n",
    "- methods\n",
    "     - append()\n",
    "     - insert()\n",
    "     - extend()\n",
    "     - remove()\n",
    "     - pop()\n",
    "     - clear()\n",
    "     - count()\n",
    "     - reverse()\n",
    "     - sort()\n",
    "     - index()\n",
    "     - copy()\n",
    "- comprehension"
   ]
  },
  {
   "cell_type": "code",
   "execution_count": 20,
   "metadata": {},
   "outputs": [
    {
     "name": "stdout",
     "output_type": "stream",
     "text": [
      "[1, 2, 3] <class 'list'>\n",
      "['Alice', 'Bob', 'Charlie'] <class 'list'>\n",
      "['apple', '30', 'mango', '100', 'cherry', 70]\n",
      "[[1, 2, 3], [4, 5, 6], [7, 8]]\n",
      "[1, 2, 1, 2, 1, 2, 1, 2, 1, 2, 1, 2, 1, 2, 1, 2, 1, 2, 1, 2]\n",
      "['v', 'e', 'r', 't', 'e', 'x']\n",
      "['welcome', 'to', 'listing']\n"
     ]
    }
   ],
   "source": [
    "a = [1,2,3]\n",
    "print (a,type(a))\n",
    "names = ['Alice','Bob','Charlie']\n",
    "print(names,type(names))\n",
    "data = ['apple','30','mango','100','cherry',70]\n",
    "nested_list = [[1,2,3],[4,5,6],[7,8]]\n",
    "duplicated_list = [1,2] * 10\n",
    "print(data)\n",
    "print(nested_list)\n",
    "print(duplicated_list)\n",
    "print (list('vertex'))\n",
    "print('welcome to listing'.split())"
   ]
  },
  {
   "cell_type": "code",
   "execution_count": 21,
   "metadata": {},
   "outputs": [
    {
     "name": "stdout",
     "output_type": "stream",
     "text": [
      "first five [11, 12, 13, 14, 15]\n",
      "last five [11, 12, 13, 14, 15]\n",
      "last element = 20\n",
      "first element = 11\n",
      "except first 2 and last 2 elements = [13, 14, 15, 16, 17, 18]\n",
      "reverse list = [20, 19, 18, 17, 16, 15, 14, 13, 12, 11]\n",
      "all even indexes = [11, 13, 15, 17, 19]\n",
      "all odd indexes = [12, 14, 16, 18, 20]\n",
      "reversing first five = [15, 14, 13, 12, 11]\n"
     ]
    }
   ],
   "source": [
    "n =[11,12,13,14,15,16,17,18,19,20]\n",
    "print('first five',n[:5])\n",
    "print('last five',n[:-5])\n",
    "print ('last element =',n[-1])\n",
    "print ('first element =',n[0])\n",
    "print ('except first 2 and last 2 elements =',n[2:-2])\n",
    "print ('reverse list =',n[::-1])\n",
    "print ('all even indexes =',n[::2])\n",
    "print ('all odd indexes =',n[1::2])\n",
    "print('reversing first five =',n[4::-1])"
   ]
  },
  {
   "cell_type": "code",
   "execution_count": 22,
   "metadata": {},
   "outputs": [
    {
     "name": "stdout",
     "output_type": "stream",
     "text": [
      "[11, 12, 13, 14, 15, 200, 17, 18, 19, 20]\n",
      "[200, 12, 13, 14, 15, 200, 17, 18, 19, 20]\n"
     ]
    }
   ],
   "source": [
    "#list is mutable\n",
    "n[5] = 200 #update\n",
    "print (n)\n",
    "n[0] = 200\n",
    "print(n)"
   ]
  },
  {
   "cell_type": "code",
   "execution_count": 23,
   "metadata": {},
   "outputs": [
    {
     "name": "stdout",
     "output_type": "stream",
     "text": [
      "['Star wars', 'Harry Potter', 'The core', 'Kal ho na ho', 'Cocktail', 'The Notebook']\n",
      "6\n"
     ]
    }
   ],
   "source": [
    "movies = []\n",
    "movies.append('Star wars')\n",
    "movies.append('Harry Potter')\n",
    "movies.append('The core')\n",
    "movies.append('Kal ho na ho')\n",
    "movies.append('Cocktail')\n",
    "movies.append('The Notebook')\n",
    "print (movies)\n",
    "print(len(movies))"
   ]
  },
  {
   "cell_type": "code",
   "execution_count": 24,
   "metadata": {},
   "outputs": [
    {
     "name": "stdout",
     "output_type": "stream",
     "text": [
      "['fast and furious', '2 fast and furious', 'fast and furious :Tokyo drift', 'fast and furious 4', 'fast 5']\n"
     ]
    }
   ],
   "source": [
    "ff =['fast and furious','2 fast and furious','fast and furious :Tokyo drift',\n",
    "     'fast 5',\n",
    "     ]\n",
    "\n",
    "ff.insert(3,'fast and furious 4')\n",
    "print(ff)"
   ]
  },
  {
   "cell_type": "code",
   "execution_count": 25,
   "metadata": {},
   "outputs": [
    {
     "name": "stdout",
     "output_type": "stream",
     "text": [
      "[1, 2, 3, 4, 6, 7, 8, 9]\n",
      "[1, 2, 3, 4, 5, 6, 7, 8, 9]\n",
      "[1, 2, 3, 4, 5, 6, 7, 8, 9, 5]\n"
     ]
    }
   ],
   "source": [
    "n = [1,2,3,6,7,8,9]\n",
    "n.insert(3,4) # on 3rd index , insert value = 4\n",
    "print (n)\n",
    "n.insert(4,5) # on 4rd index , insert value = 5\n",
    "print (n)\n",
    "n.insert(100,5) # invalid index, so it will insert at the end\n",
    "print (n)"
   ]
  },
  {
   "cell_type": "code",
   "execution_count": 26,
   "metadata": {},
   "outputs": [
    {
     "name": "stdout",
     "output_type": "stream",
     "text": [
      "[1, 2, 3, 4, 5, 6]\n",
      "[4, 5, 6]\n",
      "[4, 5, 6, 7, 8, 9]\n",
      "[7, 8, 9, 1, 2, 3, 4, 5, 6]\n"
     ]
    }
   ],
   "source": [
    "#adding a list in a another list\n",
    "l1 = [1,2,3]\n",
    "l2 = [4,5,6]\n",
    "l3 = [7,8,9]\n",
    "l1.extend(l2)\n",
    "print(l1)\n",
    "print(l2)\n",
    "l2.extend(l3)\n",
    "print(l2)\n",
    "l3.extend([1,2,3,4,5,6])\n",
    "print(l3)"
   ]
  },
  {
   "cell_type": "code",
   "execution_count": 27,
   "metadata": {},
   "outputs": [
    {
     "name": "stdout",
     "output_type": "stream",
     "text": [
      "[1, 2, 4, 5, 6, 7, 8, 9, 5]\n",
      "[1, 2, 4, 6, 7, 8, 9, 5]\n"
     ]
    }
   ],
   "source": [
    "n.remove(3) #search where is 3 and remove it\n",
    "print(n)\n",
    "n.remove(5) # remove first occurence of 5\n",
    "print (n)"
   ]
  },
  {
   "cell_type": "code",
   "execution_count": 28,
   "metadata": {},
   "outputs": [
    {
     "name": "stdout",
     "output_type": "stream",
     "text": [
      "['Star wars', 'Harry Potter', 'Kal ho na ho', 'Cocktail', 'The Notebook']\n"
     ]
    }
   ],
   "source": [
    "movies\n",
    "movies.remove('The core')\n",
    "print(movies)"
   ]
  },
  {
   "cell_type": "code",
   "execution_count": 29,
   "metadata": {},
   "outputs": [
    {
     "name": "stdout",
     "output_type": "stream",
     "text": [
      "[1, 2, 4, 7, 8, 9, 5]\n"
     ]
    }
   ],
   "source": [
    "n.pop(3)\n",
    "print(n)"
   ]
  },
  {
   "cell_type": "code",
   "execution_count": 30,
   "metadata": {},
   "outputs": [
    {
     "data": {
      "text/plain": [
       "5"
      ]
     },
     "execution_count": 30,
     "metadata": {},
     "output_type": "execute_result"
    }
   ],
   "source": [
    "n.pop() # removes last element at last index"
   ]
  },
  {
   "cell_type": "code",
   "execution_count": 31,
   "metadata": {},
   "outputs": [
    {
     "name": "stdout",
     "output_type": "stream",
     "text": [
      "[]\n",
      "[]\n"
     ]
    }
   ],
   "source": [
    "n.clear()\n",
    "print(n)\n",
    "movies.clear()\n",
    "print(movies)"
   ]
  },
  {
   "cell_type": "code",
   "execution_count": 32,
   "metadata": {},
   "outputs": [
    {
     "name": "stdout",
     "output_type": "stream",
     "text": [
      "4\n",
      "4\n",
      "2\n",
      "1\n",
      "2\n"
     ]
    }
   ],
   "source": [
    "x = [1,2,3,1,1,1,2,2,2,3,4,5,5]\n",
    "print(x.count(1))\n",
    "print(x.count(2))\n",
    "print(x.count(3))\n",
    "print(x.count(4))\n",
    "print(x.count(5))\n"
   ]
  },
  {
   "cell_type": "code",
   "execution_count": 33,
   "metadata": {},
   "outputs": [
    {
     "name": "stdout",
     "output_type": "stream",
     "text": [
      "[5, 4, 3, 2, 1]\n"
     ]
    }
   ],
   "source": [
    "y =[1,2,3,4,5]\n",
    "y.reverse() # or y[::-1]\n",
    "print(y)"
   ]
  },
  {
   "cell_type": "code",
   "execution_count": 34,
   "metadata": {},
   "outputs": [
    {
     "name": "stdout",
     "output_type": "stream",
     "text": [
      "['alia', 'fina', 'heena', 'susaane', 'tina', 'zainab']\n",
      "['zainab', 'tina', 'susaane', 'heena', 'fina', 'alia']\n"
     ]
    }
   ],
   "source": [
    "names = ['zainab','tina','alia','fina','heena','susaane']\n",
    "names.sort()\n",
    "print(names)\n",
    "names.sort(reverse=True)\n",
    "print(names)"
   ]
  },
  {
   "cell_type": "code",
   "execution_count": 35,
   "metadata": {},
   "outputs": [
    {
     "name": "stdout",
     "output_type": "stream",
     "text": [
      "3\n"
     ]
    }
   ],
   "source": [
    "heroes =['Vijay','Virat','Rohit','Rishabh','Major']\n",
    "idx = heroes.index('Rishabh')\n",
    "print(idx)"
   ]
  },
  {
   "cell_type": "code",
   "execution_count": 36,
   "metadata": {},
   "outputs": [
    {
     "name": "stdout",
     "output_type": "stream",
     "text": [
      "[1, 2, 3, 4, 5]\n",
      "[1, 2, 3, 4, 5]\n",
      "[1, 2, 3, 6]\n",
      "True\n",
      "False\n"
     ]
    }
   ],
   "source": [
    "x = [1,2,3]\n",
    "y = x # y is a reference to x mainly for data structures in python\n",
    "z = x.copy() # z is a shallow copy of x\n",
    "x.append(4)\n",
    "y.append(5)\n",
    "z.append(6)\n",
    "print(x)\n",
    "print(y)\n",
    "print(z)\n",
    "print(x is y) #checks memory location\n",
    "print(x is z)"
   ]
  },
  {
   "cell_type": "code",
   "execution_count": 37,
   "metadata": {},
   "outputs": [
    {
     "name": "stdout",
     "output_type": "stream",
     "text": [
      "[1, 4, 9, 16, 25]\n"
     ]
    }
   ],
   "source": [
    "x =[1,2,3,4,5]\n",
    "y = []\n",
    "for i in x:\n",
    "    s = i**2\n",
    "    y.append(s)\n",
    "print(y)\n"
   ]
  },
  {
   "cell_type": "markdown",
   "metadata": {},
   "source": [
    "#### Syntax of comprehension\n",
    "`newlist = [operation loop (condition)]`"
   ]
  },
  {
   "cell_type": "code",
   "execution_count": 38,
   "metadata": {},
   "outputs": [
    {
     "name": "stdout",
     "output_type": "stream",
     "text": [
      "[1, 4, 9, 16, 25]\n"
     ]
    }
   ],
   "source": [
    "y = [i**2 for i in x]\n",
    "print(y)"
   ]
  },
  {
   "cell_type": "code",
   "execution_count": 39,
   "metadata": {},
   "outputs": [
    {
     "name": "stdout",
     "output_type": "stream",
     "text": [
      "[-9, -8, -7, -6, -5, -4, -3, -2, -1, 0]\n"
     ]
    }
   ],
   "source": [
    "a =[1,2,3,4,5,6,7,8,9,10]\n",
    "b = [i - 10 for i in a]\n",
    "print (b)"
   ]
  },
  {
   "cell_type": "code",
   "execution_count": 40,
   "metadata": {},
   "outputs": [
    {
     "name": "stdout",
     "output_type": "stream",
     "text": [
      "[576, 64, 100, 4, 676]\n"
     ]
    }
   ],
   "source": [
    "x = [5,24,8,11,25,10,2,26]\n",
    "even = [i**2 for i in x if i % 2 == 0]\n",
    "print (even)"
   ]
  },
  {
   "cell_type": "code",
   "execution_count": 41,
   "metadata": {},
   "outputs": [
    {
     "name": "stdout",
     "output_type": "stream",
     "text": [
      "[0, 6, 20]\n"
     ]
    }
   ],
   "source": [
    "odd = [i - 5 for i in x if i % 2 !=0]\n",
    "print(odd)"
   ]
  },
  {
   "cell_type": "code",
   "execution_count": 42,
   "metadata": {},
   "outputs": [
    {
     "name": "stdout",
     "output_type": "stream",
     "text": [
      "[65, 68, 59, 70, 80]\n",
      "['A', 'D', ';', 'F', 'P']\n"
     ]
    }
   ],
   "source": [
    "a = [65,68,59,70,80]\n",
    "b =[ chr(i) for i in a]\n",
    "print (a)\n",
    "print(b)"
   ]
  },
  {
   "cell_type": "code",
   "execution_count": 43,
   "metadata": {},
   "outputs": [
    {
     "name": "stdout",
     "output_type": "stream",
     "text": [
      "['A', 1, 2, 3, 'B', 'C', 'D', 4, 5, 6, 7, 2]\n",
      "[1, 2, 3, 4, 5, 6, 7, 2]\n"
     ]
    }
   ],
   "source": [
    "crap_list = ['A',1,2,3,'B','C','D',4,5,6,7,2]\n",
    "clean_list = [i for i in crap_list if isinstance(i,int)]\n",
    "print(crap_list)\n",
    "print(clean_list)"
   ]
  },
  {
   "cell_type": "code",
   "execution_count": 44,
   "metadata": {},
   "outputs": [
    {
     "name": "stdout",
     "output_type": "stream",
     "text": [
      "['A', 'B', 'C', 'D']\n"
     ]
    }
   ],
   "source": [
    "clean_list = [i for i in crap_list if isinstance(i,str)] #datatype checking function\n",
    "print (clean_list)\n"
   ]
  },
  {
   "cell_type": "code",
   "execution_count": 45,
   "metadata": {},
   "outputs": [
    {
     "name": "stdout",
     "output_type": "stream",
     "text": [
      "[]\n"
     ]
    }
   ],
   "source": [
    "# make all the input to a int list\n",
    "nums = [int(n) for n in input().split()]\n",
    "print(nums)"
   ]
  },
  {
   "cell_type": "markdown",
   "metadata": {},
   "source": [
    "## tuple"
   ]
  },
  {
   "cell_type": "code",
   "execution_count": 46,
   "metadata": {},
   "outputs": [
    {
     "name": "stdout",
     "output_type": "stream",
     "text": [
      "(1, 2, 3, 4, 5) <class 'tuple'>\n",
      "(1,)\n",
      "(1, 1, 1, 1, 1)\n",
      "(1, 2, 3, 4, 6) <class 'tuple'>\n"
     ]
    }
   ],
   "source": [
    "a = (1,2,3,4,5)\n",
    "print (a,type(a))\n",
    "#single element tuple\n",
    "c = (1,)\n",
    "print(c)\n",
    "d = (1,)*5\n",
    "print(d)\n",
    "e = tuple ([1,2,3,4,6])\n",
    "print (e,type(e))"
   ]
  },
  {
   "cell_type": "code",
   "execution_count": 47,
   "metadata": {},
   "outputs": [
    {
     "name": "stdout",
     "output_type": "stream",
     "text": [
      "1\n",
      "2\n",
      "5\n",
      "(1, 2, 3)\n",
      "(4, 5)\n"
     ]
    }
   ],
   "source": [
    "print(a[0])\n",
    "print(a[1])\n",
    "print(a[-1])\n",
    "print(a[:3])\n",
    "print(a[3:])"
   ]
  },
  {
   "cell_type": "code",
   "execution_count": 48,
   "metadata": {},
   "outputs": [
    {
     "name": "stdout",
     "output_type": "stream",
     "text": [
      "1\n",
      "2\n",
      "7\n"
     ]
    }
   ],
   "source": [
    "x = (1,2,2,3,4,5,6,7)\n",
    "print(x.count(1))\n",
    "print(x.count(2))\n",
    "print(x.index(7))"
   ]
  },
  {
   "cell_type": "markdown",
   "metadata": {},
   "source": [
    "### tuple unpacking"
   ]
  },
  {
   "cell_type": "code",
   "execution_count": 49,
   "metadata": {},
   "outputs": [
    {
     "data": {
      "text/plain": [
       "(1, 2, 3)"
      ]
     },
     "execution_count": 49,
     "metadata": {},
     "output_type": "execute_result"
    }
   ],
   "source": [
    "1,2,3"
   ]
  },
  {
   "cell_type": "code",
   "execution_count": 50,
   "metadata": {},
   "outputs": [
    {
     "name": "stdout",
     "output_type": "stream",
     "text": [
      "('apple', 100)\n"
     ]
    }
   ],
   "source": [
    "x = ('apple',100)\n",
    "print (x)"
   ]
  },
  {
   "cell_type": "code",
   "execution_count": 51,
   "metadata": {},
   "outputs": [
    {
     "name": "stdout",
     "output_type": "stream",
     "text": [
      "apple 100\n"
     ]
    }
   ],
   "source": [
    "item , price = x\n",
    "print (item , price)"
   ]
  },
  {
   "cell_type": "code",
   "execution_count": 52,
   "metadata": {},
   "outputs": [
    {
     "name": "stdout",
     "output_type": "stream",
     "text": [
      "10 20 30\n"
     ]
    }
   ],
   "source": [
    "a , b , c = 10, 20, 30 \n",
    "print (a,b,c)"
   ]
  },
  {
   "cell_type": "code",
   "execution_count": 53,
   "metadata": {},
   "outputs": [
    {
     "ename": "ValueError",
     "evalue": "too many values to unpack (expected 3)",
     "output_type": "error",
     "traceback": [
      "\u001b[1;31m---------------------------------------------------------------------------\u001b[0m",
      "\u001b[1;31mValueError\u001b[0m                                Traceback (most recent call last)",
      "Cell \u001b[1;32mIn[53], line 3\u001b[0m\n\u001b[0;32m      1\u001b[0m \u001b[38;5;66;03m# error - not enough values to unpack\u001b[39;00m\n\u001b[0;32m      2\u001b[0m one_tuple \u001b[38;5;241m=\u001b[39m {\u001b[38;5;241m1\u001b[39m,\u001b[38;5;241m2\u001b[39m,\u001b[38;5;241m3\u001b[39m,\u001b[38;5;241m4\u001b[39m,\u001b[38;5;241m5\u001b[39m,\u001b[38;5;241m6\u001b[39m,\u001b[38;5;241m7\u001b[39m,\u001b[38;5;241m8\u001b[39m,\u001b[38;5;241m9\u001b[39m,\u001b[38;5;241m10\u001b[39m}\n\u001b[1;32m----> 3\u001b[0m a,b,c \u001b[38;5;241m=\u001b[39m one_tuple\n",
      "\u001b[1;31mValueError\u001b[0m: too many values to unpack (expected 3)"
     ]
    }
   ],
   "source": [
    "# error - not enough values to unpack\n",
    "one_tuple = {1,2,3,4,5,6,7,8,9,10}\n",
    "a,b,c = one_tuple"
   ]
  },
  {
   "cell_type": "code",
   "execution_count": null,
   "metadata": {},
   "outputs": [
    {
     "name": "stdout",
     "output_type": "stream",
     "text": [
      "1 2 [3, 4, 5, 6, 7, 8, 9, 10]\n"
     ]
    }
   ],
   "source": [
    "# * unpacking operator \n",
    "one_tuple = {1,2,3,4,5,6,7,8,9,10}\n",
    "a,b,*c = one_tuple\n",
    "print (a,b,c)"
   ]
  },
  {
   "cell_type": "code",
   "execution_count": null,
   "metadata": {},
   "outputs": [
    {
     "name": "stdout",
     "output_type": "stream",
     "text": [
      "[1, 2, 3, 4, 5, 6, 7, 8, 9]\n",
      "10\n"
     ]
    }
   ],
   "source": [
    "* a , b = one_tuple\n",
    "print (a)\n",
    "print (b)"
   ]
  },
  {
   "cell_type": "code",
   "execution_count": null,
   "metadata": {},
   "outputs": [
    {
     "name": "stdout",
     "output_type": "stream",
     "text": [
      "1\n",
      "[2, 3, 4, 5, 6, 7, 8, 9]\n",
      "10\n"
     ]
    }
   ],
   "source": [
    "one , *middle , last = one_tuple\n",
    "print (one)\n",
    "print (middle)\n",
    "print (last)"
   ]
  },
  {
   "cell_type": "markdown",
   "metadata": {},
   "source": [
    "`#trick using * for displaying data in print `"
   ]
  },
  {
   "cell_type": "code",
   "execution_count": null,
   "metadata": {},
   "outputs": [
    {
     "name": "stdout",
     "output_type": "stream",
     "text": [
      "{1, 2, 3, 4, 5, 6, 7, 8, 9, 10}\n",
      "1 2 3 4 5 6 7 8 9 10\n",
      "1\n",
      "2\n",
      "3\n",
      "4\n",
      "5\n",
      "6\n",
      "7\n",
      "8\n",
      "9\n",
      "10\n"
     ]
    }
   ],
   "source": [
    "\n",
    "print(one_tuple)\n",
    "print(*one_tuple) # works with any iterable\n",
    "print(*one_tuple, sep = '\\n')"
   ]
  },
  {
   "cell_type": "code",
   "execution_count": 54,
   "metadata": {},
   "outputs": [
    {
     "name": "stdout",
     "output_type": "stream",
     "text": [
      "1 2 3 4 5 6\n"
     ]
    }
   ],
   "source": [
    "print (*l1)"
   ]
  },
  {
   "cell_type": "code",
   "execution_count": null,
   "metadata": {},
   "outputs": [],
   "source": []
  }
 ],
 "metadata": {
  "kernelspec": {
   "display_name": "base",
   "language": "python",
   "name": "python3"
  },
  "language_info": {
   "codemirror_mode": {
    "name": "ipython",
    "version": 3
   },
   "file_extension": ".py",
   "mimetype": "text/x-python",
   "name": "python",
   "nbconvert_exporter": "python",
   "pygments_lexer": "ipython3",
   "version": "3.12.3"
  }
 },
 "nbformat": 4,
 "nbformat_minor": 2
}
