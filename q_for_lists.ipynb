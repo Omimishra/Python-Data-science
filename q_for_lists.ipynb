{
 "cells": [
  {
   "cell_type": "markdown",
   "metadata": {},
   "source": [
    "1. Write a program that creates an empty list and then asks the user to input integers to add to the list. Print the final list."
   ]
  },
  {
   "cell_type": "code",
   "execution_count": 10,
   "metadata": {},
   "outputs": [
    {
     "name": "stdout",
     "output_type": "stream",
     "text": [
      "[1, 1, 1]\n"
     ]
    }
   ],
   "source": [
    "l =[]\n",
    "n = int(input('enter number of integers'))\n",
    "for i in range(n+1):\n",
    "    element = int(input('enter element'))\n",
    "    l.append(element)\n",
    "print(l)"
   ]
  },
  {
   "cell_type": "code",
   "execution_count": 6,
   "metadata": {},
   "outputs": [
    {
     "name": "stdout",
     "output_type": "stream",
     "text": [
      "[1, 2, 3, 4]\n"
     ]
    }
   ],
   "source": [
    "e = [int(n) for n in input('enter integers').split()]\n",
    "print(e)"
   ]
  },
  {
   "cell_type": "markdown",
   "metadata": {},
   "source": [
    "2. Write a program that creates a list of integers and then asks the user to input an integer to check if it exists in the list. Print a message indicating whether the integer is in the list or not."
   ]
  },
  {
   "cell_type": "code",
   "execution_count": 15,
   "metadata": {},
   "outputs": [
    {
     "name": "stdout",
     "output_type": "stream",
     "text": [
      "element is absent\n"
     ]
    }
   ],
   "source": [
    "n = [0,1,2,3,4,5,6,7,8,9]\n",
    "element = int(input('enter element to be searched'))\n",
    "if element in n:\n",
    "    print('element is present')\n",
    "else:\n",
    "    print('element is absent')\n"
   ]
  },
  {
   "cell_type": "markdown",
   "metadata": {},
   "source": [
    "3. Write a program that creates a list of strings and then sorts the list alphabetically. Print the sorted list."
   ]
  },
  {
   "cell_type": "code",
   "execution_count": 7,
   "metadata": {},
   "outputs": [
    {
     "name": "stdout",
     "output_type": "stream",
     "text": [
      "list: ['aayush', 'nini', 'bunny', 'jina']\n",
      "sorted list : ['aayush', 'bunny', 'jina', 'nini']\n"
     ]
    }
   ],
   "source": [
    "s = [i for i in input(\"input strings\").split()]\n",
    "print(\"list:\" , s)\n",
    "s.sort()\n",
    "print(\"sorted list :\" , s)"
   ]
  },
  {
   "cell_type": "markdown",
   "metadata": {},
   "source": [
    "4. Write a program that creates a list of integers and then finds the maximum value in the list. Print the maximum value."
   ]
  },
  {
   "cell_type": "code",
   "execution_count": 11,
   "metadata": {},
   "outputs": [
    {
     "name": "stdout",
     "output_type": "stream",
     "text": [
      "[23, 43, 54, 62, 52, 43, 78, 83]\n",
      "Maximium value : 83\n"
     ]
    }
   ],
   "source": [
    "# l = [int(i) for i in input().split()]\n",
    "l = [23, 43, 54, 62, 52, 43, 78, 83]\n",
    "print (l)\n",
    "\n",
    "for i in l :\n",
    "    if i > max:\n",
    "        max = i\n",
    "print(\"Maximium value :\" , max)\n"
   ]
  },
  {
   "cell_type": "markdown",
   "metadata": {},
   "source": [
    "5. Write a program that creates two lists of integers and then finds the common elements between those two lists. Print the common elements."
   ]
  },
  {
   "cell_type": "code",
   "execution_count": 21,
   "metadata": {},
   "outputs": [
    {
     "name": "stdout",
     "output_type": "stream",
     "text": [
      "[4, 1, 6, 7]\n"
     ]
    }
   ],
   "source": [
    "a = [2,3,4,5,1,6,7,81,9]\n",
    "b = [4,6,1,7,94,32,]\n",
    "l = []\n",
    "for i in a:\n",
    "    if i in b:\n",
    "          l.append(i)\n",
    "print(l)\n"
   ]
  },
  {
   "cell_type": "markdown",
   "metadata": {},
   "source": [
    "6. Write a program that creates a list of strings and then removes all elements that contain a specific substring. Print the final list."
   ]
  },
  {
   "cell_type": "code",
   "execution_count": 39,
   "metadata": {},
   "outputs": [
    {
     "name": "stdout",
     "output_type": "stream",
     "text": [
      "['apple', 'aeroplane', 'appleseed', 'apply', 'banana', 'applecider']\n",
      "['aeroplane', 'apply', 'banana']\n"
     ]
    }
   ],
   "source": [
    "a = [\"apple\",\"aeroplane\",\"appleseed\",\"apply\",\"banana\",\"applecider\"]\n",
    "print(a)\n",
    "s = \"app\"\n",
    "for i in a:\n",
    "    if i.startswith(s):\n",
    "        a.remove(i)\n",
    "print(a)"
   ]
  },
  {
   "cell_type": "code",
   "execution_count": null,
   "metadata": {},
   "outputs": [],
   "source": []
  }
 ],
 "metadata": {
  "kernelspec": {
   "display_name": "base",
   "language": "python",
   "name": "python3"
  },
  "language_info": {
   "codemirror_mode": {
    "name": "ipython",
    "version": 3
   },
   "file_extension": ".py",
   "mimetype": "text/x-python",
   "name": "python",
   "nbconvert_exporter": "python",
   "pygments_lexer": "ipython3",
   "version": "3.12.3"
  }
 },
 "nbformat": 4,
 "nbformat_minor": 2
}
