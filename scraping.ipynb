{
 "cells": [
  {
   "cell_type": "code",
   "execution_count": null,
   "metadata": {},
   "outputs": [],
   "source": [
    "from dputils.scrape import Scraper,Tag"
   ]
  },
  {
   "cell_type": "code",
   "execution_count": null,
   "metadata": {},
   "outputs": [],
   "source": [
    "url = 'https://digipodium.com/mining-demo.html#'\n",
    "sc1 = Scraper(url)"
   ]
  },
  {
   "cell_type": "code",
   "execution_count": null,
   "metadata": {},
   "outputs": [],
   "source": [
    "sc1.soup"
   ]
  },
  {
   "cell_type": "code",
   "execution_count": null,
   "metadata": {},
   "outputs": [],
   "source": [
    "target = Tag('main')\n",
    "items = Tag(cls = 'col')\n",
    "title = Tag('h4')\n",
    "price = Tag('h1')\n",
    "oprice = Tag('li',cls = 'text-muted o-price')"
   ]
  },
  {
   "cell_type": "code",
   "execution_count": null,
   "metadata": {},
   "outputs": [],
   "source": [
    "sc1.get_repeating_date_from_page(\n",
    "    target=target,\n",
    "    items = items,\n",
    "    title = title,\n",
    "    price = price,\n",
    "    oprice=oprice\n",
    ")"
   ]
  },
  {
   "cell_type": "code",
   "execution_count": null,
   "metadata": {},
   "outputs": [],
   "source": [
    "help(Tag)"
   ]
  },
  {
   "cell_type": "markdown",
   "metadata": {},
   "source": [
    "# multipage scraping"
   ]
  },
  {
   "cell_type": "code",
   "execution_count": 22,
   "metadata": {},
   "outputs": [],
   "source": [
    "def get_items_from_flipkart(query,page=1):\n",
    "    url = f'https://www.flipkart.com/search?q={query}&page={page}'\n",
    "    sc2 = Scraper(url)\n",
    "    t = Tag(cls = 'DOjaWF gdgoEp')\n",
    "    i = Tag(cls='slAVV4')\n",
    "    return sc2.get_repeating_date_from_page(target=t,items=i,\n",
    "                                    image = Tag('img',cls='DByuf4',output='src'),\n",
    "                                    link = Tag('a',cls='VJA3rP',output='href'),\n",
    "                                    title = Tag('a',cls='wjcEIp')\n",
    "                                    )"
   ]
  },
  {
   "cell_type": "code",
   "execution_count": 23,
   "metadata": {},
   "outputs": [
    {
     "name": "stdout",
     "output_type": "stream",
     "text": [
      "Scraped page=1\n",
      "Scraped page=2\n",
      "Scraped page=3\n",
      "Scraped page=4\n",
      "Scraped page=5\n",
      "Scraped page=6\n",
      "Scraped page=7\n",
      "Scraped page=8\n",
      "Scraped page=9\n",
      "Scraped page=10\n",
      "Scraped page=11\n",
      "Scraped page=12\n",
      "Scraped page=13\n",
      "Scraped page=14\n",
      "Scraped page=15\n",
      "Scraped page=16\n",
      "Scraped page=17\n",
      "Scraped page=18\n",
      "Scraped page=19\n",
      "Scraped page=20\n",
      "Scraped page=21\n",
      "Scraped page=22\n",
      "Scraped page=23\n",
      "Scraped page=24\n",
      "Scraped page=25\n",
      "Stopping, no more data\n"
     ]
    }
   ],
   "source": [
    "query = 'books'\n",
    "page = 1\n",
    "all_data = []\n",
    "while True:\n",
    "    data = get_items_from_flipkart(query,page)\n",
    "    if len(data) > 0:\n",
    "        print (f'Scraped {page=}')\n",
    "        all_data.extend(data)\n",
    "        page += 1\n",
    "    else:\n",
    "        print(\"Stopping, no more data\")\n",
    "        break"
   ]
  },
  {
   "cell_type": "code",
   "execution_count": 25,
   "metadata": {},
   "outputs": [
    {
     "data": {
      "text/plain": [
       "1000"
      ]
     },
     "execution_count": 25,
     "metadata": {},
     "output_type": "execute_result"
    }
   ],
   "source": [
    "len(all_data)"
   ]
  },
  {
   "cell_type": "code",
   "execution_count": 24,
   "metadata": {},
   "outputs": [],
   "source": [
    "import pandas as pd\n",
    "pd.DataFrame(all_data).to_csv('books.csv',index=False)"
   ]
  },
  {
   "cell_type": "code",
   "execution_count": 26,
   "metadata": {},
   "outputs": [
    {
     "data": {
      "text/plain": [
       "{'title': 'Wings Of Fire By Dr A P J Abdul Kalam\\xa0\\xa0(Paperback, DR A P J Abdul Kalam)',\n",
       " 'price': '₹150',\n",
       " 'ratings': '4,204 Ratings\\xa0&\\xa0269 Reviews',\n",
       " 'desc': 'BookWings Of Fire By Dr A P J Abdul KalamAuthorDR A P J Abdul KalamBindingPaperbackPublishing Date1999PublisherUniversity PressEdition1Number of Pages196LanguageEnglish'}"
      ]
     },
     "execution_count": 26,
     "metadata": {},
     "output_type": "execute_result"
    }
   ],
   "source": [
    "# single page data\n",
    "url = 'https://www.flipkart.com/wings-fire-p-j-abdul-kalam/p/itmdb01037c6060e?pid=RBKG6ZDHAY5R6DJB&lid=LSTRBKG6ZDHAY5R6DJB7XV4NV&marketplace=FLIPKART&q=books&store=bks&srno=s_1_15&otracker=search&otracker1=search&fm=organic&iid=cc4dd967-2503-4d34-97c4-7eb07878b017.RBKG6ZDHAY5R6DJB.SEARCH&ppt=hp&ppn=homepage&ssid=nkoos8f9k00000001723897501300&qH=7d8949bcbf85067f'\n",
    "sc3 = Scraper(url)\n",
    "sc3.get_data_from_page(\n",
    "    title=Tag('span',cls ='VU-ZEz'),\n",
    "    price = Tag(cls = 'Nx9bqj CxhGGd'),\n",
    "    ratings = Tag(\"span\",cls='Wphh3N'),\n",
    "    desc=Tag(cls='GNDEQ-')\n",
    ")"
   ]
  }
 ],
 "metadata": {
  "kernelspec": {
   "display_name": "base",
   "language": "python",
   "name": "python3"
  },
  "language_info": {
   "codemirror_mode": {
    "name": "ipython",
    "version": 3
   },
   "file_extension": ".py",
   "mimetype": "text/x-python",
   "name": "python",
   "nbconvert_exporter": "python",
   "pygments_lexer": "ipython3",
   "version": "3.12.3"
  }
 },
 "nbformat": 4,
 "nbformat_minor": 2
}
