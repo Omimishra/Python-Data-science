{
 "cells": [
  {
   "cell_type": "markdown",
   "metadata": {},
   "source": [
    "Write a program to count the frequency of each character in a given string using a dictionary.\n",
    "```\n",
    "Sample data: \"hello\"\n",
    "```\n",
    "Hint: Iterate through each character in the string and update the count in the dictionary."
   ]
  },
  {
   "cell_type": "code",
   "execution_count": null,
   "metadata": {},
   "outputs": [],
   "source": [
    "data = 'hello'\n",
    "datadict={}\n",
    "for d in data:\n",
    "    if d in datadict:\n",
    "        datadict[d] += 1\n",
    "    else:\n",
    "        datadict[d] = 1\n",
    "print(datadict)"
   ]
  },
  {
   "cell_type": "markdown",
   "metadata": {},
   "source": [
    "Write a program to merge two dictionaries into a single dictionary.\n",
    "```\n",
    "Sample data:\n",
    "dict1 = {\"a\": 1, \"b\": 2}\n",
    "dict2 = {\"c\": 3, \"d\": 4}\n",
    "```\n",
    "Hint: Use the update() method to merge the dictionaries."
   ]
  },
  {
   "cell_type": "code",
   "execution_count": null,
   "metadata": {},
   "outputs": [],
   "source": [
    "dict1 = {\"a\": 1, \"b\": 2}\n",
    "dict2 = {\"c\": 3, \"d\": 4}\n",
    "dict1.update(dict2)\n",
    "print(dict1)"
   ]
  },
  {
   "cell_type": "markdown",
   "metadata": {},
   "source": [
    "Write a program to find the keys with the maximum value in a dictionary.\n",
    "```\n",
    "Sample data: {\"a\": 10, \"b\": 5, \"c\": 10}\n",
    "```\n",
    "Hint: Use the max() function with a custom key argument to find the maximum value."
   ]
  },
  {
   "cell_type": "code",
   "execution_count": null,
   "metadata": {},
   "outputs": [],
   "source": [
    "data = {\"a\":10,\"b\":5,\"c\":10}\n",
    "m = max(data.values())\n",
    "for k,v in data.items():\n",
    "    if v==m:\n",
    "        print(k)"
   ]
  },
  {
   "cell_type": "markdown",
   "metadata": {},
   "source": [
    "Write a program to check if a given key exists in a dictionary.\n",
    "```\n",
    "Sample data: {\"a\": 1, \"b\": 2, \"c\": 3}\n",
    "```\n",
    "Hint: Use the in operator to check for key existence."
   ]
  },
  {
   "cell_type": "code",
   "execution_count": null,
   "metadata": {},
   "outputs": [],
   "source": [
    "data={\"a\": 1, \"b\": 2, \"c\": 3}\n",
    "if 'h' in data:\n",
    "    print(\"Found key\")\n",
    "else:\n",
    "    print(\"Key not found\")"
   ]
  },
  {
   "cell_type": "markdown",
   "metadata": {},
   "source": [
    "Write a program to remove a specific key from a dictionary.\n",
    "```\n",
    "Sample data: {\"a\": 1, \"b\": 2, \"c\": 3}\n",
    "```\n",
    "Hint: Use the pop() method to remove the key."
   ]
  },
  {
   "cell_type": "code",
   "execution_count": null,
   "metadata": {},
   "outputs": [],
   "source": [
    "data={\"a\": 1, \"b\": 2, \"c\": 3}\n",
    "data.pop('b')"
   ]
  },
  {
   "cell_type": "markdown",
   "metadata": {},
   "source": [
    "Write a program to find the common keys in two dictionaries.\n",
    "```\n",
    "Sample data:\n",
    "dict1 = {\"a\": 1, \"b\": 2, \"c\": 3}\n",
    "dict2 = {\"b\": 3, \"c\": 4, \"d\": 5}\n",
    "```\n",
    "Hint: Use the keys() method to get the keys and compare them."
   ]
  },
  {
   "cell_type": "code",
   "execution_count": null,
   "metadata": {},
   "outputs": [],
   "source": [
    "dict1 = {\"a\": 1, \"b\": 2, \"c\": 3}\n",
    "dict2 = {\"b\": 3, \"c\": 4, \"d\": 5}\n",
    "d1 = dict1.keys()\n",
    "d2 = dict2.keys()\n",
    "for d in d1:\n",
    "    if d in d2:\n",
    "        print(d, \"is common in both dictionaries\")"
   ]
  },
  {
   "cell_type": "markdown",
   "metadata": {},
   "source": [
    "Write a program to get the length of a dictionary.\n",
    "```\n",
    "Sample data: {\"a\": 1, \"b\": 2, \"c\": 3}\n",
    "```\n",
    "Hint: Use the len() function to calculate the length."
   ]
  },
  {
   "cell_type": "code",
   "execution_count": null,
   "metadata": {},
   "outputs": [],
   "source": [
    "data={\"a\": 1, \"b\": 2, \"c\": 3}\n",
    "l = len(data.items())\n",
    "print(l)\n"
   ]
  },
  {
   "cell_type": "markdown",
   "metadata": {},
   "source": [
    "Write a program to sort a dictionary by its keys in ascending order.\n",
    "```\n",
    "Sample data: {\"b\": 2, \"a\": 1, \"c\": 3}\n",
    "```\n",
    "Hint: Use the sorted() function with a custom key argument to sort the dictionary."
   ]
  },
  {
   "cell_type": "code",
   "execution_count": null,
   "metadata": {},
   "outputs": [],
   "source": [
    "data={\"b\": 2, \"a\": 1, \"c\": 3}\n",
    "k = sorted(data.items())\n",
    "print(k)"
   ]
  },
  {
   "cell_type": "markdown",
   "metadata": {},
   "source": [
    "Write a program to find the key with the minimum value in a dictionary.\n",
    "```\n",
    "Sample data: {\"a\": 10, \"b\": 5, \"c\": 15}\n",
    "```\n",
    "Hint: Use the min() function with a custom key argument to find the minimum value."
   ]
  },
  {
   "cell_type": "code",
   "execution_count": null,
   "metadata": {},
   "outputs": [],
   "source": [
    "data= {\"a\": 10, \"b\": 5, \"c\": 15}\n",
    "m = data.values()\n",
    "print(min(m))\n",
    "# for k,v in data.items():\n",
    "#     if v == min:\n",
    "#         print(k)"
   ]
  },
  {
   "cell_type": "markdown",
   "metadata": {},
   "source": [
    "Write a program to get the values of a dictionary as a list.\n",
    "```\n",
    "Sample data: {\"a\": 1, \"b\": 2, \"c\": 3}\n",
    "```\n",
    "Hint: Use the values() method to get the values and convert them into a list."
   ]
  },
  {
   "cell_type": "code",
   "execution_count": null,
   "metadata": {},
   "outputs": [],
   "source": [
    "data= {\"a\": 1, \"b\": 2, \"c\": 3}\n",
    "l = list(data.values())\n",
    "print(l)"
   ]
  },
  {
   "cell_type": "markdown",
   "metadata": {},
   "source": [
    "Write a program to check if a given value exists in a dictionary.\n",
    "```\n",
    "Sample data: {\"a\": 1, \"b\": 2, \"c\": 3}\n",
    "```\n",
    "Hint: Use the values()method and thein operator to check for value existence."
   ]
  },
  {
   "cell_type": "code",
   "execution_count": null,
   "metadata": {},
   "outputs": [],
   "source": [
    "data= {\"a\": 1, \"b\": 2, \"c\": 3}\n",
    "l = list(data.values())\n",
    "v = int(input(\"Enter the value to be searched\"))\n",
    "if v in l:\n",
    "    print ('The given value exists in the dictionary')\n",
    "else:\n",
    "    print ('The given value does not exist in the dictionary')"
   ]
  },
  {
   "cell_type": "markdown",
   "metadata": {},
   "source": [
    "Write a program to create a dictionary with keys as numbers from 1 to 10 and their squares as values.\n",
    "```\n",
    "Sample data: \n",
    "keys: [1, 2, 3, ..., 10]\n",
    "values: [1, 4, 9, ..., 100]\n",
    "```\n",
    "Hint: Use a for loop and the dictionary's indexing to create the dictionary."
   ]
  },
  {
   "cell_type": "code",
   "execution_count": null,
   "metadata": {},
   "outputs": [],
   "source": [
    "d = dict()\n",
    "keys = list(range(1,11))\n",
    "for v in keys:\n",
    "    d[v] = v**2\n",
    "print(d)"
   ]
  },
  {
   "cell_type": "markdown",
   "metadata": {},
   "source": [
    "Write a program to find the difference between two dictionaries.\n",
    "```\n",
    "Sample data:\n",
    "dict1 = {\"a\": 1, \"b\": 2, \"c\": 3}\n",
    "dict2 = {\"b\": 2, \"c\": 3, \"d\": 4}\n",
    "```\n",
    "Hint: Use the keys() and items() methods to find the difference between the dictionaries."
   ]
  },
  {
   "cell_type": "code",
   "execution_count": null,
   "metadata": {},
   "outputs": [],
   "source": [
    "dict1 = {\"a\": 1, \"b\": 2, \"c\": 3}\n",
    "dict2 = {\"b\": 2, \"c\": 3, \"d\": 4}\n",
    "d = dict()\n",
    "for key in dict1:\n",
    "    if key in dict2:\n",
    "        d[key] = dict1[key] - dict2[key]\n",
    "print(d)"
   ]
  },
  {
   "cell_type": "markdown",
   "metadata": {},
   "source": [
    "Write a program to remove all the items from a dictionary.\n",
    "```\n",
    "Sample data: {\"a\": 1, \"b\": 2, \"c\": 3}\n",
    "```\n",
    "Hint: Use the clear() method to remove all items from the dictionary."
   ]
  },
  {
   "cell_type": "code",
   "execution_count": null,
   "metadata": {},
   "outputs": [],
   "source": [
    "dict1 = {\"a\": 1, \"b\": 2, \"c\": 3}\n",
    "dict1.clear()\n",
    "print(dict1)  # Output: {}"
   ]
  },
  {
   "cell_type": "markdown",
   "metadata": {},
   "source": [
    "Write a program to convert a dictionary into a list of tuples.\n",
    "```\n",
    "Sample data: {\"a\": 1, \"b\": 2, \"c\": 3}\n",
    "```\n",
    "Hint: Use the items() method to convert the dictionary into a list of tuples."
   ]
  },
  {
   "cell_type": "code",
   "execution_count": null,
   "metadata": {},
   "outputs": [],
   "source": [
    "dict1 = {\"a\": 1, \"b\": 2, \"c\": 3}\n",
    "dict2 = list(tuple(dict1.items()))\n",
    "print(dict2)"
   ]
  },
  {
   "cell_type": "markdown",
   "metadata": {},
   "source": [
    "Write a program to check if all the values in a dictionary are unique. \n",
    "```\n",
    "Sample data: {\"a\": 1, \"b\": 2, \"c\": 3}\n",
    "```\n",
    "Hint: Convert the dictionary values into a set and compare the lengths."
   ]
  },
  {
   "cell_type": "code",
   "execution_count": null,
   "metadata": {},
   "outputs": [],
   "source": [
    "dict1 = {\"a\": 1, \"b\": 2, \"c\": 3}\n",
    "dict2 = dict1.values()\n",
    "d = set(dict1.values())\n",
    "if len(d) == len(dict2):\n",
    "    print(\"The values of the dictionary are unique\")\n",
    "else:\n",
    "    print(\"The values of the dictionary are not unique\")"
   ]
  },
  {
   "cell_type": "markdown",
   "metadata": {},
   "source": [
    "Write a program to extract all the values from nested dictionaries into a single list.\n",
    "```\n",
    "Sample data: {\"a\": 1, \"b\": {\"c\": 2, \"d\": 3}, \"e\": 4}\n",
    "```\n",
    "Hint: Use recursion to iterate through the nested dictionaries and extract the values."
   ]
  },
  {
   "cell_type": "code",
   "execution_count": null,
   "metadata": {},
   "outputs": [],
   "source": []
  },
  {
   "cell_type": "markdown",
   "metadata": {},
   "source": [
    "Write a program to find the key-value pairs that have the highest values in a dictionary.\n",
    "```\n",
    "Sample data: {\"a\": 10, \"b\": 5, \"c\": 10}\n",
    "```\n",
    "Hint: Use the items() method and the max() function with a custom key argument to find the highest values"
   ]
  },
  {
   "cell_type": "code",
   "execution_count": 92,
   "metadata": {},
   "outputs": [
    {
     "ename": "TypeError",
     "evalue": "'int' object is not callable",
     "output_type": "error",
     "traceback": [
      "\u001b[1;31m---------------------------------------------------------------------------\u001b[0m",
      "\u001b[1;31mTypeError\u001b[0m                                 Traceback (most recent call last)",
      "Cell \u001b[1;32mIn[92], line 2\u001b[0m\n\u001b[0;32m      1\u001b[0m data\u001b[38;5;241m=\u001b[39m {\u001b[38;5;124m\"\u001b[39m\u001b[38;5;124ma\u001b[39m\u001b[38;5;124m\"\u001b[39m: \u001b[38;5;241m10\u001b[39m, \u001b[38;5;124m\"\u001b[39m\u001b[38;5;124mb\u001b[39m\u001b[38;5;124m\"\u001b[39m: \u001b[38;5;241m5\u001b[39m, \u001b[38;5;124m\"\u001b[39m\u001b[38;5;124mc\u001b[39m\u001b[38;5;124m\"\u001b[39m: \u001b[38;5;241m10\u001b[39m}\n\u001b[1;32m----> 2\u001b[0m \u001b[38;5;28mmax\u001b[39m \u001b[38;5;241m=\u001b[39m \u001b[38;5;28mmax\u001b[39m(data\u001b[38;5;241m.\u001b[39mvalues())\n\u001b[0;32m      3\u001b[0m \u001b[38;5;28;01mfor\u001b[39;00m k,v \u001b[38;5;129;01min\u001b[39;00m data\u001b[38;5;241m.\u001b[39mitems():\n\u001b[0;32m      4\u001b[0m     \u001b[38;5;28;01mif\u001b[39;00m v\u001b[38;5;241m==\u001b[39m\u001b[38;5;28mmax\u001b[39m:\n",
      "\u001b[1;31mTypeError\u001b[0m: 'int' object is not callable"
     ]
    }
   ],
   "source": [
    "data= {\"a\": 10, \"b\": 5, \"c\": 10}\n",
    "max = max(data.values())\n",
    "for k,v in data.items():\n",
    "    if v==max:\n",
    "        print(f\"{k}:{v}\")"
   ]
  },
  {
   "cell_type": "markdown",
   "metadata": {},
   "source": [
    "Write a program to create a dictionary from two lists, one containing keys and the other containing values.\n",
    "```\n",
    "Sample data:\n",
    "keys = [\"a\", \"b\", \"c\"]\n",
    "values = [1, 2, 3]\n",
    "```\n",
    "Hint: Use the zip() function to combine the two lists into key-value pairs."
   ]
  },
  {
   "cell_type": "code",
   "execution_count": null,
   "metadata": {},
   "outputs": [],
   "source": [
    "keys = [\"a\", \"b\", \"c\"]\n",
    "values = [1, 2, 3]\n",
    "d = dict(zip(keys,values))\n",
    "print(d)"
   ]
  },
  {
   "cell_type": "markdown",
   "metadata": {},
   "source": [
    "Write a program to iterate over a dictionary and print the keys and values.\n",
    "```\n",
    "Sample data: {\"a\": 1, \"b\": 2, \"c\": 3}\n",
    "```\n",
    "Hint: Use a for loop and the items() method to iterate over the dictionary and print the keys and values."
   ]
  },
  {
   "cell_type": "code",
   "execution_count": 93,
   "metadata": {},
   "outputs": [
    {
     "name": "stdout",
     "output_type": "stream",
     "text": [
      "Key: a, Value: 1\n",
      "Key: b, Value: 2\n",
      "Key: c, Value: 3\n"
     ]
    }
   ],
   "source": [
    "dict1 = {\"a\": 1, \"b\": 2, \"c\": 3}\n",
    "for k , v in dict1.items():\n",
    "    print(f\"Key: {k}, Value: {v}\")"
   ]
  },
  {
   "cell_type": "code",
   "execution_count": null,
   "metadata": {},
   "outputs": [],
   "source": []
  }
 ],
 "metadata": {
  "kernelspec": {
   "display_name": "base",
   "language": "python",
   "name": "python3"
  },
  "language_info": {
   "codemirror_mode": {
    "name": "ipython",
    "version": 3
   },
   "file_extension": ".py",
   "mimetype": "text/x-python",
   "name": "python",
   "nbconvert_exporter": "python",
   "pygments_lexer": "ipython3",
   "version": "3.12.3"
  }
 },
 "nbformat": 4,
 "nbformat_minor": 2
}
