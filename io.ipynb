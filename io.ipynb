{
 "cells": [
  {
   "cell_type": "markdown",
   "metadata": {},
   "source": [
    "example `ans = input(\"prompt\")`"
   ]
  },
  {
   "cell_type": "code",
   "execution_count": 3,
   "metadata": {},
   "outputs": [
    {
     "data": {
      "text/plain": [
       "'omi mishra'"
      ]
     },
     "execution_count": 3,
     "metadata": {},
     "output_type": "execute_result"
    }
   ],
   "source": [
    "input(\"enter your name\")"
   ]
  },
  {
   "cell_type": "code",
   "execution_count": 5,
   "metadata": {},
   "outputs": [],
   "source": [
    "name=input(\"enter your name\")\n",
    "city =input(\"enter your city\")\n",
    "sports=input(\"enter your fav sport\")\n",
    "luckynum=input(\"enter your lucky number\")\n"
   ]
  },
  {
   "cell_type": "code",
   "execution_count": 6,
   "metadata": {},
   "outputs": [
    {
     "name": "stdout",
     "output_type": "stream",
     "text": [
      "123456\n"
     ]
    }
   ],
   "source": [
    "a=input('enter a number')\n",
    "b=input('enter a number')\n",
    "print(a+b)"
   ]
  },
  {
   "cell_type": "markdown",
   "metadata": {},
   "source": [
    "typecasting\n",
    "\n",
    "from one datatype => another\n",
    "\n",
    "str=> int (variable) => int"
   ]
  },
  {
   "cell_type": "code",
   "execution_count": 7,
   "metadata": {},
   "outputs": [
    {
     "data": {
      "text/plain": [
       "120"
      ]
     },
     "execution_count": 7,
     "metadata": {},
     "output_type": "execute_result"
    }
   ],
   "source": [
    "int('120')"
   ]
  },
  {
   "cell_type": "code",
   "execution_count": 8,
   "metadata": {},
   "outputs": [
    {
     "name": "stdout",
     "output_type": "stream",
     "text": [
      "<class 'int'>\n",
      "<class 'str'>\n",
      "<class 'str'>\n",
      "<class 'float'>\n"
     ]
    }
   ],
   "source": [
    "a=10\n",
    "b='10'\n",
    "c=\"10.20\"\n",
    "d=10.20\n",
    "print(type(a))\n",
    "print(type(b))\n",
    "print(type(c))\n",
    "print(type(d))"
   ]
  },
  {
   "cell_type": "code",
   "execution_count": 10,
   "metadata": {},
   "outputs": [
    {
     "name": "stdout",
     "output_type": "stream",
     "text": [
      "10.0\n",
      "10\n",
      "True\n",
      "10\n"
     ]
    }
   ],
   "source": [
    "print(float(a))\n",
    "print(str(a))\n",
    "print(bool(a))\n",
    "print(int(b))\n"
   ]
  },
  {
   "cell_type": "code",
   "execution_count": 11,
   "metadata": {},
   "outputs": [
    {
     "name": "stdout",
     "output_type": "stream",
     "text": [
      "666\n"
     ]
    }
   ],
   "source": [
    "a=input('enter a number')\n",
    "b=input('enter a number')\n",
    "c=int(a)+int(b)\n",
    "print(c)"
   ]
  },
  {
   "cell_type": "code",
   "execution_count": 12,
   "metadata": {},
   "outputs": [
    {
     "name": "stdout",
     "output_type": "stream",
     "text": [
      "395\n"
     ]
    }
   ],
   "source": [
    "a=int(input('enter a number'))\n",
    "b=int(input('enter a number'))\n",
    "c=a+b\n",
    "print(c)"
   ]
  },
  {
   "cell_type": "code",
   "execution_count": 14,
   "metadata": {},
   "outputs": [
    {
     "name": "stdout",
     "output_type": "stream",
     "text": [
      "864.0\n"
     ]
    }
   ],
   "source": [
    "p=int(input(\"enter principle amount\"))\n",
    "r=float(input('enter the rate '))\n",
    "t=int(input('enter the time'))\n",
    "si=p*r*t/100\n",
    "print(si)"
   ]
  },
  {
   "cell_type": "markdown",
   "metadata": {},
   "source": [
    "answer: 12 - 3 = 9"
   ]
  },
  {
   "cell_type": "code",
   "execution_count": 15,
   "metadata": {},
   "outputs": [
    {
     "name": "stdout",
     "output_type": "stream",
     "text": [
      "answer: 12 - 3 = 9\n"
     ]
    }
   ],
   "source": [
    "a=12\n",
    "b=3\n",
    "c = a - b\n",
    "print (\"answer:\", a, '-', b, '=', c) #comma seperated formated output"
   ]
  },
  {
   "cell_type": "code",
   "execution_count": 19,
   "metadata": {},
   "outputs": [
    {
     "name": "stdout",
     "output_type": "stream",
     "text": [
      "Simple interest calculator\n",
      "Principle =  Rs 400000\n",
      "Rate = 5.78 %\n",
      "Time = 25 years\n",
      "-----------------------------------\n",
      "Simple interest = 578000.0\n"
     ]
    }
   ],
   "source": [
    "p=int(input(\"enter principle amount\"))\n",
    "r=float(input('enter the rate '))\n",
    "t=int(input('enter the time'))\n",
    "si=p*r*t/100\n",
    "print('Simple interest calculator')\n",
    "print('Principle = ', 'Rs' ,p)\n",
    "print('Rate =', r , '%')\n",
    "print('Time =', t ,  'years')\n",
    "print('-' * 35)\n",
    "print('Simple interest =' , si)"
   ]
  },
  {
   "cell_type": "code",
   "execution_count": 21,
   "metadata": {},
   "outputs": [
    {
     "name": "stdout",
     "output_type": "stream",
     "text": [
      "12,3,9,10.2\n"
     ]
    }
   ],
   "source": [
    "print(a,b,c,d , sep=\",\")"
   ]
  },
  {
   "cell_type": "code",
   "execution_count": 22,
   "metadata": {},
   "outputs": [
    {
     "name": "stdout",
     "output_type": "stream",
     "text": [
      "h-e-l-l-o\n",
      "apple,cherry,banana\n"
     ]
    }
   ],
   "source": [
    "print(*'hello' , sep='-') #advance version\n",
    "fruits=['apple','cherry','banana']\n",
    "print (*fruits, sep =',')\n"
   ]
  },
  {
   "cell_type": "markdown",
   "metadata": {},
   "source": [
    "string interpolatiion for formatted output"
   ]
  },
  {
   "cell_type": "code",
   "execution_count": 23,
   "metadata": {},
   "outputs": [
    {
     "name": "stdout",
     "output_type": "stream",
     "text": [
      "answer: 12 - 3 = 9\n",
      "answer: 12 - 3 = 9\n"
     ]
    }
   ],
   "source": [
    "a=12\n",
    "b=3\n",
    "c = a - b\n",
    "print (\"answer:\", a, '-', b, '=', c)\n",
    "print (f\"answer: {a} - {b} = {c}\")\n",
    "       "
   ]
  },
  {
   "cell_type": "code",
   "execution_count": 25,
   "metadata": {},
   "outputs": [
    {
     "name": "stdout",
     "output_type": "stream",
     "text": [
      "Area of the triangle\n",
      "Base = 45 cm\n",
      "Height = 73 cm\n",
      "____________________\n",
      "Area = 1642.5 cm\n"
     ]
    }
   ],
   "source": [
    "#area of triangle \n",
    "b= int(input(\"enter the base of the triangle\"))\n",
    "h= int(input(\"enter the height of the triangle\"))\n",
    "area= 1/2*b*h\n",
    "print(\"Area of the triangle\")\n",
    "print(f'Base = {b} cm')\n",
    "print(f'Height = {h} cm')\n",
    "print('_' * 20)\n",
    "print(f\"Area = {area} cm\")"
   ]
  },
  {
   "cell_type": "code",
   "execution_count": null,
   "metadata": {},
   "outputs": [],
   "source": []
  }
 ],
 "metadata": {
  "kernelspec": {
   "display_name": "base",
   "language": "python",
   "name": "python3"
  },
  "language_info": {
   "codemirror_mode": {
    "name": "ipython",
    "version": 3
   },
   "file_extension": ".py",
   "mimetype": "text/x-python",
   "name": "python",
   "nbconvert_exporter": "python",
   "pygments_lexer": "ipython3",
   "version": "3.12.3"
  }
 },
 "nbformat": 4,
 "nbformat_minor": 2
}
