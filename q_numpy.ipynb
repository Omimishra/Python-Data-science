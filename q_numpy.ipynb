{
 "cells": [
  {
   "cell_type": "markdown",
   "metadata": {},
   "source": [
    "1. Write a NumPy program to create an array of 10 zeros.\n",
    "\n",
    "2. Write a NumPy program to create an array of 10 ones.\n",
    "\n",
    "3. Write a NumPy program to create a 3x3 matrix with values ranging from 0 to 8.\n",
    "\n",
    "4. Write a NumPy program to reverse an array (first element becomes the last).\n",
    "\n",
    "5. Write a NumPy program to extract all odd numbers from an array.\n",
    "\n",
    "6. Write a NumPy program to compute the sum of all elements, mean, and standard deviation of a given array.\n",
    "\n",
    "7. Write a NumPy program to create a 5x5 matrix with random values and find the minimum and maximum values.\n",
    "\n",
    "8. Write a NumPy program to create a 2D array with 1 on the border and 0 inside.\n",
    "\n",
    "9. Write a NumPy program to multiply two given matrices.\n",
    "\n",
    "10. Write a NumPy program to find the unique elements of an array.\n",
    "\n",
    "11. Write a NumPy program to extract the elements in the odd-numbered columns of a 2D array.\n",
    "\n",
    "12. Write a NumPy program to extract the elements in the even-numbered rows of a 2D array.\n",
    "\n",
    "13. Write a NumPy program to extract a subarray from a given array. The subarray should include the first 3 rows and the columns from index 1 to 4 (inclusive).\n",
    "\n",
    "14. Write a NumPy program to reverse the order of elements in each column of a 2D array.\n",
    "\n",
    "15. Write a NumPy program to create a diagonal matrix from a given 1D array. The elements below the diagonal should be zero, and the elements above the diagonal should be squared."
   ]
  },
  {
   "cell_type": "code",
   "execution_count": 2,
   "metadata": {},
   "outputs": [],
   "source": [
    "import numpy as np"
   ]
  },
  {
   "cell_type": "code",
   "execution_count": 3,
   "metadata": {},
   "outputs": [
    {
     "name": "stdout",
     "output_type": "stream",
     "text": [
      "[0 0 0 0 0 0 0 0 0 0]\n"
     ]
    }
   ],
   "source": [
    "x = np.array([0] *10)\n",
    "print(x)"
   ]
  },
  {
   "cell_type": "code",
   "execution_count": 4,
   "metadata": {},
   "outputs": [
    {
     "name": "stdout",
     "output_type": "stream",
     "text": [
      "[1 1 1 1 1 1 1 1 1 1]\n"
     ]
    }
   ],
   "source": [
    "x = np.array([1] *10)\n",
    "print(x)"
   ]
  },
  {
   "cell_type": "code",
   "execution_count": 5,
   "metadata": {},
   "outputs": [
    {
     "data": {
      "text/plain": [
       "array([[4, 1, 3],\n",
       "       [6, 7, 0],\n",
       "       [0, 1, 3]], dtype=int32)"
      ]
     },
     "execution_count": 5,
     "metadata": {},
     "output_type": "execute_result"
    }
   ],
   "source": [
    "a = np.random.randint(0,8,(3,3))\n",
    "a"
   ]
  },
  {
   "cell_type": "code",
   "execution_count": 6,
   "metadata": {},
   "outputs": [
    {
     "data": {
      "text/plain": [
       "array([7, 6, 5, 4, 3, 2, 1, 0])"
      ]
     },
     "execution_count": 6,
     "metadata": {},
     "output_type": "execute_result"
    }
   ],
   "source": [
    "a = np.arange(0,8)\n",
    "a[::-1]"
   ]
  },
  {
   "cell_type": "code",
   "execution_count": 7,
   "metadata": {},
   "outputs": [
    {
     "data": {
      "text/plain": [
       "array([21, 23, 25, 27, 29, 31, 33, 35, 37, 39, 41, 43, 45, 47, 49])"
      ]
     },
     "execution_count": 7,
     "metadata": {},
     "output_type": "execute_result"
    }
   ],
   "source": [
    "b = np.arange(20,50,1)\n",
    "b [(b%2!=0)]"
   ]
  },
  {
   "cell_type": "code",
   "execution_count": 8,
   "metadata": {},
   "outputs": [
    {
     "name": "stdout",
     "output_type": "stream",
     "text": [
      "3160\n",
      "39.5\n",
      "23.092206477510977\n"
     ]
    }
   ],
   "source": [
    "x = np.arange(80)\n",
    "print(x.sum())\n",
    "print(x.mean())\n",
    "print(x.std())\n"
   ]
  },
  {
   "cell_type": "code",
   "execution_count": 9,
   "metadata": {},
   "outputs": [
    {
     "name": "stdout",
     "output_type": "stream",
     "text": [
      "[[45 33 36 19  1]\n",
      " [17  9 39 23  8]\n",
      " [25 18 24 35  2]\n",
      " [12 19 36 15  5]\n",
      " [28  2 36  7 42]]\n",
      "Maximium value 45\n",
      "Minimium value 1\n"
     ]
    }
   ],
   "source": [
    "y = np.random.randint(0,50,(5,5))\n",
    "print(y)\n",
    "print(\"Maximium value\",y.max())\n",
    "print(\"Minimium value\",y.min())"
   ]
  },
  {
   "cell_type": "code",
   "execution_count": 10,
   "metadata": {},
   "outputs": [
    {
     "data": {
      "text/plain": [
       "array([[1, 1, 1, 1, 1, 1, 1],\n",
       "       [1, 0, 0, 0, 0, 0, 1],\n",
       "       [1, 0, 0, 0, 0, 0, 1],\n",
       "       [1, 0, 0, 0, 0, 0, 1],\n",
       "       [1, 0, 0, 0, 0, 0, 1],\n",
       "       [1, 1, 1, 1, 1, 1, 1]])"
      ]
     },
     "execution_count": 10,
     "metadata": {},
     "output_type": "execute_result"
    }
   ],
   "source": [
    "x = np.ones((6,7), dtype=int)\n",
    "x[1:-1,1:-1] = 0\n",
    "x\n"
   ]
  },
  {
   "cell_type": "code",
   "execution_count": 11,
   "metadata": {},
   "outputs": [
    {
     "name": "stdout",
     "output_type": "stream",
     "text": [
      "x:  [[14  2 16  3 14]\n",
      " [11  1  1  8  8]\n",
      " [18 10 14 10 10]\n",
      " [13  6 11  5 17]\n",
      " [12 12 14 17 17]]\n",
      "y:  [[ 2  4  2  4  7]\n",
      " [16  3  7  6 15]\n",
      " [18  7  8  7  3]\n",
      " [19  3  1 14  7]\n",
      " [12  3 18 12 17]]\n",
      "Element wise multiplication\n",
      "[[ 28   8  32  12  98]\n",
      " [176   3   7  48 120]\n",
      " [324  70 112  70  30]\n",
      " [247  18  11  70 119]\n",
      " [144  36 252 204 289]]\n",
      "Matrix multiplication\n",
      "[[573 225 425 390 435]\n",
      " [304 102 189 265 287]\n",
      " [758 260 408 490 558]\n",
      " [619 213 467 439 538]\n",
      " [995 284 543 660 714]]\n"
     ]
    }
   ],
   "source": [
    "x = np.random.randint(1,20,(5,5))\n",
    "y = np.random.randint(1,20,(5,5))\n",
    "print(\"x: \",x)\n",
    "print(\"y: \",y)\n",
    "print('Element wise multiplication')\n",
    "print(x * y)\n",
    "print('Matrix multiplication')\n",
    "print(x @ y)\n",
    "\n"
   ]
  },
  {
   "cell_type": "code",
   "execution_count": 12,
   "metadata": {},
   "outputs": [
    {
     "name": "stdout",
     "output_type": "stream",
     "text": [
      "[[3 9 5 7 2 5 7 1 1 8]\n",
      " [6 4 6 7 4 6 7 5 5 9]\n",
      " [2 1 4 8 8 7 9 4 5 1]\n",
      " [2 6 2 6 7 1 8 5 6 1]\n",
      " [4 8 7 3 8 9 5 8 2 8]\n",
      " [1 3 4 8 5 7 7 9 2 5]\n",
      " [1 6 7 1 2 3 7 2 7 3]\n",
      " [8 5 3 5 8 9 5 8 6 3]\n",
      " [4 1 5 5 3 3 3 8 9 7]\n",
      " [4 8 6 1 7 5 5 5 6 8]]\n",
      "Odd numbered array:\n"
     ]
    },
    {
     "data": {
      "text/plain": [
       "array([[9, 7, 5, 1, 8],\n",
       "       [4, 7, 6, 5, 9],\n",
       "       [1, 8, 7, 4, 1],\n",
       "       [6, 6, 1, 5, 1],\n",
       "       [8, 3, 9, 8, 8],\n",
       "       [3, 8, 7, 9, 5],\n",
       "       [6, 1, 3, 2, 3],\n",
       "       [5, 5, 9, 8, 3],\n",
       "       [1, 5, 3, 8, 7],\n",
       "       [8, 1, 5, 5, 8]], dtype=int32)"
      ]
     },
     "execution_count": 12,
     "metadata": {},
     "output_type": "execute_result"
    }
   ],
   "source": [
    "y = np.random.randint(1,10,(10,10))\n",
    "print(y)\n",
    "print('Odd numbered array:')\n",
    "y[:,1::2]"
   ]
  },
  {
   "cell_type": "code",
   "execution_count": 13,
   "metadata": {},
   "outputs": [
    {
     "name": "stdout",
     "output_type": "stream",
     "text": [
      "[[9 9 2 6 4 7 2 9 9 1]\n",
      " [5 3 1 2 6 8 1 4 1 9]\n",
      " [9 7 1 9 2 9 9 8 2 3]\n",
      " [6 2 4 3 1 3 2 2 8 7]\n",
      " [4 2 5 9 7 7 9 7 9 4]\n",
      " [1 1 7 6 4 7 9 7 2 8]\n",
      " [3 5 7 8 7 2 6 1 5 1]\n",
      " [6 9 3 7 6 4 2 1 1 5]\n",
      " [6 4 1 3 9 5 8 7 2 7]\n",
      " [7 7 8 1 5 1 7 7 6 9]]\n",
      "Odd numbered array:\n"
     ]
    },
    {
     "data": {
      "text/plain": [
       "array([[9, 2, 4, 2, 9],\n",
       "       [5, 1, 6, 1, 1],\n",
       "       [9, 1, 2, 9, 2],\n",
       "       [6, 4, 1, 2, 8],\n",
       "       [4, 5, 7, 9, 9],\n",
       "       [1, 7, 4, 9, 2],\n",
       "       [3, 7, 7, 6, 5],\n",
       "       [6, 3, 6, 2, 1],\n",
       "       [6, 1, 9, 8, 2],\n",
       "       [7, 8, 5, 7, 6]], dtype=int32)"
      ]
     },
     "execution_count": 13,
     "metadata": {},
     "output_type": "execute_result"
    }
   ],
   "source": [
    "y = np.random.randint(1,10,(10,10))\n",
    "print(y)\n",
    "print('Odd numbered array:')\n",
    "y[:,0::2]"
   ]
  },
  {
   "cell_type": "code",
   "execution_count": 14,
   "metadata": {},
   "outputs": [
    {
     "name": "stdout",
     "output_type": "stream",
     "text": [
      "[[8 6 7 7 5 2 5]\n",
      " [5 7 1 3 4 1 5]\n",
      " [5 8 7 7 1 5 2]\n",
      " [8 2 1 9 3 3 4]\n",
      " [4 4 8 2 2 9 8]]\n"
     ]
    },
    {
     "data": {
      "text/plain": [
       "array([[6, 7, 7, 5],\n",
       "       [7, 1, 3, 4],\n",
       "       [8, 7, 7, 1]], dtype=int32)"
      ]
     },
     "execution_count": 14,
     "metadata": {},
     "output_type": "execute_result"
    }
   ],
   "source": [
    "y = np.random.randint(1,10,(5,7))\n",
    "print(y)\n",
    "y[:3,1:5]"
   ]
  },
  {
   "cell_type": "code",
   "execution_count": 15,
   "metadata": {},
   "outputs": [
    {
     "name": "stdout",
     "output_type": "stream",
     "text": [
      "[[9 9 5 7 6 7 9]\n",
      " [1 5 8 3 8 7 2]\n",
      " [8 2 8 3 3 2 6]\n",
      " [5 8 3 8 5 9 9]\n",
      " [1 7 5 5 8 6 6]]\n",
      "reversed elements in each column\n",
      "[[9 7 6 7 5 9 9]\n",
      " [2 7 8 3 8 5 1]\n",
      " [6 2 3 3 8 2 8]\n",
      " [9 9 5 8 3 8 5]\n",
      " [6 6 8 5 5 7 1]]\n"
     ]
    }
   ],
   "source": [
    "y = np.random.randint(1,10,(5,7))\n",
    "print(y)\n",
    "print('reversed elements in each column')\n",
    "print(y[:,::-1])"
   ]
  },
  {
   "cell_type": "code",
   "execution_count": 16,
   "metadata": {},
   "outputs": [
    {
     "data": {
      "text/plain": [
       "array([[1, 0, 0, 0, 0],\n",
       "       [0, 2, 0, 0, 0],\n",
       "       [0, 0, 3, 0, 0],\n",
       "       [0, 0, 0, 4, 0],\n",
       "       [0, 0, 0, 0, 5]])"
      ]
     },
     "execution_count": 16,
     "metadata": {},
     "output_type": "execute_result"
    }
   ],
   "source": [
    "a= [1,2,3,4,5]\n",
    "np.diag(a)\n"
   ]
  },
  {
   "cell_type": "code",
   "execution_count": null,
   "metadata": {},
   "outputs": [],
   "source": []
  }
 ],
 "metadata": {
  "kernelspec": {
   "display_name": "base",
   "language": "python",
   "name": "python3"
  },
  "language_info": {
   "codemirror_mode": {
    "name": "ipython",
    "version": 3
   },
   "file_extension": ".py",
   "mimetype": "text/x-python",
   "name": "python",
   "nbconvert_exporter": "python",
   "pygments_lexer": "ipython3",
   "version": "3.12.3"
  }
 },
 "nbformat": 4,
 "nbformat_minor": 2
}
