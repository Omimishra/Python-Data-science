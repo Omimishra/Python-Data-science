{
 "cells": [
  {
   "cell_type": "markdown",
   "metadata": {},
   "source": [
    "1. Write a NumPy program to create an array of 10 zeros.\n",
    "\n",
    "2. Write a NumPy program to create an array of 10 ones.\n",
    "\n",
    "3. Write a NumPy program to create a 3x3 matrix with values ranging from 0 to 8.\n",
    "\n",
    "4. Write a NumPy program to reverse an array (first element becomes the last).\n",
    "\n",
    "5. Write a NumPy program to extract all odd numbers from an array.\n",
    "\n",
    "6. Write a NumPy program to compute the sum of all elements, mean, and standard deviation of a given array.\n",
    "\n",
    "7. Write a NumPy program to create a 5x5 matrix with random values and find the minimum and maximum values.\n",
    "\n",
    "8. Write a NumPy program to create a 2D array with 1 on the border and 0 inside.\n",
    "\n",
    "9. Write a NumPy program to multiply two given matrices.\n",
    "\n",
    "10. Write a NumPy program to find the unique elements of an array.\n",
    "\n",
    "11. Write a NumPy program to extract the elements in the odd-numbered columns of a 2D array.\n",
    "\n",
    "12. Write a NumPy program to extract the elements in the even-numbered rows of a 2D array.\n",
    "\n",
    "13. Write a NumPy program to extract a subarray from a given array. The subarray should include the first 3 rows and the columns from index 1 to 4 (inclusive).\n",
    "\n",
    "14. Write a NumPy program to reverse the order of elements in each column of a 2D array.\n",
    "\n",
    "15. Write a NumPy program to create a diagonal matrix from a given 1D array. The elements below the diagonal should be zero, and the elements above the diagonal should be squared."
   ]
  },
  {
   "cell_type": "code",
   "execution_count": null,
   "metadata": {},
   "outputs": [],
   "source": [
    "import numpy as np"
   ]
  },
  {
   "cell_type": "code",
   "execution_count": null,
   "metadata": {},
   "outputs": [],
   "source": [
    "x = np.array([0] *10)\n",
    "print(x)"
   ]
  },
  {
   "cell_type": "code",
   "execution_count": null,
   "metadata": {},
   "outputs": [],
   "source": [
    "x = np.array([1] *10)\n",
    "print(x)"
   ]
  },
  {
   "cell_type": "code",
   "execution_count": null,
   "metadata": {},
   "outputs": [],
   "source": [
    "a = np.random.randint(0,8,(3,3))\n",
    "a"
   ]
  },
  {
   "cell_type": "code",
   "execution_count": null,
   "metadata": {},
   "outputs": [],
   "source": [
    "a = np.arange(0,8)\n",
    "a[::-1]"
   ]
  },
  {
   "cell_type": "code",
   "execution_count": null,
   "metadata": {},
   "outputs": [],
   "source": [
    "b = np.arange(20,50,1)\n",
    "b [(b%2!=0)]"
   ]
  },
  {
   "cell_type": "code",
   "execution_count": null,
   "metadata": {},
   "outputs": [],
   "source": [
    "x = np.arange(80)\n",
    "print(x.sum())\n",
    "print(x.mean())\n",
    "print(x.std())\n"
   ]
  },
  {
   "cell_type": "code",
   "execution_count": null,
   "metadata": {},
   "outputs": [],
   "source": [
    "y = np.random.randint(0,50,(5,5))\n",
    "print(y)\n",
    "print(\"Maximium value\",y.max())\n",
    "print(\"Minimium value\",y.min())"
   ]
  },
  {
   "cell_type": "code",
   "execution_count": null,
   "metadata": {},
   "outputs": [],
   "source": [
    "x = np.ones((6,7), dtype=int)\n",
    "x[1:-1,1:-1] = 0\n",
    "x\n"
   ]
  },
  {
   "cell_type": "code",
   "execution_count": null,
   "metadata": {},
   "outputs": [],
   "source": [
    "x = np.random.randint(1,20,(5,5))\n",
    "y = np.random.randint(1,20,(5,5))\n",
    "print(\"x: \",x)\n",
    "print(\"y: \",y)\n",
    "print('Element wise multiplication')\n",
    "print(x * y)\n",
    "print('Matrix multiplication')\n",
    "print(x @ y)\n",
    "\n"
   ]
  },
  {
   "cell_type": "code",
   "execution_count": 47,
   "metadata": {},
   "outputs": [
    {
     "name": "stdout",
     "output_type": "stream",
     "text": [
      "[[9 7 2 9 6 6 6 1 8 9]\n",
      " [9 7 2 1 4 6 8 3 9 3]\n",
      " [3 9 9 9 6 1 4 3 1 5]\n",
      " [6 3 9 2 5 3 5 4 6 8]\n",
      " [8 7 5 1 8 4 8 7 3 9]\n",
      " [3 8 8 6 7 5 4 4 1 6]\n",
      " [3 9 3 2 7 6 6 3 1 9]\n",
      " [8 6 3 6 9 5 3 4 4 6]\n",
      " [8 2 7 9 6 3 9 5 7 3]\n",
      " [4 8 1 4 2 8 9 3 9 2]]\n",
      "Odd numbered array:\n"
     ]
    },
    {
     "data": {
      "text/plain": [
       "array([[7, 9, 6, 1, 9],\n",
       "       [7, 1, 6, 3, 3],\n",
       "       [9, 9, 1, 3, 5],\n",
       "       [3, 2, 3, 4, 8],\n",
       "       [7, 1, 4, 7, 9],\n",
       "       [8, 6, 5, 4, 6],\n",
       "       [9, 2, 6, 3, 9],\n",
       "       [6, 6, 5, 4, 6],\n",
       "       [2, 9, 3, 5, 3],\n",
       "       [8, 4, 8, 3, 2]], dtype=int32)"
      ]
     },
     "execution_count": 47,
     "metadata": {},
     "output_type": "execute_result"
    }
   ],
   "source": [
    "y = np.random.randint(1,10,(10,10))\n",
    "print(y)\n",
    "print('Odd numbered array:')\n",
    "y[:,1::2]"
   ]
  },
  {
   "cell_type": "code",
   "execution_count": 48,
   "metadata": {},
   "outputs": [
    {
     "name": "stdout",
     "output_type": "stream",
     "text": [
      "[[5 6 2 2 1 1 3 5 9 2]\n",
      " [7 9 2 7 3 8 3 6 5 2]\n",
      " [2 9 8 6 4 5 8 3 9 1]\n",
      " [4 9 9 8 3 7 9 3 1 6]\n",
      " [9 2 7 4 2 1 6 9 4 7]\n",
      " [9 2 9 7 8 7 3 4 9 2]\n",
      " [4 3 7 7 9 2 8 7 1 8]\n",
      " [8 2 5 2 5 1 7 5 6 4]\n",
      " [9 7 5 4 6 7 3 5 6 9]\n",
      " [8 8 1 2 2 7 7 8 4 1]]\n",
      "Odd numbered array:\n"
     ]
    },
    {
     "data": {
      "text/plain": [
       "array([[5, 2, 1, 3, 9],\n",
       "       [7, 2, 3, 3, 5],\n",
       "       [2, 8, 4, 8, 9],\n",
       "       [4, 9, 3, 9, 1],\n",
       "       [9, 7, 2, 6, 4],\n",
       "       [9, 9, 8, 3, 9],\n",
       "       [4, 7, 9, 8, 1],\n",
       "       [8, 5, 5, 7, 6],\n",
       "       [9, 5, 6, 3, 6],\n",
       "       [8, 1, 2, 7, 4]], dtype=int32)"
      ]
     },
     "execution_count": 48,
     "metadata": {},
     "output_type": "execute_result"
    }
   ],
   "source": [
    "y = np.random.randint(1,10,(10,10))\n",
    "print(y)\n",
    "print('Odd numbered array:')\n",
    "y[:,0::2]"
   ]
  },
  {
   "cell_type": "code",
   "execution_count": 54,
   "metadata": {},
   "outputs": [
    {
     "name": "stdout",
     "output_type": "stream",
     "text": [
      "[[5 5 2 6 3 7 9]\n",
      " [7 6 7 2 2 5 4]\n",
      " [4 9 2 7 1 5 6]\n",
      " [7 6 6 5 9 3 9]\n",
      " [6 8 3 2 3 7 4]]\n"
     ]
    },
    {
     "data": {
      "text/plain": [
       "array([[5, 2, 6, 3],\n",
       "       [6, 7, 2, 2],\n",
       "       [9, 2, 7, 1]], dtype=int32)"
      ]
     },
     "execution_count": 54,
     "metadata": {},
     "output_type": "execute_result"
    }
   ],
   "source": [
    "y = np.random.randint(1,10,(5,7))\n",
    "print(y)\n",
    "y[:3,1:5]"
   ]
  },
  {
   "cell_type": "code",
   "execution_count": 55,
   "metadata": {},
   "outputs": [
    {
     "name": "stdout",
     "output_type": "stream",
     "text": [
      "[[5 1 9 2 6 4 7]\n",
      " [5 7 8 3 4 7 9]\n",
      " [3 9 3 3 2 9 6]\n",
      " [4 9 3 1 3 3 2]\n",
      " [1 1 9 8 6 8 9]]\n",
      "reversed elements in each column\n",
      "[[7 4 6 2 9 1 5]\n",
      " [9 7 4 3 8 7 5]\n",
      " [6 9 2 3 3 9 3]\n",
      " [2 3 3 1 3 9 4]\n",
      " [9 8 6 8 9 1 1]]\n"
     ]
    }
   ],
   "source": [
    "y = np.random.randint(1,10,(5,7))\n",
    "print(y)\n",
    "print('reversed elements in each column')\n",
    "print(y[:,::-1])"
   ]
  },
  {
   "cell_type": "code",
   "execution_count": 59,
   "metadata": {},
   "outputs": [
    {
     "data": {
      "text/plain": [
       "array([[1, 0, 0, 0, 0],\n",
       "       [0, 2, 0, 0, 0],\n",
       "       [0, 0, 3, 0, 0],\n",
       "       [0, 0, 0, 4, 0],\n",
       "       [0, 0, 0, 0, 5]])"
      ]
     },
     "execution_count": 59,
     "metadata": {},
     "output_type": "execute_result"
    }
   ],
   "source": [
    "a= [1,2,3,4,5]\n",
    "np.diag(a)\n"
   ]
  },
  {
   "cell_type": "code",
   "execution_count": null,
   "metadata": {},
   "outputs": [],
   "source": []
  }
 ],
 "metadata": {
  "kernelspec": {
   "display_name": "base",
   "language": "python",
   "name": "python3"
  },
  "language_info": {
   "codemirror_mode": {
    "name": "ipython",
    "version": 3
   },
   "file_extension": ".py",
   "mimetype": "text/x-python",
   "name": "python",
   "nbconvert_exporter": "python",
   "pygments_lexer": "ipython3",
   "version": "3.12.3"
  }
 },
 "nbformat": 4,
 "nbformat_minor": 2
}
