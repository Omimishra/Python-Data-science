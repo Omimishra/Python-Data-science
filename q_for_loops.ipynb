{
 "cells": [
  {
   "cell_type": "markdown",
   "metadata": {},
   "source": [
    "wap to print numbers from 1 to 10"
   ]
  },
  {
   "cell_type": "code",
   "execution_count": null,
   "metadata": {},
   "outputs": [],
   "source": [
    "for i in range(1,11):\n",
    "    print(i)"
   ]
  },
  {
   "cell_type": "markdown",
   "metadata": {},
   "source": [
    "wap to print the multiplication table of a given number using a while loop"
   ]
  },
  {
   "cell_type": "code",
   "execution_count": null,
   "metadata": {},
   "outputs": [],
   "source": [
    "n = int(input('enter a number'))\n",
    "i = 1\n",
    "while (i<=10):\n",
    "    print (f\"{n} * {i} = {i*n}\")\n",
    "    i+=1"
   ]
  },
  {
   "cell_type": "markdown",
   "metadata": {},
   "source": [
    "wap to find the sum of all even numbers between 1 and 100 using a for loop"
   ]
  },
  {
   "cell_type": "code",
   "execution_count": null,
   "metadata": {},
   "outputs": [],
   "source": [
    "total = 0\n",
    "for i in range (101):\n",
    "    if (i % 2 == 0 ):\n",
    "        total += i\n",
    "print (total)"
   ]
  },
  {
   "cell_type": "markdown",
   "metadata": {},
   "source": [
    " Write a program to check if a given number is prime or not using a while loop."
   ]
  },
  {
   "cell_type": "code",
   "execution_count": 2,
   "metadata": {},
   "outputs": [
    {
     "name": "stdout",
     "output_type": "stream",
     "text": [
      "Number is prime\n"
     ]
    }
   ],
   "source": [
    "num = int(input('enter a number'))\n",
    "i = 2\n",
    "while i< num:\n",
    "    if(num % i == 0 ):\n",
    "        print('not prime')\n",
    "        break\n",
    "    i=i+1\n",
    "else:\n",
    "     print('Number is prime')"
   ]
  },
  {
   "cell_type": "markdown",
   "metadata": {},
   "source": [
    "Write a program to calculate the factorial of a number using a for loop."
   ]
  },
  {
   "cell_type": "code",
   "execution_count": null,
   "metadata": {},
   "outputs": [],
   "source": [
    "t = int(input('enter a number'))\n",
    "fac = 1\n",
    "for i in range(1,t+1):\n",
    "    fac *= i\n",
    "print(f\"{t}! = {fac}\")\n"
   ]
  },
  {
   "cell_type": "markdown",
   "metadata": {},
   "source": [
    "Write a program to print the Fibonacci series up to a given limit using a for loop."
   ]
  },
  {
   "cell_type": "code",
   "execution_count": null,
   "metadata": {},
   "outputs": [],
   "source": [
    "f = int(input('enter a limit'))\n",
    "a = 1\n",
    "b = 1\n",
    "print (f\"{a},{b}\",end=',')\n",
    "for i in range(f-2):\n",
    "    c = a + b \n",
    "    print (c,end=',')\n",
    "    a = b \n",
    "    b = c"
   ]
  },
  {
   "cell_type": "markdown",
   "metadata": {},
   "source": [
    "Write a program to find the largest element in an array using a for loop."
   ]
  },
  {
   "cell_type": "code",
   "execution_count": 1,
   "metadata": {},
   "outputs": [
    {
     "name": "stdout",
     "output_type": "stream",
     "text": [
      "93\n"
     ]
    }
   ],
   "source": [
    "l = [15,75,93,53,73,65,78,9,70]\n",
    "max = 0\n",
    "for i in l:\n",
    "    if(i > max):\n",
    "        max = i\n",
    "print (max)"
   ]
  },
  {
   "cell_type": "markdown",
   "metadata": {},
   "source": [
    "Write a program to reverse a given string using a while loop."
   ]
  },
  {
   "cell_type": "code",
   "execution_count": null,
   "metadata": {},
   "outputs": [],
   "source": [
    "s = input('enter a string')\n",
    "print (s[::-1])"
   ]
  },
  {
   "cell_type": "markdown",
   "metadata": {},
   "source": [
    "Write a program to print the ASCII values of all uppercase letters using a for loop."
   ]
  },
  {
   "cell_type": "code",
   "execution_count": 10,
   "metadata": {},
   "outputs": [
    {
     "name": "stdout",
     "output_type": "stream",
     "text": [
      "A : 65  B : 66  C : 67  D : 68  E : 69  F : 70  G : 71  H : 72  I : 73  J : 74  K : 75  L : 76  M : 77  N : 78  O : 79  P : 80  Q : 81  R : 82  S : 83  T : 84  U : 85  V : 86  W : 87  X : 88  Y : 89  Z : 90  "
     ]
    }
   ],
   "source": [
    "for letter in range(ord('A'), ord('Z') + 1):\n",
    "    print(f\"{chr(letter)} : {letter} \", end=\" \")"
   ]
  },
  {
   "cell_type": "markdown",
   "metadata": {},
   "source": [
    "Write a program to check if a given string is a palindrome using a for loop."
   ]
  },
  {
   "cell_type": "code",
   "execution_count": null,
   "metadata": {},
   "outputs": [],
   "source": [
    "str = input('enter a string')\n",
    "rev =''\n",
    "for i in str:\n",
    "    rev = i+rev\n",
    "if(rev==str):\n",
    "    print ('string is palindrome')\n",
    "else:\n",
    "    print ('string is not palindrome')\n"
   ]
  },
  {
   "cell_type": "markdown",
   "metadata": {},
   "source": [
    "Write a program to calculate the average of a list of numbers using a for loop."
   ]
  },
  {
   "cell_type": "code",
   "execution_count": null,
   "metadata": {},
   "outputs": [],
   "source": [
    "nums = [1,4,5,6,7,9,2,4]\n",
    "avg = 0\n",
    "for n in nums:\n",
    "    avg = (avg+n)\n",
    "print(avg/len(nums))\n"
   ]
  },
  {
   "cell_type": "markdown",
   "metadata": {},
   "source": [
    "Write a program to find the smallest element in an array using a while loop."
   ]
  },
  {
   "cell_type": "code",
   "execution_count": 4,
   "metadata": {},
   "outputs": [
    {
     "name": "stdout",
     "output_type": "stream",
     "text": [
      "9\n"
     ]
    }
   ],
   "source": [
    "l = [15,75,93,53,73,65,78,9,70]\n",
    "min = l[0]\n",
    "i = 0\n",
    "while i != len(l):\n",
    "    if(min > l[i]):\n",
    "     min = l[i]\n",
    "    i += 1     \n",
    "print (min)"
   ]
  },
  {
   "cell_type": "markdown",
   "metadata": {},
   "source": [
    "Write a program to calculate the sum of digits of a number using a for loop."
   ]
  },
  {
   "cell_type": "code",
   "execution_count": null,
   "metadata": {},
   "outputs": [],
   "source": [
    "number = 12345\n",
    "t=0\n",
    "for n in range(6):\n",
    "    d = number % 10\n",
    "    t += d\n",
    "    number = number//10\n",
    "print(f\"Sum of Digits: {t}\")"
   ]
  },
  {
   "cell_type": "markdown",
   "metadata": {},
   "source": [
    "Write a program to check if a given list of years has a leap year using a while loop."
   ]
  },
  {
   "cell_type": "code",
   "execution_count": null,
   "metadata": {},
   "outputs": [],
   "source": [
    "years =[2002,2010,2024,2003]\n",
    "for y in years:\n",
    "    if(y % 4 ==0 and y % 100 != 0 or y % 400 ==0):\n",
    "        print(f'{y} is a leap year')\n",
    "    else:\n",
    "        print(f\"{y} is not a leap year\")\n"
   ]
  },
  {
   "cell_type": "markdown",
   "metadata": {},
   "source": [
    "Write a program to print the multiplication table of numbers from 1 to 5 using a for loop."
   ]
  },
  {
   "cell_type": "code",
   "execution_count": null,
   "metadata": {},
   "outputs": [],
   "source": [
    "l = [1,2,3,4,5]\n",
    "for i in l :\n",
    "    for j in range(11):\n",
    "        print (f\"{i} * {j} = {i*j}\")"
   ]
  },
  {
   "cell_type": "markdown",
   "metadata": {},
   "source": [
    "Write a program to find the factorial of a number using a for loop."
   ]
  },
  {
   "cell_type": "markdown",
   "metadata": {},
   "source": [
    "Write a program to count the number of vowels in a given string using a for loop."
   ]
  },
  {
   "cell_type": "code",
   "execution_count": null,
   "metadata": {},
   "outputs": [],
   "source": [
    "sentence = input('enter a string')\n",
    "c = 0\n",
    "for i in sentence:\n",
    "    if (i=='a' or i=='e'or i=='i'or i=='o' or i=='u'):\n",
    "        c += 1\n",
    "print(f\"There are {c} vowels in given string\")"
   ]
  },
  {
   "cell_type": "markdown",
   "metadata": {},
   "source": [
    "Write a program to find the largest and smallest elements in an array using a for loop."
   ]
  },
  {
   "cell_type": "code",
   "execution_count": 5,
   "metadata": {},
   "outputs": [
    {
     "name": "stdout",
     "output_type": "stream",
     "text": [
      "Largest element in array is : 93\n",
      "Smallest element in array is : 9\n"
     ]
    }
   ],
   "source": [
    "l = [15,75,93,53,73,65,78,9,70]\n",
    "max = l[0]\n",
    "min = l[0]\n",
    "for i in l:\n",
    "    if (i > max):\n",
    "        max = i\n",
    "    elif (min > i):\n",
    "        min = i \n",
    "print ('Largest element in array is :', max)\n",
    "print ('Smallest element in array is :', min)"
   ]
  },
  {
   "cell_type": "markdown",
   "metadata": {},
   "source": [
    "Write a program to reverse the order of words in a sentence using a while loop."
   ]
  },
  {
   "cell_type": "code",
   "execution_count": 45,
   "metadata": {},
   "outputs": [
    {
     "name": "stdout",
     "output_type": "stream",
     "text": [
      "books incredible many are There \n"
     ]
    }
   ],
   "source": [
    "sen =\"There are many incredible books\"\n",
    "rev =''\n",
    "words = sen.split()\n",
    "for w in words:\n",
    "    rev = w +\" \"+ rev\n",
    "print (rev)"
   ]
  }
 ],
 "metadata": {
  "kernelspec": {
   "display_name": "base",
   "language": "python",
   "name": "python3"
  },
  "language_info": {
   "codemirror_mode": {
    "name": "ipython",
    "version": 3
   },
   "file_extension": ".py",
   "mimetype": "text/x-python",
   "name": "python",
   "nbconvert_exporter": "python",
   "pygments_lexer": "ipython3",
   "version": "3.12.3"
  }
 },
 "nbformat": 4,
 "nbformat_minor": 2
}
