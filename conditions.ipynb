{
 "cells": [
  {
   "cell_type": "markdown",
   "metadata": {},
   "source": [
    "## Condition\n",
    "- `if`\n",
    "- `if else`\n",
    "- `if elif`\n",
    "- `match case`"
   ]
  },
  {
   "cell_type": "markdown",
   "metadata": {},
   "source": [
    "#### Syntax\n",
    "```python\n",
    "if expr:\n",
    "statement 1 \n",
    "statement 2\n",
    "....\n",
    "statement 3 \n",
    "```"
   ]
  },
  {
   "cell_type": "code",
   "execution_count": 1,
   "metadata": {},
   "outputs": [
    {
     "name": "stdout",
     "output_type": "stream",
     "text": [
      "19\n",
      "You have a big name\n"
     ]
    }
   ],
   "source": [
    "name = input('Enter your name')\n",
    "print(len(name))\n",
    "if len(name) >= 10:\n",
    "    print (\"You have a big name\")"
   ]
  },
  {
   "cell_type": "code",
   "execution_count": 6,
   "metadata": {},
   "outputs": [
    {
     "name": "stdout",
     "output_type": "stream",
     "text": [
      "3\n",
      "Standard name , nothing special\n",
      "consize name\n"
     ]
    }
   ],
   "source": [
    "name = input('Enter your name')\n",
    "print(len(name))\n",
    "if len(name) == 0:\n",
    "    print (\"You don't have a name\")\n",
    "if len(name) <= 4:\n",
    "    print (\"consize name\")\n",
    "if len(name) < 10:\n",
    "    print (\"Standard name , nothing special\")\n",
    "if len(name) >= 10:\n",
    "    print (\"You have a big name\")\n"
   ]
  },
  {
   "cell_type": "code",
   "execution_count": 12,
   "metadata": {},
   "outputs": [
    {
     "name": "stdout",
     "output_type": "stream",
     "text": [
      "Number is odd\n"
     ]
    }
   ],
   "source": [
    "# if and else should be in same alignment\n",
    "num = int(input(\"Enter a number\"))\n",
    "if (num % 2 == 0):\n",
    "    print(\"Number is even\")\n",
    "else:\n",
    "    print(\"Number is odd\")"
   ]
  },
  {
   "cell_type": "code",
   "execution_count": null,
   "metadata": {},
   "outputs": [],
   "source": [
    "username = input(\"Enter username\")\n",
    "password = input(\"Enter password\")\n",
    "if username =='admin' and password =='admin':\n",
    "    print(\"Welcome user\")\n",
    "else:\n",
    "    print(\"You need to find yourself\")\n"
   ]
  },
  {
   "cell_type": "code",
   "execution_count": 13,
   "metadata": {},
   "outputs": [
    {
     "name": "stdout",
     "output_type": "stream",
     "text": [
      "Shabashhh!!!! you got A\n"
     ]
    }
   ],
   "source": [
    "# if-elif ladder \n",
    "marks = int(input(\"kitne number aye aapke => \"))\n",
    "if(marks > 85):\n",
    "    print(\"Shabashhh!!!! you got A\")\n",
    "elif(marks >=70):\n",
    "    print(\"Badiyaa, you got B Grade\")\n",
    "elif (marks >= 50):\n",
    "    print(\"Bach gye beta , C grade\")\n",
    "else:\n",
    "    print(\"Fail, Aur padhoo\")"
   ]
  },
  {
   "cell_type": "code",
   "execution_count": 17,
   "metadata": {},
   "outputs": [
    {
     "name": "stdout",
     "output_type": "stream",
     "text": [
      "password do not match\n"
     ]
    }
   ],
   "source": [
    "# nested conditions\n",
    "username = input(\"Enter your username\")\n",
    "password = input(\"Enter your password\")\n",
    "if username != ' ' and password != ' ':\n",
    "    if username ==\"admin\":\n",
    "        if password ==\"admin\":\n",
    "            print(\"Welcome user\")\n",
    "        else:\n",
    "            print(\"Password do not match\")\n",
    "    else:\n",
    "        print (\"Username does not exist\")\n",
    "else:\n",
    "    print(\"Credentials can't be blank\")"
   ]
  },
  {
   "cell_type": "code",
   "execution_count": 19,
   "metadata": {},
   "outputs": [
    {
     "name": "stdout",
     "output_type": "stream",
     "text": [
      "You should go and play outside\n"
     ]
    }
   ],
   "source": [
    "age = int(input('enter your age:'))\n",
    "match age:\n",
    "    case 1|2|3|4|5:\n",
    "        print(\"you are still very young\")\n",
    "    case 10:\n",
    "        print(\"You should go and play outside\")\n",
    "    case 20:\n",
    "        print(\"You are a teenager\")\n",
    "    case 30:\n",
    "        print(\"You are an adult , take responsibility\")\n",
    "    case _:\n",
    "        print(\"You are not worthy\")\n",
    "    "
   ]
  }
 ],
 "metadata": {
  "kernelspec": {
   "display_name": "base",
   "language": "python",
   "name": "python3"
  },
  "language_info": {
   "codemirror_mode": {
    "name": "ipython",
    "version": 3
   },
   "file_extension": ".py",
   "mimetype": "text/x-python",
   "name": "python",
   "nbconvert_exporter": "python",
   "pygments_lexer": "ipython3",
   "version": "3.12.3"
  }
 },
 "nbformat": 4,
 "nbformat_minor": 2
}
