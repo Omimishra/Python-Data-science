{
 "cells": [
  {
   "cell_type": "code",
   "execution_count": 1,
   "metadata": {},
   "outputs": [
    {
     "name": "stdout",
     "output_type": "stream",
     "text": [
      "12 <class 'int'>\n"
     ]
    }
   ],
   "source": [
    "x = 12\n",
    "print(x,type(x))"
   ]
  },
  {
   "cell_type": "markdown",
   "metadata": {},
   "source": [
    "OOP\n",
    "- class✔️\n",
    "- object✔️\n",
    "- inheritance✔️\n",
    "- polymorphism❌\n",
    "- encapsulation❌\n",
    "- abstraction❌"
   ]
  },
  {
   "cell_type": "markdown",
   "metadata": {},
   "source": [
    "class - blueprint for creating objects\n",
    "- properties/attributes/fields\n",
    "- methods/functions\n",
    "- constructor(special method)\n",
    "\n",
    "syntax\n",
    "\n",
    "class ClassName:\n",
    "    properties 1\n",
    "    properties 2\n",
    "    properties n\n",
    "    def method1():\n",
    "    statements\n",
    "    def method2():\n",
    "    statements\n",
    "    def methodn():\n",
    "    statements\n"
   ]
  },
  {
   "cell_type": "code",
   "execution_count": 3,
   "metadata": {},
   "outputs": [],
   "source": [
    "class Nothing:\n",
    "    pass"
   ]
  },
  {
   "cell_type": "code",
   "execution_count": 5,
   "metadata": {},
   "outputs": [
    {
     "name": "stdout",
     "output_type": "stream",
     "text": [
      "<class '__main__.Nothing'>\n"
     ]
    }
   ],
   "source": [
    "print(Nothing)"
   ]
  },
  {
   "cell_type": "code",
   "execution_count": 2,
   "metadata": {},
   "outputs": [],
   "source": [
    "class Book:\n",
    "    title = \"\"\n",
    "    author = \"\""
   ]
  },
  {
   "cell_type": "code",
   "execution_count": 4,
   "metadata": {},
   "outputs": [
    {
     "data": {
      "text/plain": [
       "['__class__',\n",
       " '__delattr__',\n",
       " '__dict__',\n",
       " '__dir__',\n",
       " '__doc__',\n",
       " '__eq__',\n",
       " '__format__',\n",
       " '__ge__',\n",
       " '__getattribute__',\n",
       " '__getstate__',\n",
       " '__gt__',\n",
       " '__hash__',\n",
       " '__init__',\n",
       " '__init_subclass__',\n",
       " '__le__',\n",
       " '__lt__',\n",
       " '__module__',\n",
       " '__ne__',\n",
       " '__new__',\n",
       " '__reduce__',\n",
       " '__reduce_ex__',\n",
       " '__repr__',\n",
       " '__setattr__',\n",
       " '__sizeof__',\n",
       " '__str__',\n",
       " '__subclasshook__',\n",
       " '__weakref__',\n",
       " 'author',\n",
       " 'title']"
      ]
     },
     "execution_count": 4,
     "metadata": {},
     "output_type": "execute_result"
    }
   ],
   "source": [
    "dir(Book) #attributes of a book"
   ]
  },
  {
   "cell_type": "code",
   "execution_count": 9,
   "metadata": {},
   "outputs": [
    {
     "name": "stdout",
     "output_type": "stream",
     "text": [
      "<__main__.Book object at 0x0000022CFF673AA0>\n",
      "Thousand Splendid Sons\n",
      "Khaled Hosseni\n",
      "<__main__.Book object at 0x0000022CFF6733B0>\n",
      "The predator\n",
      "Ryunx\n"
     ]
    }
   ],
   "source": [
    "#obj = class()\n",
    "b1 = Book()\n",
    "print(b1)\n",
    "b1.title = \"Thousand Splendid Sons\"\n",
    "b1.author = \"Khaled Hosseni\"\n",
    "print(b1.title)\n",
    "print(b1.author)\n",
    "\n",
    "b2 = Book()\n",
    "b2.title = \"The predator\"\n",
    "b2.author = \"Ryunx\"\n",
    "print(b2)\n",
    "print(b2.title)\n",
    "print(b2.author)"
   ]
  },
  {
   "cell_type": "code",
   "execution_count": 18,
   "metadata": {},
   "outputs": [
    {
     "name": "stdout",
     "output_type": "stream",
     "text": [
      "U all can refer to this notes..\n",
      "SAS DS\n",
      "4\n"
     ]
    }
   ],
   "source": [
    "class ChatMessage: #lengthy process\n",
    "    last_msg = \"\"\n",
    "    dp = \"\"\n",
    "    sender = \"\"\n",
    "    date = \"\"\n",
    "    notification =0\n",
    "    pinned = False\n",
    "    muted = False\n",
    "    has_status = False\n",
    "\n",
    "cm1 = ChatMessage()\n",
    "cm1.last_msg=\"U all can refer to this notes..\"\n",
    "cm1.sender = \"SAS DS\"\n",
    "cm1.notification = 4\n",
    "print(cm1.last_msg)\n",
    "print(cm1.sender)\n",
    "print(cm1.notification)\n",
    "    "
   ]
  },
  {
   "cell_type": "code",
   "execution_count": 20,
   "metadata": {},
   "outputs": [
    {
     "data": {
      "text/plain": [
       "['__class__',\n",
       " '__delattr__',\n",
       " '__dict__',\n",
       " '__dir__',\n",
       " '__doc__',\n",
       " '__eq__',\n",
       " '__format__',\n",
       " '__ge__',\n",
       " '__getattribute__',\n",
       " '__getstate__',\n",
       " '__gt__',\n",
       " '__hash__',\n",
       " '__init__',\n",
       " '__init_subclass__',\n",
       " '__le__',\n",
       " '__lt__',\n",
       " '__module__',\n",
       " '__ne__',\n",
       " '__new__',\n",
       " '__reduce__',\n",
       " '__reduce_ex__',\n",
       " '__repr__',\n",
       " '__setattr__',\n",
       " '__sizeof__',\n",
       " '__str__',\n",
       " '__subclasshook__',\n",
       " '__weakref__',\n",
       " 'date',\n",
       " 'dp',\n",
       " 'has_status',\n",
       " 'last_msg',\n",
       " 'muted',\n",
       " 'notification',\n",
       " 'pinned',\n",
       " 'sender']"
      ]
     },
     "execution_count": 20,
     "metadata": {},
     "output_type": "execute_result"
    }
   ],
   "source": [
    "class ChatMessage:\n",
    "    def __init__(self,s,msg,dp,date,n,p,m,hs): #constructor\n",
    "        \n",
    "        self.last_msg = msg\n",
    "        self.dp = dp\n",
    "        self.sender = s\n",
    "        self.date = date\n",
    "        self.notification = n\n",
    "        self.pinned = p\n",
    "        self.muted = m\n",
    "        self.has_status = hs\n",
    "\n",
    "cm1 = ChatMessage(\"Amazon Pay\",\"You have coupon\",\"amazon.jpg\",\n",
    "                  date=\"12-12-24\",n=0,p=False,m=False,hs=True)\n",
    "dir(cm1)\n",
    "# print(cm1)\n",
    "# print(cm1.last_msg)\n",
    "# print(cm1.sender)\n",
    "# print(cm1.notification)"
   ]
  },
  {
   "cell_type": "code",
   "execution_count": 25,
   "metadata": {},
   "outputs": [],
   "source": [
    "class Student:\n",
    "    def __init__(self, name, std, roll_no):\n",
    "        self.name = name\n",
    "        self.std= std\n",
    "        self.roll_no = roll_no\n",
    "    def display(self):\n",
    "        print(\"Student --->\")\n",
    "        print(\"Name: \",self.name)\n",
    "        print(\"Standard: \",self.std)\n",
    "        print(\"Roll no: \",self.roll_no)\n",
    "        print(\"_\"*20)"
   ]
  },
  {
   "cell_type": "code",
   "execution_count": 27,
   "metadata": {},
   "outputs": [
    {
     "name": "stdout",
     "output_type": "stream",
     "text": [
      "Student --->\n",
      "Name:  Ryan\n",
      "Standard:  10\n",
      "Roll no:  101\n",
      "____________________\n",
      "Student --->\n",
      "Name:  Zanders\n",
      "Standard:  12\n",
      "Roll no:  102\n",
      "____________________\n",
      "Student --->\n",
      "Name:  Maddison\n",
      "Standard:  12\n",
      "Roll no:  105\n",
      "____________________\n"
     ]
    }
   ],
   "source": [
    "s1 = Student(\"Ryan\", 10 , 101)\n",
    "s2 = Student(\"Zanders\", 12 , 102)\n",
    "s3 = Student(\"Maddison\", 12 , 105)\n",
    "s1.display()\n",
    "s2.display()\n",
    "s3.display()"
   ]
  },
  {
   "cell_type": "code",
   "execution_count": 28,
   "metadata": {},
   "outputs": [],
   "source": [
    "class Pet:# this method is used when we have to create some complex functions inside the class\n",
    "    def __init__(self,b,a,c,g) :\n",
    "        self.breed = b\n",
    "        self.age = a\n",
    "        self.color = c\n",
    "        self.gender = g\n",
    "\n",
    "    def display(self):\n",
    "        print(\"Pet --->\")\n",
    "        print(\"Breed: \",self.breed)\n",
    "        print(\"Age: \",self.age)\n",
    "        print(\"Color: \",self.color)\n",
    "        print(\"Gender: \",self.gender)\n",
    "        print(\"_\"*20)"
   ]
  },
  {
   "cell_type": "code",
   "execution_count": 29,
   "metadata": {},
   "outputs": [
    {
     "name": "stdout",
     "output_type": "stream",
     "text": [
      "Pet --->\n",
      "Breed:  Pitbull\n",
      "Age:  1\n",
      "Color:  Brown\n",
      "Gender:  Male\n",
      "____________________\n",
      "Pet --->\n",
      "Breed:  Golden Retriever\n",
      "Age:  2\n",
      "Color:  Golden\n",
      "Gender:  Female\n",
      "____________________\n"
     ]
    }
   ],
   "source": [
    "s1 = Pet(\"Pitbull\", 1 , \"Brown\", \"Male\")\n",
    "s2 = Pet(\"Golden Retriever\", 2 , \"Golden\", \"Female\")\n",
    "s1.display()\n",
    "s2.display()"
   ]
  },
  {
   "cell_type": "code",
   "execution_count": 31,
   "metadata": {},
   "outputs": [],
   "source": [
    "from dataclasses import dataclass\n",
    "# used just for storing and print data\n",
    "@dataclass\n",
    "class Pet:\n",
    "    pet_type:str\n",
    "    gender: str\n",
    "    color:str\n",
    "    age:int"
   ]
  },
  {
   "cell_type": "code",
   "execution_count": 33,
   "metadata": {},
   "outputs": [
    {
     "name": "stdout",
     "output_type": "stream",
     "text": [
      "Pet(pet_type='Cat', gender='Male', color='Black', age=2)\n",
      "Pet(pet_type='Parrot', gender='Female', color='Green', age=1)\n",
      "Pet(pet_type='Dog', gender='Female', color='White', age=1)\n"
     ]
    }
   ],
   "source": [
    "p1 = Pet(pet_type='Cat',gender='Male',color='Black',age=2)\n",
    "p2 = Pet(pet_type='Parrot',gender='Female',color='Green',age=1)\n",
    "p3 = Pet(pet_type='Dog',gender='Female',color='White',age=1)\n",
    "print(p1)\n",
    "print(p2)\n",
    "print(p3)"
   ]
  },
  {
   "cell_type": "code",
   "execution_count": 38,
   "metadata": {},
   "outputs": [
    {
     "name": "stdout",
     "output_type": "stream",
     "text": [
      "200\n",
      "50\n",
      "r1 is bigger\n"
     ]
    }
   ],
   "source": [
    "class Rectangle:\n",
    "    def __init__(self,l,w):\n",
    "        self.length = l \n",
    "        self.width = w\n",
    "    def area (self):\n",
    "        return self.length*self.width\n",
    "    def perimeter(self):\n",
    "        return 2*(self.length +self.width)\n",
    "    \n",
    "r1 = Rectangle(10,20)\n",
    "r2 = Rectangle(5,10)\n",
    "print(r1.area())    \n",
    "print(r2.area())\n",
    "if r1.area() > r2.area():\n",
    "    print(\"r1 is bigger\")\n",
    "else:\n",
    "    print(\"r2 is bigger\")    "
   ]
  },
  {
   "cell_type": "code",
   "execution_count": null,
   "metadata": {},
   "outputs": [],
   "source": []
  }
 ],
 "metadata": {
  "kernelspec": {
   "display_name": "base",
   "language": "python",
   "name": "python3"
  },
  "language_info": {
   "codemirror_mode": {
    "name": "ipython",
    "version": 3
   },
   "file_extension": ".py",
   "mimetype": "text/x-python",
   "name": "python",
   "nbconvert_exporter": "python",
   "pygments_lexer": "ipython3",
   "version": "3.12.3"
  }
 },
 "nbformat": 4,
 "nbformat_minor": 2
}
