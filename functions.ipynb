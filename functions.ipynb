{
 "cells": [
  {
   "cell_type": "markdown",
   "metadata": {},
   "source": [
    "# function syntax\n",
    "\n",
    "```python\n",
    "def func_name (param1,param2,..):\n",
    "    #code here\n",
    "    # ....\n",
    "    return result\n",
    "```\n",
    "\n",
    "```python\n",
    "# use a function/call a function\n",
    "result = func_name(arg1,arg2,..)\n",
    "```"
   ]
  },
  {
   "cell_type": "code",
   "execution_count": 26,
   "metadata": {},
   "outputs": [],
   "source": [
    "def si(p,r,t):\n",
    "    return p*r*t/100"
   ]
  },
  {
   "cell_type": "code",
   "execution_count": 27,
   "metadata": {},
   "outputs": [
    {
     "data": {
      "text/plain": [
       "1998.0"
      ]
     },
     "execution_count": 27,
     "metadata": {},
     "output_type": "execute_result"
    }
   ],
   "source": [
    "si(12000, 3.33, 5)"
   ]
  },
  {
   "cell_type": "code",
   "execution_count": 28,
   "metadata": {},
   "outputs": [],
   "source": [
    "def info(l,w):\n",
    "    area = l*w\n",
    "    perimeter = 2*(l+w)\n",
    "    return area,perimeter"
   ]
  },
  {
   "cell_type": "code",
   "execution_count": 29,
   "metadata": {},
   "outputs": [
    {
     "data": {
      "text/plain": [
       "(200, 60)"
      ]
     },
     "execution_count": 29,
     "metadata": {},
     "output_type": "execute_result"
    }
   ],
   "source": [
    "info(20,10)"
   ]
  },
  {
   "cell_type": "code",
   "execution_count": 30,
   "metadata": {},
   "outputs": [
    {
     "name": "stdout",
     "output_type": "stream",
     "text": [
      "Area = 200 perimeter = 60\n"
     ]
    }
   ],
   "source": [
    "a,p = info(20,10) #tuple unpacking\n",
    "print(f'Area = {a} perimeter = {p}')"
   ]
  },
  {
   "cell_type": "code",
   "execution_count": 31,
   "metadata": {},
   "outputs": [],
   "source": [
    "def acronym(name):\n",
    "    words = name.split()\n",
    "    result = ''\n",
    "    for word in name.split():\n",
    "        # print(word[0] , end=\".\")\n",
    "        result += word[0] #first letter\n",
    "    return result"
   ]
  },
  {
   "cell_type": "code",
   "execution_count": 32,
   "metadata": {},
   "outputs": [
    {
     "data": {
      "text/plain": [
       "'USA'"
      ]
     },
     "execution_count": 32,
     "metadata": {},
     "output_type": "execute_result"
    }
   ],
   "source": [
    "acronym('United State America')"
   ]
  },
  {
   "cell_type": "code",
   "execution_count": 33,
   "metadata": {},
   "outputs": [
    {
     "name": "stdout",
     "output_type": "stream",
     "text": [
      "['Sam Altman', 'Rory Carter', 'Ruby Jemimah Bell', 'Raphel Visconti']\n",
      "['SA', 'RC', 'RJB', 'RV']\n"
     ]
    }
   ],
   "source": [
    "names = ['Sam Altman','Rory Carter','Ruby Jemimah Bell','Raphel Visconti']\n",
    "acr = [acronym(name) for name in names]\n",
    "print (names)\n",
    "print (acr)"
   ]
  },
  {
   "cell_type": "markdown",
   "metadata": {},
   "source": [
    "- default parameters\n",
    "- variables arguments\n",
    "- lambda expression"
   ]
  },
  {
   "cell_type": "code",
   "execution_count": 34,
   "metadata": {},
   "outputs": [
    {
     "name": "stdout",
     "output_type": "stream",
     "text": [
      "125\n",
      "25\n"
     ]
    }
   ],
   "source": [
    "def power (number, exp=2): #default value of exp is 2 and defaluts are always stated in the last\n",
    "    return number**exp\n",
    "\n",
    "print (power (5,3))\n",
    "print(power(5))"
   ]
  },
  {
   "cell_type": "code",
   "execution_count": 39,
   "metadata": {},
   "outputs": [
    {
     "name": "stdout",
     "output_type": "stream",
     "text": [
      "0\n",
      "125\n",
      "17.89\n",
      "14\n"
     ]
    }
   ],
   "source": [
    "def summer (a=0 ,b=0 ,c=0 ,d=0 ):\n",
    "    return a+b+c+d\n",
    "print (summer())\n",
    "print(summer(125))\n",
    "print(summer(2.89,5,7,3))\n",
    "print(summer( a = 2 , c = 5, d = 7))\n"
   ]
  },
  {
   "cell_type": "code",
   "execution_count": 40,
   "metadata": {},
   "outputs": [
    {
     "data": {
      "text/plain": [
       "10"
      ]
     },
     "execution_count": 40,
     "metadata": {},
     "output_type": "execute_result"
    }
   ],
   "source": [
    "sum([1,2,3,4])"
   ]
  },
  {
   "cell_type": "code",
   "execution_count": 44,
   "metadata": {},
   "outputs": [
    {
     "name": "stdout",
     "output_type": "stream",
     "text": [
      "65\n",
      "1\n",
      "13.0\n",
      "5\n"
     ]
    }
   ],
   "source": [
    "def stats(*numbers,action = 'sum'): # * means numbers passed can be as many as you want\n",
    "    if action == 'sum':\n",
    "        return sum(numbers)\n",
    "    if action == 'mean':\n",
    "        return sum(numbers)/len(numbers)\n",
    "    if action == 'count':\n",
    "        return len(numbers)\n",
    "    if action == 'min':\n",
    "        return min(numbers)\n",
    "    if action == 'max':\n",
    "        return max(numbers)\n",
    "    \n",
    "print(stats(11,12,13,14,15)) # by default it will be sum\n",
    "print(stats(1,12,13,14,15,4,2,5,1,6,1,2,14,6, action='min'))\n",
    "print(stats(11,12,13,14,15, action='mean'))\n",
    "print(stats(11,12,13,14,15, action='count'))\n",
    "    "
   ]
  },
  {
   "cell_type": "code",
   "execution_count": 45,
   "metadata": {},
   "outputs": [],
   "source": [
    "# any function that is not returning anything returns None\n",
    "def greeting():\n",
    "    print('hello')\n",
    "    print('world')"
   ]
  },
  {
   "cell_type": "code",
   "execution_count": 46,
   "metadata": {},
   "outputs": [
    {
     "name": "stdout",
     "output_type": "stream",
     "text": [
      "hello\n",
      "world\n",
      "None\n"
     ]
    }
   ],
   "source": [
    "print(greeting())"
   ]
  },
  {
   "cell_type": "code",
   "execution_count": 48,
   "metadata": {},
   "outputs": [
    {
     "name": "stdout",
     "output_type": "stream",
     "text": [
      "[1, 4, 9, 16, 25]\n",
      "[1, 8, 27, 64, 125]\n"
     ]
    }
   ],
   "source": [
    "# higher order function\n",
    "def apply(func , data):\n",
    "    return [func(x) for x in data]\n",
    "\n",
    "def square (x):\n",
    "    return x**2\n",
    "\n",
    "def cube (x):\n",
    "    return x**3\n",
    "\n",
    "#implement a function that takes a list if numbers and a function \n",
    "ans = apply(square, [1,2,3,4,5])\n",
    "print(ans)\n",
    "ans = apply(cube, [1,2,3,4,5])\n",
    "print(ans)"
   ]
  },
  {
   "cell_type": "markdown",
   "metadata": {},
   "source": [
    "### lambda expression \n",
    "```\n",
    "f(x) = x**2 + 10\n",
    "g(x,y) = x*2 + y*2 -x+y\n",
    "```"
   ]
  },
  {
   "cell_type": "code",
   "execution_count": 49,
   "metadata": {},
   "outputs": [
    {
     "name": "stdout",
     "output_type": "stream",
     "text": [
      "<function <lambda> at 0x000001529CBA8680>\n",
      "19\n",
      "46\n",
      "110\n"
     ]
    }
   ],
   "source": [
    "f = lambda x: x**2 +10\n",
    "print(f)\n",
    "print(f(3))\n",
    "print(f(6))\n",
    "print(f(10))\n"
   ]
  },
  {
   "cell_type": "code",
   "execution_count": 51,
   "metadata": {},
   "outputs": [
    {
     "name": "stdout",
     "output_type": "stream",
     "text": [
      "14\n"
     ]
    }
   ],
   "source": [
    "g = lambda x , y : x*2 +y*2 - x+y\n",
    "print(g(2,4))"
   ]
  },
  {
   "cell_type": "markdown",
   "metadata": {},
   "source": [
    "- map and filter using lambda"
   ]
  },
  {
   "cell_type": "code",
   "execution_count": 3,
   "metadata": {},
   "outputs": [
    {
     "name": "stdout",
     "output_type": "stream",
     "text": [
      "[1, 8, 27, 64, 125]\n",
      "[1, 8, 27, 64, 125]\n",
      "[1, 8, 27, 64, 125]\n"
     ]
    }
   ],
   "source": [
    "x = [1,2,3,4,5]\n",
    "\n",
    "# style 1 \n",
    "x3 = []\n",
    "for i in x:\n",
    "    x3.append(i**3)\n",
    "print(x3)\n",
    "\n",
    "#style 2\n",
    "x3 =[i**3 for i in x]\n",
    "print(x3)\n",
    "\n",
    "#style 3 \n",
    "x3= list(map(lambda i : i**3,x))\n",
    "print(x3)"
   ]
  },
  {
   "cell_type": "code",
   "execution_count": 4,
   "metadata": {},
   "outputs": [
    {
     "name": "stdout",
     "output_type": "stream",
     "text": [
      "[1, 2, 3, 4, 5]\n"
     ]
    }
   ],
   "source": [
    "x= [1,2,'a','b',3,'2',4,5,'6']\n",
    "ans = list(filter(lambda i:isinstance(i,int),x))\n",
    "print(ans) #set(nums) or tuple(nums)"
   ]
  },
  {
   "cell_type": "code",
   "execution_count": null,
   "metadata": {},
   "outputs": [],
   "source": []
  }
 ],
 "metadata": {
  "kernelspec": {
   "display_name": "base",
   "language": "python",
   "name": "python3"
  },
  "language_info": {
   "codemirror_mode": {
    "name": "ipython",
    "version": 3
   },
   "file_extension": ".py",
   "mimetype": "text/x-python",
   "name": "python",
   "nbconvert_exporter": "python",
   "pygments_lexer": "ipython3",
   "version": "3.12.3"
  }
 },
 "nbformat": 4,
 "nbformat_minor": 2
}
