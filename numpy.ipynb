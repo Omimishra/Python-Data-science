{
 "cells": [
  {
   "cell_type": "code",
   "execution_count": null,
   "metadata": {},
   "outputs": [],
   "source": [
    "import numpy as np"
   ]
  },
  {
   "cell_type": "markdown",
   "metadata": {},
   "source": [
    "- create\n",
    "- basic operation\n",
    "- math operation\n",
    "- indexing and slicing\n",
    "- boolean filter"
   ]
  },
  {
   "cell_type": "code",
   "execution_count": null,
   "metadata": {},
   "outputs": [],
   "source": [
    "x = np.array([1,2,3,4,5])\n",
    "print(x) #it has turned into a array\n",
    "print(x.shape)"
   ]
  },
  {
   "cell_type": "code",
   "execution_count": null,
   "metadata": {},
   "outputs": [],
   "source": [
    "a=np.array([[1,2,3],[4,5,6]])\n",
    "print(a)\n",
    "print(a.shape)"
   ]
  },
  {
   "cell_type": "code",
   "execution_count": null,
   "metadata": {},
   "outputs": [],
   "source": [
    "b = np.array([[1,2,3],[4,5,6],[7,8,9]])\n",
    "print(b)\n"
   ]
  },
  {
   "cell_type": "code",
   "execution_count": null,
   "metadata": {},
   "outputs": [],
   "source": [
    "z = [0,1,2,3,4,5,6,7,8,9]\n",
    "nz = np.array([z]*10)\n",
    "print(nz)\n",
    "print(nz.shape)"
   ]
  },
  {
   "cell_type": "markdown",
   "metadata": {},
   "source": [
    "- random\n",
    "- arange\n",
    "- linspace"
   ]
  },
  {
   "cell_type": "code",
   "execution_count": null,
   "metadata": {},
   "outputs": [],
   "source": [
    "np.random.rand(3,3)"
   ]
  },
  {
   "cell_type": "code",
   "execution_count": null,
   "metadata": {},
   "outputs": [],
   "source": [
    "np.random.randint(-5,6,(5,5)) #5,5 is the shape"
   ]
  },
  {
   "cell_type": "code",
   "execution_count": null,
   "metadata": {},
   "outputs": [],
   "source": [
    " # start,stop,step ..gives a array of range\n",
    "np.arange(0,50,.5)"
   ]
  },
  {
   "cell_type": "code",
   "execution_count": null,
   "metadata": {},
   "outputs": [],
   "source": [
    "#start , stop, number_of_item\n",
    "np.linspace(0,50,50)"
   ]
  },
  {
   "cell_type": "markdown",
   "metadata": {},
   "source": [
    "array attributes\n",
    "- shape\n",
    "- dtype\n",
    "- ndim\n",
    "- size\n",
    "\n",
    "basic operation\n",
    "- sum\n",
    "- mean\n",
    "- min\n",
    "- max\n",
    "- std\n",
    "- reshape\n",
    "- transpose\n",
    "- flatten"
   ]
  },
  {
   "cell_type": "code",
   "execution_count": null,
   "metadata": {},
   "outputs": [],
   "source": [
    "x.dtype"
   ]
  },
  {
   "cell_type": "code",
   "execution_count": null,
   "metadata": {},
   "outputs": [],
   "source": [
    "x =np.random.rand(3,3)\n",
    "x.dtype"
   ]
  },
  {
   "cell_type": "code",
   "execution_count": null,
   "metadata": {},
   "outputs": [],
   "source": [
    "x.ndim"
   ]
  },
  {
   "cell_type": "code",
   "execution_count": null,
   "metadata": {},
   "outputs": [],
   "source": [
    "z = np.random.randint(1,5,(3,3,3))\n",
    "z.ndim # dimension of array"
   ]
  },
  {
   "cell_type": "code",
   "execution_count": null,
   "metadata": {},
   "outputs": [],
   "source": [
    "z.size # total elements in the array"
   ]
  },
  {
   "cell_type": "code",
   "execution_count": null,
   "metadata": {},
   "outputs": [],
   "source": [
    "z.sum()"
   ]
  },
  {
   "cell_type": "code",
   "execution_count": null,
   "metadata": {},
   "outputs": [],
   "source": [
    "a = np.random.rand(2,3)\n",
    "print(a.sum())\n",
    "print(a.sum(axis=0)) #column wise sum\n",
    "print(a.sum(axis=1)) #row wise sum\n",
    "\n",
    "print(a.mean())\n",
    "print(a.min())\n",
    "print(a.max())\n",
    "print(a.std())\n",
    "print(a.var())\n",
    "#all methods can be used with axis"
   ]
  },
  {
   "cell_type": "code",
   "execution_count": null,
   "metadata": {},
   "outputs": [],
   "source": [
    "z = np.random.randint(11,99,(5,5))\n",
    "print(z)\n",
    "print('transpose')\n",
    "print(z.transpose())\n",
    "# or print(z.T)\n",
    "print('flatten')\n",
    "print(z.flatten())"
   ]
  },
  {
   "cell_type": "code",
   "execution_count": null,
   "metadata": {},
   "outputs": [],
   "source": [
    "a = np.random.randint(1,10,(4,5))\n",
    "print(a)\n",
    "print(a.reshape(20))\n",
    "print(a.reshape(5,4))\n",
    "print(a.reshape(2,10))"
   ]
  },
  {
   "cell_type": "code",
   "execution_count": null,
   "metadata": {},
   "outputs": [],
   "source": [
    "a = np.array([[1,2],[3,4]])\n",
    "b = np.array([[1,2],[3,4]])\n",
    "print(a)\n",
    "print(b)\n"
   ]
  },
  {
   "cell_type": "code",
   "execution_count": null,
   "metadata": {},
   "outputs": [],
   "source": [
    "print('addition')\n",
    "print(a+b)\n",
    "print('substraction')\n",
    "print(a-b)\n",
    "print(\"element wise multiplication\")\n",
    "print(a*b) #element wise multiplication\n",
    "print(\"matrix multiplication\")\n",
    "print(a @ b) #matrix multiplication\n",
    "print(\"element division\")\n",
    "print(a / b) \n",
    "print(\"matrix multiplication\")\n",
    "print(a.dot(b)) # matrix multiplication\n"
   ]
  },
  {
   "cell_type": "code",
   "execution_count": null,
   "metadata": {},
   "outputs": [],
   "source": [
    "# when using matrix and scalar\n",
    "print(a - 10) #broadcasting\n",
    "print(a + 10)\n",
    "print(a * 10)\n",
    "print(a / 10)"
   ]
  },
  {
   "cell_type": "code",
   "execution_count": 46,
   "metadata": {},
   "outputs": [
    {
     "name": "stdout",
     "output_type": "stream",
     "text": [
      "1\n",
      "4\n"
     ]
    }
   ],
   "source": [
    "# indexing\n",
    "print(a[0,0])\n",
    "print(a[-1,-1])#last element"
   ]
  },
  {
   "cell_type": "code",
   "execution_count": 45,
   "metadata": {},
   "outputs": [
    {
     "name": "stdout",
     "output_type": "stream",
     "text": [
      "[[1 2 6 8 3]\n",
      " [6 8 9 5 6]\n",
      " [1 9 8 9 2]\n",
      " [9 2 3 5 1]\n",
      " [3 6 1 5 2]]\n"
     ]
    }
   ],
   "source": [
    "#slicing\n",
    "x = np.random.randint(1,10,(5,5))\n",
    "print(x)"
   ]
  },
  {
   "cell_type": "markdown",
   "metadata": {},
   "source": [
    "#### syntax of slicing\n",
    "arr[rowstart :rowstop :rowstep , columnStart :columnStop :columnStep]\n"
   ]
  },
  {
   "cell_type": "code",
   "execution_count": 47,
   "metadata": {},
   "outputs": [
    {
     "name": "stdout",
     "output_type": "stream",
     "text": [
      "[1 6 1 9 3]\n",
      "[3 6 2 1 2]\n",
      "[[1 2 6]\n",
      " [6 8 9]\n",
      " [1 9 8]\n",
      " [9 2 3]\n",
      " [3 6 1]]\n"
     ]
    }
   ],
   "source": [
    "print(x[:,0]) #first column\n",
    "print(x[:,-1]) #last column\n",
    "print(x[:,:3]) #first 3 column"
   ]
  },
  {
   "cell_type": "code",
   "execution_count": 51,
   "metadata": {},
   "outputs": [
    {
     "name": "stdout",
     "output_type": "stream",
     "text": [
      "[[8 9 5]\n",
      " [9 8 9]\n",
      " [2 3 5]]\n"
     ]
    }
   ],
   "source": [
    "print(x[1:4,1:4])"
   ]
  },
  {
   "cell_type": "code",
   "execution_count": null,
   "metadata": {},
   "outputs": [],
   "source": []
  }
 ],
 "metadata": {
  "kernelspec": {
   "display_name": "base",
   "language": "python",
   "name": "python3"
  },
  "language_info": {
   "codemirror_mode": {
    "name": "ipython",
    "version": 3
   },
   "file_extension": ".py",
   "mimetype": "text/x-python",
   "name": "python",
   "nbconvert_exporter": "python",
   "pygments_lexer": "ipython3",
   "version": "3.12.3"
  }
 },
 "nbformat": 4,
 "nbformat_minor": 2
}
