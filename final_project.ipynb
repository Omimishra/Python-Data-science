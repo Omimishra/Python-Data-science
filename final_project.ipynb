{
 "cells": [
  {
   "cell_type": "code",
   "execution_count": null,
   "metadata": {},
   "outputs": [],
   "source": [
    "from dputils.scrape import Scraper,Tag"
   ]
  },
  {
   "cell_type": "code",
   "execution_count": null,
   "metadata": {},
   "outputs": [],
   "source": [
    "year=2024\n",
    "url = f'https://www.espn.in/cricket/scores/series/8048/season/{year}/indian-premier-league'\n",
    "sc1 = Scraper(url)"
   ]
  },
  {
   "cell_type": "code",
   "execution_count": null,
   "metadata": {},
   "outputs": [],
   "source": [
    "def get_data_of_home_winner():\n",
    "   t = Tag(cls='scoreCollection cricket')\n",
    "   i = Tag(cls='cscore cscore--final cricket cscore--home-winner cscore--watchNotes' )\n",
    "   result = sc1.get_repeating_date_from_page(\n",
    "   target=t,\n",
    "               items=i,\n",
    "               details=Tag(cls='cscore_info-overview'),\n",
    "               home_team = Tag('li', cls='cscore_item cscore_item--home', output='object'),\n",
    "               away_team = Tag('li', cls='cscore_item cscore_item--away', output='object'),\n",
    "               result=Tag('span',cls='cscore_notes_game'),\n",
    "            )\n",
    "   final_result  = []\n",
    "   for item in result:\n",
    "      home = item['home_team']\n",
    "      home_score = home.find('div', attrs={'class':'cscore_team icon-font-after'}).find('div', attrs={'class':'cscore_score'}).text\n",
    "      away = item['away_team']\n",
    "      away_score = away.find('div', attrs={'class':'cscore_team icon-font-after'}).find('div', attrs={'class':'cscore_score'}).text\n",
    "      home_team = item['home_team']\n",
    "      home_team = home.find('div', attrs={'class':'cscore_team icon-font-after'}).find('span', attrs={'class':'cscore_name cscore_name--long'}).text\n",
    "      away_team = item['away_team']\n",
    "      away_team = away.find('div', attrs={'class':'cscore_team icon-font-after'}).find('span', attrs={'class':'cscore_name cscore_name--long'}).text\n",
    "      home_team_abbrev = home.find('div', attrs={'class':'cscore_team icon-font-after'}).find('span', attrs={'class':'cscore_name cscore_name--abbrev'}).text\n",
    "      away_team_abbrev = away.find('div', attrs={'class':'cscore_team icon-font-after'}).find('span', attrs={'class':'cscore_name cscore_name--abbrev'}).text\n",
    "      item['away_score'] =  away_score\n",
    "      item['home_score'] =  home_score\n",
    "      item['home_team'] = home_team\n",
    "      item['away_team'] = away_team\n",
    "      item['home_team_abbrev'] = home_team_abbrev\n",
    "      item['away_team_abbrev'] = away_team_abbrev\n",
    "\n",
    "      final_result.append(\n",
    "                     item\n",
    "      )\n",
    "   return final_result"
   ]
  },
  {
   "cell_type": "code",
   "execution_count": null,
   "metadata": {},
   "outputs": [],
   "source": [
    "def get_data_of_away_winner():\n",
    "      t = Tag(cls='scoreCollection cricket')\n",
    "      i = Tag(cls='cscore cscore--final cricket cscore--away-winner cscore--watchNotes' )\n",
    "      result = sc1.get_repeating_date_from_page(\n",
    "            target=t,\n",
    "            items=i,\n",
    "            details=Tag(cls='cscore_info-overview'),\n",
    "            home_team = Tag('li', cls='cscore_item cscore_item--home', output='object'),\n",
    "            away_team = Tag('li', cls='cscore_item cscore_item--away', output='object'),\n",
    "            result=Tag('span',cls='cscore_notes_game'),\n",
    "            )\n",
    "      final_result  = []\n",
    "      for item in result:\n",
    "            home = item['home_team']\n",
    "            home_score = home.find('div', attrs={'class':'cscore_team icon-font-after'}).find('div', attrs={'class':'cscore_score'}).text\n",
    "            away = item['away_team']\n",
    "            away_score = away.find('div', attrs={'class':'cscore_team icon-font-after'}).find('div', attrs={'class':'cscore_score'}).text\n",
    "            home_team = item['home_team']\n",
    "            home_team = home.find('div', attrs={'class':'cscore_team icon-font-after'}).find('span', attrs={'class':'cscore_name cscore_name--long'}).text\n",
    "            away_team = item['away_team']\n",
    "            away_team = away.find('div', attrs={'class':'cscore_team icon-font-after'}).find('span', attrs={'class':'cscore_name cscore_name--long'}).text\n",
    "            home_team_abbrev = home.find('div', attrs={'class':'cscore_team icon-font-after'}).find('span', attrs={'class':'cscore_name cscore_name--abbrev'}).text\n",
    "            away_team_abbrev = away.find('div', attrs={'class':'cscore_team icon-font-after'}).find('span', attrs={'class':'cscore_name cscore_name--abbrev'}).text\n",
    "            item['away_score'] =  away_score\n",
    "            item['home_score'] =  home_score\n",
    "            item['home_team'] = home_team\n",
    "            item['away_team'] = away_team\n",
    "            item['home_team_abbrev'] = home_team_abbrev\n",
    "            item['away_team_abbrev'] = away_team_abbrev\n",
    "            final_result.append(\n",
    "                  item\n",
    "      )\n",
    "      return final_result"
   ]
  },
  {
   "cell_type": "code",
   "execution_count": null,
   "metadata": {},
   "outputs": [],
   "source": [
    "def get_data_of_no_winner():\n",
    "   t = Tag(cls='scoreCollection cricket')\n",
    "   i = Tag(cls='cscore cscore--final cricket cscore--watchNotes' )\n",
    "   result = sc1.get_repeating_date_from_page(\n",
    "         target=t,\n",
    "         items=i,\n",
    "         details=Tag(cls='cscore_info-overview'),\n",
    "         home_team = Tag('li', cls='cscore_item cscore_item--home', output='object'),\n",
    "         away_team = Tag('li', cls='cscore_item cscore_item--away', output='object'),\n",
    "         result=Tag('span',cls='cscore_notes_game'),\n",
    "      )\n",
    "   final_result  = []\n",
    "   for item in result:\n",
    "      home = item['home_team']\n",
    "      # home_score = home.find('div', attrs={'class':'cscore_team icon-font-after'}).find('div', attrs={'class':'cscore_score'}).text\n",
    "      away = item['away_team']\n",
    "      # away_score = away.find('div', attrs={'class':'cscore_team icon-font-after'}).find('div', attrs={'class':'cscore_score'}).text\n",
    "      home_team = item['home_team']\n",
    "      home_team = home.find('div', attrs={'class':'cscore_team icon-font-after'}).find('span', attrs={'class':'cscore_name cscore_name--long'}).text\n",
    "      away_team = item['away_team']\n",
    "      away_team = away.find('div', attrs={'class':'cscore_team icon-font-after'}).find('span', attrs={'class':'cscore_name cscore_name--long'}).text\n",
    "      home_team_abbrev = home.find('div', attrs={'class':'cscore_team icon-font-after'}).find('span', attrs={'class':'cscore_name cscore_name--abbrev'}).text\n",
    "      away_team_abbrev = away.find('div', attrs={'class':'cscore_team icon-font-after'}).find('span', attrs={'class':'cscore_name cscore_name--abbrev'}).text\n",
    "      item['away_score'] =  None\n",
    "      item['home_score'] =  None\n",
    "      item['home_team'] = home_team\n",
    "      item['away_team'] = away_team\n",
    "      item['home_team_abbrev'] = home_team_abbrev\n",
    "      item['away_team_abbrev'] = away_team_abbrev\n",
    "      final_result.append(\n",
    "         item\n",
    "      )\n",
    "   return final_result"
   ]
  },
  {
   "cell_type": "code",
   "execution_count": null,
   "metadata": {},
   "outputs": [],
   "source": [
    "away_winner = get_data_of_away_winner()\n",
    "print(away_winner)"
   ]
  },
  {
   "cell_type": "code",
   "execution_count": null,
   "metadata": {},
   "outputs": [],
   "source": [
    "no_winner = get_data_of_no_winner()\n",
    "print(no_winner)"
   ]
  },
  {
   "cell_type": "code",
   "execution_count": null,
   "metadata": {},
   "outputs": [],
   "source": [
    "home_winner = get_data_of_home_winner()\n",
    "away_winner = get_data_of_away_winner()\n",
    "no_winner = get_data_of_no_winner()\n",
    "data = home_winner\n",
    "data.extend(away_winner)\n",
    "data.extend(no_winner)\n",
    "data"
   ]
  },
  {
   "cell_type": "code",
   "execution_count": null,
   "metadata": {},
   "outputs": [],
   "source": [
    "import pandas as pd\n",
    "df = pd.DataFrame(data)\n",
    "df"
   ]
  },
  {
   "cell_type": "code",
   "execution_count": null,
   "metadata": {},
   "outputs": [],
   "source": [
    "pd.set_option('display.max_columns',None)"
   ]
  },
  {
   "cell_type": "code",
   "execution_count": null,
   "metadata": {},
   "outputs": [],
   "source": [
    "x= df['details'].str.split(',',expand=True)\n",
    "x.columns=['match no.'] + ['Venue'] + ['date']\n",
    "\n",
    "v=x['Venue'].tolist()\n",
    "num = [i.replace('at', '') if i else None for i in v]\n",
    "x['Venue']= num\n",
    "df['match no.'] = x['match no.']\n",
    "df['Venue'] = x['Venue']\n",
    "df['date'] = x['date']\n",
    "df"
   ]
  },
  {
   "cell_type": "code",
   "execution_count": null,
   "metadata": {},
   "outputs": [],
   "source": [
    "#spliting result column\n",
    "x= df['result'].str.split('(',expand=True)\n",
    "# Renaming the first column as 'result_outcome'\n",
    "x.columns = ['result_outcome']+['balls_remaining']\n",
    "x"
   ]
  },
  {
   "cell_type": "code",
   "execution_count": null,
   "metadata": {},
   "outputs": [],
   "source": [
    "#Removing unecessary words from balls remaining col\n",
    "v=x['balls_remaining'].tolist()\n",
    "num = [i.replace('b rem)', '').strip() if i else None for i in v]\n",
    "x['balls_remaining']= num\n",
    "#taking out which team won\n",
    "w=x['result_outcome']\n",
    "for i in w :\n",
    "    idx=i.find('by')\n",
    "    s=i[idx+2:]#extracting substring of win_margin\n",
    "    # sn=i[:idx-4] #extracting substring of winning team\n",
    "x"
   ]
  },
  {
   "cell_type": "code",
   "execution_count": null,
   "metadata": {},
   "outputs": [],
   "source": [
    "cols_to_drop = ['details','result']\n",
    "df = df.drop(columns=cols_to_drop)"
   ]
  },
  {
   "cell_type": "code",
   "execution_count": null,
   "metadata": {},
   "outputs": [],
   "source": [
    "y= df['away_score'].str.split('(',expand=True)\n",
    "y.columns=['away_score_runs'] + ['away_score_details']\n",
    "z= df['home_score'].str.split('(',expand=True)\n",
    "z.columns=['home_score_runs'] + ['home_score_details']"
   ]
  },
  {
   "cell_type": "code",
   "execution_count": null,
   "metadata": {},
   "outputs": [],
   "source": [
    "import numpy as np"
   ]
  },
  {
   "cell_type": "code",
   "execution_count": null,
   "metadata": {},
   "outputs": [],
   "source": [
    "df['result_outcome']= x['result_outcome']\n",
    "df['balls_remaining'] = x['balls_remaining']\n",
    "df['away_score_runs'] = y['away_score_runs']\n",
    "df['away_score_details'] = y['away_score_details']\n",
    "df['home_score_runs'] = z['home_score_runs']\n",
    "df['home_score_details'] = z['home_score_details']\n",
    "\n",
    "df = df[['match no.','date','Venue', 'home_team', 'away_team','home_team_abbrev','away_team_abbrev', 'result_outcome', 'balls_remaining', 'away_score','away_score_runs', 'away_score_details','home_score', 'home_score_runs', 'home_score_details']]\n",
    "\n",
    "\n",
    "df['balls_remaining'] = df['balls_remaining'].fillna(0)\n",
    "df['away_score_details'] = df['away_score_details'].fillna(0)\n",
    "df['home_score_details'] = df['home_score_details'].fillna(0)\n",
    "df"
   ]
  },
  {
   "cell_type": "code",
   "execution_count": null,
   "metadata": {},
   "outputs": [],
   "source": [
    "def clean_match_no(match_no):\n",
    "    # Convert to lowercase and strip leading/trailing spaces\n",
    "    match_no = match_no.lower().strip()\n",
    "    \n",
    "    # Remove the word \"match\" and extract the number\n",
    "    match_no = match_no.replace(\"match\", \"\").strip()\n",
    "    return match_no\n",
    "\n",
    "# Apply the cleaning function to the match_no column\n",
    "df['cleaned_match_no'] = df['match no.'].apply(clean_match_no)\n",
    "\n",
    "# Display the cleaned column\n",
    "df[['match no.', 'cleaned_match_no']]"
   ]
  },
  {
   "cell_type": "code",
   "execution_count": null,
   "metadata": {},
   "outputs": [],
   "source": [
    "\n",
    "# Function to extract the target score from score details\n",
    "def extract_target(details):\n",
    "    if details == 0:\n",
    "        return 0\n",
    "    else:\n",
    "        parts = details.split(',')\n",
    "        target_str=0\n",
    "        if len(parts) > 1:\n",
    "            # Extract the target part\n",
    "            target_part = parts[1].replace(\")\", \"\").strip()\n",
    "            # Ensure that the target_part has exactly two parts: \"target\" and the number\n",
    "            target_str = target_part.split(' ')[1]  # Take the number after 'target'\n",
    "    return target_str\n",
    "\n",
    "# Apply the function to both columns and create new target columns\n",
    "df['home_target'] = df['home_score_details'].apply(extract_target)\n",
    "df['away_target'] = df['away_score_details'].apply(extract_target)\n",
    "\n",
    "# Display the cleaned columns\n",
    "print(df[['home_score_details', 'home_target', 'away_score_details', 'away_target']].head())\n"
   ]
  },
  {
   "cell_type": "code",
   "execution_count": null,
   "metadata": {},
   "outputs": [],
   "source": [
    "cols_to_drop = ['match no.','away_score','home_score']\n",
    "df = df.drop(columns=cols_to_drop)"
   ]
  },
  {
   "cell_type": "code",
   "execution_count": null,
   "metadata": {},
   "outputs": [],
   "source": [
    "cols_to_drop = ['away_score_details','home_score_details']\n",
    "df = df.drop(columns=cols_to_drop)"
   ]
  },
  {
   "cell_type": "code",
   "execution_count": null,
   "metadata": {},
   "outputs": [],
   "source": [
    "df = df.rename(\n",
    "    columns={\n",
    "        'cleaned_match_no':'match_no'\n",
    "    }\n",
    ")\n",
    "df"
   ]
  },
  {
   "cell_type": "code",
   "execution_count": null,
   "metadata": {},
   "outputs": [],
   "source": [
    "df = df[['match_no','date','Venue', 'home_team', 'away_team','home_team_abbrev','away_team_abbrev', 'home_score_runs','away_score_runs','home_target','away_target','result_outcome','balls_remaining']]"
   ]
  },
  {
   "cell_type": "code",
   "execution_count": null,
   "metadata": {},
   "outputs": [],
   "source": [
    "df"
   ]
  },
  {
   "cell_type": "code",
   "execution_count": null,
   "metadata": {},
   "outputs": [],
   "source": [
    "def extract_winning_margin(result_outcome):\n",
    "    if 'won by' in result_outcome:\n",
    "        parts = result_outcome.split('by')\n",
    "        margin = int(parts[1].strip().split()[0])\n",
    "        return margin\n",
    "    else:\n",
    "        return 0\n",
    "    \n",
    "def extract_winning_type(result_outcome):\n",
    "    if 'runs' in result_outcome:\n",
    "        return 'Runs'\n",
    "    elif 'wkts' in result_outcome:\n",
    "        return 'Wickets'\n",
    "    else:\n",
    "        return None\n",
    "df['winning_margin'] = df['result_outcome'].apply(extract_winning_margin)\n",
    "df['winning_type'] = df['result_outcome'].apply(extract_winning_type)\n",
    "print(df[['result_outcome', 'winning_margin','winning_type']].head())"
   ]
  },
  {
   "cell_type": "code",
   "execution_count": null,
   "metadata": {},
   "outputs": [],
   "source": [
    "def extract_match_type(Venue):\n",
    "    if '(D)'in Venue:\n",
    "        return 'Day'\n",
    "    elif '(N)' in Venue:\n",
    "        return 'Night'\n",
    "    else:\n",
    "        return 'Day/Night'\n",
    "df['match_type'] = df['Venue'].apply(extract_match_type)\n",
    "print(df[['Venue', 'match_type']].head())"
   ]
  },
  {
   "cell_type": "code",
   "execution_count": null,
   "metadata": {},
   "outputs": [],
   "source": [
    "def home_win(result_outcome,home_team):\n",
    "    if f'{home_team} won' in result_outcome:\n",
    "        return True\n",
    "    elif 'won by' in result_outcome:\n",
    "        return False\n",
    "    else:\n",
    "        return None\n",
    "\n",
    "df['home_win'] = df.apply(lambda row: home_win(row['result_outcome'], row['home_team_abbrev']), axis=1)\n",
    "print(df[['home_team_abbrev', 'result_outcome', 'home_win']].tail())"
   ]
  },
  {
   "cell_type": "code",
   "execution_count": null,
   "metadata": {},
   "outputs": [],
   "source": [
    "def away_win(result_outcome,away_team):\n",
    "    if f'{away_team} won' in result_outcome:\n",
    "        return True\n",
    "    elif 'won by' in result_outcome:\n",
    "        return False\n",
    "    else:\n",
    "        return None\n",
    "\n",
    "df['away_win'] = df.apply(lambda row: away_win(row['result_outcome'], row['away_team_abbrev']), axis=1)\n",
    "print(df[['away_team_abbrev', 'result_outcome', 'away_win']].tail())"
   ]
  },
  {
   "cell_type": "code",
   "execution_count": null,
   "metadata": {},
   "outputs": [],
   "source": [
    "def extract_venue(venue):\n",
    "    parts = venue.split(')')\n",
    "    return parts[1].strip()\n",
    "\n",
    "# Apply the function to both columns and create new target columns\n",
    "df['cleaned_venue'] = df['Venue'].apply(extract_venue)\n",
    "print(df[['Venue','cleaned_venue']]).head()"
   ]
  },
  {
   "cell_type": "code",
   "execution_count": null,
   "metadata": {},
   "outputs": [],
   "source": [
    "df=df[['date','match_no','match_type','Venue','home_team','away_team','home_team_abbrev','away_team_abbrev', 'home_score_runs','away_score_runs','home_target','away_target','result_outcome','balls_remaining','winning_margin','winning_type','home_win','away_win']]"
   ]
  },
  {
   "cell_type": "code",
   "execution_count": null,
   "metadata": {},
   "outputs": [],
   "source": []
  }
 ],
 "metadata": {
  "kernelspec": {
   "display_name": "base",
   "language": "python",
   "name": "python3"
  },
  "language_info": {
   "codemirror_mode": {
    "name": "ipython",
    "version": 3
   },
   "file_extension": ".py",
   "mimetype": "text/x-python",
   "name": "python",
   "nbconvert_exporter": "python",
   "pygments_lexer": "ipython3",
   "version": "3.12.3"
  }
 },
 "nbformat": 4,
 "nbformat_minor": 2
}
