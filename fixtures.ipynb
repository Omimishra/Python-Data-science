{
 "cells": [
  {
   "cell_type": "code",
   "execution_count": 140,
   "metadata": {},
   "outputs": [],
   "source": [
    "from dputils.scrape import Scraper,Tag"
   ]
  },
  {
   "cell_type": "code",
   "execution_count": 141,
   "metadata": {},
   "outputs": [],
   "source": [
    "\n",
    "url = f'https://www.espn.in/cricket/scores/series/8048/season/2024/indian-premier-league'\n",
    "sc1 = Scraper(url)"
   ]
  },
  {
   "cell_type": "code",
   "execution_count": 142,
   "metadata": {},
   "outputs": [],
   "source": [
    "def get_data_of_home_winner():\n",
    "   t = Tag(cls='scoreCollection cricket')\n",
    "   i = Tag(cls='cscore cscore--final cricket cscore--home-winner cscore--watchNotes' )\n",
    "   result = sc1.get_repeating_date_from_page(\n",
    "   target=t,\n",
    "               items=i,\n",
    "               details=Tag(cls='cscore_info-overview'),\n",
    "               home_team = Tag('li', cls='cscore_item cscore_item--home', output='object'),\n",
    "               away_team = Tag('li', cls='cscore_item cscore_item--away', output='object'),\n",
    "               result=Tag('span',cls='cscore_notes_game'),\n",
    "            )\n",
    "   final_result  = []\n",
    "   for item in result:\n",
    "      home = item['home_team']\n",
    "      home_score = home.find('div', attrs={'class':'cscore_team icon-font-after'}).find('div', attrs={'class':'cscore_score'}).text\n",
    "      away = item['away_team']\n",
    "      away_score = away.find('div', attrs={'class':'cscore_team icon-font-after'}).find('div', attrs={'class':'cscore_score'}).text\n",
    "      home_team = item['home_team']\n",
    "      home_team = home.find('div', attrs={'class':'cscore_team icon-font-after'}).find('span', attrs={'class':'cscore_name cscore_name--long'}).text\n",
    "      away_team = item['away_team']\n",
    "      away_team = away.find('div', attrs={'class':'cscore_team icon-font-after'}).find('span', attrs={'class':'cscore_name cscore_name--long'}).text\n",
    "      home_team_abbrev = home.find('div', attrs={'class':'cscore_team icon-font-after'}).find('span', attrs={'class':'cscore_name cscore_name--abbrev'}).text\n",
    "      away_team_abbrev = away.find('div', attrs={'class':'cscore_team icon-font-after'}).find('span', attrs={'class':'cscore_name cscore_name--abbrev'}).text\n",
    "      item['away_score'] =  away_score\n",
    "      item['home_score'] =  home_score\n",
    "      item['home_team'] = home_team\n",
    "      item['away_team'] = away_team\n",
    "      item['home_team_abbrev'] = home_team_abbrev\n",
    "      item['away_team_abbrev'] = away_team_abbrev\n",
    "\n",
    "      final_result.append(\n",
    "                     item\n",
    "      )\n",
    "   return final_result"
   ]
  },
  {
   "cell_type": "code",
   "execution_count": 143,
   "metadata": {},
   "outputs": [],
   "source": [
    "def get_data_of_away_winner():\n",
    "      t = Tag(cls='scoreCollection cricket')\n",
    "      i = Tag(cls='cscore cscore--final cricket cscore--away-winner cscore--watchNotes' )\n",
    "      result = sc1.get_repeating_date_from_page(\n",
    "            target=t,\n",
    "            items=i,\n",
    "            details=Tag(cls='cscore_info-overview'),\n",
    "            home_team = Tag('li', cls='cscore_item cscore_item--home', output='object'),\n",
    "            away_team = Tag('li', cls='cscore_item cscore_item--away', output='object'),\n",
    "            result=Tag('span',cls='cscore_notes_game'),\n",
    "            )\n",
    "      final_result  = []\n",
    "      for item in result:\n",
    "            home = item['home_team']\n",
    "            home_score = home.find('div', attrs={'class':'cscore_team icon-font-after'}).find('div', attrs={'class':'cscore_score'}).text\n",
    "            away = item['away_team']\n",
    "            away_score = away.find('div', attrs={'class':'cscore_team icon-font-after'}).find('div', attrs={'class':'cscore_score'}).text\n",
    "            home_team = item['home_team']\n",
    "            home_team = home.find('div', attrs={'class':'cscore_team icon-font-after'}).find('span', attrs={'class':'cscore_name cscore_name--long'}).text\n",
    "            away_team = item['away_team']\n",
    "            away_team = away.find('div', attrs={'class':'cscore_team icon-font-after'}).find('span', attrs={'class':'cscore_name cscore_name--long'}).text\n",
    "            home_team_abbrev = home.find('div', attrs={'class':'cscore_team icon-font-after'}).find('span', attrs={'class':'cscore_name cscore_name--abbrev'}).text\n",
    "            away_team_abbrev = away.find('div', attrs={'class':'cscore_team icon-font-after'}).find('span', attrs={'class':'cscore_name cscore_name--abbrev'}).text\n",
    "            item['away_score'] =  away_score\n",
    "            item['home_score'] =  home_score\n",
    "            item['home_team'] = home_team\n",
    "            item['away_team'] = away_team\n",
    "            item['home_team_abbrev'] = home_team_abbrev\n",
    "            item['away_team_abbrev'] = away_team_abbrev\n",
    "            final_result.append(\n",
    "                  item\n",
    "      )\n",
    "      return final_result"
   ]
  },
  {
   "cell_type": "code",
   "execution_count": 144,
   "metadata": {},
   "outputs": [],
   "source": [
    "def get_data_of_no_winner():\n",
    "   t = Tag(cls='scoreCollection cricket')\n",
    "   i = Tag(cls='cscore cscore--final cricket cscore--watchNotes' )\n",
    "   result = sc1.get_repeating_date_from_page(\n",
    "         target=t,\n",
    "         items=i,\n",
    "         details=Tag(cls='cscore_info-overview'),\n",
    "         home_team = Tag('li', cls='cscore_item cscore_item--home', output='object'),\n",
    "         away_team = Tag('li', cls='cscore_item cscore_item--away', output='object'),\n",
    "         result=Tag('span',cls='cscore_notes_game'),\n",
    "      )\n",
    "   final_result  = []\n",
    "   for item in result:\n",
    "      home = item['home_team']\n",
    "      # home_score = home.find('div', attrs={'class':'cscore_team icon-font-after'}).find('div', attrs={'class':'cscore_score'}).text\n",
    "      away = item['away_team']\n",
    "      # away_score = away.find('div', attrs={'class':'cscore_team icon-font-after'}).find('div', attrs={'class':'cscore_score'}).text\n",
    "      home_team = item['home_team']\n",
    "      home_team = home.find('div', attrs={'class':'cscore_team icon-font-after'}).find('span', attrs={'class':'cscore_name cscore_name--long'}).text\n",
    "      away_team = item['away_team']\n",
    "      away_team = away.find('div', attrs={'class':'cscore_team icon-font-after'}).find('span', attrs={'class':'cscore_name cscore_name--long'}).text\n",
    "      home_team_abbrev = home.find('div', attrs={'class':'cscore_team icon-font-after'}).find('span', attrs={'class':'cscore_name cscore_name--abbrev'}).text\n",
    "      away_team_abbrev = away.find('div', attrs={'class':'cscore_team icon-font-after'}).find('span', attrs={'class':'cscore_name cscore_name--abbrev'}).text\n",
    "      item['away_score'] =  None\n",
    "      item['home_score'] =  None\n",
    "      item['home_team'] = home_team\n",
    "      item['away_team'] = away_team\n",
    "      item['home_team_abbrev'] = home_team_abbrev\n",
    "      item['away_team_abbrev'] = away_team_abbrev\n",
    "      final_result.append(\n",
    "         item\n",
    "      )\n",
    "   return final_result"
   ]
  },
  {
   "cell_type": "code",
   "execution_count": 145,
   "metadata": {},
   "outputs": [
    {
     "name": "stdout",
     "output_type": "stream",
     "text": [
      "[{'details': '10th Match,  (N) at Bengaluru, Mar 29 2024', 'home_team': 'Royal Challengers Bengaluru', 'away_team': 'Kolkata Knight Riders', 'result': 'KKR won by 7 wkts (19b rem)', 'away_score': '186/3 (16.5/20 ov, target 183)', 'home_score': '182/6', 'home_team_abbrev': 'RCB', 'away_team_abbrev': 'KKR'}, {'details': '14th Match,  (N) at Mumbai, Apr 1 2024', 'home_team': 'Mumbai Indians', 'away_team': 'Rajasthan Royals', 'result': 'RR won by 6 wkts (27b rem)', 'away_score': '127/4 (15.3/20 ov, target 126)', 'home_score': '125/9', 'home_team_abbrev': 'MI', 'away_team_abbrev': 'RR'}, {'details': '15th Match,  (N) at Bengaluru, Apr 2 2024', 'home_team': 'Royal Challengers Bengaluru', 'away_team': 'Lucknow Super Giants', 'result': 'LSG won by 28 runs', 'away_score': '181/5', 'home_score': '153 (19.4/20 ov, target 182)', 'home_team_abbrev': 'RCB', 'away_team_abbrev': 'LSG'}, {'details': '16th Match,  (N) at Visakhapatnam, Apr 3 2024', 'home_team': 'Delhi Capitals', 'away_team': 'Kolkata Knight Riders', 'result': 'KKR won by 106 runs', 'away_score': '272/7', 'home_score': '166 (17.2/20 ov, target 273)', 'home_team_abbrev': 'DC', 'away_team_abbrev': 'KKR'}, {'details': '17th Match,  (N) at Ahmedabad, Apr 4 2024', 'home_team': 'Gujarat Titans', 'away_team': 'Punjab Kings', 'result': 'PBKS won by 3 wkts (1b rem)', 'away_score': '200/7 (19.5/20 ov, target 200)', 'home_score': '199/4', 'home_team_abbrev': 'GT', 'away_team_abbrev': 'PBKS'}, {'details': '23rd Match,  (N) at Mohali, Apr 9 2024', 'home_team': 'Punjab Kings', 'away_team': 'Sunrisers Hyderabad', 'result': 'SRH won by 2 runs', 'away_score': '182/9', 'home_score': '180/6 (20 ov, target 183)', 'home_team_abbrev': 'PBKS', 'away_team_abbrev': 'SRH'}, {'details': '24th Match,  (N) at Jaipur, Apr 10 2024', 'home_team': 'Rajasthan Royals', 'away_team': 'Gujarat Titans', 'result': 'GT won by 3 wkts (0b rem)', 'away_score': '199/7 (20 ov, target 197)', 'home_score': '196/3', 'home_team_abbrev': 'RR', 'away_team_abbrev': 'GT'}, {'details': '26th Match,  (N) at Lucknow, Apr 12 2024', 'home_team': 'Lucknow Super Giants', 'away_team': 'Delhi Capitals', 'result': 'DC won by 6 wkts (11b rem)', 'away_score': '170/4 (18.1/20 ov, target 168)', 'home_score': '167/7', 'home_team_abbrev': 'LSG', 'away_team_abbrev': 'DC'}, {'details': '27th Match,  (N) at Mohali, Apr 13 2024', 'home_team': 'Punjab Kings', 'away_team': 'Rajasthan Royals', 'result': 'RR won by 3 wkts (1b rem)', 'away_score': '152/7 (19.5/20 ov, target 148)', 'home_score': '147/8', 'home_team_abbrev': 'PBKS', 'away_team_abbrev': 'RR'}, {'details': '29th Match,  (N) at Mumbai, Apr 14 2024', 'home_team': 'Mumbai Indians', 'away_team': 'Chennai Super Kings', 'result': 'CSK won by 20 runs', 'away_score': '206/4', 'home_score': '186/6 (20 ov, target 207)', 'home_team_abbrev': 'MI', 'away_team_abbrev': 'CSK'}, {'details': '30th Match,  (N) at Bengaluru, Apr 15 2024', 'home_team': 'Royal Challengers Bengaluru', 'away_team': 'Sunrisers Hyderabad', 'result': 'SRH won by 25 runs', 'away_score': '287/3', 'home_score': '262/7 (20 ov, target 288)', 'home_team_abbrev': 'RCB', 'away_team_abbrev': 'SRH'}, {'details': '31st Match,  (N) at Kolkata, Apr 16 2024', 'home_team': 'Kolkata Knight Riders', 'away_team': 'Rajasthan Royals', 'result': 'RR won by 2 wkts (0b rem)', 'away_score': '224/8 (20 ov, target 224)', 'home_score': '223/6', 'home_team_abbrev': 'KKR', 'away_team_abbrev': 'RR'}, {'details': '32nd Match,  (N) at Ahmedabad, Apr 17 2024', 'home_team': 'Gujarat Titans', 'away_team': 'Delhi Capitals', 'result': 'DC won by 6 wkts (67b rem)', 'away_score': '92/4 (8.5/20 ov, target 90)', 'home_score': '89', 'home_team_abbrev': 'GT', 'away_team_abbrev': 'DC'}, {'details': '33rd Match,  (N) at Mohali, Apr 18 2024', 'home_team': 'Punjab Kings', 'away_team': 'Mumbai Indians', 'result': 'MI won by 9 runs', 'away_score': '192/7', 'home_score': '183 (19.1/20 ov, target 193)', 'home_team_abbrev': 'PBKS', 'away_team_abbrev': 'MI'}, {'details': '35th Match,  (N) at Delhi, Apr 20 2024', 'home_team': 'Delhi Capitals', 'away_team': 'Sunrisers Hyderabad', 'result': 'SRH won by 67 runs', 'away_score': '266/7', 'home_score': '199 (19.1/20 ov, target 267)', 'home_team_abbrev': 'DC', 'away_team_abbrev': 'SRH'}, {'details': '37th Match,  (N) at Mohali, Apr 21 2024', 'home_team': 'Punjab Kings', 'away_team': 'Gujarat Titans', 'result': 'GT won by 3 wkts (5b rem)', 'away_score': '146/7 (19.1/20 ov, target 143)', 'home_score': '142', 'home_team_abbrev': 'PBKS', 'away_team_abbrev': 'GT'}, {'details': '39th Match,  (N) at Chennai, Apr 23 2024', 'home_team': 'Chennai Super Kings', 'away_team': 'Lucknow Super Giants', 'result': 'LSG won by 6 wkts (3b rem)', 'away_score': '213/4 (19.3/20 ov, target 211)', 'home_score': '210/4', 'home_team_abbrev': 'CSK', 'away_team_abbrev': 'LSG'}, {'details': '41st Match,  (N) at Hyderabad, Apr 25 2024', 'home_team': 'Sunrisers Hyderabad', 'away_team': 'RCB', 'result': 'RCB won by 35 runs', 'away_score': '206/7', 'home_score': '171/8 (20 ov, target 207)', 'home_team_abbrev': 'SRH', 'away_team_abbrev': 'RCB'}, {'details': '42nd Match,  (N) at Kolkata, Apr 26 2024', 'home_team': 'Kolkata Knight Riders', 'away_team': 'Punjab Kings', 'result': 'PBKS won by 8 wkts (8b rem)', 'away_score': '262/2 (18.4/20 ov, target 262)', 'home_score': '261/6', 'home_team_abbrev': 'KKR', 'away_team_abbrev': 'PBKS'}, {'details': '44th Match,  (N) at Lucknow, Apr 27 2024', 'home_team': 'Lucknow Super Giants', 'away_team': 'Rajasthan Royals', 'result': 'RR won by 7 wkts (6b rem)', 'away_score': '199/3 (19/20 ov, target 197)', 'home_score': '196/5', 'home_team_abbrev': 'LSG', 'away_team_abbrev': 'RR'}, {'details': '45th Match,  (D/N) at Ahmedabad, Apr 28 2024', 'home_team': 'Gujarat Titans', 'away_team': 'RCB', 'result': 'RCB won by 9 wkts (24b rem)', 'away_score': '206/1 (16/20 ov, target 201)', 'home_score': '200/3', 'home_team_abbrev': 'GT', 'away_team_abbrev': 'RCB'}, {'details': '49th Match,  (N) at Chennai, May 1 2024', 'home_team': 'Chennai Super Kings', 'away_team': 'Punjab Kings', 'result': 'PBKS won by 7 wkts (13b rem)', 'away_score': '163/3 (17.5/20 ov, target 163)', 'home_score': '162/7', 'home_team_abbrev': 'CSK', 'away_team_abbrev': 'PBKS'}, {'details': '51st Match,  (N) at Mumbai, May 3 2024', 'home_team': 'Mumbai Indians', 'away_team': 'Kolkata Knight Riders', 'result': 'KKR won by 24 runs', 'away_score': '169', 'home_score': '145 (18.5/20 ov, target 170)', 'home_team_abbrev': 'MI', 'away_team_abbrev': 'KKR'}, {'details': '53rd Match,  (D/N) at Dharamsala, May 5 2024', 'home_team': 'Punjab Kings', 'away_team': 'Chennai Super Kings', 'result': 'CSK won by 28 runs', 'away_score': '167/9', 'home_score': '139/9 (20 ov, target 168)', 'home_team_abbrev': 'PBKS', 'away_team_abbrev': 'CSK'}, {'details': '54th Match,  (N) at Lucknow, May 5 2024', 'home_team': 'Lucknow Super Giants', 'away_team': 'Kolkata Knight Riders', 'result': 'KKR won by 98 runs', 'away_score': '235/6', 'home_score': '137 (16.1/20 ov, target 236)', 'home_team_abbrev': 'LSG', 'away_team_abbrev': 'KKR'}, {'details': '58th Match,  (N) at Dharamsala, May 9 2024', 'home_team': 'Punjab Kings', 'away_team': 'RCB', 'result': 'RCB won by 60 runs', 'away_score': '241/7', 'home_score': '181 (17/20 ov, target 242)', 'home_team_abbrev': 'PBKS', 'away_team_abbrev': 'RCB'}, {'details': '65th Match,  (N) at Guwahati, May 15 2024', 'home_team': 'Rajasthan Royals', 'away_team': 'Punjab Kings', 'result': 'PBKS won by 5 wkts (7b rem)', 'away_score': '145/5 (18.5/20 ov, target 145)', 'home_score': '144/9', 'home_team_abbrev': 'RR', 'away_team_abbrev': 'PBKS'}, {'details': '67th Match,  (N) at Mumbai, May 17 2024', 'home_team': 'Mumbai Indians', 'away_team': 'Lucknow Super Giants', 'result': 'LSG won by 18 runs', 'away_score': '214/6', 'home_score': '196/6 (20 ov, target 215)', 'home_team_abbrev': 'MI', 'away_team_abbrev': 'LSG'}, {'details': 'Qualifier 2,  (N) at Chennai, May 24 2024', 'home_team': 'Rajasthan Royals', 'away_team': 'Sunrisers Hyderabad', 'result': 'SRH won by 36 runs', 'away_score': '175/9', 'home_score': '139/7 (20 ov, target 176)', 'home_team_abbrev': 'RR', 'away_team_abbrev': 'SRH'}]\n"
     ]
    }
   ],
   "source": [
    "away_winner = get_data_of_away_winner()\n",
    "print(away_winner)"
   ]
  },
  {
   "cell_type": "code",
   "execution_count": 146,
   "metadata": {},
   "outputs": [
    {
     "name": "stdout",
     "output_type": "stream",
     "text": [
      "[{'details': '63rd Match,  (N) at Ahmedabad, May 13 2024', 'home_team': 'Gujarat Titans', 'away_team': 'Kolkata Knight Riders', 'result': 'Match abandoned without a ball bowled', 'away_score': None, 'home_score': None, 'home_team_abbrev': 'GT', 'away_team_abbrev': 'KKR'}, {'details': '66th Match,  (N) at Hyderabad, May 16 2024', 'home_team': 'Sunrisers Hyderabad', 'away_team': 'Gujarat Titans', 'result': 'Match abandoned without a ball bowled', 'away_score': None, 'home_score': None, 'home_team_abbrev': 'SRH', 'away_team_abbrev': 'GT'}, {'details': '70th Match,  (N) at Guwahati, May 19 2024', 'home_team': 'Rajasthan Royals', 'away_team': 'Kolkata Knight Riders', 'result': 'No result (abandoned with a toss)', 'away_score': None, 'home_score': None, 'home_team_abbrev': 'RR', 'away_team_abbrev': 'KKR'}]\n"
     ]
    }
   ],
   "source": [
    "no_winner = get_data_of_no_winner()\n",
    "print(no_winner)"
   ]
  },
  {
   "cell_type": "code",
   "execution_count": 147,
   "metadata": {},
   "outputs": [
    {
     "data": {
      "text/plain": [
       "[{'details': '1st Match,  (N) at Chennai, Mar 22 2024',\n",
       "  'home_team': 'Chennai Super Kings',\n",
       "  'away_team': 'Royal Challengers Bengaluru',\n",
       "  'result': 'CSK won by 6 wkts (8b rem)',\n",
       "  'away_score': '173/6',\n",
       "  'home_score': '176/4 (18.4/20 ov, target 174)',\n",
       "  'home_team_abbrev': 'CSK',\n",
       "  'away_team_abbrev': 'RCB'},\n",
       " {'details': '2nd Match,  (D/N) at Mohali, Mar 23 2024',\n",
       "  'home_team': 'Punjab Kings',\n",
       "  'away_team': 'Delhi Capitals',\n",
       "  'result': 'PBKS won by 4 wkts (4b rem)',\n",
       "  'away_score': '174/9',\n",
       "  'home_score': '177/6 (19.2/20 ov, target 175)',\n",
       "  'home_team_abbrev': 'PBKS',\n",
       "  'away_team_abbrev': 'DC'},\n",
       " {'details': '3rd Match,  (N) at Kolkata, Mar 23 2024',\n",
       "  'home_team': 'Kolkata Knight Riders',\n",
       "  'away_team': 'Sunrisers Hyderabad',\n",
       "  'result': 'KKR won by 4 runs',\n",
       "  'away_score': '204/7 (20 ov, target 209)',\n",
       "  'home_score': '208/7',\n",
       "  'home_team_abbrev': 'KKR',\n",
       "  'away_team_abbrev': 'SRH'},\n",
       " {'details': '4th Match,  (D/N) at Jaipur, Mar 24 2024',\n",
       "  'home_team': 'Rajasthan Royals',\n",
       "  'away_team': 'Lucknow Super Giants',\n",
       "  'result': 'RR won by 20 runs',\n",
       "  'away_score': '173/6 (20 ov, target 194)',\n",
       "  'home_score': '193/4',\n",
       "  'home_team_abbrev': 'RR',\n",
       "  'away_team_abbrev': 'LSG'},\n",
       " {'details': '5th Match,  (N) at Ahmedabad, Mar 24 2024',\n",
       "  'home_team': 'Gujarat Titans',\n",
       "  'away_team': 'Mumbai Indians',\n",
       "  'result': 'GT won by 6 runs',\n",
       "  'away_score': '162/9 (20 ov, target 169)',\n",
       "  'home_score': '168/6',\n",
       "  'home_team_abbrev': 'GT',\n",
       "  'away_team_abbrev': 'MI'},\n",
       " {'details': '6th Match,  (N) at Bengaluru, Mar 25 2024',\n",
       "  'home_team': 'RCB',\n",
       "  'away_team': 'Punjab Kings',\n",
       "  'result': 'RCB won by 4 wkts (4b rem)',\n",
       "  'away_score': '176/6',\n",
       "  'home_score': '178/6 (19.2/20 ov, target 177)',\n",
       "  'home_team_abbrev': 'RCB',\n",
       "  'away_team_abbrev': 'PBKS'},\n",
       " {'details': '7th Match,  (N) at Chennai, Mar 26 2024',\n",
       "  'home_team': 'Chennai Super Kings',\n",
       "  'away_team': 'Gujarat Titans',\n",
       "  'result': 'CSK won by 63 runs',\n",
       "  'away_score': '143/8 (20 ov, target 207)',\n",
       "  'home_score': '206/6',\n",
       "  'home_team_abbrev': 'CSK',\n",
       "  'away_team_abbrev': 'GT'},\n",
       " {'details': '8th Match,  (N) at Hyderabad, Mar 27 2024',\n",
       "  'home_team': 'Sunrisers Hyderabad',\n",
       "  'away_team': 'Mumbai Indians',\n",
       "  'result': 'SRH won by 31 runs',\n",
       "  'away_score': '246/5 (20 ov, target 278)',\n",
       "  'home_score': '277/3',\n",
       "  'home_team_abbrev': 'SRH',\n",
       "  'away_team_abbrev': 'MI'},\n",
       " {'details': '9th Match,  (N) at Jaipur, Mar 28 2024',\n",
       "  'home_team': 'Rajasthan Royals',\n",
       "  'away_team': 'Delhi Capitals',\n",
       "  'result': 'RR won by 12 runs',\n",
       "  'away_score': '173/5 (20 ov, target 186)',\n",
       "  'home_score': '185/5',\n",
       "  'home_team_abbrev': 'RR',\n",
       "  'away_team_abbrev': 'DC'},\n",
       " {'details': '11th Match,  (N) at Lucknow, Mar 30 2024',\n",
       "  'home_team': 'Lucknow Super Giants',\n",
       "  'away_team': 'Punjab Kings',\n",
       "  'result': 'LSG won by 21 runs',\n",
       "  'away_score': '178/5 (20 ov, target 200)',\n",
       "  'home_score': '199/8',\n",
       "  'home_team_abbrev': 'LSG',\n",
       "  'away_team_abbrev': 'PBKS'},\n",
       " {'details': '12th Match,  (D/N) at Ahmedabad, Mar 31 2024',\n",
       "  'home_team': 'Gujarat Titans',\n",
       "  'away_team': 'Sunrisers Hyderabad',\n",
       "  'result': 'GT won by 7 wkts (5b rem)',\n",
       "  'away_score': '162/8',\n",
       "  'home_score': '168/3 (19.1/20 ov, target 163)',\n",
       "  'home_team_abbrev': 'GT',\n",
       "  'away_team_abbrev': 'SRH'},\n",
       " {'details': '13th Match,  (N) at Visakhapatnam, Mar 31 2024',\n",
       "  'home_team': 'Delhi Capitals',\n",
       "  'away_team': 'Chennai Super Kings',\n",
       "  'result': 'DC won by 20 runs',\n",
       "  'away_score': '171/6 (20 ov, target 192)',\n",
       "  'home_score': '191/5',\n",
       "  'home_team_abbrev': 'DC',\n",
       "  'away_team_abbrev': 'CSK'},\n",
       " {'details': '18th Match,  (N) at Hyderabad, Apr 5 2024',\n",
       "  'home_team': 'Sunrisers Hyderabad',\n",
       "  'away_team': 'Chennai Super Kings',\n",
       "  'result': 'SRH won by 6 wkts (11b rem)',\n",
       "  'away_score': '165/5',\n",
       "  'home_score': '166/4 (18.1/20 ov, target 166)',\n",
       "  'home_team_abbrev': 'SRH',\n",
       "  'away_team_abbrev': 'CSK'},\n",
       " {'details': '19th Match,  (N) at Jaipur, Apr 6 2024',\n",
       "  'home_team': 'Rajasthan Royals',\n",
       "  'away_team': 'Royal Challengers Bengaluru',\n",
       "  'result': 'RR won by 6 wkts (5b rem)',\n",
       "  'away_score': '183/3',\n",
       "  'home_score': '189/4 (19.1/20 ov, target 184)',\n",
       "  'home_team_abbrev': 'RR',\n",
       "  'away_team_abbrev': 'RCB'},\n",
       " {'details': '20th Match,  (D/N) at Mumbai, Apr 7 2024',\n",
       "  'home_team': 'Mumbai Indians',\n",
       "  'away_team': 'Delhi Capitals',\n",
       "  'result': 'MI won by 29 runs',\n",
       "  'away_score': '205/8 (20 ov, target 235)',\n",
       "  'home_score': '234/5',\n",
       "  'home_team_abbrev': 'MI',\n",
       "  'away_team_abbrev': 'DC'},\n",
       " {'details': '21st Match,  (N) at Lucknow, Apr 7 2024',\n",
       "  'home_team': 'Lucknow Super Giants',\n",
       "  'away_team': 'Gujarat Titans',\n",
       "  'result': 'LSG won by 33 runs',\n",
       "  'away_score': '130 (18.5/20 ov, target 164)',\n",
       "  'home_score': '163/5',\n",
       "  'home_team_abbrev': 'LSG',\n",
       "  'away_team_abbrev': 'GT'},\n",
       " {'details': '22nd Match,  (N) at Chennai, Apr 8 2024',\n",
       "  'home_team': 'Chennai Super Kings',\n",
       "  'away_team': 'Kolkata Knight Riders',\n",
       "  'result': 'CSK won by 7 wkts (14b rem)',\n",
       "  'away_score': '137/9',\n",
       "  'home_score': '141/3 (17.4/20 ov, target 138)',\n",
       "  'home_team_abbrev': 'CSK',\n",
       "  'away_team_abbrev': 'KKR'},\n",
       " {'details': '25th Match,  (N) at Mumbai, Apr 11 2024',\n",
       "  'home_team': 'Mumbai Indians',\n",
       "  'away_team': 'Royal Challengers Bengaluru',\n",
       "  'result': 'MI won by 7 wkts (27b rem)',\n",
       "  'away_score': '196/8',\n",
       "  'home_score': '199/3 (15.3/20 ov, target 197)',\n",
       "  'home_team_abbrev': 'MI',\n",
       "  'away_team_abbrev': 'RCB'},\n",
       " {'details': '28th Match,  (D/N) at Kolkata, Apr 14 2024',\n",
       "  'home_team': 'Kolkata Knight Riders',\n",
       "  'away_team': 'Lucknow Super Giants',\n",
       "  'result': 'KKR won by 8 wkts (26b rem)',\n",
       "  'away_score': '161/7',\n",
       "  'home_score': '162/2 (15.4/20 ov, target 162)',\n",
       "  'home_team_abbrev': 'KKR',\n",
       "  'away_team_abbrev': 'LSG'},\n",
       " {'details': '34th Match,  (N) at Lucknow, Apr 19 2024',\n",
       "  'home_team': 'Lucknow Super Giants',\n",
       "  'away_team': 'Chennai Super Kings',\n",
       "  'result': 'LSG won by 8 wkts (6b rem)',\n",
       "  'away_score': '176/6',\n",
       "  'home_score': '180/2 (19/20 ov, target 177)',\n",
       "  'home_team_abbrev': 'LSG',\n",
       "  'away_team_abbrev': 'CSK'},\n",
       " {'details': '36th Match,  (D/N) at Kolkata, Apr 21 2024',\n",
       "  'home_team': 'Kolkata Knight Riders',\n",
       "  'away_team': 'Royal Challengers Bengaluru',\n",
       "  'result': 'KKR won by 1 run',\n",
       "  'away_score': '221 (20 ov, target 223)',\n",
       "  'home_score': '222/6',\n",
       "  'home_team_abbrev': 'KKR',\n",
       "  'away_team_abbrev': 'RCB'},\n",
       " {'details': '38th Match,  (N) at Jaipur, Apr 22 2024',\n",
       "  'home_team': 'Rajasthan Royals',\n",
       "  'away_team': 'Mumbai Indians',\n",
       "  'result': 'RR won by 9 wkts (8b rem)',\n",
       "  'away_score': '179/9',\n",
       "  'home_score': '183/1 (18.4/20 ov, target 180)',\n",
       "  'home_team_abbrev': 'RR',\n",
       "  'away_team_abbrev': 'MI'},\n",
       " {'details': '40th Match,  (N) at Delhi, Apr 24 2024',\n",
       "  'home_team': 'Delhi Capitals',\n",
       "  'away_team': 'Gujarat Titans',\n",
       "  'result': 'DC won by 4 runs',\n",
       "  'away_score': '220/8 (20 ov, target 225)',\n",
       "  'home_score': '224/4',\n",
       "  'home_team_abbrev': 'DC',\n",
       "  'away_team_abbrev': 'GT'},\n",
       " {'details': '43rd Match,  (D/N) at Delhi, Apr 27 2024',\n",
       "  'home_team': 'Delhi Capitals',\n",
       "  'away_team': 'Mumbai Indians',\n",
       "  'result': 'DC won by 10 runs',\n",
       "  'away_score': '247/9 (20 ov, target 258)',\n",
       "  'home_score': '257/4',\n",
       "  'home_team_abbrev': 'DC',\n",
       "  'away_team_abbrev': 'MI'},\n",
       " {'details': '46th Match,  (N) at Chennai, Apr 28 2024',\n",
       "  'home_team': 'Chennai Super Kings',\n",
       "  'away_team': 'Sunrisers Hyderabad',\n",
       "  'result': 'CSK won by 78 runs',\n",
       "  'away_score': '134 (18.5/20 ov, target 213)',\n",
       "  'home_score': '212/3',\n",
       "  'home_team_abbrev': 'CSK',\n",
       "  'away_team_abbrev': 'SRH'},\n",
       " {'details': '47th Match,  (N) at Kolkata, Apr 29 2024',\n",
       "  'home_team': 'Kolkata Knight Riders',\n",
       "  'away_team': 'Delhi Capitals',\n",
       "  'result': 'KKR won by 7 wkts (21b rem)',\n",
       "  'away_score': '153/9',\n",
       "  'home_score': '157/3 (16.3/20 ov, target 154)',\n",
       "  'home_team_abbrev': 'KKR',\n",
       "  'away_team_abbrev': 'DC'},\n",
       " {'details': '48th Match,  (N) at Lucknow, Apr 30 2024',\n",
       "  'home_team': 'Lucknow Super Giants',\n",
       "  'away_team': 'Mumbai Indians',\n",
       "  'result': 'LSG won by 4 wkts (4b rem)',\n",
       "  'away_score': '144/7',\n",
       "  'home_score': '145/6 (19.2/20 ov, target 145)',\n",
       "  'home_team_abbrev': 'LSG',\n",
       "  'away_team_abbrev': 'MI'},\n",
       " {'details': '50th Match,  (N) at Hyderabad, May 2 2024',\n",
       "  'home_team': 'Sunrisers Hyderabad',\n",
       "  'away_team': 'Rajasthan Royals',\n",
       "  'result': 'SRH won by 1 run',\n",
       "  'away_score': '200/7 (20 ov, target 202)',\n",
       "  'home_score': '201/3',\n",
       "  'home_team_abbrev': 'SRH',\n",
       "  'away_team_abbrev': 'RR'},\n",
       " {'details': '52nd Match,  (N) at Bengaluru, May 4 2024',\n",
       "  'home_team': 'RCB',\n",
       "  'away_team': 'Gujarat Titans',\n",
       "  'result': 'RCB won by 4 wkts (38b rem)',\n",
       "  'away_score': '147',\n",
       "  'home_score': '152/6 (13.4/20 ov, target 148)',\n",
       "  'home_team_abbrev': 'RCB',\n",
       "  'away_team_abbrev': 'GT'},\n",
       " {'details': '55th Match,  (N) at Mumbai, May 6 2024',\n",
       "  'home_team': 'Mumbai Indians',\n",
       "  'away_team': 'Sunrisers Hyderabad',\n",
       "  'result': 'MI won by 7 wkts (16b rem)',\n",
       "  'away_score': '173/8',\n",
       "  'home_score': '174/3 (17.2/20 ov, target 174)',\n",
       "  'home_team_abbrev': 'MI',\n",
       "  'away_team_abbrev': 'SRH'},\n",
       " {'details': '56th Match,  (N) at Delhi, May 7 2024',\n",
       "  'home_team': 'Delhi Capitals',\n",
       "  'away_team': 'Rajasthan Royals',\n",
       "  'result': 'DC won by 20 runs',\n",
       "  'away_score': '201/8 (20 ov, target 222)',\n",
       "  'home_score': '221/8',\n",
       "  'home_team_abbrev': 'DC',\n",
       "  'away_team_abbrev': 'RR'},\n",
       " {'details': '57th Match,  (N) at Hyderabad, May 8 2024',\n",
       "  'home_team': 'Sunrisers Hyderabad',\n",
       "  'away_team': 'Lucknow Super Giants',\n",
       "  'result': 'SRH won by 10 wkts (62b rem)',\n",
       "  'away_score': '165/4',\n",
       "  'home_score': '167/0 (9.4/20 ov, target 166)',\n",
       "  'home_team_abbrev': 'SRH',\n",
       "  'away_team_abbrev': 'LSG'},\n",
       " {'details': '59th Match,  (N) at Ahmedabad, May 10 2024',\n",
       "  'home_team': 'Gujarat Titans',\n",
       "  'away_team': 'Chennai Super Kings',\n",
       "  'result': 'GT won by 35 runs',\n",
       "  'away_score': '196/8 (20 ov, target 232)',\n",
       "  'home_score': '231/3',\n",
       "  'home_team_abbrev': 'GT',\n",
       "  'away_team_abbrev': 'CSK'},\n",
       " {'details': '60th Match,  (N) at Kolkata, May 11 2024',\n",
       "  'home_team': 'Kolkata Knight Riders',\n",
       "  'away_team': 'Mumbai Indians',\n",
       "  'result': 'KKR won by 18 runs',\n",
       "  'away_score': '139/8 (16 ov, target 158)',\n",
       "  'home_score': '157/7 (16/16 ov)',\n",
       "  'home_team_abbrev': 'KKR',\n",
       "  'away_team_abbrev': 'MI'},\n",
       " {'details': '61st Match,  (D/N) at Chennai, May 12 2024',\n",
       "  'home_team': 'Chennai Super Kings',\n",
       "  'away_team': 'Rajasthan Royals',\n",
       "  'result': 'CSK won by 5 wkts (10b rem)',\n",
       "  'away_score': '141/5',\n",
       "  'home_score': '145/5 (18.2/20 ov, target 142)',\n",
       "  'home_team_abbrev': 'CSK',\n",
       "  'away_team_abbrev': 'RR'},\n",
       " {'details': '62nd Match,  (N) at Bengaluru, May 12 2024',\n",
       "  'home_team': 'RCB',\n",
       "  'away_team': 'Delhi Capitals',\n",
       "  'result': 'RCB won by 47 runs',\n",
       "  'away_score': '140 (19.1/20 ov, target 188)',\n",
       "  'home_score': '187/9',\n",
       "  'home_team_abbrev': 'RCB',\n",
       "  'away_team_abbrev': 'DC'},\n",
       " {'details': '64th Match,  (N) at Delhi, May 14 2024',\n",
       "  'home_team': 'Delhi Capitals',\n",
       "  'away_team': 'Lucknow Super Giants',\n",
       "  'result': 'DC won by 19 runs',\n",
       "  'away_score': '189/9 (20 ov, target 209)',\n",
       "  'home_score': '208/4',\n",
       "  'home_team_abbrev': 'DC',\n",
       "  'away_team_abbrev': 'LSG'},\n",
       " {'details': '68th Match,  (N) at Bengaluru, May 18 2024',\n",
       "  'home_team': 'RCB',\n",
       "  'away_team': 'Chennai Super Kings',\n",
       "  'result': 'RCB won by 27 runs',\n",
       "  'away_score': '191/7 (20 ov, target 219)',\n",
       "  'home_score': '218/5',\n",
       "  'home_team_abbrev': 'RCB',\n",
       "  'away_team_abbrev': 'CSK'},\n",
       " {'details': '69th Match,  (D/N) at Hyderabad, May 19 2024',\n",
       "  'home_team': 'Sunrisers Hyderabad',\n",
       "  'away_team': 'Punjab Kings',\n",
       "  'result': 'SRH won by 4 wkts (5b rem)',\n",
       "  'away_score': '214/5',\n",
       "  'home_score': '215/6 (19.1/20 ov, target 215)',\n",
       "  'home_team_abbrev': 'SRH',\n",
       "  'away_team_abbrev': 'PBKS'},\n",
       " {'details': 'Qualifier 1,  (N) at Ahmedabad, May 21 2024',\n",
       "  'home_team': 'Kolkata Knight Riders',\n",
       "  'away_team': 'Sunrisers Hyderabad',\n",
       "  'result': 'KKR won by 8 wkts (38b rem)',\n",
       "  'away_score': '159',\n",
       "  'home_score': '164/2 (13.4/20 ov, target 160)',\n",
       "  'home_team_abbrev': 'KKR',\n",
       "  'away_team_abbrev': 'SRH'},\n",
       " {'details': 'Eliminator,  (N) at Ahmedabad, May 22 2024',\n",
       "  'home_team': 'Rajasthan Royals',\n",
       "  'away_team': 'Royal Challengers Bengaluru',\n",
       "  'result': 'RR won by 4 wkts (6b rem)',\n",
       "  'away_score': '172/8',\n",
       "  'home_score': '174/6 (19/20 ov, target 173)',\n",
       "  'home_team_abbrev': 'RR',\n",
       "  'away_team_abbrev': 'RCB'},\n",
       " {'details': 'Final,  (N) at Chennai, May 26 2024',\n",
       "  'home_team': 'Kolkata Knight Riders',\n",
       "  'away_team': 'Sunrisers Hyderabad',\n",
       "  'result': 'KKR won by 8 wkts (57b rem)',\n",
       "  'away_score': '113',\n",
       "  'home_score': '114/2 (10.3/20 ov, target 114)',\n",
       "  'home_team_abbrev': 'KKR',\n",
       "  'away_team_abbrev': 'SRH'},\n",
       " {'details': '10th Match,  (N) at Bengaluru, Mar 29 2024',\n",
       "  'home_team': 'Royal Challengers Bengaluru',\n",
       "  'away_team': 'Kolkata Knight Riders',\n",
       "  'result': 'KKR won by 7 wkts (19b rem)',\n",
       "  'away_score': '186/3 (16.5/20 ov, target 183)',\n",
       "  'home_score': '182/6',\n",
       "  'home_team_abbrev': 'RCB',\n",
       "  'away_team_abbrev': 'KKR'},\n",
       " {'details': '14th Match,  (N) at Mumbai, Apr 1 2024',\n",
       "  'home_team': 'Mumbai Indians',\n",
       "  'away_team': 'Rajasthan Royals',\n",
       "  'result': 'RR won by 6 wkts (27b rem)',\n",
       "  'away_score': '127/4 (15.3/20 ov, target 126)',\n",
       "  'home_score': '125/9',\n",
       "  'home_team_abbrev': 'MI',\n",
       "  'away_team_abbrev': 'RR'},\n",
       " {'details': '15th Match,  (N) at Bengaluru, Apr 2 2024',\n",
       "  'home_team': 'Royal Challengers Bengaluru',\n",
       "  'away_team': 'Lucknow Super Giants',\n",
       "  'result': 'LSG won by 28 runs',\n",
       "  'away_score': '181/5',\n",
       "  'home_score': '153 (19.4/20 ov, target 182)',\n",
       "  'home_team_abbrev': 'RCB',\n",
       "  'away_team_abbrev': 'LSG'},\n",
       " {'details': '16th Match,  (N) at Visakhapatnam, Apr 3 2024',\n",
       "  'home_team': 'Delhi Capitals',\n",
       "  'away_team': 'Kolkata Knight Riders',\n",
       "  'result': 'KKR won by 106 runs',\n",
       "  'away_score': '272/7',\n",
       "  'home_score': '166 (17.2/20 ov, target 273)',\n",
       "  'home_team_abbrev': 'DC',\n",
       "  'away_team_abbrev': 'KKR'},\n",
       " {'details': '17th Match,  (N) at Ahmedabad, Apr 4 2024',\n",
       "  'home_team': 'Gujarat Titans',\n",
       "  'away_team': 'Punjab Kings',\n",
       "  'result': 'PBKS won by 3 wkts (1b rem)',\n",
       "  'away_score': '200/7 (19.5/20 ov, target 200)',\n",
       "  'home_score': '199/4',\n",
       "  'home_team_abbrev': 'GT',\n",
       "  'away_team_abbrev': 'PBKS'},\n",
       " {'details': '23rd Match,  (N) at Mohali, Apr 9 2024',\n",
       "  'home_team': 'Punjab Kings',\n",
       "  'away_team': 'Sunrisers Hyderabad',\n",
       "  'result': 'SRH won by 2 runs',\n",
       "  'away_score': '182/9',\n",
       "  'home_score': '180/6 (20 ov, target 183)',\n",
       "  'home_team_abbrev': 'PBKS',\n",
       "  'away_team_abbrev': 'SRH'},\n",
       " {'details': '24th Match,  (N) at Jaipur, Apr 10 2024',\n",
       "  'home_team': 'Rajasthan Royals',\n",
       "  'away_team': 'Gujarat Titans',\n",
       "  'result': 'GT won by 3 wkts (0b rem)',\n",
       "  'away_score': '199/7 (20 ov, target 197)',\n",
       "  'home_score': '196/3',\n",
       "  'home_team_abbrev': 'RR',\n",
       "  'away_team_abbrev': 'GT'},\n",
       " {'details': '26th Match,  (N) at Lucknow, Apr 12 2024',\n",
       "  'home_team': 'Lucknow Super Giants',\n",
       "  'away_team': 'Delhi Capitals',\n",
       "  'result': 'DC won by 6 wkts (11b rem)',\n",
       "  'away_score': '170/4 (18.1/20 ov, target 168)',\n",
       "  'home_score': '167/7',\n",
       "  'home_team_abbrev': 'LSG',\n",
       "  'away_team_abbrev': 'DC'},\n",
       " {'details': '27th Match,  (N) at Mohali, Apr 13 2024',\n",
       "  'home_team': 'Punjab Kings',\n",
       "  'away_team': 'Rajasthan Royals',\n",
       "  'result': 'RR won by 3 wkts (1b rem)',\n",
       "  'away_score': '152/7 (19.5/20 ov, target 148)',\n",
       "  'home_score': '147/8',\n",
       "  'home_team_abbrev': 'PBKS',\n",
       "  'away_team_abbrev': 'RR'},\n",
       " {'details': '29th Match,  (N) at Mumbai, Apr 14 2024',\n",
       "  'home_team': 'Mumbai Indians',\n",
       "  'away_team': 'Chennai Super Kings',\n",
       "  'result': 'CSK won by 20 runs',\n",
       "  'away_score': '206/4',\n",
       "  'home_score': '186/6 (20 ov, target 207)',\n",
       "  'home_team_abbrev': 'MI',\n",
       "  'away_team_abbrev': 'CSK'},\n",
       " {'details': '30th Match,  (N) at Bengaluru, Apr 15 2024',\n",
       "  'home_team': 'Royal Challengers Bengaluru',\n",
       "  'away_team': 'Sunrisers Hyderabad',\n",
       "  'result': 'SRH won by 25 runs',\n",
       "  'away_score': '287/3',\n",
       "  'home_score': '262/7 (20 ov, target 288)',\n",
       "  'home_team_abbrev': 'RCB',\n",
       "  'away_team_abbrev': 'SRH'},\n",
       " {'details': '31st Match,  (N) at Kolkata, Apr 16 2024',\n",
       "  'home_team': 'Kolkata Knight Riders',\n",
       "  'away_team': 'Rajasthan Royals',\n",
       "  'result': 'RR won by 2 wkts (0b rem)',\n",
       "  'away_score': '224/8 (20 ov, target 224)',\n",
       "  'home_score': '223/6',\n",
       "  'home_team_abbrev': 'KKR',\n",
       "  'away_team_abbrev': 'RR'},\n",
       " {'details': '32nd Match,  (N) at Ahmedabad, Apr 17 2024',\n",
       "  'home_team': 'Gujarat Titans',\n",
       "  'away_team': 'Delhi Capitals',\n",
       "  'result': 'DC won by 6 wkts (67b rem)',\n",
       "  'away_score': '92/4 (8.5/20 ov, target 90)',\n",
       "  'home_score': '89',\n",
       "  'home_team_abbrev': 'GT',\n",
       "  'away_team_abbrev': 'DC'},\n",
       " {'details': '33rd Match,  (N) at Mohali, Apr 18 2024',\n",
       "  'home_team': 'Punjab Kings',\n",
       "  'away_team': 'Mumbai Indians',\n",
       "  'result': 'MI won by 9 runs',\n",
       "  'away_score': '192/7',\n",
       "  'home_score': '183 (19.1/20 ov, target 193)',\n",
       "  'home_team_abbrev': 'PBKS',\n",
       "  'away_team_abbrev': 'MI'},\n",
       " {'details': '35th Match,  (N) at Delhi, Apr 20 2024',\n",
       "  'home_team': 'Delhi Capitals',\n",
       "  'away_team': 'Sunrisers Hyderabad',\n",
       "  'result': 'SRH won by 67 runs',\n",
       "  'away_score': '266/7',\n",
       "  'home_score': '199 (19.1/20 ov, target 267)',\n",
       "  'home_team_abbrev': 'DC',\n",
       "  'away_team_abbrev': 'SRH'},\n",
       " {'details': '37th Match,  (N) at Mohali, Apr 21 2024',\n",
       "  'home_team': 'Punjab Kings',\n",
       "  'away_team': 'Gujarat Titans',\n",
       "  'result': 'GT won by 3 wkts (5b rem)',\n",
       "  'away_score': '146/7 (19.1/20 ov, target 143)',\n",
       "  'home_score': '142',\n",
       "  'home_team_abbrev': 'PBKS',\n",
       "  'away_team_abbrev': 'GT'},\n",
       " {'details': '39th Match,  (N) at Chennai, Apr 23 2024',\n",
       "  'home_team': 'Chennai Super Kings',\n",
       "  'away_team': 'Lucknow Super Giants',\n",
       "  'result': 'LSG won by 6 wkts (3b rem)',\n",
       "  'away_score': '213/4 (19.3/20 ov, target 211)',\n",
       "  'home_score': '210/4',\n",
       "  'home_team_abbrev': 'CSK',\n",
       "  'away_team_abbrev': 'LSG'},\n",
       " {'details': '41st Match,  (N) at Hyderabad, Apr 25 2024',\n",
       "  'home_team': 'Sunrisers Hyderabad',\n",
       "  'away_team': 'RCB',\n",
       "  'result': 'RCB won by 35 runs',\n",
       "  'away_score': '206/7',\n",
       "  'home_score': '171/8 (20 ov, target 207)',\n",
       "  'home_team_abbrev': 'SRH',\n",
       "  'away_team_abbrev': 'RCB'},\n",
       " {'details': '42nd Match,  (N) at Kolkata, Apr 26 2024',\n",
       "  'home_team': 'Kolkata Knight Riders',\n",
       "  'away_team': 'Punjab Kings',\n",
       "  'result': 'PBKS won by 8 wkts (8b rem)',\n",
       "  'away_score': '262/2 (18.4/20 ov, target 262)',\n",
       "  'home_score': '261/6',\n",
       "  'home_team_abbrev': 'KKR',\n",
       "  'away_team_abbrev': 'PBKS'},\n",
       " {'details': '44th Match,  (N) at Lucknow, Apr 27 2024',\n",
       "  'home_team': 'Lucknow Super Giants',\n",
       "  'away_team': 'Rajasthan Royals',\n",
       "  'result': 'RR won by 7 wkts (6b rem)',\n",
       "  'away_score': '199/3 (19/20 ov, target 197)',\n",
       "  'home_score': '196/5',\n",
       "  'home_team_abbrev': 'LSG',\n",
       "  'away_team_abbrev': 'RR'},\n",
       " {'details': '45th Match,  (D/N) at Ahmedabad, Apr 28 2024',\n",
       "  'home_team': 'Gujarat Titans',\n",
       "  'away_team': 'RCB',\n",
       "  'result': 'RCB won by 9 wkts (24b rem)',\n",
       "  'away_score': '206/1 (16/20 ov, target 201)',\n",
       "  'home_score': '200/3',\n",
       "  'home_team_abbrev': 'GT',\n",
       "  'away_team_abbrev': 'RCB'},\n",
       " {'details': '49th Match,  (N) at Chennai, May 1 2024',\n",
       "  'home_team': 'Chennai Super Kings',\n",
       "  'away_team': 'Punjab Kings',\n",
       "  'result': 'PBKS won by 7 wkts (13b rem)',\n",
       "  'away_score': '163/3 (17.5/20 ov, target 163)',\n",
       "  'home_score': '162/7',\n",
       "  'home_team_abbrev': 'CSK',\n",
       "  'away_team_abbrev': 'PBKS'},\n",
       " {'details': '51st Match,  (N) at Mumbai, May 3 2024',\n",
       "  'home_team': 'Mumbai Indians',\n",
       "  'away_team': 'Kolkata Knight Riders',\n",
       "  'result': 'KKR won by 24 runs',\n",
       "  'away_score': '169',\n",
       "  'home_score': '145 (18.5/20 ov, target 170)',\n",
       "  'home_team_abbrev': 'MI',\n",
       "  'away_team_abbrev': 'KKR'},\n",
       " {'details': '53rd Match,  (D/N) at Dharamsala, May 5 2024',\n",
       "  'home_team': 'Punjab Kings',\n",
       "  'away_team': 'Chennai Super Kings',\n",
       "  'result': 'CSK won by 28 runs',\n",
       "  'away_score': '167/9',\n",
       "  'home_score': '139/9 (20 ov, target 168)',\n",
       "  'home_team_abbrev': 'PBKS',\n",
       "  'away_team_abbrev': 'CSK'},\n",
       " {'details': '54th Match,  (N) at Lucknow, May 5 2024',\n",
       "  'home_team': 'Lucknow Super Giants',\n",
       "  'away_team': 'Kolkata Knight Riders',\n",
       "  'result': 'KKR won by 98 runs',\n",
       "  'away_score': '235/6',\n",
       "  'home_score': '137 (16.1/20 ov, target 236)',\n",
       "  'home_team_abbrev': 'LSG',\n",
       "  'away_team_abbrev': 'KKR'},\n",
       " {'details': '58th Match,  (N) at Dharamsala, May 9 2024',\n",
       "  'home_team': 'Punjab Kings',\n",
       "  'away_team': 'RCB',\n",
       "  'result': 'RCB won by 60 runs',\n",
       "  'away_score': '241/7',\n",
       "  'home_score': '181 (17/20 ov, target 242)',\n",
       "  'home_team_abbrev': 'PBKS',\n",
       "  'away_team_abbrev': 'RCB'},\n",
       " {'details': '65th Match,  (N) at Guwahati, May 15 2024',\n",
       "  'home_team': 'Rajasthan Royals',\n",
       "  'away_team': 'Punjab Kings',\n",
       "  'result': 'PBKS won by 5 wkts (7b rem)',\n",
       "  'away_score': '145/5 (18.5/20 ov, target 145)',\n",
       "  'home_score': '144/9',\n",
       "  'home_team_abbrev': 'RR',\n",
       "  'away_team_abbrev': 'PBKS'},\n",
       " {'details': '67th Match,  (N) at Mumbai, May 17 2024',\n",
       "  'home_team': 'Mumbai Indians',\n",
       "  'away_team': 'Lucknow Super Giants',\n",
       "  'result': 'LSG won by 18 runs',\n",
       "  'away_score': '214/6',\n",
       "  'home_score': '196/6 (20 ov, target 215)',\n",
       "  'home_team_abbrev': 'MI',\n",
       "  'away_team_abbrev': 'LSG'},\n",
       " {'details': 'Qualifier 2,  (N) at Chennai, May 24 2024',\n",
       "  'home_team': 'Rajasthan Royals',\n",
       "  'away_team': 'Sunrisers Hyderabad',\n",
       "  'result': 'SRH won by 36 runs',\n",
       "  'away_score': '175/9',\n",
       "  'home_score': '139/7 (20 ov, target 176)',\n",
       "  'home_team_abbrev': 'RR',\n",
       "  'away_team_abbrev': 'SRH'},\n",
       " {'details': '63rd Match,  (N) at Ahmedabad, May 13 2024',\n",
       "  'home_team': 'Gujarat Titans',\n",
       "  'away_team': 'Kolkata Knight Riders',\n",
       "  'result': 'Match abandoned without a ball bowled',\n",
       "  'away_score': None,\n",
       "  'home_score': None,\n",
       "  'home_team_abbrev': 'GT',\n",
       "  'away_team_abbrev': 'KKR'},\n",
       " {'details': '66th Match,  (N) at Hyderabad, May 16 2024',\n",
       "  'home_team': 'Sunrisers Hyderabad',\n",
       "  'away_team': 'Gujarat Titans',\n",
       "  'result': 'Match abandoned without a ball bowled',\n",
       "  'away_score': None,\n",
       "  'home_score': None,\n",
       "  'home_team_abbrev': 'SRH',\n",
       "  'away_team_abbrev': 'GT'},\n",
       " {'details': '70th Match,  (N) at Guwahati, May 19 2024',\n",
       "  'home_team': 'Rajasthan Royals',\n",
       "  'away_team': 'Kolkata Knight Riders',\n",
       "  'result': 'No result (abandoned with a toss)',\n",
       "  'away_score': None,\n",
       "  'home_score': None,\n",
       "  'home_team_abbrev': 'RR',\n",
       "  'away_team_abbrev': 'KKR'}]"
      ]
     },
     "execution_count": 147,
     "metadata": {},
     "output_type": "execute_result"
    }
   ],
   "source": [
    "home_winner = get_data_of_home_winner()\n",
    "away_winner = get_data_of_away_winner()\n",
    "no_winner = get_data_of_no_winner()\n",
    "data = home_winner\n",
    "data.extend(away_winner)\n",
    "data.extend(no_winner)\n",
    "data"
   ]
  },
  {
   "cell_type": "code",
   "execution_count": 148,
   "metadata": {},
   "outputs": [
    {
     "data": {
      "text/html": [
       "<div>\n",
       "<style scoped>\n",
       "    .dataframe tbody tr th:only-of-type {\n",
       "        vertical-align: middle;\n",
       "    }\n",
       "\n",
       "    .dataframe tbody tr th {\n",
       "        vertical-align: top;\n",
       "    }\n",
       "\n",
       "    .dataframe thead th {\n",
       "        text-align: right;\n",
       "    }\n",
       "</style>\n",
       "<table border=\"1\" class=\"dataframe\">\n",
       "  <thead>\n",
       "    <tr style=\"text-align: right;\">\n",
       "      <th></th>\n",
       "      <th>details</th>\n",
       "      <th>home_team</th>\n",
       "      <th>away_team</th>\n",
       "      <th>result</th>\n",
       "      <th>away_score</th>\n",
       "      <th>home_score</th>\n",
       "      <th>home_team_abbrev</th>\n",
       "      <th>away_team_abbrev</th>\n",
       "    </tr>\n",
       "  </thead>\n",
       "  <tbody>\n",
       "    <tr>\n",
       "      <th>0</th>\n",
       "      <td>1st Match,  (N) at Chennai, Mar 22 2024</td>\n",
       "      <td>Chennai Super Kings</td>\n",
       "      <td>Royal Challengers Bengaluru</td>\n",
       "      <td>CSK won by 6 wkts (8b rem)</td>\n",
       "      <td>173/6</td>\n",
       "      <td>176/4 (18.4/20 ov, target 174)</td>\n",
       "      <td>CSK</td>\n",
       "      <td>RCB</td>\n",
       "    </tr>\n",
       "    <tr>\n",
       "      <th>1</th>\n",
       "      <td>2nd Match,  (D/N) at Mohali, Mar 23 2024</td>\n",
       "      <td>Punjab Kings</td>\n",
       "      <td>Delhi Capitals</td>\n",
       "      <td>PBKS won by 4 wkts (4b rem)</td>\n",
       "      <td>174/9</td>\n",
       "      <td>177/6 (19.2/20 ov, target 175)</td>\n",
       "      <td>PBKS</td>\n",
       "      <td>DC</td>\n",
       "    </tr>\n",
       "    <tr>\n",
       "      <th>2</th>\n",
       "      <td>3rd Match,  (N) at Kolkata, Mar 23 2024</td>\n",
       "      <td>Kolkata Knight Riders</td>\n",
       "      <td>Sunrisers Hyderabad</td>\n",
       "      <td>KKR won by 4 runs</td>\n",
       "      <td>204/7 (20 ov, target 209)</td>\n",
       "      <td>208/7</td>\n",
       "      <td>KKR</td>\n",
       "      <td>SRH</td>\n",
       "    </tr>\n",
       "    <tr>\n",
       "      <th>3</th>\n",
       "      <td>4th Match,  (D/N) at Jaipur, Mar 24 2024</td>\n",
       "      <td>Rajasthan Royals</td>\n",
       "      <td>Lucknow Super Giants</td>\n",
       "      <td>RR won by 20 runs</td>\n",
       "      <td>173/6 (20 ov, target 194)</td>\n",
       "      <td>193/4</td>\n",
       "      <td>RR</td>\n",
       "      <td>LSG</td>\n",
       "    </tr>\n",
       "    <tr>\n",
       "      <th>4</th>\n",
       "      <td>5th Match,  (N) at Ahmedabad, Mar 24 2024</td>\n",
       "      <td>Gujarat Titans</td>\n",
       "      <td>Mumbai Indians</td>\n",
       "      <td>GT won by 6 runs</td>\n",
       "      <td>162/9 (20 ov, target 169)</td>\n",
       "      <td>168/6</td>\n",
       "      <td>GT</td>\n",
       "      <td>MI</td>\n",
       "    </tr>\n",
       "    <tr>\n",
       "      <th>...</th>\n",
       "      <td>...</td>\n",
       "      <td>...</td>\n",
       "      <td>...</td>\n",
       "      <td>...</td>\n",
       "      <td>...</td>\n",
       "      <td>...</td>\n",
       "      <td>...</td>\n",
       "      <td>...</td>\n",
       "    </tr>\n",
       "    <tr>\n",
       "      <th>69</th>\n",
       "      <td>67th Match,  (N) at Mumbai, May 17 2024</td>\n",
       "      <td>Mumbai Indians</td>\n",
       "      <td>Lucknow Super Giants</td>\n",
       "      <td>LSG won by 18 runs</td>\n",
       "      <td>214/6</td>\n",
       "      <td>196/6 (20 ov, target 215)</td>\n",
       "      <td>MI</td>\n",
       "      <td>LSG</td>\n",
       "    </tr>\n",
       "    <tr>\n",
       "      <th>70</th>\n",
       "      <td>Qualifier 2,  (N) at Chennai, May 24 2024</td>\n",
       "      <td>Rajasthan Royals</td>\n",
       "      <td>Sunrisers Hyderabad</td>\n",
       "      <td>SRH won by 36 runs</td>\n",
       "      <td>175/9</td>\n",
       "      <td>139/7 (20 ov, target 176)</td>\n",
       "      <td>RR</td>\n",
       "      <td>SRH</td>\n",
       "    </tr>\n",
       "    <tr>\n",
       "      <th>71</th>\n",
       "      <td>63rd Match,  (N) at Ahmedabad, May 13 2024</td>\n",
       "      <td>Gujarat Titans</td>\n",
       "      <td>Kolkata Knight Riders</td>\n",
       "      <td>Match abandoned without a ball bowled</td>\n",
       "      <td>None</td>\n",
       "      <td>None</td>\n",
       "      <td>GT</td>\n",
       "      <td>KKR</td>\n",
       "    </tr>\n",
       "    <tr>\n",
       "      <th>72</th>\n",
       "      <td>66th Match,  (N) at Hyderabad, May 16 2024</td>\n",
       "      <td>Sunrisers Hyderabad</td>\n",
       "      <td>Gujarat Titans</td>\n",
       "      <td>Match abandoned without a ball bowled</td>\n",
       "      <td>None</td>\n",
       "      <td>None</td>\n",
       "      <td>SRH</td>\n",
       "      <td>GT</td>\n",
       "    </tr>\n",
       "    <tr>\n",
       "      <th>73</th>\n",
       "      <td>70th Match,  (N) at Guwahati, May 19 2024</td>\n",
       "      <td>Rajasthan Royals</td>\n",
       "      <td>Kolkata Knight Riders</td>\n",
       "      <td>No result (abandoned with a toss)</td>\n",
       "      <td>None</td>\n",
       "      <td>None</td>\n",
       "      <td>RR</td>\n",
       "      <td>KKR</td>\n",
       "    </tr>\n",
       "  </tbody>\n",
       "</table>\n",
       "<p>74 rows × 8 columns</p>\n",
       "</div>"
      ],
      "text/plain": [
       "                                       details              home_team  \\\n",
       "0      1st Match,  (N) at Chennai, Mar 22 2024    Chennai Super Kings   \n",
       "1     2nd Match,  (D/N) at Mohali, Mar 23 2024           Punjab Kings   \n",
       "2      3rd Match,  (N) at Kolkata, Mar 23 2024  Kolkata Knight Riders   \n",
       "3     4th Match,  (D/N) at Jaipur, Mar 24 2024       Rajasthan Royals   \n",
       "4    5th Match,  (N) at Ahmedabad, Mar 24 2024         Gujarat Titans   \n",
       "..                                         ...                    ...   \n",
       "69     67th Match,  (N) at Mumbai, May 17 2024         Mumbai Indians   \n",
       "70   Qualifier 2,  (N) at Chennai, May 24 2024       Rajasthan Royals   \n",
       "71  63rd Match,  (N) at Ahmedabad, May 13 2024         Gujarat Titans   \n",
       "72  66th Match,  (N) at Hyderabad, May 16 2024    Sunrisers Hyderabad   \n",
       "73   70th Match,  (N) at Guwahati, May 19 2024       Rajasthan Royals   \n",
       "\n",
       "                      away_team                                 result  \\\n",
       "0   Royal Challengers Bengaluru             CSK won by 6 wkts (8b rem)   \n",
       "1                Delhi Capitals            PBKS won by 4 wkts (4b rem)   \n",
       "2           Sunrisers Hyderabad                      KKR won by 4 runs   \n",
       "3          Lucknow Super Giants                      RR won by 20 runs   \n",
       "4                Mumbai Indians                       GT won by 6 runs   \n",
       "..                          ...                                    ...   \n",
       "69         Lucknow Super Giants                     LSG won by 18 runs   \n",
       "70          Sunrisers Hyderabad                     SRH won by 36 runs   \n",
       "71        Kolkata Knight Riders  Match abandoned without a ball bowled   \n",
       "72               Gujarat Titans  Match abandoned without a ball bowled   \n",
       "73        Kolkata Knight Riders      No result (abandoned with a toss)   \n",
       "\n",
       "                   away_score                      home_score  \\\n",
       "0                       173/6  176/4 (18.4/20 ov, target 174)   \n",
       "1                       174/9  177/6 (19.2/20 ov, target 175)   \n",
       "2   204/7 (20 ov, target 209)                           208/7   \n",
       "3   173/6 (20 ov, target 194)                           193/4   \n",
       "4   162/9 (20 ov, target 169)                           168/6   \n",
       "..                        ...                             ...   \n",
       "69                      214/6       196/6 (20 ov, target 215)   \n",
       "70                      175/9       139/7 (20 ov, target 176)   \n",
       "71                       None                            None   \n",
       "72                       None                            None   \n",
       "73                       None                            None   \n",
       "\n",
       "   home_team_abbrev away_team_abbrev  \n",
       "0               CSK              RCB  \n",
       "1              PBKS               DC  \n",
       "2               KKR              SRH  \n",
       "3                RR              LSG  \n",
       "4                GT               MI  \n",
       "..              ...              ...  \n",
       "69               MI              LSG  \n",
       "70               RR              SRH  \n",
       "71               GT              KKR  \n",
       "72              SRH               GT  \n",
       "73               RR              KKR  \n",
       "\n",
       "[74 rows x 8 columns]"
      ]
     },
     "execution_count": 148,
     "metadata": {},
     "output_type": "execute_result"
    }
   ],
   "source": [
    "import pandas as pd\n",
    "df = pd.DataFrame(data)\n",
    "df"
   ]
  },
  {
   "cell_type": "code",
   "execution_count": 149,
   "metadata": {},
   "outputs": [],
   "source": [
    "pd.set_option('display.max_columns',None)"
   ]
  },
  {
   "cell_type": "code",
   "execution_count": 150,
   "metadata": {},
   "outputs": [
    {
     "data": {
      "text/html": [
       "<div>\n",
       "<style scoped>\n",
       "    .dataframe tbody tr th:only-of-type {\n",
       "        vertical-align: middle;\n",
       "    }\n",
       "\n",
       "    .dataframe tbody tr th {\n",
       "        vertical-align: top;\n",
       "    }\n",
       "\n",
       "    .dataframe thead th {\n",
       "        text-align: right;\n",
       "    }\n",
       "</style>\n",
       "<table border=\"1\" class=\"dataframe\">\n",
       "  <thead>\n",
       "    <tr style=\"text-align: right;\">\n",
       "      <th></th>\n",
       "      <th>details</th>\n",
       "      <th>home_team</th>\n",
       "      <th>away_team</th>\n",
       "      <th>result</th>\n",
       "      <th>away_score</th>\n",
       "      <th>home_score</th>\n",
       "      <th>home_team_abbrev</th>\n",
       "      <th>away_team_abbrev</th>\n",
       "      <th>match no.</th>\n",
       "      <th>Venue</th>\n",
       "      <th>date</th>\n",
       "    </tr>\n",
       "  </thead>\n",
       "  <tbody>\n",
       "    <tr>\n",
       "      <th>0</th>\n",
       "      <td>1st Match,  (N) at Chennai, Mar 22 2024</td>\n",
       "      <td>Chennai Super Kings</td>\n",
       "      <td>Royal Challengers Bengaluru</td>\n",
       "      <td>CSK won by 6 wkts (8b rem)</td>\n",
       "      <td>173/6</td>\n",
       "      <td>176/4 (18.4/20 ov, target 174)</td>\n",
       "      <td>CSK</td>\n",
       "      <td>RCB</td>\n",
       "      <td>1st Match</td>\n",
       "      <td>(N)  Chennai</td>\n",
       "      <td>Mar 22 2024</td>\n",
       "    </tr>\n",
       "    <tr>\n",
       "      <th>1</th>\n",
       "      <td>2nd Match,  (D/N) at Mohali, Mar 23 2024</td>\n",
       "      <td>Punjab Kings</td>\n",
       "      <td>Delhi Capitals</td>\n",
       "      <td>PBKS won by 4 wkts (4b rem)</td>\n",
       "      <td>174/9</td>\n",
       "      <td>177/6 (19.2/20 ov, target 175)</td>\n",
       "      <td>PBKS</td>\n",
       "      <td>DC</td>\n",
       "      <td>2nd Match</td>\n",
       "      <td>(D/N)  Mohali</td>\n",
       "      <td>Mar 23 2024</td>\n",
       "    </tr>\n",
       "    <tr>\n",
       "      <th>2</th>\n",
       "      <td>3rd Match,  (N) at Kolkata, Mar 23 2024</td>\n",
       "      <td>Kolkata Knight Riders</td>\n",
       "      <td>Sunrisers Hyderabad</td>\n",
       "      <td>KKR won by 4 runs</td>\n",
       "      <td>204/7 (20 ov, target 209)</td>\n",
       "      <td>208/7</td>\n",
       "      <td>KKR</td>\n",
       "      <td>SRH</td>\n",
       "      <td>3rd Match</td>\n",
       "      <td>(N)  Kolka</td>\n",
       "      <td>Mar 23 2024</td>\n",
       "    </tr>\n",
       "    <tr>\n",
       "      <th>3</th>\n",
       "      <td>4th Match,  (D/N) at Jaipur, Mar 24 2024</td>\n",
       "      <td>Rajasthan Royals</td>\n",
       "      <td>Lucknow Super Giants</td>\n",
       "      <td>RR won by 20 runs</td>\n",
       "      <td>173/6 (20 ov, target 194)</td>\n",
       "      <td>193/4</td>\n",
       "      <td>RR</td>\n",
       "      <td>LSG</td>\n",
       "      <td>4th Match</td>\n",
       "      <td>(D/N)  Jaipur</td>\n",
       "      <td>Mar 24 2024</td>\n",
       "    </tr>\n",
       "    <tr>\n",
       "      <th>4</th>\n",
       "      <td>5th Match,  (N) at Ahmedabad, Mar 24 2024</td>\n",
       "      <td>Gujarat Titans</td>\n",
       "      <td>Mumbai Indians</td>\n",
       "      <td>GT won by 6 runs</td>\n",
       "      <td>162/9 (20 ov, target 169)</td>\n",
       "      <td>168/6</td>\n",
       "      <td>GT</td>\n",
       "      <td>MI</td>\n",
       "      <td>5th Match</td>\n",
       "      <td>(N)  Ahmedabad</td>\n",
       "      <td>Mar 24 2024</td>\n",
       "    </tr>\n",
       "    <tr>\n",
       "      <th>...</th>\n",
       "      <td>...</td>\n",
       "      <td>...</td>\n",
       "      <td>...</td>\n",
       "      <td>...</td>\n",
       "      <td>...</td>\n",
       "      <td>...</td>\n",
       "      <td>...</td>\n",
       "      <td>...</td>\n",
       "      <td>...</td>\n",
       "      <td>...</td>\n",
       "      <td>...</td>\n",
       "    </tr>\n",
       "    <tr>\n",
       "      <th>69</th>\n",
       "      <td>67th Match,  (N) at Mumbai, May 17 2024</td>\n",
       "      <td>Mumbai Indians</td>\n",
       "      <td>Lucknow Super Giants</td>\n",
       "      <td>LSG won by 18 runs</td>\n",
       "      <td>214/6</td>\n",
       "      <td>196/6 (20 ov, target 215)</td>\n",
       "      <td>MI</td>\n",
       "      <td>LSG</td>\n",
       "      <td>67th Match</td>\n",
       "      <td>(N)  Mumbai</td>\n",
       "      <td>May 17 2024</td>\n",
       "    </tr>\n",
       "    <tr>\n",
       "      <th>70</th>\n",
       "      <td>Qualifier 2,  (N) at Chennai, May 24 2024</td>\n",
       "      <td>Rajasthan Royals</td>\n",
       "      <td>Sunrisers Hyderabad</td>\n",
       "      <td>SRH won by 36 runs</td>\n",
       "      <td>175/9</td>\n",
       "      <td>139/7 (20 ov, target 176)</td>\n",
       "      <td>RR</td>\n",
       "      <td>SRH</td>\n",
       "      <td>Qualifier 2</td>\n",
       "      <td>(N)  Chennai</td>\n",
       "      <td>May 24 2024</td>\n",
       "    </tr>\n",
       "    <tr>\n",
       "      <th>71</th>\n",
       "      <td>63rd Match,  (N) at Ahmedabad, May 13 2024</td>\n",
       "      <td>Gujarat Titans</td>\n",
       "      <td>Kolkata Knight Riders</td>\n",
       "      <td>Match abandoned without a ball bowled</td>\n",
       "      <td>None</td>\n",
       "      <td>None</td>\n",
       "      <td>GT</td>\n",
       "      <td>KKR</td>\n",
       "      <td>63rd Match</td>\n",
       "      <td>(N)  Ahmedabad</td>\n",
       "      <td>May 13 2024</td>\n",
       "    </tr>\n",
       "    <tr>\n",
       "      <th>72</th>\n",
       "      <td>66th Match,  (N) at Hyderabad, May 16 2024</td>\n",
       "      <td>Sunrisers Hyderabad</td>\n",
       "      <td>Gujarat Titans</td>\n",
       "      <td>Match abandoned without a ball bowled</td>\n",
       "      <td>None</td>\n",
       "      <td>None</td>\n",
       "      <td>SRH</td>\n",
       "      <td>GT</td>\n",
       "      <td>66th Match</td>\n",
       "      <td>(N)  Hyderabad</td>\n",
       "      <td>May 16 2024</td>\n",
       "    </tr>\n",
       "    <tr>\n",
       "      <th>73</th>\n",
       "      <td>70th Match,  (N) at Guwahati, May 19 2024</td>\n",
       "      <td>Rajasthan Royals</td>\n",
       "      <td>Kolkata Knight Riders</td>\n",
       "      <td>No result (abandoned with a toss)</td>\n",
       "      <td>None</td>\n",
       "      <td>None</td>\n",
       "      <td>RR</td>\n",
       "      <td>KKR</td>\n",
       "      <td>70th Match</td>\n",
       "      <td>(N)  Guwahi</td>\n",
       "      <td>May 19 2024</td>\n",
       "    </tr>\n",
       "  </tbody>\n",
       "</table>\n",
       "<p>74 rows × 11 columns</p>\n",
       "</div>"
      ],
      "text/plain": [
       "                                       details              home_team  \\\n",
       "0      1st Match,  (N) at Chennai, Mar 22 2024    Chennai Super Kings   \n",
       "1     2nd Match,  (D/N) at Mohali, Mar 23 2024           Punjab Kings   \n",
       "2      3rd Match,  (N) at Kolkata, Mar 23 2024  Kolkata Knight Riders   \n",
       "3     4th Match,  (D/N) at Jaipur, Mar 24 2024       Rajasthan Royals   \n",
       "4    5th Match,  (N) at Ahmedabad, Mar 24 2024         Gujarat Titans   \n",
       "..                                         ...                    ...   \n",
       "69     67th Match,  (N) at Mumbai, May 17 2024         Mumbai Indians   \n",
       "70   Qualifier 2,  (N) at Chennai, May 24 2024       Rajasthan Royals   \n",
       "71  63rd Match,  (N) at Ahmedabad, May 13 2024         Gujarat Titans   \n",
       "72  66th Match,  (N) at Hyderabad, May 16 2024    Sunrisers Hyderabad   \n",
       "73   70th Match,  (N) at Guwahati, May 19 2024       Rajasthan Royals   \n",
       "\n",
       "                      away_team                                 result  \\\n",
       "0   Royal Challengers Bengaluru             CSK won by 6 wkts (8b rem)   \n",
       "1                Delhi Capitals            PBKS won by 4 wkts (4b rem)   \n",
       "2           Sunrisers Hyderabad                      KKR won by 4 runs   \n",
       "3          Lucknow Super Giants                      RR won by 20 runs   \n",
       "4                Mumbai Indians                       GT won by 6 runs   \n",
       "..                          ...                                    ...   \n",
       "69         Lucknow Super Giants                     LSG won by 18 runs   \n",
       "70          Sunrisers Hyderabad                     SRH won by 36 runs   \n",
       "71        Kolkata Knight Riders  Match abandoned without a ball bowled   \n",
       "72               Gujarat Titans  Match abandoned without a ball bowled   \n",
       "73        Kolkata Knight Riders      No result (abandoned with a toss)   \n",
       "\n",
       "                   away_score                      home_score  \\\n",
       "0                       173/6  176/4 (18.4/20 ov, target 174)   \n",
       "1                       174/9  177/6 (19.2/20 ov, target 175)   \n",
       "2   204/7 (20 ov, target 209)                           208/7   \n",
       "3   173/6 (20 ov, target 194)                           193/4   \n",
       "4   162/9 (20 ov, target 169)                           168/6   \n",
       "..                        ...                             ...   \n",
       "69                      214/6       196/6 (20 ov, target 215)   \n",
       "70                      175/9       139/7 (20 ov, target 176)   \n",
       "71                       None                            None   \n",
       "72                       None                            None   \n",
       "73                       None                            None   \n",
       "\n",
       "   home_team_abbrev away_team_abbrev    match no.             Venue  \\\n",
       "0               CSK              RCB    1st Match      (N)  Chennai   \n",
       "1              PBKS               DC    2nd Match     (D/N)  Mohali   \n",
       "2               KKR              SRH    3rd Match        (N)  Kolka   \n",
       "3                RR              LSG    4th Match     (D/N)  Jaipur   \n",
       "4                GT               MI    5th Match    (N)  Ahmedabad   \n",
       "..              ...              ...          ...               ...   \n",
       "69               MI              LSG   67th Match       (N)  Mumbai   \n",
       "70               RR              SRH  Qualifier 2      (N)  Chennai   \n",
       "71               GT              KKR   63rd Match    (N)  Ahmedabad   \n",
       "72              SRH               GT   66th Match    (N)  Hyderabad   \n",
       "73               RR              KKR   70th Match       (N)  Guwahi   \n",
       "\n",
       "            date  \n",
       "0    Mar 22 2024  \n",
       "1    Mar 23 2024  \n",
       "2    Mar 23 2024  \n",
       "3    Mar 24 2024  \n",
       "4    Mar 24 2024  \n",
       "..           ...  \n",
       "69   May 17 2024  \n",
       "70   May 24 2024  \n",
       "71   May 13 2024  \n",
       "72   May 16 2024  \n",
       "73   May 19 2024  \n",
       "\n",
       "[74 rows x 11 columns]"
      ]
     },
     "execution_count": 150,
     "metadata": {},
     "output_type": "execute_result"
    }
   ],
   "source": [
    "x= df['details'].str.split(',',expand=True)\n",
    "x.columns=['match no.'] + ['Venue'] + ['date']\n",
    "\n",
    "v=x['Venue'].tolist()\n",
    "num = [i.replace('at', '') if i else None for i in v]\n",
    "x['Venue']= num\n",
    "df['match no.'] = x['match no.']\n",
    "df['Venue'] = x['Venue']\n",
    "df['date'] = x['date']\n",
    "df"
   ]
  },
  {
   "cell_type": "code",
   "execution_count": 151,
   "metadata": {},
   "outputs": [
    {
     "data": {
      "text/html": [
       "<div>\n",
       "<style scoped>\n",
       "    .dataframe tbody tr th:only-of-type {\n",
       "        vertical-align: middle;\n",
       "    }\n",
       "\n",
       "    .dataframe tbody tr th {\n",
       "        vertical-align: top;\n",
       "    }\n",
       "\n",
       "    .dataframe thead th {\n",
       "        text-align: right;\n",
       "    }\n",
       "</style>\n",
       "<table border=\"1\" class=\"dataframe\">\n",
       "  <thead>\n",
       "    <tr style=\"text-align: right;\">\n",
       "      <th></th>\n",
       "      <th>result_outcome</th>\n",
       "      <th>balls_remaining</th>\n",
       "    </tr>\n",
       "  </thead>\n",
       "  <tbody>\n",
       "    <tr>\n",
       "      <th>0</th>\n",
       "      <td>CSK won by 6 wkts</td>\n",
       "      <td>8b rem)</td>\n",
       "    </tr>\n",
       "    <tr>\n",
       "      <th>1</th>\n",
       "      <td>PBKS won by 4 wkts</td>\n",
       "      <td>4b rem)</td>\n",
       "    </tr>\n",
       "    <tr>\n",
       "      <th>2</th>\n",
       "      <td>KKR won by 4 runs</td>\n",
       "      <td>None</td>\n",
       "    </tr>\n",
       "    <tr>\n",
       "      <th>3</th>\n",
       "      <td>RR won by 20 runs</td>\n",
       "      <td>None</td>\n",
       "    </tr>\n",
       "    <tr>\n",
       "      <th>4</th>\n",
       "      <td>GT won by 6 runs</td>\n",
       "      <td>None</td>\n",
       "    </tr>\n",
       "    <tr>\n",
       "      <th>...</th>\n",
       "      <td>...</td>\n",
       "      <td>...</td>\n",
       "    </tr>\n",
       "    <tr>\n",
       "      <th>69</th>\n",
       "      <td>LSG won by 18 runs</td>\n",
       "      <td>None</td>\n",
       "    </tr>\n",
       "    <tr>\n",
       "      <th>70</th>\n",
       "      <td>SRH won by 36 runs</td>\n",
       "      <td>None</td>\n",
       "    </tr>\n",
       "    <tr>\n",
       "      <th>71</th>\n",
       "      <td>Match abandoned without a ball bowled</td>\n",
       "      <td>None</td>\n",
       "    </tr>\n",
       "    <tr>\n",
       "      <th>72</th>\n",
       "      <td>Match abandoned without a ball bowled</td>\n",
       "      <td>None</td>\n",
       "    </tr>\n",
       "    <tr>\n",
       "      <th>73</th>\n",
       "      <td>No result</td>\n",
       "      <td>abandoned with a toss)</td>\n",
       "    </tr>\n",
       "  </tbody>\n",
       "</table>\n",
       "<p>74 rows × 2 columns</p>\n",
       "</div>"
      ],
      "text/plain": [
       "                           result_outcome         balls_remaining\n",
       "0                      CSK won by 6 wkts                  8b rem)\n",
       "1                     PBKS won by 4 wkts                  4b rem)\n",
       "2                       KKR won by 4 runs                    None\n",
       "3                       RR won by 20 runs                    None\n",
       "4                        GT won by 6 runs                    None\n",
       "..                                    ...                     ...\n",
       "69                     LSG won by 18 runs                    None\n",
       "70                     SRH won by 36 runs                    None\n",
       "71  Match abandoned without a ball bowled                    None\n",
       "72  Match abandoned without a ball bowled                    None\n",
       "73                             No result   abandoned with a toss)\n",
       "\n",
       "[74 rows x 2 columns]"
      ]
     },
     "execution_count": 151,
     "metadata": {},
     "output_type": "execute_result"
    }
   ],
   "source": [
    "#spliting result column\n",
    "x= df['result'].str.split('(',expand=True)\n",
    "# Renaming the first column as 'result_outcome'\n",
    "x.columns = ['result_outcome']+['balls_remaining']\n",
    "x"
   ]
  },
  {
   "cell_type": "code",
   "execution_count": 152,
   "metadata": {},
   "outputs": [
    {
     "data": {
      "text/html": [
       "<div>\n",
       "<style scoped>\n",
       "    .dataframe tbody tr th:only-of-type {\n",
       "        vertical-align: middle;\n",
       "    }\n",
       "\n",
       "    .dataframe tbody tr th {\n",
       "        vertical-align: top;\n",
       "    }\n",
       "\n",
       "    .dataframe thead th {\n",
       "        text-align: right;\n",
       "    }\n",
       "</style>\n",
       "<table border=\"1\" class=\"dataframe\">\n",
       "  <thead>\n",
       "    <tr style=\"text-align: right;\">\n",
       "      <th></th>\n",
       "      <th>result_outcome</th>\n",
       "      <th>balls_remaining</th>\n",
       "    </tr>\n",
       "  </thead>\n",
       "  <tbody>\n",
       "    <tr>\n",
       "      <th>0</th>\n",
       "      <td>CSK won by 6 wkts</td>\n",
       "      <td>8</td>\n",
       "    </tr>\n",
       "    <tr>\n",
       "      <th>1</th>\n",
       "      <td>PBKS won by 4 wkts</td>\n",
       "      <td>4</td>\n",
       "    </tr>\n",
       "    <tr>\n",
       "      <th>2</th>\n",
       "      <td>KKR won by 4 runs</td>\n",
       "      <td>None</td>\n",
       "    </tr>\n",
       "    <tr>\n",
       "      <th>3</th>\n",
       "      <td>RR won by 20 runs</td>\n",
       "      <td>None</td>\n",
       "    </tr>\n",
       "    <tr>\n",
       "      <th>4</th>\n",
       "      <td>GT won by 6 runs</td>\n",
       "      <td>None</td>\n",
       "    </tr>\n",
       "    <tr>\n",
       "      <th>...</th>\n",
       "      <td>...</td>\n",
       "      <td>...</td>\n",
       "    </tr>\n",
       "    <tr>\n",
       "      <th>69</th>\n",
       "      <td>LSG won by 18 runs</td>\n",
       "      <td>None</td>\n",
       "    </tr>\n",
       "    <tr>\n",
       "      <th>70</th>\n",
       "      <td>SRH won by 36 runs</td>\n",
       "      <td>None</td>\n",
       "    </tr>\n",
       "    <tr>\n",
       "      <th>71</th>\n",
       "      <td>Match abandoned without a ball bowled</td>\n",
       "      <td>None</td>\n",
       "    </tr>\n",
       "    <tr>\n",
       "      <th>72</th>\n",
       "      <td>Match abandoned without a ball bowled</td>\n",
       "      <td>None</td>\n",
       "    </tr>\n",
       "    <tr>\n",
       "      <th>73</th>\n",
       "      <td>No result</td>\n",
       "      <td>abandoned with a toss)</td>\n",
       "    </tr>\n",
       "  </tbody>\n",
       "</table>\n",
       "<p>74 rows × 2 columns</p>\n",
       "</div>"
      ],
      "text/plain": [
       "                           result_outcome         balls_remaining\n",
       "0                      CSK won by 6 wkts                        8\n",
       "1                     PBKS won by 4 wkts                        4\n",
       "2                       KKR won by 4 runs                    None\n",
       "3                       RR won by 20 runs                    None\n",
       "4                        GT won by 6 runs                    None\n",
       "..                                    ...                     ...\n",
       "69                     LSG won by 18 runs                    None\n",
       "70                     SRH won by 36 runs                    None\n",
       "71  Match abandoned without a ball bowled                    None\n",
       "72  Match abandoned without a ball bowled                    None\n",
       "73                             No result   abandoned with a toss)\n",
       "\n",
       "[74 rows x 2 columns]"
      ]
     },
     "execution_count": 152,
     "metadata": {},
     "output_type": "execute_result"
    }
   ],
   "source": [
    "#Removing unecessary words from balls remaining col\n",
    "v=x['balls_remaining'].tolist()\n",
    "num = [i.replace('b rem)', '').strip() if i else None for i in v]\n",
    "x['balls_remaining']= num\n",
    "#taking out which team won\n",
    "w=x['result_outcome']\n",
    "for i in w :\n",
    "    idx=i.find('by')\n",
    "    s=i[idx+2:]#extracting substring of win_margin\n",
    "    # sn=i[:idx-4] #extracting substring of winning team\n",
    "x"
   ]
  },
  {
   "cell_type": "code",
   "execution_count": 153,
   "metadata": {},
   "outputs": [],
   "source": [
    "cols_to_drop = ['details','result']\n",
    "df = df.drop(columns=cols_to_drop)"
   ]
  },
  {
   "cell_type": "code",
   "execution_count": 154,
   "metadata": {},
   "outputs": [],
   "source": [
    "y= df['away_score'].str.split('(',expand=True)\n",
    "y.columns=['away_score_runs'] + ['away_score_details']\n",
    "z= df['home_score'].str.split('(',expand=True)\n",
    "z.columns=['home_score_runs'] + ['home_score_details']"
   ]
  },
  {
   "cell_type": "code",
   "execution_count": 155,
   "metadata": {},
   "outputs": [],
   "source": [
    "import numpy as np"
   ]
  },
  {
   "cell_type": "code",
   "execution_count": 156,
   "metadata": {},
   "outputs": [
    {
     "data": {
      "text/html": [
       "<div>\n",
       "<style scoped>\n",
       "    .dataframe tbody tr th:only-of-type {\n",
       "        vertical-align: middle;\n",
       "    }\n",
       "\n",
       "    .dataframe tbody tr th {\n",
       "        vertical-align: top;\n",
       "    }\n",
       "\n",
       "    .dataframe thead th {\n",
       "        text-align: right;\n",
       "    }\n",
       "</style>\n",
       "<table border=\"1\" class=\"dataframe\">\n",
       "  <thead>\n",
       "    <tr style=\"text-align: right;\">\n",
       "      <th></th>\n",
       "      <th>match no.</th>\n",
       "      <th>date</th>\n",
       "      <th>Venue</th>\n",
       "      <th>home_team</th>\n",
       "      <th>away_team</th>\n",
       "      <th>home_team_abbrev</th>\n",
       "      <th>away_team_abbrev</th>\n",
       "      <th>result_outcome</th>\n",
       "      <th>balls_remaining</th>\n",
       "      <th>away_score</th>\n",
       "      <th>away_score_runs</th>\n",
       "      <th>away_score_details</th>\n",
       "      <th>home_score</th>\n",
       "      <th>home_score_runs</th>\n",
       "      <th>home_score_details</th>\n",
       "    </tr>\n",
       "  </thead>\n",
       "  <tbody>\n",
       "    <tr>\n",
       "      <th>0</th>\n",
       "      <td>1st Match</td>\n",
       "      <td>Mar 22 2024</td>\n",
       "      <td>(N)  Chennai</td>\n",
       "      <td>Chennai Super Kings</td>\n",
       "      <td>Royal Challengers Bengaluru</td>\n",
       "      <td>CSK</td>\n",
       "      <td>RCB</td>\n",
       "      <td>CSK won by 6 wkts</td>\n",
       "      <td>8</td>\n",
       "      <td>173/6</td>\n",
       "      <td>173/6</td>\n",
       "      <td>0</td>\n",
       "      <td>176/4 (18.4/20 ov, target 174)</td>\n",
       "      <td>176/4</td>\n",
       "      <td>18.4/20 ov, target 174)</td>\n",
       "    </tr>\n",
       "    <tr>\n",
       "      <th>1</th>\n",
       "      <td>2nd Match</td>\n",
       "      <td>Mar 23 2024</td>\n",
       "      <td>(D/N)  Mohali</td>\n",
       "      <td>Punjab Kings</td>\n",
       "      <td>Delhi Capitals</td>\n",
       "      <td>PBKS</td>\n",
       "      <td>DC</td>\n",
       "      <td>PBKS won by 4 wkts</td>\n",
       "      <td>4</td>\n",
       "      <td>174/9</td>\n",
       "      <td>174/9</td>\n",
       "      <td>0</td>\n",
       "      <td>177/6 (19.2/20 ov, target 175)</td>\n",
       "      <td>177/6</td>\n",
       "      <td>19.2/20 ov, target 175)</td>\n",
       "    </tr>\n",
       "    <tr>\n",
       "      <th>2</th>\n",
       "      <td>3rd Match</td>\n",
       "      <td>Mar 23 2024</td>\n",
       "      <td>(N)  Kolka</td>\n",
       "      <td>Kolkata Knight Riders</td>\n",
       "      <td>Sunrisers Hyderabad</td>\n",
       "      <td>KKR</td>\n",
       "      <td>SRH</td>\n",
       "      <td>KKR won by 4 runs</td>\n",
       "      <td>0</td>\n",
       "      <td>204/7 (20 ov, target 209)</td>\n",
       "      <td>204/7</td>\n",
       "      <td>20 ov, target 209)</td>\n",
       "      <td>208/7</td>\n",
       "      <td>208/7</td>\n",
       "      <td>0</td>\n",
       "    </tr>\n",
       "    <tr>\n",
       "      <th>3</th>\n",
       "      <td>4th Match</td>\n",
       "      <td>Mar 24 2024</td>\n",
       "      <td>(D/N)  Jaipur</td>\n",
       "      <td>Rajasthan Royals</td>\n",
       "      <td>Lucknow Super Giants</td>\n",
       "      <td>RR</td>\n",
       "      <td>LSG</td>\n",
       "      <td>RR won by 20 runs</td>\n",
       "      <td>0</td>\n",
       "      <td>173/6 (20 ov, target 194)</td>\n",
       "      <td>173/6</td>\n",
       "      <td>20 ov, target 194)</td>\n",
       "      <td>193/4</td>\n",
       "      <td>193/4</td>\n",
       "      <td>0</td>\n",
       "    </tr>\n",
       "    <tr>\n",
       "      <th>4</th>\n",
       "      <td>5th Match</td>\n",
       "      <td>Mar 24 2024</td>\n",
       "      <td>(N)  Ahmedabad</td>\n",
       "      <td>Gujarat Titans</td>\n",
       "      <td>Mumbai Indians</td>\n",
       "      <td>GT</td>\n",
       "      <td>MI</td>\n",
       "      <td>GT won by 6 runs</td>\n",
       "      <td>0</td>\n",
       "      <td>162/9 (20 ov, target 169)</td>\n",
       "      <td>162/9</td>\n",
       "      <td>20 ov, target 169)</td>\n",
       "      <td>168/6</td>\n",
       "      <td>168/6</td>\n",
       "      <td>0</td>\n",
       "    </tr>\n",
       "    <tr>\n",
       "      <th>...</th>\n",
       "      <td>...</td>\n",
       "      <td>...</td>\n",
       "      <td>...</td>\n",
       "      <td>...</td>\n",
       "      <td>...</td>\n",
       "      <td>...</td>\n",
       "      <td>...</td>\n",
       "      <td>...</td>\n",
       "      <td>...</td>\n",
       "      <td>...</td>\n",
       "      <td>...</td>\n",
       "      <td>...</td>\n",
       "      <td>...</td>\n",
       "      <td>...</td>\n",
       "      <td>...</td>\n",
       "    </tr>\n",
       "    <tr>\n",
       "      <th>69</th>\n",
       "      <td>67th Match</td>\n",
       "      <td>May 17 2024</td>\n",
       "      <td>(N)  Mumbai</td>\n",
       "      <td>Mumbai Indians</td>\n",
       "      <td>Lucknow Super Giants</td>\n",
       "      <td>MI</td>\n",
       "      <td>LSG</td>\n",
       "      <td>LSG won by 18 runs</td>\n",
       "      <td>0</td>\n",
       "      <td>214/6</td>\n",
       "      <td>214/6</td>\n",
       "      <td>0</td>\n",
       "      <td>196/6 (20 ov, target 215)</td>\n",
       "      <td>196/6</td>\n",
       "      <td>20 ov, target 215)</td>\n",
       "    </tr>\n",
       "    <tr>\n",
       "      <th>70</th>\n",
       "      <td>Qualifier 2</td>\n",
       "      <td>May 24 2024</td>\n",
       "      <td>(N)  Chennai</td>\n",
       "      <td>Rajasthan Royals</td>\n",
       "      <td>Sunrisers Hyderabad</td>\n",
       "      <td>RR</td>\n",
       "      <td>SRH</td>\n",
       "      <td>SRH won by 36 runs</td>\n",
       "      <td>0</td>\n",
       "      <td>175/9</td>\n",
       "      <td>175/9</td>\n",
       "      <td>0</td>\n",
       "      <td>139/7 (20 ov, target 176)</td>\n",
       "      <td>139/7</td>\n",
       "      <td>20 ov, target 176)</td>\n",
       "    </tr>\n",
       "    <tr>\n",
       "      <th>71</th>\n",
       "      <td>63rd Match</td>\n",
       "      <td>May 13 2024</td>\n",
       "      <td>(N)  Ahmedabad</td>\n",
       "      <td>Gujarat Titans</td>\n",
       "      <td>Kolkata Knight Riders</td>\n",
       "      <td>GT</td>\n",
       "      <td>KKR</td>\n",
       "      <td>Match abandoned without a ball bowled</td>\n",
       "      <td>0</td>\n",
       "      <td>None</td>\n",
       "      <td>None</td>\n",
       "      <td>0</td>\n",
       "      <td>None</td>\n",
       "      <td>None</td>\n",
       "      <td>0</td>\n",
       "    </tr>\n",
       "    <tr>\n",
       "      <th>72</th>\n",
       "      <td>66th Match</td>\n",
       "      <td>May 16 2024</td>\n",
       "      <td>(N)  Hyderabad</td>\n",
       "      <td>Sunrisers Hyderabad</td>\n",
       "      <td>Gujarat Titans</td>\n",
       "      <td>SRH</td>\n",
       "      <td>GT</td>\n",
       "      <td>Match abandoned without a ball bowled</td>\n",
       "      <td>0</td>\n",
       "      <td>None</td>\n",
       "      <td>None</td>\n",
       "      <td>0</td>\n",
       "      <td>None</td>\n",
       "      <td>None</td>\n",
       "      <td>0</td>\n",
       "    </tr>\n",
       "    <tr>\n",
       "      <th>73</th>\n",
       "      <td>70th Match</td>\n",
       "      <td>May 19 2024</td>\n",
       "      <td>(N)  Guwahi</td>\n",
       "      <td>Rajasthan Royals</td>\n",
       "      <td>Kolkata Knight Riders</td>\n",
       "      <td>RR</td>\n",
       "      <td>KKR</td>\n",
       "      <td>No result</td>\n",
       "      <td>abandoned with a toss)</td>\n",
       "      <td>None</td>\n",
       "      <td>None</td>\n",
       "      <td>0</td>\n",
       "      <td>None</td>\n",
       "      <td>None</td>\n",
       "      <td>0</td>\n",
       "    </tr>\n",
       "  </tbody>\n",
       "</table>\n",
       "<p>74 rows × 15 columns</p>\n",
       "</div>"
      ],
      "text/plain": [
       "      match no.          date             Venue              home_team  \\\n",
       "0     1st Match   Mar 22 2024      (N)  Chennai    Chennai Super Kings   \n",
       "1     2nd Match   Mar 23 2024     (D/N)  Mohali           Punjab Kings   \n",
       "2     3rd Match   Mar 23 2024        (N)  Kolka  Kolkata Knight Riders   \n",
       "3     4th Match   Mar 24 2024     (D/N)  Jaipur       Rajasthan Royals   \n",
       "4     5th Match   Mar 24 2024    (N)  Ahmedabad         Gujarat Titans   \n",
       "..          ...           ...               ...                    ...   \n",
       "69   67th Match   May 17 2024       (N)  Mumbai         Mumbai Indians   \n",
       "70  Qualifier 2   May 24 2024      (N)  Chennai       Rajasthan Royals   \n",
       "71   63rd Match   May 13 2024    (N)  Ahmedabad         Gujarat Titans   \n",
       "72   66th Match   May 16 2024    (N)  Hyderabad    Sunrisers Hyderabad   \n",
       "73   70th Match   May 19 2024       (N)  Guwahi       Rajasthan Royals   \n",
       "\n",
       "                      away_team home_team_abbrev away_team_abbrev  \\\n",
       "0   Royal Challengers Bengaluru              CSK              RCB   \n",
       "1                Delhi Capitals             PBKS               DC   \n",
       "2           Sunrisers Hyderabad              KKR              SRH   \n",
       "3          Lucknow Super Giants               RR              LSG   \n",
       "4                Mumbai Indians               GT               MI   \n",
       "..                          ...              ...              ...   \n",
       "69         Lucknow Super Giants               MI              LSG   \n",
       "70          Sunrisers Hyderabad               RR              SRH   \n",
       "71        Kolkata Knight Riders               GT              KKR   \n",
       "72               Gujarat Titans              SRH               GT   \n",
       "73        Kolkata Knight Riders               RR              KKR   \n",
       "\n",
       "                           result_outcome         balls_remaining  \\\n",
       "0                      CSK won by 6 wkts                        8   \n",
       "1                     PBKS won by 4 wkts                        4   \n",
       "2                       KKR won by 4 runs                       0   \n",
       "3                       RR won by 20 runs                       0   \n",
       "4                        GT won by 6 runs                       0   \n",
       "..                                    ...                     ...   \n",
       "69                     LSG won by 18 runs                       0   \n",
       "70                     SRH won by 36 runs                       0   \n",
       "71  Match abandoned without a ball bowled                       0   \n",
       "72  Match abandoned without a ball bowled                       0   \n",
       "73                             No result   abandoned with a toss)   \n",
       "\n",
       "                   away_score away_score_runs  away_score_details  \\\n",
       "0                       173/6           173/6                   0   \n",
       "1                       174/9           174/9                   0   \n",
       "2   204/7 (20 ov, target 209)          204/7   20 ov, target 209)   \n",
       "3   173/6 (20 ov, target 194)          173/6   20 ov, target 194)   \n",
       "4   162/9 (20 ov, target 169)          162/9   20 ov, target 169)   \n",
       "..                        ...             ...                 ...   \n",
       "69                      214/6           214/6                   0   \n",
       "70                      175/9           175/9                   0   \n",
       "71                       None            None                   0   \n",
       "72                       None            None                   0   \n",
       "73                       None            None                   0   \n",
       "\n",
       "                        home_score home_score_runs       home_score_details  \n",
       "0   176/4 (18.4/20 ov, target 174)          176/4   18.4/20 ov, target 174)  \n",
       "1   177/6 (19.2/20 ov, target 175)          177/6   19.2/20 ov, target 175)  \n",
       "2                            208/7           208/7                        0  \n",
       "3                            193/4           193/4                        0  \n",
       "4                            168/6           168/6                        0  \n",
       "..                             ...             ...                      ...  \n",
       "69       196/6 (20 ov, target 215)          196/6        20 ov, target 215)  \n",
       "70       139/7 (20 ov, target 176)          139/7        20 ov, target 176)  \n",
       "71                            None            None                        0  \n",
       "72                            None            None                        0  \n",
       "73                            None            None                        0  \n",
       "\n",
       "[74 rows x 15 columns]"
      ]
     },
     "execution_count": 156,
     "metadata": {},
     "output_type": "execute_result"
    }
   ],
   "source": [
    "df['result_outcome']= x['result_outcome']\n",
    "df['balls_remaining'] = x['balls_remaining']\n",
    "df['away_score_runs'] = y['away_score_runs']\n",
    "df['away_score_details'] = y['away_score_details']\n",
    "df['home_score_runs'] = z['home_score_runs']\n",
    "df['home_score_details'] = z['home_score_details']\n",
    "\n",
    "df = df[['match no.','date','Venue', 'home_team', 'away_team','home_team_abbrev','away_team_abbrev', 'result_outcome', 'balls_remaining', 'away_score','away_score_runs', 'away_score_details','home_score', 'home_score_runs', 'home_score_details']]\n",
    "\n",
    "\n",
    "df['balls_remaining'] = df['balls_remaining'].fillna(0)\n",
    "df['away_score_details'] = df['away_score_details'].fillna(0)\n",
    "df['home_score_details'] = df['home_score_details'].fillna(0)\n",
    "df"
   ]
  },
  {
   "cell_type": "code",
   "execution_count": 157,
   "metadata": {},
   "outputs": [
    {
     "data": {
      "text/html": [
       "<div>\n",
       "<style scoped>\n",
       "    .dataframe tbody tr th:only-of-type {\n",
       "        vertical-align: middle;\n",
       "    }\n",
       "\n",
       "    .dataframe tbody tr th {\n",
       "        vertical-align: top;\n",
       "    }\n",
       "\n",
       "    .dataframe thead th {\n",
       "        text-align: right;\n",
       "    }\n",
       "</style>\n",
       "<table border=\"1\" class=\"dataframe\">\n",
       "  <thead>\n",
       "    <tr style=\"text-align: right;\">\n",
       "      <th></th>\n",
       "      <th>match no.</th>\n",
       "      <th>cleaned_match_no</th>\n",
       "    </tr>\n",
       "  </thead>\n",
       "  <tbody>\n",
       "    <tr>\n",
       "      <th>0</th>\n",
       "      <td>1st Match</td>\n",
       "      <td>1st</td>\n",
       "    </tr>\n",
       "    <tr>\n",
       "      <th>1</th>\n",
       "      <td>2nd Match</td>\n",
       "      <td>2nd</td>\n",
       "    </tr>\n",
       "    <tr>\n",
       "      <th>2</th>\n",
       "      <td>3rd Match</td>\n",
       "      <td>3rd</td>\n",
       "    </tr>\n",
       "    <tr>\n",
       "      <th>3</th>\n",
       "      <td>4th Match</td>\n",
       "      <td>4th</td>\n",
       "    </tr>\n",
       "    <tr>\n",
       "      <th>4</th>\n",
       "      <td>5th Match</td>\n",
       "      <td>5th</td>\n",
       "    </tr>\n",
       "    <tr>\n",
       "      <th>...</th>\n",
       "      <td>...</td>\n",
       "      <td>...</td>\n",
       "    </tr>\n",
       "    <tr>\n",
       "      <th>69</th>\n",
       "      <td>67th Match</td>\n",
       "      <td>67th</td>\n",
       "    </tr>\n",
       "    <tr>\n",
       "      <th>70</th>\n",
       "      <td>Qualifier 2</td>\n",
       "      <td>qualifier 2</td>\n",
       "    </tr>\n",
       "    <tr>\n",
       "      <th>71</th>\n",
       "      <td>63rd Match</td>\n",
       "      <td>63rd</td>\n",
       "    </tr>\n",
       "    <tr>\n",
       "      <th>72</th>\n",
       "      <td>66th Match</td>\n",
       "      <td>66th</td>\n",
       "    </tr>\n",
       "    <tr>\n",
       "      <th>73</th>\n",
       "      <td>70th Match</td>\n",
       "      <td>70th</td>\n",
       "    </tr>\n",
       "  </tbody>\n",
       "</table>\n",
       "<p>74 rows × 2 columns</p>\n",
       "</div>"
      ],
      "text/plain": [
       "      match no. cleaned_match_no\n",
       "0     1st Match              1st\n",
       "1     2nd Match              2nd\n",
       "2     3rd Match              3rd\n",
       "3     4th Match              4th\n",
       "4     5th Match              5th\n",
       "..          ...              ...\n",
       "69   67th Match             67th\n",
       "70  Qualifier 2      qualifier 2\n",
       "71   63rd Match             63rd\n",
       "72   66th Match             66th\n",
       "73   70th Match             70th\n",
       "\n",
       "[74 rows x 2 columns]"
      ]
     },
     "execution_count": 157,
     "metadata": {},
     "output_type": "execute_result"
    }
   ],
   "source": [
    "def clean_match_no(match_no):\n",
    "    # Convert to lowercase and strip leading/trailing spaces\n",
    "    match_no = match_no.lower().strip()\n",
    "    \n",
    "    # Remove the word \"match\" and extract the number\n",
    "    match_no = match_no.replace(\"match\", \"\").strip()\n",
    "    return match_no\n",
    "\n",
    "# Apply the cleaning function to the match_no column\n",
    "df['cleaned_match_no'] = df['match no.'].apply(clean_match_no)\n",
    "\n",
    "# Display the cleaned column\n",
    "df[['match no.', 'cleaned_match_no']]"
   ]
  },
  {
   "cell_type": "code",
   "execution_count": 158,
   "metadata": {},
   "outputs": [
    {
     "name": "stdout",
     "output_type": "stream",
     "text": [
      "        home_score_details home_target  away_score_details away_target\n",
      "0  18.4/20 ov, target 174)         174                   0           0\n",
      "1  19.2/20 ov, target 175)         175                   0           0\n",
      "2                        0           0  20 ov, target 209)         209\n",
      "3                        0           0  20 ov, target 194)         194\n",
      "4                        0           0  20 ov, target 169)         169\n"
     ]
    }
   ],
   "source": [
    "\n",
    "# Function to extract the target score from score details\n",
    "def extract_target(details):\n",
    "    if details == 0:\n",
    "        return 0\n",
    "    else:\n",
    "        parts = details.split(',')\n",
    "        target_str=0\n",
    "        if len(parts) > 1:\n",
    "            # Extract the target part\n",
    "            target_part = parts[1].replace(\")\", \"\").strip()\n",
    "            # Ensure that the target_part has exactly two parts: \"target\" and the number\n",
    "            target_str = target_part.split(' ')[1]  # Take the number after 'target'\n",
    "    return target_str\n",
    "\n",
    "# Apply the function to both columns and create new target columns\n",
    "df['home_target'] = df['home_score_details'].apply(extract_target)\n",
    "df['away_target'] = df['away_score_details'].apply(extract_target)\n",
    "\n",
    "# Display the cleaned columns\n",
    "print(df[['home_score_details', 'home_target', 'away_score_details', 'away_target']].head())\n"
   ]
  },
  {
   "cell_type": "code",
   "execution_count": 159,
   "metadata": {},
   "outputs": [],
   "source": [
    "cols_to_drop = ['match no.','away_score','home_score']\n",
    "df = df.drop(columns=cols_to_drop)"
   ]
  },
  {
   "cell_type": "code",
   "execution_count": 160,
   "metadata": {},
   "outputs": [],
   "source": [
    "cols_to_drop = ['away_score_details','home_score_details']\n",
    "df = df.drop(columns=cols_to_drop)"
   ]
  },
  {
   "cell_type": "code",
   "execution_count": 161,
   "metadata": {},
   "outputs": [
    {
     "data": {
      "text/html": [
       "<div>\n",
       "<style scoped>\n",
       "    .dataframe tbody tr th:only-of-type {\n",
       "        vertical-align: middle;\n",
       "    }\n",
       "\n",
       "    .dataframe tbody tr th {\n",
       "        vertical-align: top;\n",
       "    }\n",
       "\n",
       "    .dataframe thead th {\n",
       "        text-align: right;\n",
       "    }\n",
       "</style>\n",
       "<table border=\"1\" class=\"dataframe\">\n",
       "  <thead>\n",
       "    <tr style=\"text-align: right;\">\n",
       "      <th></th>\n",
       "      <th>date</th>\n",
       "      <th>Venue</th>\n",
       "      <th>home_team</th>\n",
       "      <th>away_team</th>\n",
       "      <th>home_team_abbrev</th>\n",
       "      <th>away_team_abbrev</th>\n",
       "      <th>result_outcome</th>\n",
       "      <th>balls_remaining</th>\n",
       "      <th>away_score_runs</th>\n",
       "      <th>home_score_runs</th>\n",
       "      <th>match_no</th>\n",
       "      <th>home_target</th>\n",
       "      <th>away_target</th>\n",
       "    </tr>\n",
       "  </thead>\n",
       "  <tbody>\n",
       "    <tr>\n",
       "      <th>0</th>\n",
       "      <td>Mar 22 2024</td>\n",
       "      <td>(N)  Chennai</td>\n",
       "      <td>Chennai Super Kings</td>\n",
       "      <td>Royal Challengers Bengaluru</td>\n",
       "      <td>CSK</td>\n",
       "      <td>RCB</td>\n",
       "      <td>CSK won by 6 wkts</td>\n",
       "      <td>8</td>\n",
       "      <td>173/6</td>\n",
       "      <td>176/4</td>\n",
       "      <td>1st</td>\n",
       "      <td>174</td>\n",
       "      <td>0</td>\n",
       "    </tr>\n",
       "    <tr>\n",
       "      <th>1</th>\n",
       "      <td>Mar 23 2024</td>\n",
       "      <td>(D/N)  Mohali</td>\n",
       "      <td>Punjab Kings</td>\n",
       "      <td>Delhi Capitals</td>\n",
       "      <td>PBKS</td>\n",
       "      <td>DC</td>\n",
       "      <td>PBKS won by 4 wkts</td>\n",
       "      <td>4</td>\n",
       "      <td>174/9</td>\n",
       "      <td>177/6</td>\n",
       "      <td>2nd</td>\n",
       "      <td>175</td>\n",
       "      <td>0</td>\n",
       "    </tr>\n",
       "    <tr>\n",
       "      <th>2</th>\n",
       "      <td>Mar 23 2024</td>\n",
       "      <td>(N)  Kolka</td>\n",
       "      <td>Kolkata Knight Riders</td>\n",
       "      <td>Sunrisers Hyderabad</td>\n",
       "      <td>KKR</td>\n",
       "      <td>SRH</td>\n",
       "      <td>KKR won by 4 runs</td>\n",
       "      <td>0</td>\n",
       "      <td>204/7</td>\n",
       "      <td>208/7</td>\n",
       "      <td>3rd</td>\n",
       "      <td>0</td>\n",
       "      <td>209</td>\n",
       "    </tr>\n",
       "    <tr>\n",
       "      <th>3</th>\n",
       "      <td>Mar 24 2024</td>\n",
       "      <td>(D/N)  Jaipur</td>\n",
       "      <td>Rajasthan Royals</td>\n",
       "      <td>Lucknow Super Giants</td>\n",
       "      <td>RR</td>\n",
       "      <td>LSG</td>\n",
       "      <td>RR won by 20 runs</td>\n",
       "      <td>0</td>\n",
       "      <td>173/6</td>\n",
       "      <td>193/4</td>\n",
       "      <td>4th</td>\n",
       "      <td>0</td>\n",
       "      <td>194</td>\n",
       "    </tr>\n",
       "    <tr>\n",
       "      <th>4</th>\n",
       "      <td>Mar 24 2024</td>\n",
       "      <td>(N)  Ahmedabad</td>\n",
       "      <td>Gujarat Titans</td>\n",
       "      <td>Mumbai Indians</td>\n",
       "      <td>GT</td>\n",
       "      <td>MI</td>\n",
       "      <td>GT won by 6 runs</td>\n",
       "      <td>0</td>\n",
       "      <td>162/9</td>\n",
       "      <td>168/6</td>\n",
       "      <td>5th</td>\n",
       "      <td>0</td>\n",
       "      <td>169</td>\n",
       "    </tr>\n",
       "    <tr>\n",
       "      <th>...</th>\n",
       "      <td>...</td>\n",
       "      <td>...</td>\n",
       "      <td>...</td>\n",
       "      <td>...</td>\n",
       "      <td>...</td>\n",
       "      <td>...</td>\n",
       "      <td>...</td>\n",
       "      <td>...</td>\n",
       "      <td>...</td>\n",
       "      <td>...</td>\n",
       "      <td>...</td>\n",
       "      <td>...</td>\n",
       "      <td>...</td>\n",
       "    </tr>\n",
       "    <tr>\n",
       "      <th>69</th>\n",
       "      <td>May 17 2024</td>\n",
       "      <td>(N)  Mumbai</td>\n",
       "      <td>Mumbai Indians</td>\n",
       "      <td>Lucknow Super Giants</td>\n",
       "      <td>MI</td>\n",
       "      <td>LSG</td>\n",
       "      <td>LSG won by 18 runs</td>\n",
       "      <td>0</td>\n",
       "      <td>214/6</td>\n",
       "      <td>196/6</td>\n",
       "      <td>67th</td>\n",
       "      <td>215</td>\n",
       "      <td>0</td>\n",
       "    </tr>\n",
       "    <tr>\n",
       "      <th>70</th>\n",
       "      <td>May 24 2024</td>\n",
       "      <td>(N)  Chennai</td>\n",
       "      <td>Rajasthan Royals</td>\n",
       "      <td>Sunrisers Hyderabad</td>\n",
       "      <td>RR</td>\n",
       "      <td>SRH</td>\n",
       "      <td>SRH won by 36 runs</td>\n",
       "      <td>0</td>\n",
       "      <td>175/9</td>\n",
       "      <td>139/7</td>\n",
       "      <td>qualifier 2</td>\n",
       "      <td>176</td>\n",
       "      <td>0</td>\n",
       "    </tr>\n",
       "    <tr>\n",
       "      <th>71</th>\n",
       "      <td>May 13 2024</td>\n",
       "      <td>(N)  Ahmedabad</td>\n",
       "      <td>Gujarat Titans</td>\n",
       "      <td>Kolkata Knight Riders</td>\n",
       "      <td>GT</td>\n",
       "      <td>KKR</td>\n",
       "      <td>Match abandoned without a ball bowled</td>\n",
       "      <td>0</td>\n",
       "      <td>None</td>\n",
       "      <td>None</td>\n",
       "      <td>63rd</td>\n",
       "      <td>0</td>\n",
       "      <td>0</td>\n",
       "    </tr>\n",
       "    <tr>\n",
       "      <th>72</th>\n",
       "      <td>May 16 2024</td>\n",
       "      <td>(N)  Hyderabad</td>\n",
       "      <td>Sunrisers Hyderabad</td>\n",
       "      <td>Gujarat Titans</td>\n",
       "      <td>SRH</td>\n",
       "      <td>GT</td>\n",
       "      <td>Match abandoned without a ball bowled</td>\n",
       "      <td>0</td>\n",
       "      <td>None</td>\n",
       "      <td>None</td>\n",
       "      <td>66th</td>\n",
       "      <td>0</td>\n",
       "      <td>0</td>\n",
       "    </tr>\n",
       "    <tr>\n",
       "      <th>73</th>\n",
       "      <td>May 19 2024</td>\n",
       "      <td>(N)  Guwahi</td>\n",
       "      <td>Rajasthan Royals</td>\n",
       "      <td>Kolkata Knight Riders</td>\n",
       "      <td>RR</td>\n",
       "      <td>KKR</td>\n",
       "      <td>No result</td>\n",
       "      <td>abandoned with a toss)</td>\n",
       "      <td>None</td>\n",
       "      <td>None</td>\n",
       "      <td>70th</td>\n",
       "      <td>0</td>\n",
       "      <td>0</td>\n",
       "    </tr>\n",
       "  </tbody>\n",
       "</table>\n",
       "<p>74 rows × 13 columns</p>\n",
       "</div>"
      ],
      "text/plain": [
       "            date             Venue              home_team  \\\n",
       "0    Mar 22 2024      (N)  Chennai    Chennai Super Kings   \n",
       "1    Mar 23 2024     (D/N)  Mohali           Punjab Kings   \n",
       "2    Mar 23 2024        (N)  Kolka  Kolkata Knight Riders   \n",
       "3    Mar 24 2024     (D/N)  Jaipur       Rajasthan Royals   \n",
       "4    Mar 24 2024    (N)  Ahmedabad         Gujarat Titans   \n",
       "..           ...               ...                    ...   \n",
       "69   May 17 2024       (N)  Mumbai         Mumbai Indians   \n",
       "70   May 24 2024      (N)  Chennai       Rajasthan Royals   \n",
       "71   May 13 2024    (N)  Ahmedabad         Gujarat Titans   \n",
       "72   May 16 2024    (N)  Hyderabad    Sunrisers Hyderabad   \n",
       "73   May 19 2024       (N)  Guwahi       Rajasthan Royals   \n",
       "\n",
       "                      away_team home_team_abbrev away_team_abbrev  \\\n",
       "0   Royal Challengers Bengaluru              CSK              RCB   \n",
       "1                Delhi Capitals             PBKS               DC   \n",
       "2           Sunrisers Hyderabad              KKR              SRH   \n",
       "3          Lucknow Super Giants               RR              LSG   \n",
       "4                Mumbai Indians               GT               MI   \n",
       "..                          ...              ...              ...   \n",
       "69         Lucknow Super Giants               MI              LSG   \n",
       "70          Sunrisers Hyderabad               RR              SRH   \n",
       "71        Kolkata Knight Riders               GT              KKR   \n",
       "72               Gujarat Titans              SRH               GT   \n",
       "73        Kolkata Knight Riders               RR              KKR   \n",
       "\n",
       "                           result_outcome         balls_remaining  \\\n",
       "0                      CSK won by 6 wkts                        8   \n",
       "1                     PBKS won by 4 wkts                        4   \n",
       "2                       KKR won by 4 runs                       0   \n",
       "3                       RR won by 20 runs                       0   \n",
       "4                        GT won by 6 runs                       0   \n",
       "..                                    ...                     ...   \n",
       "69                     LSG won by 18 runs                       0   \n",
       "70                     SRH won by 36 runs                       0   \n",
       "71  Match abandoned without a ball bowled                       0   \n",
       "72  Match abandoned without a ball bowled                       0   \n",
       "73                             No result   abandoned with a toss)   \n",
       "\n",
       "   away_score_runs home_score_runs     match_no home_target away_target  \n",
       "0            173/6          176/4           1st         174           0  \n",
       "1            174/9          177/6           2nd         175           0  \n",
       "2           204/7            208/7          3rd           0         209  \n",
       "3           173/6            193/4          4th           0         194  \n",
       "4           162/9            168/6          5th           0         169  \n",
       "..             ...             ...          ...         ...         ...  \n",
       "69           214/6          196/6          67th         215           0  \n",
       "70           175/9          139/7   qualifier 2         176           0  \n",
       "71            None            None         63rd           0           0  \n",
       "72            None            None         66th           0           0  \n",
       "73            None            None         70th           0           0  \n",
       "\n",
       "[74 rows x 13 columns]"
      ]
     },
     "execution_count": 161,
     "metadata": {},
     "output_type": "execute_result"
    }
   ],
   "source": [
    "df = df.rename(\n",
    "    columns={\n",
    "        'cleaned_match_no':'match_no'\n",
    "    }\n",
    ")\n",
    "df"
   ]
  },
  {
   "cell_type": "code",
   "execution_count": 162,
   "metadata": {},
   "outputs": [],
   "source": [
    "df = df[['match_no','date','Venue', 'home_team', 'away_team','home_team_abbrev','away_team_abbrev', 'home_score_runs','away_score_runs','home_target','away_target','result_outcome','balls_remaining']]"
   ]
  },
  {
   "cell_type": "code",
   "execution_count": 163,
   "metadata": {},
   "outputs": [
    {
     "data": {
      "text/html": [
       "<div>\n",
       "<style scoped>\n",
       "    .dataframe tbody tr th:only-of-type {\n",
       "        vertical-align: middle;\n",
       "    }\n",
       "\n",
       "    .dataframe tbody tr th {\n",
       "        vertical-align: top;\n",
       "    }\n",
       "\n",
       "    .dataframe thead th {\n",
       "        text-align: right;\n",
       "    }\n",
       "</style>\n",
       "<table border=\"1\" class=\"dataframe\">\n",
       "  <thead>\n",
       "    <tr style=\"text-align: right;\">\n",
       "      <th></th>\n",
       "      <th>match_no</th>\n",
       "      <th>date</th>\n",
       "      <th>Venue</th>\n",
       "      <th>home_team</th>\n",
       "      <th>away_team</th>\n",
       "      <th>home_team_abbrev</th>\n",
       "      <th>away_team_abbrev</th>\n",
       "      <th>home_score_runs</th>\n",
       "      <th>away_score_runs</th>\n",
       "      <th>home_target</th>\n",
       "      <th>away_target</th>\n",
       "      <th>result_outcome</th>\n",
       "      <th>balls_remaining</th>\n",
       "    </tr>\n",
       "  </thead>\n",
       "  <tbody>\n",
       "    <tr>\n",
       "      <th>0</th>\n",
       "      <td>1st</td>\n",
       "      <td>Mar 22 2024</td>\n",
       "      <td>(N)  Chennai</td>\n",
       "      <td>Chennai Super Kings</td>\n",
       "      <td>Royal Challengers Bengaluru</td>\n",
       "      <td>CSK</td>\n",
       "      <td>RCB</td>\n",
       "      <td>176/4</td>\n",
       "      <td>173/6</td>\n",
       "      <td>174</td>\n",
       "      <td>0</td>\n",
       "      <td>CSK won by 6 wkts</td>\n",
       "      <td>8</td>\n",
       "    </tr>\n",
       "    <tr>\n",
       "      <th>1</th>\n",
       "      <td>2nd</td>\n",
       "      <td>Mar 23 2024</td>\n",
       "      <td>(D/N)  Mohali</td>\n",
       "      <td>Punjab Kings</td>\n",
       "      <td>Delhi Capitals</td>\n",
       "      <td>PBKS</td>\n",
       "      <td>DC</td>\n",
       "      <td>177/6</td>\n",
       "      <td>174/9</td>\n",
       "      <td>175</td>\n",
       "      <td>0</td>\n",
       "      <td>PBKS won by 4 wkts</td>\n",
       "      <td>4</td>\n",
       "    </tr>\n",
       "    <tr>\n",
       "      <th>2</th>\n",
       "      <td>3rd</td>\n",
       "      <td>Mar 23 2024</td>\n",
       "      <td>(N)  Kolka</td>\n",
       "      <td>Kolkata Knight Riders</td>\n",
       "      <td>Sunrisers Hyderabad</td>\n",
       "      <td>KKR</td>\n",
       "      <td>SRH</td>\n",
       "      <td>208/7</td>\n",
       "      <td>204/7</td>\n",
       "      <td>0</td>\n",
       "      <td>209</td>\n",
       "      <td>KKR won by 4 runs</td>\n",
       "      <td>0</td>\n",
       "    </tr>\n",
       "    <tr>\n",
       "      <th>3</th>\n",
       "      <td>4th</td>\n",
       "      <td>Mar 24 2024</td>\n",
       "      <td>(D/N)  Jaipur</td>\n",
       "      <td>Rajasthan Royals</td>\n",
       "      <td>Lucknow Super Giants</td>\n",
       "      <td>RR</td>\n",
       "      <td>LSG</td>\n",
       "      <td>193/4</td>\n",
       "      <td>173/6</td>\n",
       "      <td>0</td>\n",
       "      <td>194</td>\n",
       "      <td>RR won by 20 runs</td>\n",
       "      <td>0</td>\n",
       "    </tr>\n",
       "    <tr>\n",
       "      <th>4</th>\n",
       "      <td>5th</td>\n",
       "      <td>Mar 24 2024</td>\n",
       "      <td>(N)  Ahmedabad</td>\n",
       "      <td>Gujarat Titans</td>\n",
       "      <td>Mumbai Indians</td>\n",
       "      <td>GT</td>\n",
       "      <td>MI</td>\n",
       "      <td>168/6</td>\n",
       "      <td>162/9</td>\n",
       "      <td>0</td>\n",
       "      <td>169</td>\n",
       "      <td>GT won by 6 runs</td>\n",
       "      <td>0</td>\n",
       "    </tr>\n",
       "    <tr>\n",
       "      <th>...</th>\n",
       "      <td>...</td>\n",
       "      <td>...</td>\n",
       "      <td>...</td>\n",
       "      <td>...</td>\n",
       "      <td>...</td>\n",
       "      <td>...</td>\n",
       "      <td>...</td>\n",
       "      <td>...</td>\n",
       "      <td>...</td>\n",
       "      <td>...</td>\n",
       "      <td>...</td>\n",
       "      <td>...</td>\n",
       "      <td>...</td>\n",
       "    </tr>\n",
       "    <tr>\n",
       "      <th>69</th>\n",
       "      <td>67th</td>\n",
       "      <td>May 17 2024</td>\n",
       "      <td>(N)  Mumbai</td>\n",
       "      <td>Mumbai Indians</td>\n",
       "      <td>Lucknow Super Giants</td>\n",
       "      <td>MI</td>\n",
       "      <td>LSG</td>\n",
       "      <td>196/6</td>\n",
       "      <td>214/6</td>\n",
       "      <td>215</td>\n",
       "      <td>0</td>\n",
       "      <td>LSG won by 18 runs</td>\n",
       "      <td>0</td>\n",
       "    </tr>\n",
       "    <tr>\n",
       "      <th>70</th>\n",
       "      <td>qualifier 2</td>\n",
       "      <td>May 24 2024</td>\n",
       "      <td>(N)  Chennai</td>\n",
       "      <td>Rajasthan Royals</td>\n",
       "      <td>Sunrisers Hyderabad</td>\n",
       "      <td>RR</td>\n",
       "      <td>SRH</td>\n",
       "      <td>139/7</td>\n",
       "      <td>175/9</td>\n",
       "      <td>176</td>\n",
       "      <td>0</td>\n",
       "      <td>SRH won by 36 runs</td>\n",
       "      <td>0</td>\n",
       "    </tr>\n",
       "    <tr>\n",
       "      <th>71</th>\n",
       "      <td>63rd</td>\n",
       "      <td>May 13 2024</td>\n",
       "      <td>(N)  Ahmedabad</td>\n",
       "      <td>Gujarat Titans</td>\n",
       "      <td>Kolkata Knight Riders</td>\n",
       "      <td>GT</td>\n",
       "      <td>KKR</td>\n",
       "      <td>None</td>\n",
       "      <td>None</td>\n",
       "      <td>0</td>\n",
       "      <td>0</td>\n",
       "      <td>Match abandoned without a ball bowled</td>\n",
       "      <td>0</td>\n",
       "    </tr>\n",
       "    <tr>\n",
       "      <th>72</th>\n",
       "      <td>66th</td>\n",
       "      <td>May 16 2024</td>\n",
       "      <td>(N)  Hyderabad</td>\n",
       "      <td>Sunrisers Hyderabad</td>\n",
       "      <td>Gujarat Titans</td>\n",
       "      <td>SRH</td>\n",
       "      <td>GT</td>\n",
       "      <td>None</td>\n",
       "      <td>None</td>\n",
       "      <td>0</td>\n",
       "      <td>0</td>\n",
       "      <td>Match abandoned without a ball bowled</td>\n",
       "      <td>0</td>\n",
       "    </tr>\n",
       "    <tr>\n",
       "      <th>73</th>\n",
       "      <td>70th</td>\n",
       "      <td>May 19 2024</td>\n",
       "      <td>(N)  Guwahi</td>\n",
       "      <td>Rajasthan Royals</td>\n",
       "      <td>Kolkata Knight Riders</td>\n",
       "      <td>RR</td>\n",
       "      <td>KKR</td>\n",
       "      <td>None</td>\n",
       "      <td>None</td>\n",
       "      <td>0</td>\n",
       "      <td>0</td>\n",
       "      <td>No result</td>\n",
       "      <td>abandoned with a toss)</td>\n",
       "    </tr>\n",
       "  </tbody>\n",
       "</table>\n",
       "<p>74 rows × 13 columns</p>\n",
       "</div>"
      ],
      "text/plain": [
       "       match_no          date             Venue              home_team  \\\n",
       "0           1st   Mar 22 2024      (N)  Chennai    Chennai Super Kings   \n",
       "1           2nd   Mar 23 2024     (D/N)  Mohali           Punjab Kings   \n",
       "2           3rd   Mar 23 2024        (N)  Kolka  Kolkata Knight Riders   \n",
       "3           4th   Mar 24 2024     (D/N)  Jaipur       Rajasthan Royals   \n",
       "4           5th   Mar 24 2024    (N)  Ahmedabad         Gujarat Titans   \n",
       "..          ...           ...               ...                    ...   \n",
       "69         67th   May 17 2024       (N)  Mumbai         Mumbai Indians   \n",
       "70  qualifier 2   May 24 2024      (N)  Chennai       Rajasthan Royals   \n",
       "71         63rd   May 13 2024    (N)  Ahmedabad         Gujarat Titans   \n",
       "72         66th   May 16 2024    (N)  Hyderabad    Sunrisers Hyderabad   \n",
       "73         70th   May 19 2024       (N)  Guwahi       Rajasthan Royals   \n",
       "\n",
       "                      away_team home_team_abbrev away_team_abbrev  \\\n",
       "0   Royal Challengers Bengaluru              CSK              RCB   \n",
       "1                Delhi Capitals             PBKS               DC   \n",
       "2           Sunrisers Hyderabad              KKR              SRH   \n",
       "3          Lucknow Super Giants               RR              LSG   \n",
       "4                Mumbai Indians               GT               MI   \n",
       "..                          ...              ...              ...   \n",
       "69         Lucknow Super Giants               MI              LSG   \n",
       "70          Sunrisers Hyderabad               RR              SRH   \n",
       "71        Kolkata Knight Riders               GT              KKR   \n",
       "72               Gujarat Titans              SRH               GT   \n",
       "73        Kolkata Knight Riders               RR              KKR   \n",
       "\n",
       "   home_score_runs away_score_runs home_target away_target  \\\n",
       "0           176/4            173/6         174           0   \n",
       "1           177/6            174/9         175           0   \n",
       "2            208/7          204/7            0         209   \n",
       "3            193/4          173/6            0         194   \n",
       "4            168/6          162/9            0         169   \n",
       "..             ...             ...         ...         ...   \n",
       "69          196/6            214/6         215           0   \n",
       "70          139/7            175/9         176           0   \n",
       "71            None            None           0           0   \n",
       "72            None            None           0           0   \n",
       "73            None            None           0           0   \n",
       "\n",
       "                           result_outcome         balls_remaining  \n",
       "0                      CSK won by 6 wkts                        8  \n",
       "1                     PBKS won by 4 wkts                        4  \n",
       "2                       KKR won by 4 runs                       0  \n",
       "3                       RR won by 20 runs                       0  \n",
       "4                        GT won by 6 runs                       0  \n",
       "..                                    ...                     ...  \n",
       "69                     LSG won by 18 runs                       0  \n",
       "70                     SRH won by 36 runs                       0  \n",
       "71  Match abandoned without a ball bowled                       0  \n",
       "72  Match abandoned without a ball bowled                       0  \n",
       "73                             No result   abandoned with a toss)  \n",
       "\n",
       "[74 rows x 13 columns]"
      ]
     },
     "execution_count": 163,
     "metadata": {},
     "output_type": "execute_result"
    }
   ],
   "source": [
    "df"
   ]
  },
  {
   "cell_type": "code",
   "execution_count": 164,
   "metadata": {},
   "outputs": [
    {
     "name": "stdout",
     "output_type": "stream",
     "text": [
      "        result_outcome  winning_margin winning_type\n",
      "0   CSK won by 6 wkts                6      Wickets\n",
      "1  PBKS won by 4 wkts                4      Wickets\n",
      "2    KKR won by 4 runs               4         Runs\n",
      "3    RR won by 20 runs              20         Runs\n",
      "4     GT won by 6 runs               6         Runs\n"
     ]
    },
    {
     "name": "stderr",
     "output_type": "stream",
     "text": [
      "C:\\Users\\omimi\\AppData\\Local\\Temp\\ipykernel_18008\\999820751.py:16: SettingWithCopyWarning:\n",
      "\n",
      "\n",
      "A value is trying to be set on a copy of a slice from a DataFrame.\n",
      "Try using .loc[row_indexer,col_indexer] = value instead\n",
      "\n",
      "See the caveats in the documentation: https://pandas.pydata.org/pandas-docs/stable/user_guide/indexing.html#returning-a-view-versus-a-copy\n",
      "\n",
      "C:\\Users\\omimi\\AppData\\Local\\Temp\\ipykernel_18008\\999820751.py:17: SettingWithCopyWarning:\n",
      "\n",
      "\n",
      "A value is trying to be set on a copy of a slice from a DataFrame.\n",
      "Try using .loc[row_indexer,col_indexer] = value instead\n",
      "\n",
      "See the caveats in the documentation: https://pandas.pydata.org/pandas-docs/stable/user_guide/indexing.html#returning-a-view-versus-a-copy\n",
      "\n"
     ]
    }
   ],
   "source": [
    "def extract_winning_margin(result_outcome):\n",
    "    if 'won by' in result_outcome:\n",
    "        parts = result_outcome.split('by')\n",
    "        margin = int(parts[1].strip().split()[0])\n",
    "        return margin\n",
    "    else:\n",
    "        return 0\n",
    "    \n",
    "def extract_winning_type(result_outcome):\n",
    "    if 'runs' in result_outcome:\n",
    "        return 'Runs'\n",
    "    elif 'wkts' in result_outcome:\n",
    "        return 'Wickets'\n",
    "    else:\n",
    "        return None\n",
    "df['winning_margin'] = df['result_outcome'].apply(extract_winning_margin)\n",
    "df['winning_type'] = df['result_outcome'].apply(extract_winning_type)\n",
    "print(df[['result_outcome', 'winning_margin','winning_type']].head())"
   ]
  },
  {
   "cell_type": "code",
   "execution_count": 165,
   "metadata": {},
   "outputs": [
    {
     "name": "stdout",
     "output_type": "stream",
     "text": [
      "              Venue match_type\n",
      "0      (N)  Chennai      Night\n",
      "1     (D/N)  Mohali  Day/Night\n",
      "2        (N)  Kolka      Night\n",
      "3     (D/N)  Jaipur  Day/Night\n",
      "4    (N)  Ahmedabad      Night\n"
     ]
    },
    {
     "name": "stderr",
     "output_type": "stream",
     "text": [
      "C:\\Users\\omimi\\AppData\\Local\\Temp\\ipykernel_18008\\2225941189.py:8: SettingWithCopyWarning:\n",
      "\n",
      "\n",
      "A value is trying to be set on a copy of a slice from a DataFrame.\n",
      "Try using .loc[row_indexer,col_indexer] = value instead\n",
      "\n",
      "See the caveats in the documentation: https://pandas.pydata.org/pandas-docs/stable/user_guide/indexing.html#returning-a-view-versus-a-copy\n",
      "\n"
     ]
    }
   ],
   "source": [
    "def extract_match_type(Venue):\n",
    "    if '(D)'in Venue:\n",
    "        return 'Day'\n",
    "    elif '(N)' in Venue:\n",
    "        return 'Night'\n",
    "    else:\n",
    "        return 'Day/Night'\n",
    "df['match_type'] = df['Venue'].apply(extract_match_type)\n",
    "print(df[['Venue', 'match_type']].head())"
   ]
  },
  {
   "cell_type": "code",
   "execution_count": 166,
   "metadata": {},
   "outputs": [
    {
     "name": "stdout",
     "output_type": "stream",
     "text": [
      "   home_team_abbrev                         result_outcome home_win\n",
      "69               MI                     LSG won by 18 runs    False\n",
      "70               RR                     SRH won by 36 runs    False\n",
      "71               GT  Match abandoned without a ball bowled     None\n",
      "72              SRH  Match abandoned without a ball bowled     None\n",
      "73               RR                             No result      None\n"
     ]
    },
    {
     "name": "stderr",
     "output_type": "stream",
     "text": [
      "C:\\Users\\omimi\\AppData\\Local\\Temp\\ipykernel_18008\\741307815.py:9: SettingWithCopyWarning:\n",
      "\n",
      "\n",
      "A value is trying to be set on a copy of a slice from a DataFrame.\n",
      "Try using .loc[row_indexer,col_indexer] = value instead\n",
      "\n",
      "See the caveats in the documentation: https://pandas.pydata.org/pandas-docs/stable/user_guide/indexing.html#returning-a-view-versus-a-copy\n",
      "\n"
     ]
    }
   ],
   "source": [
    "def home_win(result_outcome,home_team):\n",
    "    if f'{home_team} won' in result_outcome:\n",
    "        return True\n",
    "    elif 'won by' in result_outcome:\n",
    "        return False\n",
    "    else:\n",
    "        return None\n",
    "\n",
    "df['home_win'] = df.apply(lambda row: home_win(row['result_outcome'], row['home_team_abbrev']), axis=1)\n",
    "print(df[['home_team_abbrev', 'result_outcome', 'home_win']].tail())"
   ]
  },
  {
   "cell_type": "code",
   "execution_count": 167,
   "metadata": {},
   "outputs": [
    {
     "name": "stdout",
     "output_type": "stream",
     "text": [
      "   away_team_abbrev                         result_outcome away_win\n",
      "69              LSG                     LSG won by 18 runs     True\n",
      "70              SRH                     SRH won by 36 runs     True\n",
      "71              KKR  Match abandoned without a ball bowled     None\n",
      "72               GT  Match abandoned without a ball bowled     None\n",
      "73              KKR                             No result      None\n"
     ]
    },
    {
     "name": "stderr",
     "output_type": "stream",
     "text": [
      "C:\\Users\\omimi\\AppData\\Local\\Temp\\ipykernel_18008\\2354237818.py:9: SettingWithCopyWarning:\n",
      "\n",
      "\n",
      "A value is trying to be set on a copy of a slice from a DataFrame.\n",
      "Try using .loc[row_indexer,col_indexer] = value instead\n",
      "\n",
      "See the caveats in the documentation: https://pandas.pydata.org/pandas-docs/stable/user_guide/indexing.html#returning-a-view-versus-a-copy\n",
      "\n"
     ]
    }
   ],
   "source": [
    "def away_win(result_outcome,away_team):\n",
    "    if f'{away_team} won' in result_outcome:\n",
    "        return True\n",
    "    elif 'won by' in result_outcome:\n",
    "        return False\n",
    "    else:\n",
    "        return None\n",
    "\n",
    "df['away_win'] = df.apply(lambda row: away_win(row['result_outcome'], row['away_team_abbrev']), axis=1)\n",
    "print(df[['away_team_abbrev', 'result_outcome', 'away_win']].tail())"
   ]
  },
  {
   "cell_type": "code",
   "execution_count": 168,
   "metadata": {},
   "outputs": [
    {
     "name": "stdout",
     "output_type": "stream",
     "text": [
      "              Venue cleaned_venue\n",
      "0      (N)  Chennai       Chennai\n",
      "1     (D/N)  Mohali        Mohali\n",
      "2        (N)  Kolka         Kolka\n",
      "3     (D/N)  Jaipur        Jaipur\n",
      "4    (N)  Ahmedabad     Ahmedabad\n"
     ]
    },
    {
     "name": "stderr",
     "output_type": "stream",
     "text": [
      "C:\\Users\\omimi\\AppData\\Local\\Temp\\ipykernel_18008\\2130984885.py:6: SettingWithCopyWarning:\n",
      "\n",
      "\n",
      "A value is trying to be set on a copy of a slice from a DataFrame.\n",
      "Try using .loc[row_indexer,col_indexer] = value instead\n",
      "\n",
      "See the caveats in the documentation: https://pandas.pydata.org/pandas-docs/stable/user_guide/indexing.html#returning-a-view-versus-a-copy\n",
      "\n"
     ]
    }
   ],
   "source": [
    "def extract_venue(venue):\n",
    "    parts = venue.split(')')\n",
    "    return parts[1].strip()\n",
    "\n",
    "# Apply the function to both columns and create new target columns\n",
    "df['cleaned_venue'] = df['Venue'].apply(extract_venue)\n",
    "print(df[['Venue','cleaned_venue']].head())"
   ]
  },
  {
   "cell_type": "code",
   "execution_count": 169,
   "metadata": {},
   "outputs": [
    {
     "data": {
      "text/html": [
       "<div>\n",
       "<style scoped>\n",
       "    .dataframe tbody tr th:only-of-type {\n",
       "        vertical-align: middle;\n",
       "    }\n",
       "\n",
       "    .dataframe tbody tr th {\n",
       "        vertical-align: top;\n",
       "    }\n",
       "\n",
       "    .dataframe thead th {\n",
       "        text-align: right;\n",
       "    }\n",
       "</style>\n",
       "<table border=\"1\" class=\"dataframe\">\n",
       "  <thead>\n",
       "    <tr style=\"text-align: right;\">\n",
       "      <th></th>\n",
       "      <th>match_no</th>\n",
       "      <th>date</th>\n",
       "      <th>Venue</th>\n",
       "      <th>home_team</th>\n",
       "      <th>away_team</th>\n",
       "      <th>home_team_abbrev</th>\n",
       "      <th>away_team_abbrev</th>\n",
       "      <th>home_score_runs</th>\n",
       "      <th>away_score_runs</th>\n",
       "      <th>home_target</th>\n",
       "      <th>away_target</th>\n",
       "      <th>result_outcome</th>\n",
       "      <th>balls_remaining</th>\n",
       "      <th>winning_margin</th>\n",
       "      <th>winning_type</th>\n",
       "      <th>match_type</th>\n",
       "      <th>home_win</th>\n",
       "      <th>away_win</th>\n",
       "      <th>cleaned_venue</th>\n",
       "    </tr>\n",
       "  </thead>\n",
       "  <tbody>\n",
       "    <tr>\n",
       "      <th>0</th>\n",
       "      <td>1st</td>\n",
       "      <td>Mar 22 2024</td>\n",
       "      <td>(N)  Chennai</td>\n",
       "      <td>Chennai Super Kings</td>\n",
       "      <td>Royal Challengers Bengaluru</td>\n",
       "      <td>CSK</td>\n",
       "      <td>RCB</td>\n",
       "      <td>176/4</td>\n",
       "      <td>173/6</td>\n",
       "      <td>174</td>\n",
       "      <td>0</td>\n",
       "      <td>CSK won by 6 wkts</td>\n",
       "      <td>8</td>\n",
       "      <td>6</td>\n",
       "      <td>Wickets</td>\n",
       "      <td>Night</td>\n",
       "      <td>True</td>\n",
       "      <td>False</td>\n",
       "      <td>Chennai</td>\n",
       "    </tr>\n",
       "    <tr>\n",
       "      <th>1</th>\n",
       "      <td>2nd</td>\n",
       "      <td>Mar 23 2024</td>\n",
       "      <td>(D/N)  Mohali</td>\n",
       "      <td>Punjab Kings</td>\n",
       "      <td>Delhi Capitals</td>\n",
       "      <td>PBKS</td>\n",
       "      <td>DC</td>\n",
       "      <td>177/6</td>\n",
       "      <td>174/9</td>\n",
       "      <td>175</td>\n",
       "      <td>0</td>\n",
       "      <td>PBKS won by 4 wkts</td>\n",
       "      <td>4</td>\n",
       "      <td>4</td>\n",
       "      <td>Wickets</td>\n",
       "      <td>Day/Night</td>\n",
       "      <td>True</td>\n",
       "      <td>False</td>\n",
       "      <td>Mohali</td>\n",
       "    </tr>\n",
       "    <tr>\n",
       "      <th>2</th>\n",
       "      <td>3rd</td>\n",
       "      <td>Mar 23 2024</td>\n",
       "      <td>(N)  Kolka</td>\n",
       "      <td>Kolkata Knight Riders</td>\n",
       "      <td>Sunrisers Hyderabad</td>\n",
       "      <td>KKR</td>\n",
       "      <td>SRH</td>\n",
       "      <td>208/7</td>\n",
       "      <td>204/7</td>\n",
       "      <td>0</td>\n",
       "      <td>209</td>\n",
       "      <td>KKR won by 4 runs</td>\n",
       "      <td>0</td>\n",
       "      <td>4</td>\n",
       "      <td>Runs</td>\n",
       "      <td>Night</td>\n",
       "      <td>True</td>\n",
       "      <td>False</td>\n",
       "      <td>Kolka</td>\n",
       "    </tr>\n",
       "    <tr>\n",
       "      <th>3</th>\n",
       "      <td>4th</td>\n",
       "      <td>Mar 24 2024</td>\n",
       "      <td>(D/N)  Jaipur</td>\n",
       "      <td>Rajasthan Royals</td>\n",
       "      <td>Lucknow Super Giants</td>\n",
       "      <td>RR</td>\n",
       "      <td>LSG</td>\n",
       "      <td>193/4</td>\n",
       "      <td>173/6</td>\n",
       "      <td>0</td>\n",
       "      <td>194</td>\n",
       "      <td>RR won by 20 runs</td>\n",
       "      <td>0</td>\n",
       "      <td>20</td>\n",
       "      <td>Runs</td>\n",
       "      <td>Day/Night</td>\n",
       "      <td>True</td>\n",
       "      <td>False</td>\n",
       "      <td>Jaipur</td>\n",
       "    </tr>\n",
       "    <tr>\n",
       "      <th>4</th>\n",
       "      <td>5th</td>\n",
       "      <td>Mar 24 2024</td>\n",
       "      <td>(N)  Ahmedabad</td>\n",
       "      <td>Gujarat Titans</td>\n",
       "      <td>Mumbai Indians</td>\n",
       "      <td>GT</td>\n",
       "      <td>MI</td>\n",
       "      <td>168/6</td>\n",
       "      <td>162/9</td>\n",
       "      <td>0</td>\n",
       "      <td>169</td>\n",
       "      <td>GT won by 6 runs</td>\n",
       "      <td>0</td>\n",
       "      <td>6</td>\n",
       "      <td>Runs</td>\n",
       "      <td>Night</td>\n",
       "      <td>True</td>\n",
       "      <td>False</td>\n",
       "      <td>Ahmedabad</td>\n",
       "    </tr>\n",
       "    <tr>\n",
       "      <th>...</th>\n",
       "      <td>...</td>\n",
       "      <td>...</td>\n",
       "      <td>...</td>\n",
       "      <td>...</td>\n",
       "      <td>...</td>\n",
       "      <td>...</td>\n",
       "      <td>...</td>\n",
       "      <td>...</td>\n",
       "      <td>...</td>\n",
       "      <td>...</td>\n",
       "      <td>...</td>\n",
       "      <td>...</td>\n",
       "      <td>...</td>\n",
       "      <td>...</td>\n",
       "      <td>...</td>\n",
       "      <td>...</td>\n",
       "      <td>...</td>\n",
       "      <td>...</td>\n",
       "      <td>...</td>\n",
       "    </tr>\n",
       "    <tr>\n",
       "      <th>69</th>\n",
       "      <td>67th</td>\n",
       "      <td>May 17 2024</td>\n",
       "      <td>(N)  Mumbai</td>\n",
       "      <td>Mumbai Indians</td>\n",
       "      <td>Lucknow Super Giants</td>\n",
       "      <td>MI</td>\n",
       "      <td>LSG</td>\n",
       "      <td>196/6</td>\n",
       "      <td>214/6</td>\n",
       "      <td>215</td>\n",
       "      <td>0</td>\n",
       "      <td>LSG won by 18 runs</td>\n",
       "      <td>0</td>\n",
       "      <td>18</td>\n",
       "      <td>Runs</td>\n",
       "      <td>Night</td>\n",
       "      <td>False</td>\n",
       "      <td>True</td>\n",
       "      <td>Mumbai</td>\n",
       "    </tr>\n",
       "    <tr>\n",
       "      <th>70</th>\n",
       "      <td>qualifier 2</td>\n",
       "      <td>May 24 2024</td>\n",
       "      <td>(N)  Chennai</td>\n",
       "      <td>Rajasthan Royals</td>\n",
       "      <td>Sunrisers Hyderabad</td>\n",
       "      <td>RR</td>\n",
       "      <td>SRH</td>\n",
       "      <td>139/7</td>\n",
       "      <td>175/9</td>\n",
       "      <td>176</td>\n",
       "      <td>0</td>\n",
       "      <td>SRH won by 36 runs</td>\n",
       "      <td>0</td>\n",
       "      <td>36</td>\n",
       "      <td>Runs</td>\n",
       "      <td>Night</td>\n",
       "      <td>False</td>\n",
       "      <td>True</td>\n",
       "      <td>Chennai</td>\n",
       "    </tr>\n",
       "    <tr>\n",
       "      <th>71</th>\n",
       "      <td>63rd</td>\n",
       "      <td>May 13 2024</td>\n",
       "      <td>(N)  Ahmedabad</td>\n",
       "      <td>Gujarat Titans</td>\n",
       "      <td>Kolkata Knight Riders</td>\n",
       "      <td>GT</td>\n",
       "      <td>KKR</td>\n",
       "      <td>None</td>\n",
       "      <td>None</td>\n",
       "      <td>0</td>\n",
       "      <td>0</td>\n",
       "      <td>Match abandoned without a ball bowled</td>\n",
       "      <td>0</td>\n",
       "      <td>0</td>\n",
       "      <td>None</td>\n",
       "      <td>Night</td>\n",
       "      <td>None</td>\n",
       "      <td>None</td>\n",
       "      <td>Ahmedabad</td>\n",
       "    </tr>\n",
       "    <tr>\n",
       "      <th>72</th>\n",
       "      <td>66th</td>\n",
       "      <td>May 16 2024</td>\n",
       "      <td>(N)  Hyderabad</td>\n",
       "      <td>Sunrisers Hyderabad</td>\n",
       "      <td>Gujarat Titans</td>\n",
       "      <td>SRH</td>\n",
       "      <td>GT</td>\n",
       "      <td>None</td>\n",
       "      <td>None</td>\n",
       "      <td>0</td>\n",
       "      <td>0</td>\n",
       "      <td>Match abandoned without a ball bowled</td>\n",
       "      <td>0</td>\n",
       "      <td>0</td>\n",
       "      <td>None</td>\n",
       "      <td>Night</td>\n",
       "      <td>None</td>\n",
       "      <td>None</td>\n",
       "      <td>Hyderabad</td>\n",
       "    </tr>\n",
       "    <tr>\n",
       "      <th>73</th>\n",
       "      <td>70th</td>\n",
       "      <td>May 19 2024</td>\n",
       "      <td>(N)  Guwahi</td>\n",
       "      <td>Rajasthan Royals</td>\n",
       "      <td>Kolkata Knight Riders</td>\n",
       "      <td>RR</td>\n",
       "      <td>KKR</td>\n",
       "      <td>None</td>\n",
       "      <td>None</td>\n",
       "      <td>0</td>\n",
       "      <td>0</td>\n",
       "      <td>No result</td>\n",
       "      <td>abandoned with a toss)</td>\n",
       "      <td>0</td>\n",
       "      <td>None</td>\n",
       "      <td>Night</td>\n",
       "      <td>None</td>\n",
       "      <td>None</td>\n",
       "      <td>Guwahi</td>\n",
       "    </tr>\n",
       "  </tbody>\n",
       "</table>\n",
       "<p>74 rows × 19 columns</p>\n",
       "</div>"
      ],
      "text/plain": [
       "       match_no          date             Venue              home_team  \\\n",
       "0           1st   Mar 22 2024      (N)  Chennai    Chennai Super Kings   \n",
       "1           2nd   Mar 23 2024     (D/N)  Mohali           Punjab Kings   \n",
       "2           3rd   Mar 23 2024        (N)  Kolka  Kolkata Knight Riders   \n",
       "3           4th   Mar 24 2024     (D/N)  Jaipur       Rajasthan Royals   \n",
       "4           5th   Mar 24 2024    (N)  Ahmedabad         Gujarat Titans   \n",
       "..          ...           ...               ...                    ...   \n",
       "69         67th   May 17 2024       (N)  Mumbai         Mumbai Indians   \n",
       "70  qualifier 2   May 24 2024      (N)  Chennai       Rajasthan Royals   \n",
       "71         63rd   May 13 2024    (N)  Ahmedabad         Gujarat Titans   \n",
       "72         66th   May 16 2024    (N)  Hyderabad    Sunrisers Hyderabad   \n",
       "73         70th   May 19 2024       (N)  Guwahi       Rajasthan Royals   \n",
       "\n",
       "                      away_team home_team_abbrev away_team_abbrev  \\\n",
       "0   Royal Challengers Bengaluru              CSK              RCB   \n",
       "1                Delhi Capitals             PBKS               DC   \n",
       "2           Sunrisers Hyderabad              KKR              SRH   \n",
       "3          Lucknow Super Giants               RR              LSG   \n",
       "4                Mumbai Indians               GT               MI   \n",
       "..                          ...              ...              ...   \n",
       "69         Lucknow Super Giants               MI              LSG   \n",
       "70          Sunrisers Hyderabad               RR              SRH   \n",
       "71        Kolkata Knight Riders               GT              KKR   \n",
       "72               Gujarat Titans              SRH               GT   \n",
       "73        Kolkata Knight Riders               RR              KKR   \n",
       "\n",
       "   home_score_runs away_score_runs home_target away_target  \\\n",
       "0           176/4            173/6         174           0   \n",
       "1           177/6            174/9         175           0   \n",
       "2            208/7          204/7            0         209   \n",
       "3            193/4          173/6            0         194   \n",
       "4            168/6          162/9            0         169   \n",
       "..             ...             ...         ...         ...   \n",
       "69          196/6            214/6         215           0   \n",
       "70          139/7            175/9         176           0   \n",
       "71            None            None           0           0   \n",
       "72            None            None           0           0   \n",
       "73            None            None           0           0   \n",
       "\n",
       "                           result_outcome         balls_remaining  \\\n",
       "0                      CSK won by 6 wkts                        8   \n",
       "1                     PBKS won by 4 wkts                        4   \n",
       "2                       KKR won by 4 runs                       0   \n",
       "3                       RR won by 20 runs                       0   \n",
       "4                        GT won by 6 runs                       0   \n",
       "..                                    ...                     ...   \n",
       "69                     LSG won by 18 runs                       0   \n",
       "70                     SRH won by 36 runs                       0   \n",
       "71  Match abandoned without a ball bowled                       0   \n",
       "72  Match abandoned without a ball bowled                       0   \n",
       "73                             No result   abandoned with a toss)   \n",
       "\n",
       "    winning_margin winning_type match_type home_win away_win cleaned_venue  \n",
       "0                6      Wickets      Night     True    False       Chennai  \n",
       "1                4      Wickets  Day/Night     True    False        Mohali  \n",
       "2                4         Runs      Night     True    False         Kolka  \n",
       "3               20         Runs  Day/Night     True    False        Jaipur  \n",
       "4                6         Runs      Night     True    False     Ahmedabad  \n",
       "..             ...          ...        ...      ...      ...           ...  \n",
       "69              18         Runs      Night    False     True        Mumbai  \n",
       "70              36         Runs      Night    False     True       Chennai  \n",
       "71               0         None      Night     None     None     Ahmedabad  \n",
       "72               0         None      Night     None     None     Hyderabad  \n",
       "73               0         None      Night     None     None        Guwahi  \n",
       "\n",
       "[74 rows x 19 columns]"
      ]
     },
     "execution_count": 169,
     "metadata": {},
     "output_type": "execute_result"
    }
   ],
   "source": [
    "df"
   ]
  },
  {
   "cell_type": "code",
   "execution_count": 201,
   "metadata": {},
   "outputs": [],
   "source": [
    "df = df[['match_no','date','cleaned_venue','match_type', 'home_team', 'away_team','home_team_abbrev','away_team_abbrev', 'home_score_runs','away_score_runs','home_target','away_target','result_outcome','balls_remaining','winning_margin','winning_type','home_win','away_win']]\n",
    "df = df.sort_values(by='date')"
   ]
  },
  {
   "cell_type": "markdown",
   "metadata": {},
   "source": [
    "# visualisation"
   ]
  },
  {
   "cell_type": "code",
   "execution_count": 171,
   "metadata": {},
   "outputs": [],
   "source": [
    "import numpy as  np\n",
    "import seaborn as sns\n",
    "import matplotlib.pyplot as plt\n",
    "import plotly.express as px"
   ]
  },
  {
   "cell_type": "code",
   "execution_count": 172,
   "metadata": {},
   "outputs": [
    {
     "data": {
      "text/plain": [
       "<Axes: xlabel='match_type', ylabel='count'>"
      ]
     },
     "execution_count": 172,
     "metadata": {},
     "output_type": "execute_result"
    },
    {
     "data": {
      "image/png": "[encoded data removed]",
      "text/plain": [
       "<Figure size 640x480 with 1 Axes>"
      ]
     },
     "metadata": {},
     "output_type": "display_data"
    }
   ],
   "source": [
    "sns.countplot(data=df,x='match_type',hue='match_type')"
   ]
  },
  {
   "cell_type": "code",
   "execution_count": 229,
   "metadata": {},
   "outputs": [],
   "source": [
    "h= df.groupby(by='home_team_abbrev')\n",
    "a= df.groupby(by='away_team_abbrev')"
   ]
  },
  {
   "cell_type": "code",
   "execution_count": 227,
   "metadata": {},
   "outputs": [
    {
     "ename": "TypeError",
     "evalue": "cannot concatenate object of type '<class 'pandas.core.groupby.generic.DataFrameGroupBy'>'; only Series and DataFrame objs are valid",
     "output_type": "error",
     "traceback": [
      "\u001b[1;31m---------------------------------------------------------------------------\u001b[0m",
      "\u001b[1;31mTypeError\u001b[0m                                 Traceback (most recent call last)",
      "Cell \u001b[1;32mIn[227], line 1\u001b[0m\n\u001b[1;32m----> 1\u001b[0m team \u001b[38;5;241m=\u001b[39m pd\u001b[38;5;241m.\u001b[39mconcat([h,a])\n\u001b[0;32m      2\u001b[0m team\n",
      "File \u001b[1;32mc:\\Users\\omimi\\miniconda3\\Lib\\site-packages\\pandas\\core\\reshape\\concat.py:382\u001b[0m, in \u001b[0;36mconcat\u001b[1;34m(objs, axis, join, ignore_index, keys, levels, names, verify_integrity, sort, copy)\u001b[0m\n\u001b[0;32m    379\u001b[0m \u001b[38;5;28;01melif\u001b[39;00m copy \u001b[38;5;129;01mand\u001b[39;00m using_copy_on_write():\n\u001b[0;32m    380\u001b[0m     copy \u001b[38;5;241m=\u001b[39m \u001b[38;5;28;01mFalse\u001b[39;00m\n\u001b[1;32m--> 382\u001b[0m op \u001b[38;5;241m=\u001b[39m _Concatenator(\n\u001b[0;32m    383\u001b[0m     objs,\n\u001b[0;32m    384\u001b[0m     axis\u001b[38;5;241m=\u001b[39maxis,\n\u001b[0;32m    385\u001b[0m     ignore_index\u001b[38;5;241m=\u001b[39mignore_index,\n\u001b[0;32m    386\u001b[0m     join\u001b[38;5;241m=\u001b[39mjoin,\n\u001b[0;32m    387\u001b[0m     keys\u001b[38;5;241m=\u001b[39mkeys,\n\u001b[0;32m    388\u001b[0m     levels\u001b[38;5;241m=\u001b[39mlevels,\n\u001b[0;32m    389\u001b[0m     names\u001b[38;5;241m=\u001b[39mnames,\n\u001b[0;32m    390\u001b[0m     verify_integrity\u001b[38;5;241m=\u001b[39mverify_integrity,\n\u001b[0;32m    391\u001b[0m     copy\u001b[38;5;241m=\u001b[39mcopy,\n\u001b[0;32m    392\u001b[0m     sort\u001b[38;5;241m=\u001b[39msort,\n\u001b[0;32m    393\u001b[0m )\n\u001b[0;32m    395\u001b[0m \u001b[38;5;28;01mreturn\u001b[39;00m op\u001b[38;5;241m.\u001b[39mget_result()\n",
      "File \u001b[1;32mc:\\Users\\omimi\\miniconda3\\Lib\\site-packages\\pandas\\core\\reshape\\concat.py:448\u001b[0m, in \u001b[0;36m_Concatenator.__init__\u001b[1;34m(self, objs, axis, join, keys, levels, names, ignore_index, verify_integrity, copy, sort)\u001b[0m\n\u001b[0;32m    445\u001b[0m objs, keys \u001b[38;5;241m=\u001b[39m \u001b[38;5;28mself\u001b[39m\u001b[38;5;241m.\u001b[39m_clean_keys_and_objs(objs, keys)\n\u001b[0;32m    447\u001b[0m \u001b[38;5;66;03m# figure out what our result ndim is going to be\u001b[39;00m\n\u001b[1;32m--> 448\u001b[0m ndims \u001b[38;5;241m=\u001b[39m \u001b[38;5;28mself\u001b[39m\u001b[38;5;241m.\u001b[39m_get_ndims(objs)\n\u001b[0;32m    449\u001b[0m sample, objs \u001b[38;5;241m=\u001b[39m \u001b[38;5;28mself\u001b[39m\u001b[38;5;241m.\u001b[39m_get_sample_object(objs, ndims, keys, names, levels)\n\u001b[0;32m    451\u001b[0m \u001b[38;5;66;03m# Standardize axis parameter to int\u001b[39;00m\n",
      "File \u001b[1;32mc:\\Users\\omimi\\miniconda3\\Lib\\site-packages\\pandas\\core\\reshape\\concat.py:489\u001b[0m, in \u001b[0;36m_Concatenator._get_ndims\u001b[1;34m(self, objs)\u001b[0m\n\u001b[0;32m    484\u001b[0m     \u001b[38;5;28;01mif\u001b[39;00m \u001b[38;5;129;01mnot\u001b[39;00m \u001b[38;5;28misinstance\u001b[39m(obj, (ABCSeries, ABCDataFrame)):\n\u001b[0;32m    485\u001b[0m         msg \u001b[38;5;241m=\u001b[39m (\n\u001b[0;32m    486\u001b[0m             \u001b[38;5;124mf\u001b[39m\u001b[38;5;124m\"\u001b[39m\u001b[38;5;124mcannot concatenate object of type \u001b[39m\u001b[38;5;124m'\u001b[39m\u001b[38;5;132;01m{\u001b[39;00m\u001b[38;5;28mtype\u001b[39m(obj)\u001b[38;5;132;01m}\u001b[39;00m\u001b[38;5;124m'\u001b[39m\u001b[38;5;124m; \u001b[39m\u001b[38;5;124m\"\u001b[39m\n\u001b[0;32m    487\u001b[0m             \u001b[38;5;124m\"\u001b[39m\u001b[38;5;124monly Series and DataFrame objs are valid\u001b[39m\u001b[38;5;124m\"\u001b[39m\n\u001b[0;32m    488\u001b[0m         )\n\u001b[1;32m--> 489\u001b[0m         \u001b[38;5;28;01mraise\u001b[39;00m \u001b[38;5;167;01mTypeError\u001b[39;00m(msg)\n\u001b[0;32m    491\u001b[0m     ndims\u001b[38;5;241m.\u001b[39madd(obj\u001b[38;5;241m.\u001b[39mndim)\n\u001b[0;32m    492\u001b[0m \u001b[38;5;28;01mreturn\u001b[39;00m ndims\n",
      "\u001b[1;31mTypeError\u001b[0m: cannot concatenate object of type '<class 'pandas.core.groupby.generic.DataFrameGroupBy'>'; only Series and DataFrame objs are valid"
     ]
    }
   ],
   "source": [
    "team = pd.concat([h,a])\n",
    "team"
   ]
  },
  {
   "cell_type": "code",
   "execution_count": 175,
   "metadata": {},
   "outputs": [
    {
     "data": {
      "text/plain": [
       "<Axes: xlabel='winning_margin', ylabel='Count'>"
      ]
     },
     "execution_count": 175,
     "metadata": {},
     "output_type": "execute_result"
    },
    {
     "data": {
      "image/png": "[encoded data removed]",
      "text/plain": [
       "<Figure size 640x480 with 1 Axes>"
      ]
     },
     "metadata": {},
     "output_type": "display_data"
    }
   ],
   "source": [
    "sns.histplot(data=df,x='winning_margin',kde=True,bins=50)"
   ]
  },
  {
   "cell_type": "markdown",
   "metadata": {},
   "source": [
    "## win loss distribution"
   ]
  },
  {
   "cell_type": "code",
   "execution_count": 176,
   "metadata": {},
   "outputs": [
    {
     "data": {
      "text/plain": [
       "<Figure size 1200x800 with 0 Axes>"
      ]
     },
     "metadata": {},
     "output_type": "display_data"
    },
    {
     "data": {
      "image/png": "[encoded data removed]",
      "text/plain": [
       "<Figure size 640x480 with 1 Axes>"
      ]
     },
     "metadata": {},
     "output_type": "display_data"
    }
   ],
   "source": [
    "win_counts = pd.DataFrame({\n",
    "    'Team': pd.concat([df['home_team_abbrev'], df['away_team_abbrev']]),\n",
    "    'Win': pd.concat([df['home_win'], df['away_win']])\n",
    "})\n",
    "win_counts\n",
    "#  Group by team and count wins\n",
    "win_counts = win_counts.groupby(['Team', 'Win']).size().reset_index(name='Counts')\n",
    "win_counts\n",
    "#  Pivot to make the win/loss counts for each team\n",
    "win_pivot = win_counts.pivot(index='Team', columns='Win', values='Counts').fillna(0)\n",
    "win_pivot.columns = ['Losses', 'Wins']\n",
    "win_pivot\n",
    "\n",
    "# Plotting\n",
    "plt.figure(figsize=(12, 8))\n",
    "win_pivot.plot(kind='bar', stacked=True, color=['red', 'green'], alpha=0.7)\n",
    "\n",
    "plt.title('Win/Loss Distribution by Team')\n",
    "plt.xlabel('Team')\n",
    "plt.ylabel('Number of Matches')\n",
    "plt.xticks(rotation=45)\n",
    "plt.legend(title='Match Outcome')\n",
    "plt.tight_layout()\n",
    "# plt.show()"
   ]
  },
  {
   "cell_type": "markdown",
   "metadata": {},
   "source": [
    "## winning margin"
   ]
  },
  {
   "cell_type": "code",
   "execution_count": 177,
   "metadata": {},
   "outputs": [
    {
     "data": {
      "application/vnd.plotly.v1+json": {
       "config": {
        "plotlyServerURL": "https://plot.ly"
       },
       "data": [
        {
         "alignmentgroup": "True",
         "bingroup": "x",
         "hovertemplate": "Winning Margin (Runs)=%{x}<br>count=%{y}<extra></extra>",
         "legendgroup": "",
         "marker": {
          "color": "#636efa",
          "pattern": {
           "shape": ""
          }
         },
         "name": "",
         "nbinsx": 20,
         "offsetgroup": "",
         "orientation": "v",
         "showlegend": false,
         "type": "histogram",
         "x": [
          20,
          25,
          9,
          28,
          67,
          4,
          35,
          10,
          78,
          106,
          33,
          29,
          2,
          4,
          20,
          6,
          63,
          31,
          12,
          21,
          20,
          35,
          18,
          47,
          19,
          18,
          27,
          36,
          24,
          28,
          98,
          20,
          60
         ],
         "xaxis": "x",
         "yaxis": "y"
        },
        {
         "alignmentgroup": "True",
         "hovertemplate": "Winning Margin (Runs)=%{x}<extra></extra>",
         "legendgroup": "",
         "marker": {
          "color": "#636efa"
         },
         "name": "",
         "notched": true,
         "offsetgroup": "",
         "showlegend": false,
         "type": "box",
         "x": [
          20,
          25,
          9,
          28,
          67,
          4,
          35,
          10,
          78,
          106,
          33,
          29,
          2,
          4,
          20,
          6,
          63,
          31,
          12,
          21,
          20,
          35,
          18,
          47,
          19,
          18,
          27,
          36,
          24,
          28,
          98,
          20,
          60
         ],
         "xaxis": "x2",
         "yaxis": "y2"
        }
       ],
       "layout": {
        "barmode": "relative",
        "legend": {
         "tracegroupgap": 0
        },
        "template": {
         "data": {
          "bar": [
           {
            "error_x": {
             "color": "#2a3f5f"
            },
            "error_y": {
             "color": "#2a3f5f"
            },
            "marker": {
             "line": {
              "color": "#E5ECF6",
              "width": 0.5
             },
             "pattern": {
              "fillmode": "overlay",
              "size": 10,
              "solidity": 0.2
             }
            },
            "type": "bar"
           }
          ],
          "barpolar": [
           {
            "marker": {
             "line": {
              "color": "#E5ECF6",
              "width": 0.5
             },
             "pattern": {
              "fillmode": "overlay",
              "size": 10,
              "solidity": 0.2
             }
            },
            "type": "barpolar"
           }
          ],
          "carpet": [
           {
            "aaxis": {
             "endlinecolor": "#2a3f5f",
             "gridcolor": "white",
             "linecolor": "white",
             "minorgridcolor": "white",
             "startlinecolor": "#2a3f5f"
            },
            "baxis": {
             "endlinecolor": "#2a3f5f",
             "gridcolor": "white",
             "linecolor": "white",
             "minorgridcolor": "white",
             "startlinecolor": "#2a3f5f"
            },
            "type": "carpet"
           }
          ],
          "choropleth": [
           {
            "colorbar": {
             "outlinewidth": 0,
             "ticks": ""
            },
            "type": "choropleth"
           }
          ],
          "contour": [
           {
            "colorbar": {
             "outlinewidth": 0,
             "ticks": ""
            },
            "colorscale": [
             [
              0,
              "#0d0887"
             ],
             [
              0.1111111111111111,
              "#46039f"
             ],
             [
              0.2222222222222222,
              "#7201a8"
             ],
             [
              0.3333333333333333,
              "#9c179e"
             ],
             [
              0.4444444444444444,
              "#bd3786"
             ],
             [
              0.5555555555555556,
              "#d8576b"
             ],
             [
              0.6666666666666666,
              "#ed7953"
             ],
             [
              0.7777777777777778,
              "#fb9f3a"
             ],
             [
              0.8888888888888888,
              "#fdca26"
             ],
             [
              1,
              "#f0f921"
             ]
            ],
            "type": "contour"
           }
          ],
          "contourcarpet": [
           {
            "colorbar": {
             "outlinewidth": 0,
             "ticks": ""
            },
            "type": "contourcarpet"
           }
          ],
          "heatmap": [
           {
            "colorbar": {
             "outlinewidth": 0,
             "ticks": ""
            },
            "colorscale": [
             [
              0,
              "#0d0887"
             ],
             [
              0.1111111111111111,
              "#46039f"
             ],
             [
              0.2222222222222222,
              "#7201a8"
             ],
             [
              0.3333333333333333,
              "#9c179e"
             ],
             [
              0.4444444444444444,
              "#bd3786"
             ],
             [
              0.5555555555555556,
              "#d8576b"
             ],
             [
              0.6666666666666666,
              "#ed7953"
             ],
             [
              0.7777777777777778,
              "#fb9f3a"
             ],
             [
              0.8888888888888888,
              "#fdca26"
             ],
             [
              1,
              "#f0f921"
             ]
            ],
            "type": "heatmap"
           }
          ],
          "heatmapgl": [
           {
            "colorbar": {
             "outlinewidth": 0,
             "ticks": ""
            },
            "colorscale": [
             [
              0,
              "#0d0887"
             ],
             [
              0.1111111111111111,
              "#46039f"
             ],
             [
              0.2222222222222222,
              "#7201a8"
             ],
             [
              0.3333333333333333,
              "#9c179e"
             ],
             [
              0.4444444444444444,
              "#bd3786"
             ],
             [
              0.5555555555555556,
              "#d8576b"
             ],
             [
              0.6666666666666666,
              "#ed7953"
             ],
             [
              0.7777777777777778,
              "#fb9f3a"
             ],
             [
              0.8888888888888888,
              "#fdca26"
             ],
             [
              1,
              "#f0f921"
             ]
            ],
            "type": "heatmapgl"
           }
          ],
          "histogram": [
           {
            "marker": {
             "pattern": {
              "fillmode": "overlay",
              "size": 10,
              "solidity": 0.2
             }
            },
            "type": "histogram"
           }
          ],
          "histogram2d": [
           {
            "colorbar": {
             "outlinewidth": 0,
             "ticks": ""
            },
            "colorscale": [
             [
              0,
              "#0d0887"
             ],
             [
              0.1111111111111111,
              "#46039f"
             ],
             [
              0.2222222222222222,
              "#7201a8"
             ],
             [
              0.3333333333333333,
              "#9c179e"
             ],
             [
              0.4444444444444444,
              "#bd3786"
             ],
             [
              0.5555555555555556,
              "#d8576b"
             ],
             [
              0.6666666666666666,
              "#ed7953"
             ],
             [
              0.7777777777777778,
              "#fb9f3a"
             ],
             [
              0.8888888888888888,
              "#fdca26"
             ],
             [
              1,
              "#f0f921"
             ]
            ],
            "type": "histogram2d"
           }
          ],
          "histogram2dcontour": [
           {
            "colorbar": {
             "outlinewidth": 0,
             "ticks": ""
            },
            "colorscale": [
             [
              0,
              "#0d0887"
             ],
             [
              0.1111111111111111,
              "#46039f"
             ],
             [
              0.2222222222222222,
              "#7201a8"
             ],
             [
              0.3333333333333333,
              "#9c179e"
             ],
             [
              0.4444444444444444,
              "#bd3786"
             ],
             [
              0.5555555555555556,
              "#d8576b"
             ],
             [
              0.6666666666666666,
              "#ed7953"
             ],
             [
              0.7777777777777778,
              "#fb9f3a"
             ],
             [
              0.8888888888888888,
              "#fdca26"
             ],
             [
              1,
              "#f0f921"
             ]
            ],
            "type": "histogram2dcontour"
           }
          ],
          "mesh3d": [
           {
            "colorbar": {
             "outlinewidth": 0,
             "ticks": ""
            },
            "type": "mesh3d"
           }
          ],
          "parcoords": [
           {
            "line": {
             "colorbar": {
              "outlinewidth": 0,
              "ticks": ""
             }
            },
            "type": "parcoords"
           }
          ],
          "pie": [
           {
            "automargin": true,
            "type": "pie"
           }
          ],
          "scatter": [
           {
            "fillpattern": {
             "fillmode": "overlay",
             "size": 10,
             "solidity": 0.2
            },
            "type": "scatter"
           }
          ],
          "scatter3d": [
           {
            "line": {
             "colorbar": {
              "outlinewidth": 0,
              "ticks": ""
             }
            },
            "marker": {
             "colorbar": {
              "outlinewidth": 0,
              "ticks": ""
             }
            },
            "type": "scatter3d"
           }
          ],
          "scattercarpet": [
           {
            "marker": {
             "colorbar": {
              "outlinewidth": 0,
              "ticks": ""
             }
            },
            "type": "scattercarpet"
           }
          ],
          "scattergeo": [
           {
            "marker": {
             "colorbar": {
              "outlinewidth": 0,
              "ticks": ""
             }
            },
            "type": "scattergeo"
           }
          ],
          "scattergl": [
           {
            "marker": {
             "colorbar": {
              "outlinewidth": 0,
              "ticks": ""
             }
            },
            "type": "scattergl"
           }
          ],
          "scattermapbox": [
           {
            "marker": {
             "colorbar": {
              "outlinewidth": 0,
              "ticks": ""
             }
            },
            "type": "scattermapbox"
           }
          ],
          "scatterpolar": [
           {
            "marker": {
             "colorbar": {
              "outlinewidth": 0,
              "ticks": ""
             }
            },
            "type": "scatterpolar"
           }
          ],
          "scatterpolargl": [
           {
            "marker": {
             "colorbar": {
              "outlinewidth": 0,
              "ticks": ""
             }
            },
            "type": "scatterpolargl"
           }
          ],
          "scatterternary": [
           {
            "marker": {
             "colorbar": {
              "outlinewidth": 0,
              "ticks": ""
             }
            },
            "type": "scatterternary"
           }
          ],
          "surface": [
           {
            "colorbar": {
             "outlinewidth": 0,
             "ticks": ""
            },
            "colorscale": [
             [
              0,
              "#0d0887"
             ],
             [
              0.1111111111111111,
              "#46039f"
             ],
             [
              0.2222222222222222,
              "#7201a8"
             ],
             [
              0.3333333333333333,
              "#9c179e"
             ],
             [
              0.4444444444444444,
              "#bd3786"
             ],
             [
              0.5555555555555556,
              "#d8576b"
             ],
             [
              0.6666666666666666,
              "#ed7953"
             ],
             [
              0.7777777777777778,
              "#fb9f3a"
             ],
             [
              0.8888888888888888,
              "#fdca26"
             ],
             [
              1,
              "#f0f921"
             ]
            ],
            "type": "surface"
           }
          ],
          "table": [
           {
            "cells": {
             "fill": {
              "color": "#EBF0F8"
             },
             "line": {
              "color": "white"
             }
            },
            "header": {
             "fill": {
              "color": "#C8D4E3"
             },
             "line": {
              "color": "white"
             }
            },
            "type": "table"
           }
          ]
         },
         "layout": {
          "annotationdefaults": {
           "arrowcolor": "#2a3f5f",
           "arrowhead": 0,
           "arrowwidth": 1
          },
          "autotypenumbers": "strict",
          "coloraxis": {
           "colorbar": {
            "outlinewidth": 0,
            "ticks": ""
           }
          },
          "colorscale": {
           "diverging": [
            [
             0,
             "#8e0152"
            ],
            [
             0.1,
             "#c51b7d"
            ],
            [
             0.2,
             "#de77ae"
            ],
            [
             0.3,
             "#f1b6da"
            ],
            [
             0.4,
             "#fde0ef"
            ],
            [
             0.5,
             "#f7f7f7"
            ],
            [
             0.6,
             "#e6f5d0"
            ],
            [
             0.7,
             "#b8e186"
            ],
            [
             0.8,
             "#7fbc41"
            ],
            [
             0.9,
             "#4d9221"
            ],
            [
             1,
             "#276419"
            ]
           ],
           "sequential": [
            [
             0,
             "#0d0887"
            ],
            [
             0.1111111111111111,
             "#46039f"
            ],
            [
             0.2222222222222222,
             "#7201a8"
            ],
            [
             0.3333333333333333,
             "#9c179e"
            ],
            [
             0.4444444444444444,
             "#bd3786"
            ],
            [
             0.5555555555555556,
             "#d8576b"
            ],
            [
             0.6666666666666666,
             "#ed7953"
            ],
            [
             0.7777777777777778,
             "#fb9f3a"
            ],
            [
             0.8888888888888888,
             "#fdca26"
            ],
            [
             1,
             "#f0f921"
            ]
           ],
           "sequentialminus": [
            [
             0,
             "#0d0887"
            ],
            [
             0.1111111111111111,
             "#46039f"
            ],
            [
             0.2222222222222222,
             "#7201a8"
            ],
            [
             0.3333333333333333,
             "#9c179e"
            ],
            [
             0.4444444444444444,
             "#bd3786"
            ],
            [
             0.5555555555555556,
             "#d8576b"
            ],
            [
             0.6666666666666666,
             "#ed7953"
            ],
            [
             0.7777777777777778,
             "#fb9f3a"
            ],
            [
             0.8888888888888888,
             "#fdca26"
            ],
            [
             1,
             "#f0f921"
            ]
           ]
          },
          "colorway": [
           "#636efa",
           "#EF553B",
           "#00cc96",
           "#ab63fa",
           "#FFA15A",
           "#19d3f3",
           "#FF6692",
           "#B6E880",
           "#FF97FF",
           "#FECB52"
          ],
          "font": {
           "color": "#2a3f5f"
          },
          "geo": {
           "bgcolor": "white",
           "lakecolor": "white",
           "landcolor": "#E5ECF6",
           "showlakes": true,
           "showland": true,
           "subunitcolor": "white"
          },
          "hoverlabel": {
           "align": "left"
          },
          "hovermode": "closest",
          "mapbox": {
           "style": "light"
          },
          "paper_bgcolor": "white",
          "plot_bgcolor": "#E5ECF6",
          "polar": {
           "angularaxis": {
            "gridcolor": "white",
            "linecolor": "white",
            "ticks": ""
           },
           "bgcolor": "#E5ECF6",
           "radialaxis": {
            "gridcolor": "white",
            "linecolor": "white",
            "ticks": ""
           }
          },
          "scene": {
           "xaxis": {
            "backgroundcolor": "#E5ECF6",
            "gridcolor": "white",
            "gridwidth": 2,
            "linecolor": "white",
            "showbackground": true,
            "ticks": "",
            "zerolinecolor": "white"
           },
           "yaxis": {
            "backgroundcolor": "#E5ECF6",
            "gridcolor": "white",
            "gridwidth": 2,
            "linecolor": "white",
            "showbackground": true,
            "ticks": "",
            "zerolinecolor": "white"
           },
           "zaxis": {
            "backgroundcolor": "#E5ECF6",
            "gridcolor": "white",
            "gridwidth": 2,
            "linecolor": "white",
            "showbackground": true,
            "ticks": "",
            "zerolinecolor": "white"
           }
          },
          "shapedefaults": {
           "line": {
            "color": "#2a3f5f"
           }
          },
          "ternary": {
           "aaxis": {
            "gridcolor": "white",
            "linecolor": "white",
            "ticks": ""
           },
           "baxis": {
            "gridcolor": "white",
            "linecolor": "white",
            "ticks": ""
           },
           "bgcolor": "#E5ECF6",
           "caxis": {
            "gridcolor": "white",
            "linecolor": "white",
            "ticks": ""
           }
          },
          "title": {
           "x": 0.05
          },
          "xaxis": {
           "automargin": true,
           "gridcolor": "white",
           "linecolor": "white",
           "ticks": "",
           "title": {
            "standoff": 15
           },
           "zerolinecolor": "white",
           "zerolinewidth": 2
          },
          "yaxis": {
           "automargin": true,
           "gridcolor": "white",
           "linecolor": "white",
           "ticks": "",
           "title": {
            "standoff": 15
           },
           "zerolinecolor": "white",
           "zerolinewidth": 2
          }
         }
        },
        "title": {
         "text": "Distribution of Winning Margins (by Runs)"
        },
        "xaxis": {
         "anchor": "y",
         "domain": [
          0,
          1
         ],
         "title": {
          "text": "Winning Margin (Runs)"
         }
        },
        "xaxis2": {
         "anchor": "y2",
         "domain": [
          0,
          1
         ],
         "matches": "x",
         "showgrid": true,
         "showticklabels": false
        },
        "yaxis": {
         "anchor": "x",
         "domain": [
          0,
          0.8316
         ],
         "title": {
          "text": "count"
         }
        },
        "yaxis2": {
         "anchor": "x2",
         "domain": [
          0.8416,
          1
         ],
         "matches": "y2",
         "showgrid": false,
         "showline": false,
         "showticklabels": false,
         "ticks": ""
        }
       }
      }
     },
     "metadata": {},
     "output_type": "display_data"
    },
    {
     "data": {
      "application/vnd.plotly.v1+json": {
       "config": {
        "plotlyServerURL": "https://plot.ly"
       },
       "data": [
        {
         "alignmentgroup": "True",
         "bingroup": "x",
         "hovertemplate": "Winning Margin (Wickets)=%{x}<br>count=%{y}<extra></extra>",
         "legendgroup": "",
         "marker": {
          "color": "orange",
          "pattern": {
           "shape": ""
          }
         },
         "name": "",
         "nbinsx": 8,
         "offsetgroup": "",
         "orientation": "v",
         "showlegend": false,
         "type": "histogram",
         "x": [
          6,
          3,
          7,
          6,
          3,
          8,
          2,
          6,
          8,
          3,
          9,
          6,
          8,
          7,
          9,
          7,
          4,
          3,
          6,
          6,
          7,
          6,
          4,
          4,
          7,
          7,
          7,
          5,
          5,
          4,
          8,
          4,
          8,
          4,
          7,
          10
         ],
         "xaxis": "x",
         "yaxis": "y"
        },
        {
         "alignmentgroup": "True",
         "hovertemplate": "Winning Margin (Wickets)=%{x}<extra></extra>",
         "legendgroup": "",
         "marker": {
          "color": "orange"
         },
         "name": "",
         "notched": true,
         "offsetgroup": "",
         "showlegend": false,
         "type": "box",
         "x": [
          6,
          3,
          7,
          6,
          3,
          8,
          2,
          6,
          8,
          3,
          9,
          6,
          8,
          7,
          9,
          7,
          4,
          3,
          6,
          6,
          7,
          6,
          4,
          4,
          7,
          7,
          7,
          5,
          5,
          4,
          8,
          4,
          8,
          4,
          7,
          10
         ],
         "xaxis": "x2",
         "yaxis": "y2"
        }
       ],
       "layout": {
        "barmode": "relative",
        "legend": {
         "tracegroupgap": 0
        },
        "template": {
         "data": {
          "bar": [
           {
            "error_x": {
             "color": "#2a3f5f"
            },
            "error_y": {
             "color": "#2a3f5f"
            },
            "marker": {
             "line": {
              "color": "#E5ECF6",
              "width": 0.5
             },
             "pattern": {
              "fillmode": "overlay",
              "size": 10,
              "solidity": 0.2
             }
            },
            "type": "bar"
           }
          ],
          "barpolar": [
           {
            "marker": {
             "line": {
              "color": "#E5ECF6",
              "width": 0.5
             },
             "pattern": {
              "fillmode": "overlay",
              "size": 10,
              "solidity": 0.2
             }
            },
            "type": "barpolar"
           }
          ],
          "carpet": [
           {
            "aaxis": {
             "endlinecolor": "#2a3f5f",
             "gridcolor": "white",
             "linecolor": "white",
             "minorgridcolor": "white",
             "startlinecolor": "#2a3f5f"
            },
            "baxis": {
             "endlinecolor": "#2a3f5f",
             "gridcolor": "white",
             "linecolor": "white",
             "minorgridcolor": "white",
             "startlinecolor": "#2a3f5f"
            },
            "type": "carpet"
           }
          ],
          "choropleth": [
           {
            "colorbar": {
             "outlinewidth": 0,
             "ticks": ""
            },
            "type": "choropleth"
           }
          ],
          "contour": [
           {
            "colorbar": {
             "outlinewidth": 0,
             "ticks": ""
            },
            "colorscale": [
             [
              0,
              "#0d0887"
             ],
             [
              0.1111111111111111,
              "#46039f"
             ],
             [
              0.2222222222222222,
              "#7201a8"
             ],
             [
              0.3333333333333333,
              "#9c179e"
             ],
             [
              0.4444444444444444,
              "#bd3786"
             ],
             [
              0.5555555555555556,
              "#d8576b"
             ],
             [
              0.6666666666666666,
              "#ed7953"
             ],
             [
              0.7777777777777778,
              "#fb9f3a"
             ],
             [
              0.8888888888888888,
              "#fdca26"
             ],
             [
              1,
              "#f0f921"
             ]
            ],
            "type": "contour"
           }
          ],
          "contourcarpet": [
           {
            "colorbar": {
             "outlinewidth": 0,
             "ticks": ""
            },
            "type": "contourcarpet"
           }
          ],
          "heatmap": [
           {
            "colorbar": {
             "outlinewidth": 0,
             "ticks": ""
            },
            "colorscale": [
             [
              0,
              "#0d0887"
             ],
             [
              0.1111111111111111,
              "#46039f"
             ],
             [
              0.2222222222222222,
              "#7201a8"
             ],
             [
              0.3333333333333333,
              "#9c179e"
             ],
             [
              0.4444444444444444,
              "#bd3786"
             ],
             [
              0.5555555555555556,
              "#d8576b"
             ],
             [
              0.6666666666666666,
              "#ed7953"
             ],
             [
              0.7777777777777778,
              "#fb9f3a"
             ],
             [
              0.8888888888888888,
              "#fdca26"
             ],
             [
              1,
              "#f0f921"
             ]
            ],
            "type": "heatmap"
           }
          ],
          "heatmapgl": [
           {
            "colorbar": {
             "outlinewidth": 0,
             "ticks": ""
            },
            "colorscale": [
             [
              0,
              "#0d0887"
             ],
             [
              0.1111111111111111,
              "#46039f"
             ],
             [
              0.2222222222222222,
              "#7201a8"
             ],
             [
              0.3333333333333333,
              "#9c179e"
             ],
             [
              0.4444444444444444,
              "#bd3786"
             ],
             [
              0.5555555555555556,
              "#d8576b"
             ],
             [
              0.6666666666666666,
              "#ed7953"
             ],
             [
              0.7777777777777778,
              "#fb9f3a"
             ],
             [
              0.8888888888888888,
              "#fdca26"
             ],
             [
              1,
              "#f0f921"
             ]
            ],
            "type": "heatmapgl"
           }
          ],
          "histogram": [
           {
            "marker": {
             "pattern": {
              "fillmode": "overlay",
              "size": 10,
              "solidity": 0.2
             }
            },
            "type": "histogram"
           }
          ],
          "histogram2d": [
           {
            "colorbar": {
             "outlinewidth": 0,
             "ticks": ""
            },
            "colorscale": [
             [
              0,
              "#0d0887"
             ],
             [
              0.1111111111111111,
              "#46039f"
             ],
             [
              0.2222222222222222,
              "#7201a8"
             ],
             [
              0.3333333333333333,
              "#9c179e"
             ],
             [
              0.4444444444444444,
              "#bd3786"
             ],
             [
              0.5555555555555556,
              "#d8576b"
             ],
             [
              0.6666666666666666,
              "#ed7953"
             ],
             [
              0.7777777777777778,
              "#fb9f3a"
             ],
             [
              0.8888888888888888,
              "#fdca26"
             ],
             [
              1,
              "#f0f921"
             ]
            ],
            "type": "histogram2d"
           }
          ],
          "histogram2dcontour": [
           {
            "colorbar": {
             "outlinewidth": 0,
             "ticks": ""
            },
            "colorscale": [
             [
              0,
              "#0d0887"
             ],
             [
              0.1111111111111111,
              "#46039f"
             ],
             [
              0.2222222222222222,
              "#7201a8"
             ],
             [
              0.3333333333333333,
              "#9c179e"
             ],
             [
              0.4444444444444444,
              "#bd3786"
             ],
             [
              0.5555555555555556,
              "#d8576b"
             ],
             [
              0.6666666666666666,
              "#ed7953"
             ],
             [
              0.7777777777777778,
              "#fb9f3a"
             ],
             [
              0.8888888888888888,
              "#fdca26"
             ],
             [
              1,
              "#f0f921"
             ]
            ],
            "type": "histogram2dcontour"
           }
          ],
          "mesh3d": [
           {
            "colorbar": {
             "outlinewidth": 0,
             "ticks": ""
            },
            "type": "mesh3d"
           }
          ],
          "parcoords": [
           {
            "line": {
             "colorbar": {
              "outlinewidth": 0,
              "ticks": ""
             }
            },
            "type": "parcoords"
           }
          ],
          "pie": [
           {
            "automargin": true,
            "type": "pie"
           }
          ],
          "scatter": [
           {
            "fillpattern": {
             "fillmode": "overlay",
             "size": 10,
             "solidity": 0.2
            },
            "type": "scatter"
           }
          ],
          "scatter3d": [
           {
            "line": {
             "colorbar": {
              "outlinewidth": 0,
              "ticks": ""
             }
            },
            "marker": {
             "colorbar": {
              "outlinewidth": 0,
              "ticks": ""
             }
            },
            "type": "scatter3d"
           }
          ],
          "scattercarpet": [
           {
            "marker": {
             "colorbar": {
              "outlinewidth": 0,
              "ticks": ""
             }
            },
            "type": "scattercarpet"
           }
          ],
          "scattergeo": [
           {
            "marker": {
             "colorbar": {
              "outlinewidth": 0,
              "ticks": ""
             }
            },
            "type": "scattergeo"
           }
          ],
          "scattergl": [
           {
            "marker": {
             "colorbar": {
              "outlinewidth": 0,
              "ticks": ""
             }
            },
            "type": "scattergl"
           }
          ],
          "scattermapbox": [
           {
            "marker": {
             "colorbar": {
              "outlinewidth": 0,
              "ticks": ""
             }
            },
            "type": "scattermapbox"
           }
          ],
          "scatterpolar": [
           {
            "marker": {
             "colorbar": {
              "outlinewidth": 0,
              "ticks": ""
             }
            },
            "type": "scatterpolar"
           }
          ],
          "scatterpolargl": [
           {
            "marker": {
             "colorbar": {
              "outlinewidth": 0,
              "ticks": ""
             }
            },
            "type": "scatterpolargl"
           }
          ],
          "scatterternary": [
           {
            "marker": {
             "colorbar": {
              "outlinewidth": 0,
              "ticks": ""
             }
            },
            "type": "scatterternary"
           }
          ],
          "surface": [
           {
            "colorbar": {
             "outlinewidth": 0,
             "ticks": ""
            },
            "colorscale": [
             [
              0,
              "#0d0887"
             ],
             [
              0.1111111111111111,
              "#46039f"
             ],
             [
              0.2222222222222222,
              "#7201a8"
             ],
             [
              0.3333333333333333,
              "#9c179e"
             ],
             [
              0.4444444444444444,
              "#bd3786"
             ],
             [
              0.5555555555555556,
              "#d8576b"
             ],
             [
              0.6666666666666666,
              "#ed7953"
             ],
             [
              0.7777777777777778,
              "#fb9f3a"
             ],
             [
              0.8888888888888888,
              "#fdca26"
             ],
             [
              1,
              "#f0f921"
             ]
            ],
            "type": "surface"
           }
          ],
          "table": [
           {
            "cells": {
             "fill": {
              "color": "#EBF0F8"
             },
             "line": {
              "color": "white"
             }
            },
            "header": {
             "fill": {
              "color": "#C8D4E3"
             },
             "line": {
              "color": "white"
             }
            },
            "type": "table"
           }
          ]
         },
         "layout": {
          "annotationdefaults": {
           "arrowcolor": "#2a3f5f",
           "arrowhead": 0,
           "arrowwidth": 1
          },
          "autotypenumbers": "strict",
          "coloraxis": {
           "colorbar": {
            "outlinewidth": 0,
            "ticks": ""
           }
          },
          "colorscale": {
           "diverging": [
            [
             0,
             "#8e0152"
            ],
            [
             0.1,
             "#c51b7d"
            ],
            [
             0.2,
             "#de77ae"
            ],
            [
             0.3,
             "#f1b6da"
            ],
            [
             0.4,
             "#fde0ef"
            ],
            [
             0.5,
             "#f7f7f7"
            ],
            [
             0.6,
             "#e6f5d0"
            ],
            [
             0.7,
             "#b8e186"
            ],
            [
             0.8,
             "#7fbc41"
            ],
            [
             0.9,
             "#4d9221"
            ],
            [
             1,
             "#276419"
            ]
           ],
           "sequential": [
            [
             0,
             "#0d0887"
            ],
            [
             0.1111111111111111,
             "#46039f"
            ],
            [
             0.2222222222222222,
             "#7201a8"
            ],
            [
             0.3333333333333333,
             "#9c179e"
            ],
            [
             0.4444444444444444,
             "#bd3786"
            ],
            [
             0.5555555555555556,
             "#d8576b"
            ],
            [
             0.6666666666666666,
             "#ed7953"
            ],
            [
             0.7777777777777778,
             "#fb9f3a"
            ],
            [
             0.8888888888888888,
             "#fdca26"
            ],
            [
             1,
             "#f0f921"
            ]
           ],
           "sequentialminus": [
            [
             0,
             "#0d0887"
            ],
            [
             0.1111111111111111,
             "#46039f"
            ],
            [
             0.2222222222222222,
             "#7201a8"
            ],
            [
             0.3333333333333333,
             "#9c179e"
            ],
            [
             0.4444444444444444,
             "#bd3786"
            ],
            [
             0.5555555555555556,
             "#d8576b"
            ],
            [
             0.6666666666666666,
             "#ed7953"
            ],
            [
             0.7777777777777778,
             "#fb9f3a"
            ],
            [
             0.8888888888888888,
             "#fdca26"
            ],
            [
             1,
             "#f0f921"
            ]
           ]
          },
          "colorway": [
           "#636efa",
           "#EF553B",
           "#00cc96",
           "#ab63fa",
           "#FFA15A",
           "#19d3f3",
           "#FF6692",
           "#B6E880",
           "#FF97FF",
           "#FECB52"
          ],
          "font": {
           "color": "#2a3f5f"
          },
          "geo": {
           "bgcolor": "white",
           "lakecolor": "white",
           "landcolor": "#E5ECF6",
           "showlakes": true,
           "showland": true,
           "subunitcolor": "white"
          },
          "hoverlabel": {
           "align": "left"
          },
          "hovermode": "closest",
          "mapbox": {
           "style": "light"
          },
          "paper_bgcolor": "white",
          "plot_bgcolor": "#E5ECF6",
          "polar": {
           "angularaxis": {
            "gridcolor": "white",
            "linecolor": "white",
            "ticks": ""
           },
           "bgcolor": "#E5ECF6",
           "radialaxis": {
            "gridcolor": "white",
            "linecolor": "white",
            "ticks": ""
           }
          },
          "scene": {
           "xaxis": {
            "backgroundcolor": "#E5ECF6",
            "gridcolor": "white",
            "gridwidth": 2,
            "linecolor": "white",
            "showbackground": true,
            "ticks": "",
            "zerolinecolor": "white"
           },
           "yaxis": {
            "backgroundcolor": "#E5ECF6",
            "gridcolor": "white",
            "gridwidth": 2,
            "linecolor": "white",
            "showbackground": true,
            "ticks": "",
            "zerolinecolor": "white"
           },
           "zaxis": {
            "backgroundcolor": "#E5ECF6",
            "gridcolor": "white",
            "gridwidth": 2,
            "linecolor": "white",
            "showbackground": true,
            "ticks": "",
            "zerolinecolor": "white"
           }
          },
          "shapedefaults": {
           "line": {
            "color": "#2a3f5f"
           }
          },
          "ternary": {
           "aaxis": {
            "gridcolor": "white",
            "linecolor": "white",
            "ticks": ""
           },
           "baxis": {
            "gridcolor": "white",
            "linecolor": "white",
            "ticks": ""
           },
           "bgcolor": "#E5ECF6",
           "caxis": {
            "gridcolor": "white",
            "linecolor": "white",
            "ticks": ""
           }
          },
          "title": {
           "x": 0.05
          },
          "xaxis": {
           "automargin": true,
           "gridcolor": "white",
           "linecolor": "white",
           "ticks": "",
           "title": {
            "standoff": 15
           },
           "zerolinecolor": "white",
           "zerolinewidth": 2
          },
          "yaxis": {
           "automargin": true,
           "gridcolor": "white",
           "linecolor": "white",
           "ticks": "",
           "title": {
            "standoff": 15
           },
           "zerolinecolor": "white",
           "zerolinewidth": 2
          }
         }
        },
        "title": {
         "text": "Distribution of Winning Margins (by Wickets)"
        },
        "xaxis": {
         "anchor": "y",
         "domain": [
          0,
          1
         ],
         "title": {
          "text": "Winning Margin (Wickets)"
         }
        },
        "xaxis2": {
         "anchor": "y2",
         "domain": [
          0,
          1
         ],
         "matches": "x",
         "showgrid": true,
         "showticklabels": false
        },
        "yaxis": {
         "anchor": "x",
         "domain": [
          0,
          0.8316
         ],
         "title": {
          "text": "count"
         }
        },
        "yaxis2": {
         "anchor": "x2",
         "domain": [
          0.8416,
          1
         ],
         "matches": "y2",
         "showgrid": false,
         "showline": false,
         "showticklabels": false,
         "ticks": ""
        }
       }
      }
     },
     "metadata": {},
     "output_type": "display_data"
    },
    {
     "data": {
      "image/png": "[encoded data removed]",
      "text/plain": [
       "<Figure size 640x480 with 2 Axes>"
      ]
     },
     "metadata": {},
     "output_type": "display_data"
    }
   ],
   "source": [
    "df['winning_margin'] = pd.to_numeric(df['winning_margin'], errors='coerce')\n",
    "win_by_runs = df[df['winning_type'] == 'Runs']\n",
    "# win_by_runs =pd.concat([df['home_team_abbrev'], df['away_team_abbrev']])\n",
    "win_by_wickets = df[df['winning_type'] == 'Wickets']\n",
    "plt.subplot(1,2,1)\n",
    "sns.histplot(win_by_runs['winning_margin'], bins=15, color='blue', kde=True)\n",
    "plt.title('Distribution of Winning Margins (by Runs)')\n",
    "plt.xlabel('Winning Margin (Runs)')\n",
    "plt.ylabel('Frequency')\n",
    "\n",
    "# Box plot for winning by wickets\n",
    "plt.subplot(1, 2,2)\n",
    "sns.histplot(win_by_wickets['winning_margin'], bins=8, color='orange', kde=True)\n",
    "plt.title('Distribution of Winning Margins (by Wickets)')\n",
    "plt.xlabel('Winning Margin (Wickets)')\n",
    "plt.ylabel('Frequency')\n",
    "\n",
    "fig_runs= px.histogram(win_by_runs,\n",
    "             x='winning_margin',\n",
    "             nbins=20,\n",
    "             title='Distribution of Winning Margins (by Runs)',\n",
    "            labels={'winning_margin': 'Winning Margin (Runs)'},\n",
    "            marginal='box',  # Add a box plot above the histogram\n",
    ")\n",
    "fig_wickets = px.histogram(\n",
    "    win_by_wickets,\n",
    "    x='winning_margin',\n",
    "    nbins=8,\n",
    "    title='Distribution of Winning Margins (by Wickets)',\n",
    "    labels={'winning_margin': 'Winning Margin (Wickets)'},\n",
    "    color_discrete_sequence=['orange'],\n",
    "    marginal='box',  # Add a box plot above the histogram\n",
    ")\n",
    "fig_runs.show()\n",
    "fig_wickets.show()"
   ]
  },
  {
   "cell_type": "markdown",
   "metadata": {},
   "source": [
    "## score comparison"
   ]
  },
  {
   "cell_type": "code",
   "execution_count": 215,
   "metadata": {},
   "outputs": [
    {
     "ename": "AttributeError",
     "evalue": "Can only use .str accessor with string values!",
     "output_type": "error",
     "traceback": [
      "\u001b[1;31m---------------------------------------------------------------------------\u001b[0m",
      "\u001b[1;31mAttributeError\u001b[0m                            Traceback (most recent call last)",
      "Cell \u001b[1;32mIn[215], line 1\u001b[0m\n\u001b[1;32m----> 1\u001b[0m df[\u001b[38;5;124m'\u001b[39m\u001b[38;5;124mhome_score_runs\u001b[39m\u001b[38;5;124m'\u001b[39m] \u001b[38;5;241m=\u001b[39m (df[\u001b[38;5;124m'\u001b[39m\u001b[38;5;124mhome_score_runs\u001b[39m\u001b[38;5;124m'\u001b[39m]\u001b[38;5;241m.\u001b[39mstr\u001b[38;5;241m.\u001b[39msplit(\u001b[38;5;124m'\u001b[39m\u001b[38;5;124m/\u001b[39m\u001b[38;5;124m'\u001b[39m)[\u001b[38;5;241m0\u001b[39m])\n\u001b[0;32m      2\u001b[0m df[\u001b[38;5;124m'\u001b[39m\u001b[38;5;124maway_score_runs\u001b[39m\u001b[38;5;124m'\u001b[39m] \u001b[38;5;241m=\u001b[39m (df[\u001b[38;5;124m'\u001b[39m\u001b[38;5;124maway_score_runs\u001b[39m\u001b[38;5;124m'\u001b[39m]\u001b[38;5;241m.\u001b[39mstr\u001b[38;5;241m.\u001b[39msplit(\u001b[38;5;124m'\u001b[39m\u001b[38;5;124m/\u001b[39m\u001b[38;5;124m'\u001b[39m)[\u001b[38;5;241m0\u001b[39m])\n\u001b[0;32m      4\u001b[0m \u001b[38;5;66;03m# Create an interactive scatter plot to compare scores\u001b[39;00m\n",
      "File \u001b[1;32mc:\\Users\\omimi\\miniconda3\\Lib\\site-packages\\pandas\\core\\generic.py:6299\u001b[0m, in \u001b[0;36mNDFrame.__getattr__\u001b[1;34m(self, name)\u001b[0m\n\u001b[0;32m   6292\u001b[0m \u001b[38;5;28;01mif\u001b[39;00m (\n\u001b[0;32m   6293\u001b[0m     name \u001b[38;5;129;01mnot\u001b[39;00m \u001b[38;5;129;01min\u001b[39;00m \u001b[38;5;28mself\u001b[39m\u001b[38;5;241m.\u001b[39m_internal_names_set\n\u001b[0;32m   6294\u001b[0m     \u001b[38;5;129;01mand\u001b[39;00m name \u001b[38;5;129;01mnot\u001b[39;00m \u001b[38;5;129;01min\u001b[39;00m \u001b[38;5;28mself\u001b[39m\u001b[38;5;241m.\u001b[39m_metadata\n\u001b[0;32m   6295\u001b[0m     \u001b[38;5;129;01mand\u001b[39;00m name \u001b[38;5;129;01mnot\u001b[39;00m \u001b[38;5;129;01min\u001b[39;00m \u001b[38;5;28mself\u001b[39m\u001b[38;5;241m.\u001b[39m_accessors\n\u001b[0;32m   6296\u001b[0m     \u001b[38;5;129;01mand\u001b[39;00m \u001b[38;5;28mself\u001b[39m\u001b[38;5;241m.\u001b[39m_info_axis\u001b[38;5;241m.\u001b[39m_can_hold_identifiers_and_holds_name(name)\n\u001b[0;32m   6297\u001b[0m ):\n\u001b[0;32m   6298\u001b[0m     \u001b[38;5;28;01mreturn\u001b[39;00m \u001b[38;5;28mself\u001b[39m[name]\n\u001b[1;32m-> 6299\u001b[0m \u001b[38;5;28;01mreturn\u001b[39;00m \u001b[38;5;28mobject\u001b[39m\u001b[38;5;241m.\u001b[39m\u001b[38;5;21m__getattribute__\u001b[39m(\u001b[38;5;28mself\u001b[39m, name)\n",
      "File \u001b[1;32mc:\\Users\\omimi\\miniconda3\\Lib\\site-packages\\pandas\\core\\accessor.py:224\u001b[0m, in \u001b[0;36mCachedAccessor.__get__\u001b[1;34m(self, obj, cls)\u001b[0m\n\u001b[0;32m    221\u001b[0m \u001b[38;5;28;01mif\u001b[39;00m obj \u001b[38;5;129;01mis\u001b[39;00m \u001b[38;5;28;01mNone\u001b[39;00m:\n\u001b[0;32m    222\u001b[0m     \u001b[38;5;66;03m# we're accessing the attribute of the class, i.e., Dataset.geo\u001b[39;00m\n\u001b[0;32m    223\u001b[0m     \u001b[38;5;28;01mreturn\u001b[39;00m \u001b[38;5;28mself\u001b[39m\u001b[38;5;241m.\u001b[39m_accessor\n\u001b[1;32m--> 224\u001b[0m accessor_obj \u001b[38;5;241m=\u001b[39m \u001b[38;5;28mself\u001b[39m\u001b[38;5;241m.\u001b[39m_accessor(obj)\n\u001b[0;32m    225\u001b[0m \u001b[38;5;66;03m# Replace the property with the accessor object. Inspired by:\u001b[39;00m\n\u001b[0;32m    226\u001b[0m \u001b[38;5;66;03m# https://www.pydanny.com/cached-property.html\u001b[39;00m\n\u001b[0;32m    227\u001b[0m \u001b[38;5;66;03m# We need to use object.__setattr__ because we overwrite __setattr__ on\u001b[39;00m\n\u001b[0;32m    228\u001b[0m \u001b[38;5;66;03m# NDFrame\u001b[39;00m\n\u001b[0;32m    229\u001b[0m \u001b[38;5;28mobject\u001b[39m\u001b[38;5;241m.\u001b[39m\u001b[38;5;21m__setattr__\u001b[39m(obj, \u001b[38;5;28mself\u001b[39m\u001b[38;5;241m.\u001b[39m_name, accessor_obj)\n",
      "File \u001b[1;32mc:\\Users\\omimi\\miniconda3\\Lib\\site-packages\\pandas\\core\\strings\\accessor.py:191\u001b[0m, in \u001b[0;36mStringMethods.__init__\u001b[1;34m(self, data)\u001b[0m\n\u001b[0;32m    188\u001b[0m \u001b[38;5;28;01mdef\u001b[39;00m \u001b[38;5;21m__init__\u001b[39m(\u001b[38;5;28mself\u001b[39m, data) \u001b[38;5;241m-\u001b[39m\u001b[38;5;241m>\u001b[39m \u001b[38;5;28;01mNone\u001b[39;00m:\n\u001b[0;32m    189\u001b[0m     \u001b[38;5;28;01mfrom\u001b[39;00m \u001b[38;5;21;01mpandas\u001b[39;00m\u001b[38;5;21;01m.\u001b[39;00m\u001b[38;5;21;01mcore\u001b[39;00m\u001b[38;5;21;01m.\u001b[39;00m\u001b[38;5;21;01marrays\u001b[39;00m\u001b[38;5;21;01m.\u001b[39;00m\u001b[38;5;21;01mstring_\u001b[39;00m \u001b[38;5;28;01mimport\u001b[39;00m StringDtype\n\u001b[1;32m--> 191\u001b[0m     \u001b[38;5;28mself\u001b[39m\u001b[38;5;241m.\u001b[39m_inferred_dtype \u001b[38;5;241m=\u001b[39m \u001b[38;5;28mself\u001b[39m\u001b[38;5;241m.\u001b[39m_validate(data)\n\u001b[0;32m    192\u001b[0m     \u001b[38;5;28mself\u001b[39m\u001b[38;5;241m.\u001b[39m_is_categorical \u001b[38;5;241m=\u001b[39m \u001b[38;5;28misinstance\u001b[39m(data\u001b[38;5;241m.\u001b[39mdtype, CategoricalDtype)\n\u001b[0;32m    193\u001b[0m     \u001b[38;5;28mself\u001b[39m\u001b[38;5;241m.\u001b[39m_is_string \u001b[38;5;241m=\u001b[39m \u001b[38;5;28misinstance\u001b[39m(data\u001b[38;5;241m.\u001b[39mdtype, StringDtype)\n",
      "File \u001b[1;32mc:\\Users\\omimi\\miniconda3\\Lib\\site-packages\\pandas\\core\\strings\\accessor.py:245\u001b[0m, in \u001b[0;36mStringMethods._validate\u001b[1;34m(data)\u001b[0m\n\u001b[0;32m    242\u001b[0m inferred_dtype \u001b[38;5;241m=\u001b[39m lib\u001b[38;5;241m.\u001b[39minfer_dtype(values, skipna\u001b[38;5;241m=\u001b[39m\u001b[38;5;28;01mTrue\u001b[39;00m)\n\u001b[0;32m    244\u001b[0m \u001b[38;5;28;01mif\u001b[39;00m inferred_dtype \u001b[38;5;129;01mnot\u001b[39;00m \u001b[38;5;129;01min\u001b[39;00m allowed_types:\n\u001b[1;32m--> 245\u001b[0m     \u001b[38;5;28;01mraise\u001b[39;00m \u001b[38;5;167;01mAttributeError\u001b[39;00m(\u001b[38;5;124m\"\u001b[39m\u001b[38;5;124mCan only use .str accessor with string values!\u001b[39m\u001b[38;5;124m\"\u001b[39m)\n\u001b[0;32m    246\u001b[0m \u001b[38;5;28;01mreturn\u001b[39;00m inferred_dtype\n",
      "\u001b[1;31mAttributeError\u001b[0m: Can only use .str accessor with string values!"
     ]
    }
   ],
   "source": [
    "\n",
    "df['home_score_runs'] = pd.to_numeric(df['home_score_runs'].str.split('/')[0])\n",
    "df['away_score_runs'] = pd.to_numeric(df['away_score_runs'].str.split('/')[0])\n",
    "\n",
    "# Create an interactive scatter plot to compare scores\n",
    "fig = px.scatter(\n",
    "    df,\n",
    "    x='home_score_runs',\n",
    "    y='away_score_runs',\n",
    "    # text='match_no',  # Optional: Add match number labels to the points\n",
    "    color='match_type',  # Optional: Color by match type (e.g., 'Day', 'Night')\n",
    "    title='Home vs Away Team Score Comparison',\n",
    "    labels={\n",
    "        'home_score_runs': 'Home Team Score (Runs)',\n",
    "        'away_score_runs': 'Away Team Score (Runs)'\n",
    "    },\n",
    "    hover_data=['home_team_abbrev', 'away_team_abbrev','match_no']  # Show additional info on hover\n",
    ")\n",
    "\n",
    "fig.update_traces(marker=dict(size=12, line=dict(width=2, color='DarkSlateGrey')),\n",
    "                  selector=dict(mode='markers'))\n",
    "\n",
    "fig.update_layout(\n",
    "    xaxis_title='Home Team Score (Runs)',\n",
    "    yaxis_title='Away Team Score (Runs)',\n",
    "    legend_title='Match Type'\n",
    ")\n",
    "\n",
    "# Show plot\n",
    "fig.show()\n"
   ]
  },
  {
   "cell_type": "markdown",
   "metadata": {},
   "source": [
    "## match outcomes by date"
   ]
  },
  {
   "cell_type": "code",
   "execution_count": 179,
   "metadata": {},
   "outputs": [
    {
     "data": {
      "application/vnd.plotly.v1+json": {
       "config": {
        "plotlyServerURL": "https://plot.ly"
       },
       "data": [
        {
         "customdata": [
          [
           "MI",
           "RR",
           "RR won by 6 wkts "
          ],
          [
           "PBKS",
           "RR",
           "RR won by 3 wkts "
          ],
          [
           "KKR",
           "RR",
           "RR won by 2 wkts "
          ],
          [
           "RR",
           "MI",
           "RR won by 9 wkts "
          ],
          [
           "LSG",
           "RR",
           "RR won by 7 wkts "
          ],
          [
           "RR",
           "RCB",
           "RR won by 6 wkts "
          ],
          [
           "RR",
           "LSG",
           "RR won by 20 runs"
          ],
          [
           "RR",
           "DC",
           "RR won by 12 runs"
          ],
          [
           "RR",
           "RCB",
           "RR won by 4 wkts "
          ]
         ],
         "hovertemplate": "Winning team=%{y}<br>Match date=%{x}<br>home_team_abbrev=%{customdata[0]}<br>away_team_abbrev=%{customdata[1]}<br>result_outcome=%{customdata[2]}<extra></extra>",
         "legendgroup": "RR",
         "line": {
          "color": "#636efa",
          "dash": "solid"
         },
         "marker": {
          "symbol": "circle"
         },
         "mode": "lines+markers",
         "name": "RR",
         "orientation": "v",
         "showlegend": true,
         "type": "scatter",
         "x": [
          "2024-04-01T00:00:00",
          "2024-04-13T00:00:00",
          "2024-04-16T00:00:00",
          "2024-04-22T00:00:00",
          "2024-04-27T00:00:00",
          "2024-04-06T00:00:00",
          "2024-03-24T00:00:00",
          "2024-03-28T00:00:00",
          "2024-05-22T00:00:00"
         ],
         "xaxis": "x",
         "y": [
          "RR",
          "RR",
          "RR",
          "RR",
          "RR",
          "RR",
          "RR",
          "RR",
          "RR"
         ],
         "yaxis": "y"
        },
        {
         "customdata": [
          [
           "RR",
           "GT",
           "GT won by 3 wkts "
          ],
          [
           "PBKS",
           "GT",
           "GT won by 3 wkts "
          ],
          [
           "GT",
           "MI",
           "GT won by 6 runs"
          ],
          [
           "GT",
           "SRH",
           "GT won by 7 wkts "
          ],
          [
           "GT",
           "CSK",
           "GT won by 35 runs"
          ],
          [
           "SRH",
           "GT",
           "Match abandoned without a ball bowled"
          ]
         ],
         "hovertemplate": "Winning team=%{y}<br>Match date=%{x}<br>home_team_abbrev=%{customdata[0]}<br>away_team_abbrev=%{customdata[1]}<br>result_outcome=%{customdata[2]}<extra></extra>",
         "legendgroup": "GT",
         "line": {
          "color": "#EF553B",
          "dash": "solid"
         },
         "marker": {
          "symbol": "circle"
         },
         "mode": "lines+markers",
         "name": "GT",
         "orientation": "v",
         "showlegend": true,
         "type": "scatter",
         "x": [
          "2024-04-10T00:00:00",
          "2024-04-21T00:00:00",
          "2024-03-24T00:00:00",
          "2024-03-31T00:00:00",
          "2024-05-10T00:00:00",
          "2024-05-16T00:00:00"
         ],
         "xaxis": "x",
         "y": [
          "GT",
          "GT",
          "GT",
          "GT",
          "GT",
          "GT"
         ],
         "yaxis": "y"
        },
        {
         "customdata": [
          [
           "MI",
           "RCB",
           "MI won by 7 wkts "
          ],
          [
           "PBKS",
           "MI",
           "MI won by 9 runs"
          ],
          [
           "MI",
           "DC",
           "MI won by 29 runs"
          ],
          [
           "MI",
           "SRH",
           "MI won by 7 wkts "
          ]
         ],
         "hovertemplate": "Winning team=%{y}<br>Match date=%{x}<br>home_team_abbrev=%{customdata[0]}<br>away_team_abbrev=%{customdata[1]}<br>result_outcome=%{customdata[2]}<extra></extra>",
         "legendgroup": "MI",
         "line": {
          "color": "#00cc96",
          "dash": "solid"
         },
         "marker": {
          "symbol": "circle"
         },
         "mode": "lines+markers",
         "name": "MI",
         "orientation": "v",
         "showlegend": true,
         "type": "scatter",
         "x": [
          "2024-04-11T00:00:00",
          "2024-04-18T00:00:00",
          "2024-04-07T00:00:00",
          "2024-05-06T00:00:00"
         ],
         "xaxis": "x",
         "y": [
          "MI",
          "MI",
          "MI",
          "MI"
         ],
         "yaxis": "y"
        },
        {
         "customdata": [
          [
           "LSG",
           "DC",
           "DC won by 6 wkts "
          ],
          [
           "GT",
           "DC",
           "DC won by 6 wkts "
          ],
          [
           "DC",
           "GT",
           "DC won by 4 runs"
          ],
          [
           "DC",
           "MI",
           "DC won by 10 runs"
          ],
          [
           "DC",
           "CSK",
           "DC won by 20 runs"
          ],
          [
           "DC",
           "LSG",
           "DC won by 19 runs"
          ],
          [
           "DC",
           "RR",
           "DC won by 20 runs"
          ]
         ],
         "hovertemplate": "Winning team=%{y}<br>Match date=%{x}<br>home_team_abbrev=%{customdata[0]}<br>away_team_abbrev=%{customdata[1]}<br>result_outcome=%{customdata[2]}<extra></extra>",
         "legendgroup": "DC",
         "line": {
          "color": "#ab63fa",
          "dash": "solid"
         },
         "marker": {
          "symbol": "circle"
         },
         "mode": "lines+markers",
         "name": "DC",
         "orientation": "v",
         "showlegend": true,
         "type": "scatter",
         "x": [
          "2024-04-12T00:00:00",
          "2024-04-17T00:00:00",
          "2024-04-24T00:00:00",
          "2024-04-27T00:00:00",
          "2024-03-31T00:00:00",
          "2024-05-14T00:00:00",
          "2024-05-07T00:00:00"
         ],
         "xaxis": "x",
         "y": [
          "DC",
          "DC",
          "DC",
          "DC",
          "DC",
          "DC",
          "DC"
         ],
         "yaxis": "y"
        },
        {
         "customdata": [
          [
           "MI",
           "CSK",
           "CSK won by 20 runs"
          ],
          [
           "CSK",
           "SRH",
           "CSK won by 78 runs"
          ],
          [
           "CSK",
           "KKR",
           "CSK won by 7 wkts "
          ],
          [
           "CSK",
           "RCB",
           "CSK won by 6 wkts "
          ],
          [
           "CSK",
           "GT",
           "CSK won by 63 runs"
          ],
          [
           "CSK",
           "RR",
           "CSK won by 5 wkts "
          ],
          [
           "PBKS",
           "CSK",
           "CSK won by 28 runs"
          ]
         ],
         "hovertemplate": "Winning team=%{y}<br>Match date=%{x}<br>home_team_abbrev=%{customdata[0]}<br>away_team_abbrev=%{customdata[1]}<br>result_outcome=%{customdata[2]}<extra></extra>",
         "legendgroup": "CSK",
         "line": {
          "color": "#FFA15A",
          "dash": "solid"
         },
         "marker": {
          "symbol": "circle"
         },
         "mode": "lines+markers",
         "name": "CSK",
         "orientation": "v",
         "showlegend": true,
         "type": "scatter",
         "x": [
          "2024-04-14T00:00:00",
          "2024-04-28T00:00:00",
          "2024-04-08T00:00:00",
          "2024-03-22T00:00:00",
          "2024-03-26T00:00:00",
          "2024-05-12T00:00:00",
          "2024-05-05T00:00:00"
         ],
         "xaxis": "x",
         "y": [
          "CSK",
          "CSK",
          "CSK",
          "CSK",
          "CSK",
          "CSK",
          "CSK"
         ],
         "yaxis": "y"
        },
        {
         "customdata": [
          [
           "KKR",
           "LSG",
           "KKR won by 8 wkts "
          ],
          [
           "KKR",
           "RCB",
           "KKR won by 1 run"
          ],
          [
           "KKR",
           "DC",
           "KKR won by 7 wkts "
          ],
          [
           "DC",
           "KKR",
           "KKR won by 106 runs"
          ],
          [
           "KKR",
           "SRH",
           "KKR won by 4 runs"
          ],
          [
           "RCB",
           "KKR",
           "KKR won by 7 wkts "
          ],
          [
           "KKR",
           "MI",
           "KKR won by 18 runs"
          ],
          [
           "GT",
           "KKR",
           "Match abandoned without a ball bowled"
          ],
          [
           "RR",
           "KKR",
           "No result "
          ],
          [
           "KKR",
           "SRH",
           "KKR won by 8 wkts "
          ],
          [
           "KKR",
           "SRH",
           "KKR won by 8 wkts "
          ],
          [
           "MI",
           "KKR",
           "KKR won by 24 runs"
          ],
          [
           "LSG",
           "KKR",
           "KKR won by 98 runs"
          ]
         ],
         "hovertemplate": "Winning team=%{y}<br>Match date=%{x}<br>home_team_abbrev=%{customdata[0]}<br>away_team_abbrev=%{customdata[1]}<br>result_outcome=%{customdata[2]}<extra></extra>",
         "legendgroup": "KKR",
         "line": {
          "color": "#19d3f3",
          "dash": "solid"
         },
         "marker": {
          "symbol": "circle"
         },
         "mode": "lines+markers",
         "name": "KKR",
         "orientation": "v",
         "showlegend": true,
         "type": "scatter",
         "x": [
          "2024-04-14T00:00:00",
          "2024-04-21T00:00:00",
          "2024-04-29T00:00:00",
          "2024-04-03T00:00:00",
          "2024-03-23T00:00:00",
          "2024-03-29T00:00:00",
          "2024-05-11T00:00:00",
          "2024-05-13T00:00:00",
          "2024-05-19T00:00:00",
          "2024-05-21T00:00:00",
          "2024-05-26T00:00:00",
          "2024-05-03T00:00:00",
          "2024-05-05T00:00:00"
         ],
         "xaxis": "x",
         "y": [
          "KKR",
          "KKR",
          "KKR",
          "KKR",
          "KKR",
          "KKR",
          "KKR",
          "KKR",
          "KKR",
          "KKR",
          "KKR",
          "KKR",
          "KKR"
         ],
         "yaxis": "y"
        },
        {
         "customdata": [
          [
           "RCB",
           "SRH",
           "SRH won by 25 runs"
          ],
          [
           "DC",
           "SRH",
           "SRH won by 67 runs"
          ],
          [
           "SRH",
           "CSK",
           "SRH won by 6 wkts "
          ],
          [
           "PBKS",
           "SRH",
           "SRH won by 2 runs"
          ],
          [
           "SRH",
           "MI",
           "SRH won by 31 runs"
          ],
          [
           "SRH",
           "PBKS",
           "SRH won by 4 wkts "
          ],
          [
           "SRH",
           "RR",
           "SRH won by 1 run"
          ],
          [
           "RR",
           "SRH",
           "SRH won by 36 runs"
          ],
          [
           "SRH",
           "LSG",
           "SRH won by 10 wkts "
          ]
         ],
         "hovertemplate": "Winning team=%{y}<br>Match date=%{x}<br>home_team_abbrev=%{customdata[0]}<br>away_team_abbrev=%{customdata[1]}<br>result_outcome=%{customdata[2]}<extra></extra>",
         "legendgroup": "SRH",
         "line": {
          "color": "#FF6692",
          "dash": "solid"
         },
         "marker": {
          "symbol": "circle"
         },
         "mode": "lines+markers",
         "name": "SRH",
         "orientation": "v",
         "showlegend": true,
         "type": "scatter",
         "x": [
          "2024-04-15T00:00:00",
          "2024-04-20T00:00:00",
          "2024-04-05T00:00:00",
          "2024-04-09T00:00:00",
          "2024-03-27T00:00:00",
          "2024-05-19T00:00:00",
          "2024-05-02T00:00:00",
          "2024-05-24T00:00:00",
          "2024-05-08T00:00:00"
         ],
         "xaxis": "x",
         "y": [
          "SRH",
          "SRH",
          "SRH",
          "SRH",
          "SRH",
          "SRH",
          "SRH",
          "SRH",
          "SRH"
         ],
         "yaxis": "y"
        },
        {
         "customdata": [
          [
           "LSG",
           "CSK",
           "LSG won by 8 wkts "
          ],
          [
           "RCB",
           "LSG",
           "LSG won by 28 runs"
          ],
          [
           "CSK",
           "LSG",
           "LSG won by 6 wkts "
          ],
          [
           "LSG",
           "MI",
           "LSG won by 4 wkts "
          ],
          [
           "LSG",
           "GT",
           "LSG won by 33 runs"
          ],
          [
           "LSG",
           "PBKS",
           "LSG won by 21 runs"
          ],
          [
           "MI",
           "LSG",
           "LSG won by 18 runs"
          ]
         ],
         "hovertemplate": "Winning team=%{y}<br>Match date=%{x}<br>home_team_abbrev=%{customdata[0]}<br>away_team_abbrev=%{customdata[1]}<br>result_outcome=%{customdata[2]}<extra></extra>",
         "legendgroup": "LSG",
         "line": {
          "color": "#B6E880",
          "dash": "solid"
         },
         "marker": {
          "symbol": "circle"
         },
         "mode": "lines+markers",
         "name": "LSG",
         "orientation": "v",
         "showlegend": true,
         "type": "scatter",
         "x": [
          "2024-04-19T00:00:00",
          "2024-04-02T00:00:00",
          "2024-04-23T00:00:00",
          "2024-04-30T00:00:00",
          "2024-04-07T00:00:00",
          "2024-03-30T00:00:00",
          "2024-05-17T00:00:00"
         ],
         "xaxis": "x",
         "y": [
          "LSG",
          "LSG",
          "LSG",
          "LSG",
          "LSG",
          "LSG",
          "LSG"
         ],
         "yaxis": "y"
        },
        {
         "customdata": [
          [
           "SRH",
           "RCB",
           "RCB won by 35 runs"
          ],
          [
           "GT",
           "RCB",
           "RCB won by 9 wkts "
          ],
          [
           "RCB",
           "PBKS",
           "RCB won by 4 wkts "
          ],
          [
           "RCB",
           "DC",
           "RCB won by 47 runs"
          ],
          [
           "RCB",
           "CSK",
           "RCB won by 27 runs"
          ],
          [
           "RCB",
           "GT",
           "RCB won by 4 wkts "
          ],
          [
           "PBKS",
           "RCB",
           "RCB won by 60 runs"
          ]
         ],
         "hovertemplate": "Winning team=%{y}<br>Match date=%{x}<br>home_team_abbrev=%{customdata[0]}<br>away_team_abbrev=%{customdata[1]}<br>result_outcome=%{customdata[2]}<extra></extra>",
         "legendgroup": "RCB",
         "line": {
          "color": "#FF97FF",
          "dash": "solid"
         },
         "marker": {
          "symbol": "circle"
         },
         "mode": "lines+markers",
         "name": "RCB",
         "orientation": "v",
         "showlegend": true,
         "type": "scatter",
         "x": [
          "2024-04-25T00:00:00",
          "2024-04-28T00:00:00",
          "2024-03-25T00:00:00",
          "2024-05-12T00:00:00",
          "2024-05-18T00:00:00",
          "2024-05-04T00:00:00",
          "2024-05-09T00:00:00"
         ],
         "xaxis": "x",
         "y": [
          "RCB",
          "RCB",
          "RCB",
          "RCB",
          "RCB",
          "RCB",
          "RCB"
         ],
         "yaxis": "y"
        },
        {
         "customdata": [
          [
           "KKR",
           "PBKS",
           "PBKS won by 8 wkts "
          ],
          [
           "GT",
           "PBKS",
           "PBKS won by 3 wkts "
          ],
          [
           "PBKS",
           "DC",
           "PBKS won by 4 wkts "
          ],
          [
           "CSK",
           "PBKS",
           "PBKS won by 7 wkts "
          ],
          [
           "RR",
           "PBKS",
           "PBKS won by 5 wkts "
          ]
         ],
         "hovertemplate": "Winning team=%{y}<br>Match date=%{x}<br>home_team_abbrev=%{customdata[0]}<br>away_team_abbrev=%{customdata[1]}<br>result_outcome=%{customdata[2]}<extra></extra>",
         "legendgroup": "PBKS",
         "line": {
          "color": "#FECB52",
          "dash": "solid"
         },
         "marker": {
          "symbol": "circle"
         },
         "mode": "lines+markers",
         "name": "PBKS",
         "orientation": "v",
         "showlegend": true,
         "type": "scatter",
         "x": [
          "2024-04-26T00:00:00",
          "2024-04-04T00:00:00",
          "2024-03-23T00:00:00",
          "2024-05-01T00:00:00",
          "2024-05-15T00:00:00"
         ],
         "xaxis": "x",
         "y": [
          "PBKS",
          "PBKS",
          "PBKS",
          "PBKS",
          "PBKS"
         ],
         "yaxis": "y"
        }
       ],
       "layout": {
        "legend": {
         "title": {
          "text": "Winning Team"
         },
         "tracegroupgap": 0
        },
        "template": {
         "data": {
          "bar": [
           {
            "error_x": {
             "color": "#2a3f5f"
            },
            "error_y": {
             "color": "#2a3f5f"
            },
            "marker": {
             "line": {
              "color": "#E5ECF6",
              "width": 0.5
             },
             "pattern": {
              "fillmode": "overlay",
              "size": 10,
              "solidity": 0.2
             }
            },
            "type": "bar"
           }
          ],
          "barpolar": [
           {
            "marker": {
             "line": {
              "color": "#E5ECF6",
              "width": 0.5
             },
             "pattern": {
              "fillmode": "overlay",
              "size": 10,
              "solidity": 0.2
             }
            },
            "type": "barpolar"
           }
          ],
          "carpet": [
           {
            "aaxis": {
             "endlinecolor": "#2a3f5f",
             "gridcolor": "white",
             "linecolor": "white",
             "minorgridcolor": "white",
             "startlinecolor": "#2a3f5f"
            },
            "baxis": {
             "endlinecolor": "#2a3f5f",
             "gridcolor": "white",
             "linecolor": "white",
             "minorgridcolor": "white",
             "startlinecolor": "#2a3f5f"
            },
            "type": "carpet"
           }
          ],
          "choropleth": [
           {
            "colorbar": {
             "outlinewidth": 0,
             "ticks": ""
            },
            "type": "choropleth"
           }
          ],
          "contour": [
           {
            "colorbar": {
             "outlinewidth": 0,
             "ticks": ""
            },
            "colorscale": [
             [
              0,
              "#0d0887"
             ],
             [
              0.1111111111111111,
              "#46039f"
             ],
             [
              0.2222222222222222,
              "#7201a8"
             ],
             [
              0.3333333333333333,
              "#9c179e"
             ],
             [
              0.4444444444444444,
              "#bd3786"
             ],
             [
              0.5555555555555556,
              "#d8576b"
             ],
             [
              0.6666666666666666,
              "#ed7953"
             ],
             [
              0.7777777777777778,
              "#fb9f3a"
             ],
             [
              0.8888888888888888,
              "#fdca26"
             ],
             [
              1,
              "#f0f921"
             ]
            ],
            "type": "contour"
           }
          ],
          "contourcarpet": [
           {
            "colorbar": {
             "outlinewidth": 0,
             "ticks": ""
            },
            "type": "contourcarpet"
           }
          ],
          "heatmap": [
           {
            "colorbar": {
             "outlinewidth": 0,
             "ticks": ""
            },
            "colorscale": [
             [
              0,
              "#0d0887"
             ],
             [
              0.1111111111111111,
              "#46039f"
             ],
             [
              0.2222222222222222,
              "#7201a8"
             ],
             [
              0.3333333333333333,
              "#9c179e"
             ],
             [
              0.4444444444444444,
              "#bd3786"
             ],
             [
              0.5555555555555556,
              "#d8576b"
             ],
             [
              0.6666666666666666,
              "#ed7953"
             ],
             [
              0.7777777777777778,
              "#fb9f3a"
             ],
             [
              0.8888888888888888,
              "#fdca26"
             ],
             [
              1,
              "#f0f921"
             ]
            ],
            "type": "heatmap"
           }
          ],
          "heatmapgl": [
           {
            "colorbar": {
             "outlinewidth": 0,
             "ticks": ""
            },
            "colorscale": [
             [
              0,
              "#0d0887"
             ],
             [
              0.1111111111111111,
              "#46039f"
             ],
             [
              0.2222222222222222,
              "#7201a8"
             ],
             [
              0.3333333333333333,
              "#9c179e"
             ],
             [
              0.4444444444444444,
              "#bd3786"
             ],
             [
              0.5555555555555556,
              "#d8576b"
             ],
             [
              0.6666666666666666,
              "#ed7953"
             ],
             [
              0.7777777777777778,
              "#fb9f3a"
             ],
             [
              0.8888888888888888,
              "#fdca26"
             ],
             [
              1,
              "#f0f921"
             ]
            ],
            "type": "heatmapgl"
           }
          ],
          "histogram": [
           {
            "marker": {
             "pattern": {
              "fillmode": "overlay",
              "size": 10,
              "solidity": 0.2
             }
            },
            "type": "histogram"
           }
          ],
          "histogram2d": [
           {
            "colorbar": {
             "outlinewidth": 0,
             "ticks": ""
            },
            "colorscale": [
             [
              0,
              "#0d0887"
             ],
             [
              0.1111111111111111,
              "#46039f"
             ],
             [
              0.2222222222222222,
              "#7201a8"
             ],
             [
              0.3333333333333333,
              "#9c179e"
             ],
             [
              0.4444444444444444,
              "#bd3786"
             ],
             [
              0.5555555555555556,
              "#d8576b"
             ],
             [
              0.6666666666666666,
              "#ed7953"
             ],
             [
              0.7777777777777778,
              "#fb9f3a"
             ],
             [
              0.8888888888888888,
              "#fdca26"
             ],
             [
              1,
              "#f0f921"
             ]
            ],
            "type": "histogram2d"
           }
          ],
          "histogram2dcontour": [
           {
            "colorbar": {
             "outlinewidth": 0,
             "ticks": ""
            },
            "colorscale": [
             [
              0,
              "#0d0887"
             ],
             [
              0.1111111111111111,
              "#46039f"
             ],
             [
              0.2222222222222222,
              "#7201a8"
             ],
             [
              0.3333333333333333,
              "#9c179e"
             ],
             [
              0.4444444444444444,
              "#bd3786"
             ],
             [
              0.5555555555555556,
              "#d8576b"
             ],
             [
              0.6666666666666666,
              "#ed7953"
             ],
             [
              0.7777777777777778,
              "#fb9f3a"
             ],
             [
              0.8888888888888888,
              "#fdca26"
             ],
             [
              1,
              "#f0f921"
             ]
            ],
            "type": "histogram2dcontour"
           }
          ],
          "mesh3d": [
           {
            "colorbar": {
             "outlinewidth": 0,
             "ticks": ""
            },
            "type": "mesh3d"
           }
          ],
          "parcoords": [
           {
            "line": {
             "colorbar": {
              "outlinewidth": 0,
              "ticks": ""
             }
            },
            "type": "parcoords"
           }
          ],
          "pie": [
           {
            "automargin": true,
            "type": "pie"
           }
          ],
          "scatter": [
           {
            "fillpattern": {
             "fillmode": "overlay",
             "size": 10,
             "solidity": 0.2
            },
            "type": "scatter"
           }
          ],
          "scatter3d": [
           {
            "line": {
             "colorbar": {
              "outlinewidth": 0,
              "ticks": ""
             }
            },
            "marker": {
             "colorbar": {
              "outlinewidth": 0,
              "ticks": ""
             }
            },
            "type": "scatter3d"
           }
          ],
          "scattercarpet": [
           {
            "marker": {
             "colorbar": {
              "outlinewidth": 0,
              "ticks": ""
             }
            },
            "type": "scattercarpet"
           }
          ],
          "scattergeo": [
           {
            "marker": {
             "colorbar": {
              "outlinewidth": 0,
              "ticks": ""
             }
            },
            "type": "scattergeo"
           }
          ],
          "scattergl": [
           {
            "marker": {
             "colorbar": {
              "outlinewidth": 0,
              "ticks": ""
             }
            },
            "type": "scattergl"
           }
          ],
          "scattermapbox": [
           {
            "marker": {
             "colorbar": {
              "outlinewidth": 0,
              "ticks": ""
             }
            },
            "type": "scattermapbox"
           }
          ],
          "scatterpolar": [
           {
            "marker": {
             "colorbar": {
              "outlinewidth": 0,
              "ticks": ""
             }
            },
            "type": "scatterpolar"
           }
          ],
          "scatterpolargl": [
           {
            "marker": {
             "colorbar": {
              "outlinewidth": 0,
              "ticks": ""
             }
            },
            "type": "scatterpolargl"
           }
          ],
          "scatterternary": [
           {
            "marker": {
             "colorbar": {
              "outlinewidth": 0,
              "ticks": ""
             }
            },
            "type": "scatterternary"
           }
          ],
          "surface": [
           {
            "colorbar": {
             "outlinewidth": 0,
             "ticks": ""
            },
            "colorscale": [
             [
              0,
              "#0d0887"
             ],
             [
              0.1111111111111111,
              "#46039f"
             ],
             [
              0.2222222222222222,
              "#7201a8"
             ],
             [
              0.3333333333333333,
              "#9c179e"
             ],
             [
              0.4444444444444444,
              "#bd3786"
             ],
             [
              0.5555555555555556,
              "#d8576b"
             ],
             [
              0.6666666666666666,
              "#ed7953"
             ],
             [
              0.7777777777777778,
              "#fb9f3a"
             ],
             [
              0.8888888888888888,
              "#fdca26"
             ],
             [
              1,
              "#f0f921"
             ]
            ],
            "type": "surface"
           }
          ],
          "table": [
           {
            "cells": {
             "fill": {
              "color": "#EBF0F8"
             },
             "line": {
              "color": "white"
             }
            },
            "header": {
             "fill": {
              "color": "#C8D4E3"
             },
             "line": {
              "color": "white"
             }
            },
            "type": "table"
           }
          ]
         },
         "layout": {
          "annotationdefaults": {
           "arrowcolor": "#2a3f5f",
           "arrowhead": 0,
           "arrowwidth": 1
          },
          "autotypenumbers": "strict",
          "coloraxis": {
           "colorbar": {
            "outlinewidth": 0,
            "ticks": ""
           }
          },
          "colorscale": {
           "diverging": [
            [
             0,
             "#8e0152"
            ],
            [
             0.1,
             "#c51b7d"
            ],
            [
             0.2,
             "#de77ae"
            ],
            [
             0.3,
             "#f1b6da"
            ],
            [
             0.4,
             "#fde0ef"
            ],
            [
             0.5,
             "#f7f7f7"
            ],
            [
             0.6,
             "#e6f5d0"
            ],
            [
             0.7,
             "#b8e186"
            ],
            [
             0.8,
             "#7fbc41"
            ],
            [
             0.9,
             "#4d9221"
            ],
            [
             1,
             "#276419"
            ]
           ],
           "sequential": [
            [
             0,
             "#0d0887"
            ],
            [
             0.1111111111111111,
             "#46039f"
            ],
            [
             0.2222222222222222,
             "#7201a8"
            ],
            [
             0.3333333333333333,
             "#9c179e"
            ],
            [
             0.4444444444444444,
             "#bd3786"
            ],
            [
             0.5555555555555556,
             "#d8576b"
            ],
            [
             0.6666666666666666,
             "#ed7953"
            ],
            [
             0.7777777777777778,
             "#fb9f3a"
            ],
            [
             0.8888888888888888,
             "#fdca26"
            ],
            [
             1,
             "#f0f921"
            ]
           ],
           "sequentialminus": [
            [
             0,
             "#0d0887"
            ],
            [
             0.1111111111111111,
             "#46039f"
            ],
            [
             0.2222222222222222,
             "#7201a8"
            ],
            [
             0.3333333333333333,
             "#9c179e"
            ],
            [
             0.4444444444444444,
             "#bd3786"
            ],
            [
             0.5555555555555556,
             "#d8576b"
            ],
            [
             0.6666666666666666,
             "#ed7953"
            ],
            [
             0.7777777777777778,
             "#fb9f3a"
            ],
            [
             0.8888888888888888,
             "#fdca26"
            ],
            [
             1,
             "#f0f921"
            ]
           ]
          },
          "colorway": [
           "#636efa",
           "#EF553B",
           "#00cc96",
           "#ab63fa",
           "#FFA15A",
           "#19d3f3",
           "#FF6692",
           "#B6E880",
           "#FF97FF",
           "#FECB52"
          ],
          "font": {
           "color": "#2a3f5f"
          },
          "geo": {
           "bgcolor": "white",
           "lakecolor": "white",
           "landcolor": "#E5ECF6",
           "showlakes": true,
           "showland": true,
           "subunitcolor": "white"
          },
          "hoverlabel": {
           "align": "left"
          },
          "hovermode": "closest",
          "mapbox": {
           "style": "light"
          },
          "paper_bgcolor": "white",
          "plot_bgcolor": "#E5ECF6",
          "polar": {
           "angularaxis": {
            "gridcolor": "white",
            "linecolor": "white",
            "ticks": ""
           },
           "bgcolor": "#E5ECF6",
           "radialaxis": {
            "gridcolor": "white",
            "linecolor": "white",
            "ticks": ""
           }
          },
          "scene": {
           "xaxis": {
            "backgroundcolor": "#E5ECF6",
            "gridcolor": "white",
            "gridwidth": 2,
            "linecolor": "white",
            "showbackground": true,
            "ticks": "",
            "zerolinecolor": "white"
           },
           "yaxis": {
            "backgroundcolor": "#E5ECF6",
            "gridcolor": "white",
            "gridwidth": 2,
            "linecolor": "white",
            "showbackground": true,
            "ticks": "",
            "zerolinecolor": "white"
           },
           "zaxis": {
            "backgroundcolor": "#E5ECF6",
            "gridcolor": "white",
            "gridwidth": 2,
            "linecolor": "white",
            "showbackground": true,
            "ticks": "",
            "zerolinecolor": "white"
           }
          },
          "shapedefaults": {
           "line": {
            "color": "#2a3f5f"
           }
          },
          "ternary": {
           "aaxis": {
            "gridcolor": "white",
            "linecolor": "white",
            "ticks": ""
           },
           "baxis": {
            "gridcolor": "white",
            "linecolor": "white",
            "ticks": ""
           },
           "bgcolor": "#E5ECF6",
           "caxis": {
            "gridcolor": "white",
            "linecolor": "white",
            "ticks": ""
           }
          },
          "title": {
           "x": 0.05
          },
          "xaxis": {
           "automargin": true,
           "gridcolor": "white",
           "linecolor": "white",
           "ticks": "",
           "title": {
            "standoff": 15
           },
           "zerolinecolor": "white",
           "zerolinewidth": 2
          },
          "yaxis": {
           "automargin": true,
           "gridcolor": "white",
           "linecolor": "white",
           "ticks": "",
           "title": {
            "standoff": 15
           },
           "zerolinecolor": "white",
           "zerolinewidth": 2
          }
         }
        },
        "title": {
         "text": "Match Outcomes by Date"
        },
        "xaxis": {
         "anchor": "y",
         "domain": [
          0,
          1
         ],
         "title": {
          "text": "Date"
         }
        },
        "yaxis": {
         "anchor": "x",
         "categoryarray": [
          "PBKS",
          "RCB",
          "LSG",
          "SRH",
          "KKR",
          "CSK",
          "DC",
          "MI",
          "GT",
          "RR"
         ],
         "categoryorder": "array",
         "domain": [
          0,
          1
         ],
         "title": {
          "text": "Winning Team"
         }
        }
       }
      }
     },
     "metadata": {},
     "output_type": "display_data"
    }
   ],
   "source": [
    "df['date'] = pd.to_datetime(df['date'], errors='coerce')\n",
    "df['winner'] = df.apply(lambda x: x['home_team_abbrev'] if x['home_win'] else x['away_team_abbrev'],axis=1)\n",
    "df\n",
    "fig = px.line(\n",
    "    df,\n",
    "    x='date',\n",
    "    y='winner',\n",
    "    markers=True,\n",
    "    # text='match_no',  # Optional: Add match number labels to the points\n",
    "    color='winner',  # Optional: Color by match type (e.g., 'Day', 'Night')\n",
    "    title='Match Outcomes by Date',\n",
    "    labels={\n",
    "        'date': 'Match date',\n",
    "        'winner': 'Winning team'\n",
    "    },\n",
    "    hover_data=['home_team_abbrev', 'away_team_abbrev','result_outcome']  # Show additional info on hover\n",
    ")\n",
    "fig.update_layout(\n",
    "    xaxis_title='Date',\n",
    "    yaxis_title='Winning Team',\n",
    "    legend_title='Winning Team'\n",
    ")\n",
    "fig.show()"
   ]
  },
  {
   "cell_type": "code",
   "execution_count": 180,
   "metadata": {},
   "outputs": [
    {
     "data": {
      "application/vnd.plotly.v1+json": {
       "config": {
        "plotlyServerURL": "https://plot.ly"
       },
       "data": [
        {
         "alignmentgroup": "True",
         "hovertemplate": "winner=%{y}<br>Match Date=%{x}<extra></extra>",
         "legendgroup": "CSK",
         "marker": {
          "color": "#636efa",
          "pattern": {
           "shape": ""
          }
         },
         "name": "CSK",
         "offsetgroup": "CSK",
         "orientation": "v",
         "showlegend": true,
         "textposition": "auto",
         "type": "bar",
         "x": [
          "2024-03-22T00:00:00",
          "2024-03-26T00:00:00",
          "2024-04-08T00:00:00",
          "2024-04-14T00:00:00",
          "2024-04-28T00:00:00",
          "2024-05-05T00:00:00",
          "2024-05-12T00:00:00"
         ],
         "xaxis": "x",
         "y": [
          "CSK",
          "CSK",
          "CSK",
          "CSK",
          "CSK",
          "CSK",
          "CSK"
         ],
         "yaxis": "y"
        },
        {
         "alignmentgroup": "True",
         "hovertemplate": "winner=%{y}<br>Match Date=%{x}<extra></extra>",
         "legendgroup": "KKR",
         "marker": {
          "color": "#EF553B",
          "pattern": {
           "shape": ""
          }
         },
         "name": "KKR",
         "offsetgroup": "KKR",
         "orientation": "v",
         "showlegend": true,
         "textposition": "auto",
         "type": "bar",
         "x": [
          "2024-03-23T00:00:00",
          "2024-03-29T00:00:00",
          "2024-04-03T00:00:00",
          "2024-04-14T00:00:00",
          "2024-04-21T00:00:00",
          "2024-04-29T00:00:00",
          "2024-05-03T00:00:00",
          "2024-05-05T00:00:00",
          "2024-05-11T00:00:00",
          "2024-05-13T00:00:00",
          "2024-05-19T00:00:00",
          "2024-05-21T00:00:00",
          "2024-05-26T00:00:00"
         ],
         "xaxis": "x",
         "y": [
          "KKR",
          "KKR",
          "KKR",
          "KKR",
          "KKR",
          "KKR",
          "KKR",
          "KKR",
          "KKR",
          "KKR",
          "KKR",
          "KKR",
          "KKR"
         ],
         "yaxis": "y"
        },
        {
         "alignmentgroup": "True",
         "hovertemplate": "winner=%{y}<br>Match Date=%{x}<extra></extra>",
         "legendgroup": "PBKS",
         "marker": {
          "color": "#00cc96",
          "pattern": {
           "shape": ""
          }
         },
         "name": "PBKS",
         "offsetgroup": "PBKS",
         "orientation": "v",
         "showlegend": true,
         "textposition": "auto",
         "type": "bar",
         "x": [
          "2024-03-23T00:00:00",
          "2024-04-04T00:00:00",
          "2024-04-26T00:00:00",
          "2024-05-01T00:00:00",
          "2024-05-15T00:00:00"
         ],
         "xaxis": "x",
         "y": [
          "PBKS",
          "PBKS",
          "PBKS",
          "PBKS",
          "PBKS"
         ],
         "yaxis": "y"
        },
        {
         "alignmentgroup": "True",
         "hovertemplate": "winner=%{y}<br>Match Date=%{x}<extra></extra>",
         "legendgroup": "GT",
         "marker": {
          "color": "#ab63fa",
          "pattern": {
           "shape": ""
          }
         },
         "name": "GT",
         "offsetgroup": "GT",
         "orientation": "v",
         "showlegend": true,
         "textposition": "auto",
         "type": "bar",
         "x": [
          "2024-03-24T00:00:00",
          "2024-03-31T00:00:00",
          "2024-04-10T00:00:00",
          "2024-04-21T00:00:00",
          "2024-05-10T00:00:00",
          "2024-05-16T00:00:00"
         ],
         "xaxis": "x",
         "y": [
          "GT",
          "GT",
          "GT",
          "GT",
          "GT",
          "GT"
         ],
         "yaxis": "y"
        },
        {
         "alignmentgroup": "True",
         "hovertemplate": "winner=%{y}<br>Match Date=%{x}<extra></extra>",
         "legendgroup": "RR",
         "marker": {
          "color": "#FFA15A",
          "pattern": {
           "shape": ""
          }
         },
         "name": "RR",
         "offsetgroup": "RR",
         "orientation": "v",
         "showlegend": true,
         "textposition": "auto",
         "type": "bar",
         "x": [
          "2024-03-24T00:00:00",
          "2024-03-28T00:00:00",
          "2024-04-01T00:00:00",
          "2024-04-06T00:00:00",
          "2024-04-13T00:00:00",
          "2024-04-16T00:00:00",
          "2024-04-22T00:00:00",
          "2024-04-27T00:00:00",
          "2024-05-22T00:00:00"
         ],
         "xaxis": "x",
         "y": [
          "RR",
          "RR",
          "RR",
          "RR",
          "RR",
          "RR",
          "RR",
          "RR",
          "RR"
         ],
         "yaxis": "y"
        },
        {
         "alignmentgroup": "True",
         "hovertemplate": "winner=%{y}<br>Match Date=%{x}<extra></extra>",
         "legendgroup": "RCB",
         "marker": {
          "color": "#19d3f3",
          "pattern": {
           "shape": ""
          }
         },
         "name": "RCB",
         "offsetgroup": "RCB",
         "orientation": "v",
         "showlegend": true,
         "textposition": "auto",
         "type": "bar",
         "x": [
          "2024-03-25T00:00:00",
          "2024-04-25T00:00:00",
          "2024-04-28T00:00:00",
          "2024-05-04T00:00:00",
          "2024-05-09T00:00:00",
          "2024-05-12T00:00:00",
          "2024-05-18T00:00:00"
         ],
         "xaxis": "x",
         "y": [
          "RCB",
          "RCB",
          "RCB",
          "RCB",
          "RCB",
          "RCB",
          "RCB"
         ],
         "yaxis": "y"
        },
        {
         "alignmentgroup": "True",
         "hovertemplate": "winner=%{y}<br>Match Date=%{x}<extra></extra>",
         "legendgroup": "SRH",
         "marker": {
          "color": "#FF6692",
          "pattern": {
           "shape": ""
          }
         },
         "name": "SRH",
         "offsetgroup": "SRH",
         "orientation": "v",
         "showlegend": true,
         "textposition": "auto",
         "type": "bar",
         "x": [
          "2024-03-27T00:00:00",
          "2024-04-05T00:00:00",
          "2024-04-09T00:00:00",
          "2024-04-15T00:00:00",
          "2024-04-20T00:00:00",
          "2024-05-02T00:00:00",
          "2024-05-08T00:00:00",
          "2024-05-19T00:00:00",
          "2024-05-24T00:00:00"
         ],
         "xaxis": "x",
         "y": [
          "SRH",
          "SRH",
          "SRH",
          "SRH",
          "SRH",
          "SRH",
          "SRH",
          "SRH",
          "SRH"
         ],
         "yaxis": "y"
        },
        {
         "alignmentgroup": "True",
         "hovertemplate": "winner=%{y}<br>Match Date=%{x}<extra></extra>",
         "legendgroup": "LSG",
         "marker": {
          "color": "#B6E880",
          "pattern": {
           "shape": ""
          }
         },
         "name": "LSG",
         "offsetgroup": "LSG",
         "orientation": "v",
         "showlegend": true,
         "textposition": "auto",
         "type": "bar",
         "x": [
          "2024-03-30T00:00:00",
          "2024-04-02T00:00:00",
          "2024-04-07T00:00:00",
          "2024-04-19T00:00:00",
          "2024-04-23T00:00:00",
          "2024-04-30T00:00:00",
          "2024-05-17T00:00:00"
         ],
         "xaxis": "x",
         "y": [
          "LSG",
          "LSG",
          "LSG",
          "LSG",
          "LSG",
          "LSG",
          "LSG"
         ],
         "yaxis": "y"
        },
        {
         "alignmentgroup": "True",
         "hovertemplate": "winner=%{y}<br>Match Date=%{x}<extra></extra>",
         "legendgroup": "DC",
         "marker": {
          "color": "#FF97FF",
          "pattern": {
           "shape": ""
          }
         },
         "name": "DC",
         "offsetgroup": "DC",
         "orientation": "v",
         "showlegend": true,
         "textposition": "auto",
         "type": "bar",
         "x": [
          "2024-03-31T00:00:00",
          "2024-04-12T00:00:00",
          "2024-04-17T00:00:00",
          "2024-04-24T00:00:00",
          "2024-04-27T00:00:00",
          "2024-05-07T00:00:00",
          "2024-05-14T00:00:00"
         ],
         "xaxis": "x",
         "y": [
          "DC",
          "DC",
          "DC",
          "DC",
          "DC",
          "DC",
          "DC"
         ],
         "yaxis": "y"
        },
        {
         "alignmentgroup": "True",
         "hovertemplate": "winner=%{y}<br>Match Date=%{x}<extra></extra>",
         "legendgroup": "MI",
         "marker": {
          "color": "#FECB52",
          "pattern": {
           "shape": ""
          }
         },
         "name": "MI",
         "offsetgroup": "MI",
         "orientation": "v",
         "showlegend": true,
         "textposition": "auto",
         "type": "bar",
         "x": [
          "2024-04-07T00:00:00",
          "2024-04-11T00:00:00",
          "2024-04-18T00:00:00",
          "2024-05-06T00:00:00"
         ],
         "xaxis": "x",
         "y": [
          "MI",
          "MI",
          "MI",
          "MI"
         ],
         "yaxis": "y"
        }
       ],
       "layout": {
        "barmode": "stack",
        "legend": {
         "title": {
          "text": "Winning Team"
         },
         "tracegroupgap": 0
        },
        "plot_bgcolor": "white",
        "template": {
         "data": {
          "bar": [
           {
            "error_x": {
             "color": "#2a3f5f"
            },
            "error_y": {
             "color": "#2a3f5f"
            },
            "marker": {
             "line": {
              "color": "#E5ECF6",
              "width": 0.5
             },
             "pattern": {
              "fillmode": "overlay",
              "size": 10,
              "solidity": 0.2
             }
            },
            "type": "bar"
           }
          ],
          "barpolar": [
           {
            "marker": {
             "line": {
              "color": "#E5ECF6",
              "width": 0.5
             },
             "pattern": {
              "fillmode": "overlay",
              "size": 10,
              "solidity": 0.2
             }
            },
            "type": "barpolar"
           }
          ],
          "carpet": [
           {
            "aaxis": {
             "endlinecolor": "#2a3f5f",
             "gridcolor": "white",
             "linecolor": "white",
             "minorgridcolor": "white",
             "startlinecolor": "#2a3f5f"
            },
            "baxis": {
             "endlinecolor": "#2a3f5f",
             "gridcolor": "white",
             "linecolor": "white",
             "minorgridcolor": "white",
             "startlinecolor": "#2a3f5f"
            },
            "type": "carpet"
           }
          ],
          "choropleth": [
           {
            "colorbar": {
             "outlinewidth": 0,
             "ticks": ""
            },
            "type": "choropleth"
           }
          ],
          "contour": [
           {
            "colorbar": {
             "outlinewidth": 0,
             "ticks": ""
            },
            "colorscale": [
             [
              0,
              "#0d0887"
             ],
             [
              0.1111111111111111,
              "#46039f"
             ],
             [
              0.2222222222222222,
              "#7201a8"
             ],
             [
              0.3333333333333333,
              "#9c179e"
             ],
             [
              0.4444444444444444,
              "#bd3786"
             ],
             [
              0.5555555555555556,
              "#d8576b"
             ],
             [
              0.6666666666666666,
              "#ed7953"
             ],
             [
              0.7777777777777778,
              "#fb9f3a"
             ],
             [
              0.8888888888888888,
              "#fdca26"
             ],
             [
              1,
              "#f0f921"
             ]
            ],
            "type": "contour"
           }
          ],
          "contourcarpet": [
           {
            "colorbar": {
             "outlinewidth": 0,
             "ticks": ""
            },
            "type": "contourcarpet"
           }
          ],
          "heatmap": [
           {
            "colorbar": {
             "outlinewidth": 0,
             "ticks": ""
            },
            "colorscale": [
             [
              0,
              "#0d0887"
             ],
             [
              0.1111111111111111,
              "#46039f"
             ],
             [
              0.2222222222222222,
              "#7201a8"
             ],
             [
              0.3333333333333333,
              "#9c179e"
             ],
             [
              0.4444444444444444,
              "#bd3786"
             ],
             [
              0.5555555555555556,
              "#d8576b"
             ],
             [
              0.6666666666666666,
              "#ed7953"
             ],
             [
              0.7777777777777778,
              "#fb9f3a"
             ],
             [
              0.8888888888888888,
              "#fdca26"
             ],
             [
              1,
              "#f0f921"
             ]
            ],
            "type": "heatmap"
           }
          ],
          "heatmapgl": [
           {
            "colorbar": {
             "outlinewidth": 0,
             "ticks": ""
            },
            "colorscale": [
             [
              0,
              "#0d0887"
             ],
             [
              0.1111111111111111,
              "#46039f"
             ],
             [
              0.2222222222222222,
              "#7201a8"
             ],
             [
              0.3333333333333333,
              "#9c179e"
             ],
             [
              0.4444444444444444,
              "#bd3786"
             ],
             [
              0.5555555555555556,
              "#d8576b"
             ],
             [
              0.6666666666666666,
              "#ed7953"
             ],
             [
              0.7777777777777778,
              "#fb9f3a"
             ],
             [
              0.8888888888888888,
              "#fdca26"
             ],
             [
              1,
              "#f0f921"
             ]
            ],
            "type": "heatmapgl"
           }
          ],
          "histogram": [
           {
            "marker": {
             "pattern": {
              "fillmode": "overlay",
              "size": 10,
              "solidity": 0.2
             }
            },
            "type": "histogram"
           }
          ],
          "histogram2d": [
           {
            "colorbar": {
             "outlinewidth": 0,
             "ticks": ""
            },
            "colorscale": [
             [
              0,
              "#0d0887"
             ],
             [
              0.1111111111111111,
              "#46039f"
             ],
             [
              0.2222222222222222,
              "#7201a8"
             ],
             [
              0.3333333333333333,
              "#9c179e"
             ],
             [
              0.4444444444444444,
              "#bd3786"
             ],
             [
              0.5555555555555556,
              "#d8576b"
             ],
             [
              0.6666666666666666,
              "#ed7953"
             ],
             [
              0.7777777777777778,
              "#fb9f3a"
             ],
             [
              0.8888888888888888,
              "#fdca26"
             ],
             [
              1,
              "#f0f921"
             ]
            ],
            "type": "histogram2d"
           }
          ],
          "histogram2dcontour": [
           {
            "colorbar": {
             "outlinewidth": 0,
             "ticks": ""
            },
            "colorscale": [
             [
              0,
              "#0d0887"
             ],
             [
              0.1111111111111111,
              "#46039f"
             ],
             [
              0.2222222222222222,
              "#7201a8"
             ],
             [
              0.3333333333333333,
              "#9c179e"
             ],
             [
              0.4444444444444444,
              "#bd3786"
             ],
             [
              0.5555555555555556,
              "#d8576b"
             ],
             [
              0.6666666666666666,
              "#ed7953"
             ],
             [
              0.7777777777777778,
              "#fb9f3a"
             ],
             [
              0.8888888888888888,
              "#fdca26"
             ],
             [
              1,
              "#f0f921"
             ]
            ],
            "type": "histogram2dcontour"
           }
          ],
          "mesh3d": [
           {
            "colorbar": {
             "outlinewidth": 0,
             "ticks": ""
            },
            "type": "mesh3d"
           }
          ],
          "parcoords": [
           {
            "line": {
             "colorbar": {
              "outlinewidth": 0,
              "ticks": ""
             }
            },
            "type": "parcoords"
           }
          ],
          "pie": [
           {
            "automargin": true,
            "type": "pie"
           }
          ],
          "scatter": [
           {
            "fillpattern": {
             "fillmode": "overlay",
             "size": 10,
             "solidity": 0.2
            },
            "type": "scatter"
           }
          ],
          "scatter3d": [
           {
            "line": {
             "colorbar": {
              "outlinewidth": 0,
              "ticks": ""
             }
            },
            "marker": {
             "colorbar": {
              "outlinewidth": 0,
              "ticks": ""
             }
            },
            "type": "scatter3d"
           }
          ],
          "scattercarpet": [
           {
            "marker": {
             "colorbar": {
              "outlinewidth": 0,
              "ticks": ""
             }
            },
            "type": "scattercarpet"
           }
          ],
          "scattergeo": [
           {
            "marker": {
             "colorbar": {
              "outlinewidth": 0,
              "ticks": ""
             }
            },
            "type": "scattergeo"
           }
          ],
          "scattergl": [
           {
            "marker": {
             "colorbar": {
              "outlinewidth": 0,
              "ticks": ""
             }
            },
            "type": "scattergl"
           }
          ],
          "scattermapbox": [
           {
            "marker": {
             "colorbar": {
              "outlinewidth": 0,
              "ticks": ""
             }
            },
            "type": "scattermapbox"
           }
          ],
          "scatterpolar": [
           {
            "marker": {
             "colorbar": {
              "outlinewidth": 0,
              "ticks": ""
             }
            },
            "type": "scatterpolar"
           }
          ],
          "scatterpolargl": [
           {
            "marker": {
             "colorbar": {
              "outlinewidth": 0,
              "ticks": ""
             }
            },
            "type": "scatterpolargl"
           }
          ],
          "scatterternary": [
           {
            "marker": {
             "colorbar": {
              "outlinewidth": 0,
              "ticks": ""
             }
            },
            "type": "scatterternary"
           }
          ],
          "surface": [
           {
            "colorbar": {
             "outlinewidth": 0,
             "ticks": ""
            },
            "colorscale": [
             [
              0,
              "#0d0887"
             ],
             [
              0.1111111111111111,
              "#46039f"
             ],
             [
              0.2222222222222222,
              "#7201a8"
             ],
             [
              0.3333333333333333,
              "#9c179e"
             ],
             [
              0.4444444444444444,
              "#bd3786"
             ],
             [
              0.5555555555555556,
              "#d8576b"
             ],
             [
              0.6666666666666666,
              "#ed7953"
             ],
             [
              0.7777777777777778,
              "#fb9f3a"
             ],
             [
              0.8888888888888888,
              "#fdca26"
             ],
             [
              1,
              "#f0f921"
             ]
            ],
            "type": "surface"
           }
          ],
          "table": [
           {
            "cells": {
             "fill": {
              "color": "#EBF0F8"
             },
             "line": {
              "color": "white"
             }
            },
            "header": {
             "fill": {
              "color": "#C8D4E3"
             },
             "line": {
              "color": "white"
             }
            },
            "type": "table"
           }
          ]
         },
         "layout": {
          "annotationdefaults": {
           "arrowcolor": "#2a3f5f",
           "arrowhead": 0,
           "arrowwidth": 1
          },
          "autotypenumbers": "strict",
          "coloraxis": {
           "colorbar": {
            "outlinewidth": 0,
            "ticks": ""
           }
          },
          "colorscale": {
           "diverging": [
            [
             0,
             "#8e0152"
            ],
            [
             0.1,
             "#c51b7d"
            ],
            [
             0.2,
             "#de77ae"
            ],
            [
             0.3,
             "#f1b6da"
            ],
            [
             0.4,
             "#fde0ef"
            ],
            [
             0.5,
             "#f7f7f7"
            ],
            [
             0.6,
             "#e6f5d0"
            ],
            [
             0.7,
             "#b8e186"
            ],
            [
             0.8,
             "#7fbc41"
            ],
            [
             0.9,
             "#4d9221"
            ],
            [
             1,
             "#276419"
            ]
           ],
           "sequential": [
            [
             0,
             "#0d0887"
            ],
            [
             0.1111111111111111,
             "#46039f"
            ],
            [
             0.2222222222222222,
             "#7201a8"
            ],
            [
             0.3333333333333333,
             "#9c179e"
            ],
            [
             0.4444444444444444,
             "#bd3786"
            ],
            [
             0.5555555555555556,
             "#d8576b"
            ],
            [
             0.6666666666666666,
             "#ed7953"
            ],
            [
             0.7777777777777778,
             "#fb9f3a"
            ],
            [
             0.8888888888888888,
             "#fdca26"
            ],
            [
             1,
             "#f0f921"
            ]
           ],
           "sequentialminus": [
            [
             0,
             "#0d0887"
            ],
            [
             0.1111111111111111,
             "#46039f"
            ],
            [
             0.2222222222222222,
             "#7201a8"
            ],
            [
             0.3333333333333333,
             "#9c179e"
            ],
            [
             0.4444444444444444,
             "#bd3786"
            ],
            [
             0.5555555555555556,
             "#d8576b"
            ],
            [
             0.6666666666666666,
             "#ed7953"
            ],
            [
             0.7777777777777778,
             "#fb9f3a"
            ],
            [
             0.8888888888888888,
             "#fdca26"
            ],
            [
             1,
             "#f0f921"
            ]
           ]
          },
          "colorway": [
           "#636efa",
           "#EF553B",
           "#00cc96",
           "#ab63fa",
           "#FFA15A",
           "#19d3f3",
           "#FF6692",
           "#B6E880",
           "#FF97FF",
           "#FECB52"
          ],
          "font": {
           "color": "#2a3f5f"
          },
          "geo": {
           "bgcolor": "white",
           "lakecolor": "white",
           "landcolor": "#E5ECF6",
           "showlakes": true,
           "showland": true,
           "subunitcolor": "white"
          },
          "hoverlabel": {
           "align": "left"
          },
          "hovermode": "closest",
          "mapbox": {
           "style": "light"
          },
          "paper_bgcolor": "white",
          "plot_bgcolor": "#E5ECF6",
          "polar": {
           "angularaxis": {
            "gridcolor": "white",
            "linecolor": "white",
            "ticks": ""
           },
           "bgcolor": "#E5ECF6",
           "radialaxis": {
            "gridcolor": "white",
            "linecolor": "white",
            "ticks": ""
           }
          },
          "scene": {
           "xaxis": {
            "backgroundcolor": "#E5ECF6",
            "gridcolor": "white",
            "gridwidth": 2,
            "linecolor": "white",
            "showbackground": true,
            "ticks": "",
            "zerolinecolor": "white"
           },
           "yaxis": {
            "backgroundcolor": "#E5ECF6",
            "gridcolor": "white",
            "gridwidth": 2,
            "linecolor": "white",
            "showbackground": true,
            "ticks": "",
            "zerolinecolor": "white"
           },
           "zaxis": {
            "backgroundcolor": "#E5ECF6",
            "gridcolor": "white",
            "gridwidth": 2,
            "linecolor": "white",
            "showbackground": true,
            "ticks": "",
            "zerolinecolor": "white"
           }
          },
          "shapedefaults": {
           "line": {
            "color": "#2a3f5f"
           }
          },
          "ternary": {
           "aaxis": {
            "gridcolor": "white",
            "linecolor": "white",
            "ticks": ""
           },
           "baxis": {
            "gridcolor": "white",
            "linecolor": "white",
            "ticks": ""
           },
           "bgcolor": "#E5ECF6",
           "caxis": {
            "gridcolor": "white",
            "linecolor": "white",
            "ticks": ""
           }
          },
          "title": {
           "x": 0.05
          },
          "xaxis": {
           "automargin": true,
           "gridcolor": "white",
           "linecolor": "white",
           "ticks": "",
           "title": {
            "standoff": 15
           },
           "zerolinecolor": "white",
           "zerolinewidth": 2
          },
          "yaxis": {
           "automargin": true,
           "gridcolor": "white",
           "linecolor": "white",
           "ticks": "",
           "title": {
            "standoff": 15
           },
           "zerolinecolor": "white",
           "zerolinewidth": 2
          }
         }
        },
        "title": {
         "text": "Number of Wins by Team over Time"
        },
        "xaxis": {
         "anchor": "y",
         "domain": [
          0,
          1
         ],
         "title": {
          "text": "Date"
         }
        },
        "yaxis": {
         "anchor": "x",
         "categoryarray": [
          "MI",
          "DC",
          "LSG",
          "SRH",
          "RCB",
          "RR",
          "GT",
          "PBKS",
          "KKR",
          "CSK"
         ],
         "categoryorder": "array",
         "domain": [
          0,
          1
         ],
         "title": {
          "text": "Number of Wins"
         }
        }
       }
      }
     },
     "metadata": {},
     "output_type": "display_data"
    }
   ],
   "source": [
    "df['date'] = pd.to_datetime(df['date'], errors='coerce')\n",
    "# Create a new column to indicate the winner\n",
    "df['winner'] = df.apply(lambda x: x['home_team_abbrev'] if x['home_win'] else x['away_team_abbrev'], axis=1)\n",
    "\n",
    "# Count the number of wins by team and date\n",
    "win_counts = df.groupby(['date', 'winner']).size().reset_index(name='win_count')\n",
    "\n",
    "# Create a stacked bar chart\n",
    "fig = px.bar(\n",
    "    win_counts,\n",
    "    x='date',\n",
    "    y='winner',\n",
    "    color='winner',\n",
    "    title='Number of Wins by Team over Time',\n",
    "    labels={'date': 'Match Date', 'win_count': 'Number of Wins'},\n",
    "    hover_data=['winner']\n",
    ")\n",
    "\n",
    "fig.update_layout(\n",
    "    xaxis_title='Date',\n",
    "    yaxis_title='Number of Wins',\n",
    "    legend_title='Winning Team',\n",
    "    plot_bgcolor='white',\n",
    "    barmode='stack'  # Stacked bar mode\n",
    ")\n",
    "\n",
    "# Show plot\n",
    "fig.show()\n"
   ]
  },
  {
   "cell_type": "code",
   "execution_count": 181,
   "metadata": {},
   "outputs": [
    {
     "data": {
      "application/vnd.plotly.v1+json": {
       "config": {
        "plotlyServerURL": "https://plot.ly"
       },
       "data": [
        {
         "coloraxis": "coloraxis",
         "histfunc": "sum",
         "hovertemplate": "Match Date=%{x}<br>Winning Team=%{y}<br>sum of Number of Wins=%{z}<extra></extra>",
         "name": "",
         "type": "histogram2d",
         "x": [
          "2024-03-22T00:00:00",
          "2024-03-23T00:00:00",
          "2024-03-23T00:00:00",
          "2024-03-24T00:00:00",
          "2024-03-24T00:00:00",
          "2024-03-25T00:00:00",
          "2024-03-26T00:00:00",
          "2024-03-27T00:00:00",
          "2024-03-28T00:00:00",
          "2024-03-29T00:00:00",
          "2024-03-30T00:00:00",
          "2024-03-31T00:00:00",
          "2024-03-31T00:00:00",
          "2024-04-01T00:00:00",
          "2024-04-02T00:00:00",
          "2024-04-03T00:00:00",
          "2024-04-04T00:00:00",
          "2024-04-05T00:00:00",
          "2024-04-06T00:00:00",
          "2024-04-07T00:00:00",
          "2024-04-07T00:00:00",
          "2024-04-08T00:00:00",
          "2024-04-09T00:00:00",
          "2024-04-10T00:00:00",
          "2024-04-11T00:00:00",
          "2024-04-12T00:00:00",
          "2024-04-13T00:00:00",
          "2024-04-14T00:00:00",
          "2024-04-14T00:00:00",
          "2024-04-15T00:00:00",
          "2024-04-16T00:00:00",
          "2024-04-17T00:00:00",
          "2024-04-18T00:00:00",
          "2024-04-19T00:00:00",
          "2024-04-20T00:00:00",
          "2024-04-21T00:00:00",
          "2024-04-21T00:00:00",
          "2024-04-22T00:00:00",
          "2024-04-23T00:00:00",
          "2024-04-24T00:00:00",
          "2024-04-25T00:00:00",
          "2024-04-26T00:00:00",
          "2024-04-27T00:00:00",
          "2024-04-27T00:00:00",
          "2024-04-28T00:00:00",
          "2024-04-28T00:00:00",
          "2024-04-29T00:00:00",
          "2024-04-30T00:00:00",
          "2024-05-01T00:00:00",
          "2024-05-02T00:00:00",
          "2024-05-03T00:00:00",
          "2024-05-04T00:00:00",
          "2024-05-05T00:00:00",
          "2024-05-05T00:00:00",
          "2024-05-06T00:00:00",
          "2024-05-07T00:00:00",
          "2024-05-08T00:00:00",
          "2024-05-09T00:00:00",
          "2024-05-10T00:00:00",
          "2024-05-11T00:00:00",
          "2024-05-12T00:00:00",
          "2024-05-12T00:00:00",
          "2024-05-13T00:00:00",
          "2024-05-14T00:00:00",
          "2024-05-15T00:00:00",
          "2024-05-16T00:00:00",
          "2024-05-17T00:00:00",
          "2024-05-18T00:00:00",
          "2024-05-19T00:00:00",
          "2024-05-19T00:00:00",
          "2024-05-21T00:00:00",
          "2024-05-22T00:00:00",
          "2024-05-24T00:00:00",
          "2024-05-26T00:00:00"
         ],
         "xaxis": "x",
         "xbingroup": "x",
         "y": [
          "CSK",
          "KKR",
          "PBKS",
          "GT",
          "RR",
          "RCB",
          "CSK",
          "SRH",
          "RR",
          "KKR",
          "LSG",
          "DC",
          "GT",
          "RR",
          "LSG",
          "KKR",
          "PBKS",
          "SRH",
          "RR",
          "LSG",
          "MI",
          "CSK",
          "SRH",
          "GT",
          "MI",
          "DC",
          "RR",
          "CSK",
          "KKR",
          "SRH",
          "RR",
          "DC",
          "MI",
          "LSG",
          "SRH",
          "GT",
          "KKR",
          "RR",
          "LSG",
          "DC",
          "RCB",
          "PBKS",
          "DC",
          "RR",
          "CSK",
          "RCB",
          "KKR",
          "LSG",
          "PBKS",
          "SRH",
          "KKR",
          "RCB",
          "CSK",
          "KKR",
          "MI",
          "DC",
          "SRH",
          "RCB",
          "GT",
          "KKR",
          "CSK",
          "RCB",
          "KKR",
          "DC",
          "PBKS",
          "GT",
          "LSG",
          "RCB",
          "KKR",
          "SRH",
          "KKR",
          "RR",
          "SRH",
          "KKR"
         ],
         "yaxis": "y",
         "ybingroup": "y",
         "z": [
          1,
          1,
          1,
          1,
          1,
          1,
          1,
          1,
          1,
          1,
          1,
          1,
          1,
          1,
          1,
          1,
          1,
          1,
          1,
          1,
          1,
          1,
          1,
          1,
          1,
          1,
          1,
          1,
          1,
          1,
          1,
          1,
          1,
          1,
          1,
          1,
          1,
          1,
          1,
          1,
          1,
          1,
          1,
          1,
          1,
          1,
          1,
          1,
          1,
          1,
          1,
          1,
          1,
          1,
          1,
          1,
          1,
          1,
          1,
          1,
          1,
          1,
          1,
          1,
          1,
          1,
          1,
          1,
          1,
          1,
          1,
          1,
          1,
          1
         ]
        }
       ],
       "layout": {
        "coloraxis": {
         "colorbar": {
          "title": {
           "text": "sum of Number of Wins"
          }
         },
         "colorscale": [
          [
           0,
           "#440154"
          ],
          [
           0.1111111111111111,
           "#482878"
          ],
          [
           0.2222222222222222,
           "#3e4989"
          ],
          [
           0.3333333333333333,
           "#31688e"
          ],
          [
           0.4444444444444444,
           "#26828e"
          ],
          [
           0.5555555555555556,
           "#1f9e89"
          ],
          [
           0.6666666666666666,
           "#35b779"
          ],
          [
           0.7777777777777778,
           "#6ece58"
          ],
          [
           0.8888888888888888,
           "#b5de2b"
          ],
          [
           1,
           "#fde725"
          ]
         ]
        },
        "legend": {
         "title": {
          "text": "Number of Wins"
         },
         "tracegroupgap": 0
        },
        "plot_bgcolor": "white",
        "template": {
         "data": {
          "bar": [
           {
            "error_x": {
             "color": "#2a3f5f"
            },
            "error_y": {
             "color": "#2a3f5f"
            },
            "marker": {
             "line": {
              "color": "#E5ECF6",
              "width": 0.5
             },
             "pattern": {
              "fillmode": "overlay",
              "size": 10,
              "solidity": 0.2
             }
            },
            "type": "bar"
           }
          ],
          "barpolar": [
           {
            "marker": {
             "line": {
              "color": "#E5ECF6",
              "width": 0.5
             },
             "pattern": {
              "fillmode": "overlay",
              "size": 10,
              "solidity": 0.2
             }
            },
            "type": "barpolar"
           }
          ],
          "carpet": [
           {
            "aaxis": {
             "endlinecolor": "#2a3f5f",
             "gridcolor": "white",
             "linecolor": "white",
             "minorgridcolor": "white",
             "startlinecolor": "#2a3f5f"
            },
            "baxis": {
             "endlinecolor": "#2a3f5f",
             "gridcolor": "white",
             "linecolor": "white",
             "minorgridcolor": "white",
             "startlinecolor": "#2a3f5f"
            },
            "type": "carpet"
           }
          ],
          "choropleth": [
           {
            "colorbar": {
             "outlinewidth": 0,
             "ticks": ""
            },
            "type": "choropleth"
           }
          ],
          "contour": [
           {
            "colorbar": {
             "outlinewidth": 0,
             "ticks": ""
            },
            "colorscale": [
             [
              0,
              "#0d0887"
             ],
             [
              0.1111111111111111,
              "#46039f"
             ],
             [
              0.2222222222222222,
              "#7201a8"
             ],
             [
              0.3333333333333333,
              "#9c179e"
             ],
             [
              0.4444444444444444,
              "#bd3786"
             ],
             [
              0.5555555555555556,
              "#d8576b"
             ],
             [
              0.6666666666666666,
              "#ed7953"
             ],
             [
              0.7777777777777778,
              "#fb9f3a"
             ],
             [
              0.8888888888888888,
              "#fdca26"
             ],
             [
              1,
              "#f0f921"
             ]
            ],
            "type": "contour"
           }
          ],
          "contourcarpet": [
           {
            "colorbar": {
             "outlinewidth": 0,
             "ticks": ""
            },
            "type": "contourcarpet"
           }
          ],
          "heatmap": [
           {
            "colorbar": {
             "outlinewidth": 0,
             "ticks": ""
            },
            "colorscale": [
             [
              0,
              "#0d0887"
             ],
             [
              0.1111111111111111,
              "#46039f"
             ],
             [
              0.2222222222222222,
              "#7201a8"
             ],
             [
              0.3333333333333333,
              "#9c179e"
             ],
             [
              0.4444444444444444,
              "#bd3786"
             ],
             [
              0.5555555555555556,
              "#d8576b"
             ],
             [
              0.6666666666666666,
              "#ed7953"
             ],
             [
              0.7777777777777778,
              "#fb9f3a"
             ],
             [
              0.8888888888888888,
              "#fdca26"
             ],
             [
              1,
              "#f0f921"
             ]
            ],
            "type": "heatmap"
           }
          ],
          "heatmapgl": [
           {
            "colorbar": {
             "outlinewidth": 0,
             "ticks": ""
            },
            "colorscale": [
             [
              0,
              "#0d0887"
             ],
             [
              0.1111111111111111,
              "#46039f"
             ],
             [
              0.2222222222222222,
              "#7201a8"
             ],
             [
              0.3333333333333333,
              "#9c179e"
             ],
             [
              0.4444444444444444,
              "#bd3786"
             ],
             [
              0.5555555555555556,
              "#d8576b"
             ],
             [
              0.6666666666666666,
              "#ed7953"
             ],
             [
              0.7777777777777778,
              "#fb9f3a"
             ],
             [
              0.8888888888888888,
              "#fdca26"
             ],
             [
              1,
              "#f0f921"
             ]
            ],
            "type": "heatmapgl"
           }
          ],
          "histogram": [
           {
            "marker": {
             "pattern": {
              "fillmode": "overlay",
              "size": 10,
              "solidity": 0.2
             }
            },
            "type": "histogram"
           }
          ],
          "histogram2d": [
           {
            "colorbar": {
             "outlinewidth": 0,
             "ticks": ""
            },
            "colorscale": [
             [
              0,
              "#0d0887"
             ],
             [
              0.1111111111111111,
              "#46039f"
             ],
             [
              0.2222222222222222,
              "#7201a8"
             ],
             [
              0.3333333333333333,
              "#9c179e"
             ],
             [
              0.4444444444444444,
              "#bd3786"
             ],
             [
              0.5555555555555556,
              "#d8576b"
             ],
             [
              0.6666666666666666,
              "#ed7953"
             ],
             [
              0.7777777777777778,
              "#fb9f3a"
             ],
             [
              0.8888888888888888,
              "#fdca26"
             ],
             [
              1,
              "#f0f921"
             ]
            ],
            "type": "histogram2d"
           }
          ],
          "histogram2dcontour": [
           {
            "colorbar": {
             "outlinewidth": 0,
             "ticks": ""
            },
            "colorscale": [
             [
              0,
              "#0d0887"
             ],
             [
              0.1111111111111111,
              "#46039f"
             ],
             [
              0.2222222222222222,
              "#7201a8"
             ],
             [
              0.3333333333333333,
              "#9c179e"
             ],
             [
              0.4444444444444444,
              "#bd3786"
             ],
             [
              0.5555555555555556,
              "#d8576b"
             ],
             [
              0.6666666666666666,
              "#ed7953"
             ],
             [
              0.7777777777777778,
              "#fb9f3a"
             ],
             [
              0.8888888888888888,
              "#fdca26"
             ],
             [
              1,
              "#f0f921"
             ]
            ],
            "type": "histogram2dcontour"
           }
          ],
          "mesh3d": [
           {
            "colorbar": {
             "outlinewidth": 0,
             "ticks": ""
            },
            "type": "mesh3d"
           }
          ],
          "parcoords": [
           {
            "line": {
             "colorbar": {
              "outlinewidth": 0,
              "ticks": ""
             }
            },
            "type": "parcoords"
           }
          ],
          "pie": [
           {
            "automargin": true,
            "type": "pie"
           }
          ],
          "scatter": [
           {
            "fillpattern": {
             "fillmode": "overlay",
             "size": 10,
             "solidity": 0.2
            },
            "type": "scatter"
           }
          ],
          "scatter3d": [
           {
            "line": {
             "colorbar": {
              "outlinewidth": 0,
              "ticks": ""
             }
            },
            "marker": {
             "colorbar": {
              "outlinewidth": 0,
              "ticks": ""
             }
            },
            "type": "scatter3d"
           }
          ],
          "scattercarpet": [
           {
            "marker": {
             "colorbar": {
              "outlinewidth": 0,
              "ticks": ""
             }
            },
            "type": "scattercarpet"
           }
          ],
          "scattergeo": [
           {
            "marker": {
             "colorbar": {
              "outlinewidth": 0,
              "ticks": ""
             }
            },
            "type": "scattergeo"
           }
          ],
          "scattergl": [
           {
            "marker": {
             "colorbar": {
              "outlinewidth": 0,
              "ticks": ""
             }
            },
            "type": "scattergl"
           }
          ],
          "scattermapbox": [
           {
            "marker": {
             "colorbar": {
              "outlinewidth": 0,
              "ticks": ""
             }
            },
            "type": "scattermapbox"
           }
          ],
          "scatterpolar": [
           {
            "marker": {
             "colorbar": {
              "outlinewidth": 0,
              "ticks": ""
             }
            },
            "type": "scatterpolar"
           }
          ],
          "scatterpolargl": [
           {
            "marker": {
             "colorbar": {
              "outlinewidth": 0,
              "ticks": ""
             }
            },
            "type": "scatterpolargl"
           }
          ],
          "scatterternary": [
           {
            "marker": {
             "colorbar": {
              "outlinewidth": 0,
              "ticks": ""
             }
            },
            "type": "scatterternary"
           }
          ],
          "surface": [
           {
            "colorbar": {
             "outlinewidth": 0,
             "ticks": ""
            },
            "colorscale": [
             [
              0,
              "#0d0887"
             ],
             [
              0.1111111111111111,
              "#46039f"
             ],
             [
              0.2222222222222222,
              "#7201a8"
             ],
             [
              0.3333333333333333,
              "#9c179e"
             ],
             [
              0.4444444444444444,
              "#bd3786"
             ],
             [
              0.5555555555555556,
              "#d8576b"
             ],
             [
              0.6666666666666666,
              "#ed7953"
             ],
             [
              0.7777777777777778,
              "#fb9f3a"
             ],
             [
              0.8888888888888888,
              "#fdca26"
             ],
             [
              1,
              "#f0f921"
             ]
            ],
            "type": "surface"
           }
          ],
          "table": [
           {
            "cells": {
             "fill": {
              "color": "#EBF0F8"
             },
             "line": {
              "color": "white"
             }
            },
            "header": {
             "fill": {
              "color": "#C8D4E3"
             },
             "line": {
              "color": "white"
             }
            },
            "type": "table"
           }
          ]
         },
         "layout": {
          "annotationdefaults": {
           "arrowcolor": "#2a3f5f",
           "arrowhead": 0,
           "arrowwidth": 1
          },
          "autotypenumbers": "strict",
          "coloraxis": {
           "colorbar": {
            "outlinewidth": 0,
            "ticks": ""
           }
          },
          "colorscale": {
           "diverging": [
            [
             0,
             "#8e0152"
            ],
            [
             0.1,
             "#c51b7d"
            ],
            [
             0.2,
             "#de77ae"
            ],
            [
             0.3,
             "#f1b6da"
            ],
            [
             0.4,
             "#fde0ef"
            ],
            [
             0.5,
             "#f7f7f7"
            ],
            [
             0.6,
             "#e6f5d0"
            ],
            [
             0.7,
             "#b8e186"
            ],
            [
             0.8,
             "#7fbc41"
            ],
            [
             0.9,
             "#4d9221"
            ],
            [
             1,
             "#276419"
            ]
           ],
           "sequential": [
            [
             0,
             "#0d0887"
            ],
            [
             0.1111111111111111,
             "#46039f"
            ],
            [
             0.2222222222222222,
             "#7201a8"
            ],
            [
             0.3333333333333333,
             "#9c179e"
            ],
            [
             0.4444444444444444,
             "#bd3786"
            ],
            [
             0.5555555555555556,
             "#d8576b"
            ],
            [
             0.6666666666666666,
             "#ed7953"
            ],
            [
             0.7777777777777778,
             "#fb9f3a"
            ],
            [
             0.8888888888888888,
             "#fdca26"
            ],
            [
             1,
             "#f0f921"
            ]
           ],
           "sequentialminus": [
            [
             0,
             "#0d0887"
            ],
            [
             0.1111111111111111,
             "#46039f"
            ],
            [
             0.2222222222222222,
             "#7201a8"
            ],
            [
             0.3333333333333333,
             "#9c179e"
            ],
            [
             0.4444444444444444,
             "#bd3786"
            ],
            [
             0.5555555555555556,
             "#d8576b"
            ],
            [
             0.6666666666666666,
             "#ed7953"
            ],
            [
             0.7777777777777778,
             "#fb9f3a"
            ],
            [
             0.8888888888888888,
             "#fdca26"
            ],
            [
             1,
             "#f0f921"
            ]
           ]
          },
          "colorway": [
           "#636efa",
           "#EF553B",
           "#00cc96",
           "#ab63fa",
           "#FFA15A",
           "#19d3f3",
           "#FF6692",
           "#B6E880",
           "#FF97FF",
           "#FECB52"
          ],
          "font": {
           "color": "#2a3f5f"
          },
          "geo": {
           "bgcolor": "white",
           "lakecolor": "white",
           "landcolor": "#E5ECF6",
           "showlakes": true,
           "showland": true,
           "subunitcolor": "white"
          },
          "hoverlabel": {
           "align": "left"
          },
          "hovermode": "closest",
          "mapbox": {
           "style": "light"
          },
          "paper_bgcolor": "white",
          "plot_bgcolor": "#E5ECF6",
          "polar": {
           "angularaxis": {
            "gridcolor": "white",
            "linecolor": "white",
            "ticks": ""
           },
           "bgcolor": "#E5ECF6",
           "radialaxis": {
            "gridcolor": "white",
            "linecolor": "white",
            "ticks": ""
           }
          },
          "scene": {
           "xaxis": {
            "backgroundcolor": "#E5ECF6",
            "gridcolor": "white",
            "gridwidth": 2,
            "linecolor": "white",
            "showbackground": true,
            "ticks": "",
            "zerolinecolor": "white"
           },
           "yaxis": {
            "backgroundcolor": "#E5ECF6",
            "gridcolor": "white",
            "gridwidth": 2,
            "linecolor": "white",
            "showbackground": true,
            "ticks": "",
            "zerolinecolor": "white"
           },
           "zaxis": {
            "backgroundcolor": "#E5ECF6",
            "gridcolor": "white",
            "gridwidth": 2,
            "linecolor": "white",
            "showbackground": true,
            "ticks": "",
            "zerolinecolor": "white"
           }
          },
          "shapedefaults": {
           "line": {
            "color": "#2a3f5f"
           }
          },
          "ternary": {
           "aaxis": {
            "gridcolor": "white",
            "linecolor": "white",
            "ticks": ""
           },
           "baxis": {
            "gridcolor": "white",
            "linecolor": "white",
            "ticks": ""
           },
           "bgcolor": "#E5ECF6",
           "caxis": {
            "gridcolor": "white",
            "linecolor": "white",
            "ticks": ""
           }
          },
          "title": {
           "x": 0.05
          },
          "xaxis": {
           "automargin": true,
           "gridcolor": "white",
           "linecolor": "white",
           "ticks": "",
           "title": {
            "standoff": 15
           },
           "zerolinecolor": "white",
           "zerolinewidth": 2
          },
          "yaxis": {
           "automargin": true,
           "gridcolor": "white",
           "linecolor": "white",
           "ticks": "",
           "title": {
            "standoff": 15
           },
           "zerolinecolor": "white",
           "zerolinewidth": 2
          }
         }
        },
        "title": {
         "text": "Heatmap of Wins by Team over Time"
        },
        "xaxis": {
         "anchor": "y",
         "domain": [
          0,
          1
         ],
         "title": {
          "text": "Date"
         }
        },
        "yaxis": {
         "anchor": "x",
         "domain": [
          0,
          1
         ],
         "title": {
          "text": "Winning Team"
         }
        }
       }
      }
     },
     "metadata": {},
     "output_type": "display_data"
    }
   ],
   "source": [
    "# Convert the 'date' column to a datetime format\n",
    "df['date'] = pd.to_datetime(df['date'], errors='coerce')\n",
    "\n",
    "# Create a new column to indicate the winner\n",
    "df['winner'] = df.apply(lambda x: x['home_team_abbrev'] if x['home_win'] else x['away_team_abbrev'], axis=1)\n",
    "\n",
    "# Count the number of wins by team and date\n",
    "win_counts = df.groupby(['date', 'winner']).size().reset_index(name='win_count')\n",
    "\n",
    "# Create a heatmap\n",
    "fig = px.density_heatmap(\n",
    "    win_counts,\n",
    "    x='date',\n",
    "    y='winner',\n",
    "    z='win_count',\n",
    "    title='Heatmap of Wins by Team over Time',\n",
    "    labels={'date': 'Match Date', 'winner': 'Winning Team', 'win_count': 'Number of Wins'},\n",
    "    color_continuous_scale='Viridis'  # Optional: Customize color scale\n",
    ")\n",
    "\n",
    "fig.update_layout(\n",
    "    xaxis_title='Date',\n",
    "    yaxis_title='Winning Team',\n",
    "    legend_title='Number of Wins',\n",
    "    plot_bgcolor='white'\n",
    ")\n",
    "\n",
    "# Show plot\n",
    "fig.show()\n"
   ]
  },
  {
   "cell_type": "markdown",
   "metadata": {},
   "source": [
    "## home/away win count"
   ]
  },
  {
   "cell_type": "code",
   "execution_count": 218,
   "metadata": {},
   "outputs": [
    {
     "data": {
      "application/vnd.plotly.v1+json": {
       "config": {
        "plotlyServerURL": "https://plot.ly"
       },
       "data": [
        {
         "customdata": [
          [
           "Home Wins"
          ],
          [
           "Away Wins"
          ]
         ],
         "domain": {
          "x": [
           0,
           1
          ],
          "y": [
           0,
           1
          ]
         },
         "hovertemplate": "Win Type=%{customdata[0]}<br>Count=%{value}<extra></extra>",
         "labels": [
          "Home Wins",
          "Away Wins"
         ],
         "legendgroup": "",
         "marker": {
          "colors": [
           "green",
           "yellow"
          ]
         },
         "name": "",
         "showlegend": true,
         "textinfo": "percent+label",
         "type": "pie",
         "values": [
          42,
          29
         ]
        }
       ],
       "layout": {
        "legend": {
         "tracegroupgap": 0
        },
        "template": {
         "data": {
          "bar": [
           {
            "error_x": {
             "color": "#2a3f5f"
            },
            "error_y": {
             "color": "#2a3f5f"
            },
            "marker": {
             "line": {
              "color": "#E5ECF6",
              "width": 0.5
             },
             "pattern": {
              "fillmode": "overlay",
              "size": 10,
              "solidity": 0.2
             }
            },
            "type": "bar"
           }
          ],
          "barpolar": [
           {
            "marker": {
             "line": {
              "color": "#E5ECF6",
              "width": 0.5
             },
             "pattern": {
              "fillmode": "overlay",
              "size": 10,
              "solidity": 0.2
             }
            },
            "type": "barpolar"
           }
          ],
          "carpet": [
           {
            "aaxis": {
             "endlinecolor": "#2a3f5f",
             "gridcolor": "white",
             "linecolor": "white",
             "minorgridcolor": "white",
             "startlinecolor": "#2a3f5f"
            },
            "baxis": {
             "endlinecolor": "#2a3f5f",
             "gridcolor": "white",
             "linecolor": "white",
             "minorgridcolor": "white",
             "startlinecolor": "#2a3f5f"
            },
            "type": "carpet"
           }
          ],
          "choropleth": [
           {
            "colorbar": {
             "outlinewidth": 0,
             "ticks": ""
            },
            "type": "choropleth"
           }
          ],
          "contour": [
           {
            "colorbar": {
             "outlinewidth": 0,
             "ticks": ""
            },
            "colorscale": [
             [
              0,
              "#0d0887"
             ],
             [
              0.1111111111111111,
              "#46039f"
             ],
             [
              0.2222222222222222,
              "#7201a8"
             ],
             [
              0.3333333333333333,
              "#9c179e"
             ],
             [
              0.4444444444444444,
              "#bd3786"
             ],
             [
              0.5555555555555556,
              "#d8576b"
             ],
             [
              0.6666666666666666,
              "#ed7953"
             ],
             [
              0.7777777777777778,
              "#fb9f3a"
             ],
             [
              0.8888888888888888,
              "#fdca26"
             ],
             [
              1,
              "#f0f921"
             ]
            ],
            "type": "contour"
           }
          ],
          "contourcarpet": [
           {
            "colorbar": {
             "outlinewidth": 0,
             "ticks": ""
            },
            "type": "contourcarpet"
           }
          ],
          "heatmap": [
           {
            "colorbar": {
             "outlinewidth": 0,
             "ticks": ""
            },
            "colorscale": [
             [
              0,
              "#0d0887"
             ],
             [
              0.1111111111111111,
              "#46039f"
             ],
             [
              0.2222222222222222,
              "#7201a8"
             ],
             [
              0.3333333333333333,
              "#9c179e"
             ],
             [
              0.4444444444444444,
              "#bd3786"
             ],
             [
              0.5555555555555556,
              "#d8576b"
             ],
             [
              0.6666666666666666,
              "#ed7953"
             ],
             [
              0.7777777777777778,
              "#fb9f3a"
             ],
             [
              0.8888888888888888,
              "#fdca26"
             ],
             [
              1,
              "#f0f921"
             ]
            ],
            "type": "heatmap"
           }
          ],
          "heatmapgl": [
           {
            "colorbar": {
             "outlinewidth": 0,
             "ticks": ""
            },
            "colorscale": [
             [
              0,
              "#0d0887"
             ],
             [
              0.1111111111111111,
              "#46039f"
             ],
             [
              0.2222222222222222,
              "#7201a8"
             ],
             [
              0.3333333333333333,
              "#9c179e"
             ],
             [
              0.4444444444444444,
              "#bd3786"
             ],
             [
              0.5555555555555556,
              "#d8576b"
             ],
             [
              0.6666666666666666,
              "#ed7953"
             ],
             [
              0.7777777777777778,
              "#fb9f3a"
             ],
             [
              0.8888888888888888,
              "#fdca26"
             ],
             [
              1,
              "#f0f921"
             ]
            ],
            "type": "heatmapgl"
           }
          ],
          "histogram": [
           {
            "marker": {
             "pattern": {
              "fillmode": "overlay",
              "size": 10,
              "solidity": 0.2
             }
            },
            "type": "histogram"
           }
          ],
          "histogram2d": [
           {
            "colorbar": {
             "outlinewidth": 0,
             "ticks": ""
            },
            "colorscale": [
             [
              0,
              "#0d0887"
             ],
             [
              0.1111111111111111,
              "#46039f"
             ],
             [
              0.2222222222222222,
              "#7201a8"
             ],
             [
              0.3333333333333333,
              "#9c179e"
             ],
             [
              0.4444444444444444,
              "#bd3786"
             ],
             [
              0.5555555555555556,
              "#d8576b"
             ],
             [
              0.6666666666666666,
              "#ed7953"
             ],
             [
              0.7777777777777778,
              "#fb9f3a"
             ],
             [
              0.8888888888888888,
              "#fdca26"
             ],
             [
              1,
              "#f0f921"
             ]
            ],
            "type": "histogram2d"
           }
          ],
          "histogram2dcontour": [
           {
            "colorbar": {
             "outlinewidth": 0,
             "ticks": ""
            },
            "colorscale": [
             [
              0,
              "#0d0887"
             ],
             [
              0.1111111111111111,
              "#46039f"
             ],
             [
              0.2222222222222222,
              "#7201a8"
             ],
             [
              0.3333333333333333,
              "#9c179e"
             ],
             [
              0.4444444444444444,
              "#bd3786"
             ],
             [
              0.5555555555555556,
              "#d8576b"
             ],
             [
              0.6666666666666666,
              "#ed7953"
             ],
             [
              0.7777777777777778,
              "#fb9f3a"
             ],
             [
              0.8888888888888888,
              "#fdca26"
             ],
             [
              1,
              "#f0f921"
             ]
            ],
            "type": "histogram2dcontour"
           }
          ],
          "mesh3d": [
           {
            "colorbar": {
             "outlinewidth": 0,
             "ticks": ""
            },
            "type": "mesh3d"
           }
          ],
          "parcoords": [
           {
            "line": {
             "colorbar": {
              "outlinewidth": 0,
              "ticks": ""
             }
            },
            "type": "parcoords"
           }
          ],
          "pie": [
           {
            "automargin": true,
            "type": "pie"
           }
          ],
          "scatter": [
           {
            "fillpattern": {
             "fillmode": "overlay",
             "size": 10,
             "solidity": 0.2
            },
            "type": "scatter"
           }
          ],
          "scatter3d": [
           {
            "line": {
             "colorbar": {
              "outlinewidth": 0,
              "ticks": ""
             }
            },
            "marker": {
             "colorbar": {
              "outlinewidth": 0,
              "ticks": ""
             }
            },
            "type": "scatter3d"
           }
          ],
          "scattercarpet": [
           {
            "marker": {
             "colorbar": {
              "outlinewidth": 0,
              "ticks": ""
             }
            },
            "type": "scattercarpet"
           }
          ],
          "scattergeo": [
           {
            "marker": {
             "colorbar": {
              "outlinewidth": 0,
              "ticks": ""
             }
            },
            "type": "scattergeo"
           }
          ],
          "scattergl": [
           {
            "marker": {
             "colorbar": {
              "outlinewidth": 0,
              "ticks": ""
             }
            },
            "type": "scattergl"
           }
          ],
          "scattermapbox": [
           {
            "marker": {
             "colorbar": {
              "outlinewidth": 0,
              "ticks": ""
             }
            },
            "type": "scattermapbox"
           }
          ],
          "scatterpolar": [
           {
            "marker": {
             "colorbar": {
              "outlinewidth": 0,
              "ticks": ""
             }
            },
            "type": "scatterpolar"
           }
          ],
          "scatterpolargl": [
           {
            "marker": {
             "colorbar": {
              "outlinewidth": 0,
              "ticks": ""
             }
            },
            "type": "scatterpolargl"
           }
          ],
          "scatterternary": [
           {
            "marker": {
             "colorbar": {
              "outlinewidth": 0,
              "ticks": ""
             }
            },
            "type": "scatterternary"
           }
          ],
          "surface": [
           {
            "colorbar": {
             "outlinewidth": 0,
             "ticks": ""
            },
            "colorscale": [
             [
              0,
              "#0d0887"
             ],
             [
              0.1111111111111111,
              "#46039f"
             ],
             [
              0.2222222222222222,
              "#7201a8"
             ],
             [
              0.3333333333333333,
              "#9c179e"
             ],
             [
              0.4444444444444444,
              "#bd3786"
             ],
             [
              0.5555555555555556,
              "#d8576b"
             ],
             [
              0.6666666666666666,
              "#ed7953"
             ],
             [
              0.7777777777777778,
              "#fb9f3a"
             ],
             [
              0.8888888888888888,
              "#fdca26"
             ],
             [
              1,
              "#f0f921"
             ]
            ],
            "type": "surface"
           }
          ],
          "table": [
           {
            "cells": {
             "fill": {
              "color": "#EBF0F8"
             },
             "line": {
              "color": "white"
             }
            },
            "header": {
             "fill": {
              "color": "#C8D4E3"
             },
             "line": {
              "color": "white"
             }
            },
            "type": "table"
           }
          ]
         },
         "layout": {
          "annotationdefaults": {
           "arrowcolor": "#2a3f5f",
           "arrowhead": 0,
           "arrowwidth": 1
          },
          "autotypenumbers": "strict",
          "coloraxis": {
           "colorbar": {
            "outlinewidth": 0,
            "ticks": ""
           }
          },
          "colorscale": {
           "diverging": [
            [
             0,
             "#8e0152"
            ],
            [
             0.1,
             "#c51b7d"
            ],
            [
             0.2,
             "#de77ae"
            ],
            [
             0.3,
             "#f1b6da"
            ],
            [
             0.4,
             "#fde0ef"
            ],
            [
             0.5,
             "#f7f7f7"
            ],
            [
             0.6,
             "#e6f5d0"
            ],
            [
             0.7,
             "#b8e186"
            ],
            [
             0.8,
             "#7fbc41"
            ],
            [
             0.9,
             "#4d9221"
            ],
            [
             1,
             "#276419"
            ]
           ],
           "sequential": [
            [
             0,
             "#0d0887"
            ],
            [
             0.1111111111111111,
             "#46039f"
            ],
            [
             0.2222222222222222,
             "#7201a8"
            ],
            [
             0.3333333333333333,
             "#9c179e"
            ],
            [
             0.4444444444444444,
             "#bd3786"
            ],
            [
             0.5555555555555556,
             "#d8576b"
            ],
            [
             0.6666666666666666,
             "#ed7953"
            ],
            [
             0.7777777777777778,
             "#fb9f3a"
            ],
            [
             0.8888888888888888,
             "#fdca26"
            ],
            [
             1,
             "#f0f921"
            ]
           ],
           "sequentialminus": [
            [
             0,
             "#0d0887"
            ],
            [
             0.1111111111111111,
             "#46039f"
            ],
            [
             0.2222222222222222,
             "#7201a8"
            ],
            [
             0.3333333333333333,
             "#9c179e"
            ],
            [
             0.4444444444444444,
             "#bd3786"
            ],
            [
             0.5555555555555556,
             "#d8576b"
            ],
            [
             0.6666666666666666,
             "#ed7953"
            ],
            [
             0.7777777777777778,
             "#fb9f3a"
            ],
            [
             0.8888888888888888,
             "#fdca26"
            ],
            [
             1,
             "#f0f921"
            ]
           ]
          },
          "colorway": [
           "#636efa",
           "#EF553B",
           "#00cc96",
           "#ab63fa",
           "#FFA15A",
           "#19d3f3",
           "#FF6692",
           "#B6E880",
           "#FF97FF",
           "#FECB52"
          ],
          "font": {
           "color": "#2a3f5f"
          },
          "geo": {
           "bgcolor": "white",
           "lakecolor": "white",
           "landcolor": "#E5ECF6",
           "showlakes": true,
           "showland": true,
           "subunitcolor": "white"
          },
          "hoverlabel": {
           "align": "left"
          },
          "hovermode": "closest",
          "mapbox": {
           "style": "light"
          },
          "paper_bgcolor": "white",
          "plot_bgcolor": "#E5ECF6",
          "polar": {
           "angularaxis": {
            "gridcolor": "white",
            "linecolor": "white",
            "ticks": ""
           },
           "bgcolor": "#E5ECF6",
           "radialaxis": {
            "gridcolor": "white",
            "linecolor": "white",
            "ticks": ""
           }
          },
          "scene": {
           "xaxis": {
            "backgroundcolor": "#E5ECF6",
            "gridcolor": "white",
            "gridwidth": 2,
            "linecolor": "white",
            "showbackground": true,
            "ticks": "",
            "zerolinecolor": "white"
           },
           "yaxis": {
            "backgroundcolor": "#E5ECF6",
            "gridcolor": "white",
            "gridwidth": 2,
            "linecolor": "white",
            "showbackground": true,
            "ticks": "",
            "zerolinecolor": "white"
           },
           "zaxis": {
            "backgroundcolor": "#E5ECF6",
            "gridcolor": "white",
            "gridwidth": 2,
            "linecolor": "white",
            "showbackground": true,
            "ticks": "",
            "zerolinecolor": "white"
           }
          },
          "shapedefaults": {
           "line": {
            "color": "#2a3f5f"
           }
          },
          "ternary": {
           "aaxis": {
            "gridcolor": "white",
            "linecolor": "white",
            "ticks": ""
           },
           "baxis": {
            "gridcolor": "white",
            "linecolor": "white",
            "ticks": ""
           },
           "bgcolor": "#E5ECF6",
           "caxis": {
            "gridcolor": "white",
            "linecolor": "white",
            "ticks": ""
           }
          },
          "title": {
           "x": 0.05
          },
          "xaxis": {
           "automargin": true,
           "gridcolor": "white",
           "linecolor": "white",
           "ticks": "",
           "title": {
            "standoff": 15
           },
           "zerolinecolor": "white",
           "zerolinewidth": 2
          },
          "yaxis": {
           "automargin": true,
           "gridcolor": "white",
           "linecolor": "white",
           "ticks": "",
           "title": {
            "standoff": 15
           },
           "zerolinecolor": "white",
           "zerolinewidth": 2
          }
         }
        },
        "title": {
         "text": "Home vs. Away Wins"
        }
       }
      }
     },
     "metadata": {},
     "output_type": "display_data"
    }
   ],
   "source": [
    "home_wins = df['home_win'].sum()\n",
    "away_wins = df['away_win'].sum()\n",
    "\n",
    "# Prepare the data for visualization\n",
    "wins_data = pd.DataFrame({\n",
    "    'Win Type': ['Home Wins', 'Away Wins'],\n",
    "    'Count': [home_wins, away_wins]\n",
    "})\n",
    "wins_data\n",
    "fig = px.pie(\n",
    "    wins_data,\n",
    "    values='Count',\n",
    "    names='Win Type',\n",
    "    title='Home vs. Away Wins',\n",
    "    color='Win Type',\n",
    "    color_discrete_map={'Home Wins': 'blue', 'Away Wins': 'orange'}\n",
    ")\n",
    "fig.update_traces(textinfo='percent+label')\n",
    "fig.show()"
   ]
  },
  {
   "cell_type": "markdown",
   "metadata": {},
   "source": [
    "## Venue Analysis"
   ]
  },
  {
   "cell_type": "code",
   "execution_count": 183,
   "metadata": {},
   "outputs": [
    {
     "data": {
      "text/html": [
       "<div>\n",
       "<style scoped>\n",
       "    .dataframe tbody tr th:only-of-type {\n",
       "        vertical-align: middle;\n",
       "    }\n",
       "\n",
       "    .dataframe tbody tr th {\n",
       "        vertical-align: top;\n",
       "    }\n",
       "\n",
       "    .dataframe thead th {\n",
       "        text-align: right;\n",
       "    }\n",
       "</style>\n",
       "<table border=\"1\" class=\"dataframe\">\n",
       "  <thead>\n",
       "    <tr style=\"text-align: right;\">\n",
       "      <th></th>\n",
       "      <th>Venue</th>\n",
       "      <th>Total Matches</th>\n",
       "      <th>home_wins</th>\n",
       "      <th>away_wins</th>\n",
       "    </tr>\n",
       "  </thead>\n",
       "  <tbody>\n",
       "    <tr>\n",
       "      <th>0</th>\n",
       "      <td>Ahmedabad</td>\n",
       "      <td>9</td>\n",
       "      <td>5</td>\n",
       "      <td>3</td>\n",
       "    </tr>\n",
       "    <tr>\n",
       "      <th>1</th>\n",
       "      <td>Chennai</td>\n",
       "      <td>9</td>\n",
       "      <td>6</td>\n",
       "      <td>3</td>\n",
       "    </tr>\n",
       "    <tr>\n",
       "      <th>2</th>\n",
       "      <td>Kolka</td>\n",
       "      <td>7</td>\n",
       "      <td>5</td>\n",
       "      <td>2</td>\n",
       "    </tr>\n",
       "    <tr>\n",
       "      <th>3</th>\n",
       "      <td>Lucknow</td>\n",
       "      <td>7</td>\n",
       "      <td>4</td>\n",
       "      <td>3</td>\n",
       "    </tr>\n",
       "    <tr>\n",
       "      <th>4</th>\n",
       "      <td>Mumbai</td>\n",
       "      <td>7</td>\n",
       "      <td>3</td>\n",
       "      <td>4</td>\n",
       "    </tr>\n",
       "    <tr>\n",
       "      <th>5</th>\n",
       "      <td>Bengaluru</td>\n",
       "      <td>7</td>\n",
       "      <td>4</td>\n",
       "      <td>3</td>\n",
       "    </tr>\n",
       "    <tr>\n",
       "      <th>6</th>\n",
       "      <td>Hyderabad</td>\n",
       "      <td>7</td>\n",
       "      <td>5</td>\n",
       "      <td>1</td>\n",
       "    </tr>\n",
       "    <tr>\n",
       "      <th>7</th>\n",
       "      <td>Mohali</td>\n",
       "      <td>5</td>\n",
       "      <td>1</td>\n",
       "      <td>4</td>\n",
       "    </tr>\n",
       "    <tr>\n",
       "      <th>8</th>\n",
       "      <td>Jaipur</td>\n",
       "      <td>5</td>\n",
       "      <td>4</td>\n",
       "      <td>1</td>\n",
       "    </tr>\n",
       "    <tr>\n",
       "      <th>9</th>\n",
       "      <td>Delhi</td>\n",
       "      <td>5</td>\n",
       "      <td>4</td>\n",
       "      <td>1</td>\n",
       "    </tr>\n",
       "    <tr>\n",
       "      <th>10</th>\n",
       "      <td>Visakhapnam</td>\n",
       "      <td>2</td>\n",
       "      <td>1</td>\n",
       "      <td>1</td>\n",
       "    </tr>\n",
       "    <tr>\n",
       "      <th>11</th>\n",
       "      <td>Guwahi</td>\n",
       "      <td>2</td>\n",
       "      <td>False</td>\n",
       "      <td>True</td>\n",
       "    </tr>\n",
       "    <tr>\n",
       "      <th>12</th>\n",
       "      <td>Dharamsala</td>\n",
       "      <td>2</td>\n",
       "      <td>0</td>\n",
       "      <td>2</td>\n",
       "    </tr>\n",
       "  </tbody>\n",
       "</table>\n",
       "</div>"
      ],
      "text/plain": [
       "          Venue  Total Matches home_wins away_wins\n",
       "0     Ahmedabad              9         5         3\n",
       "1       Chennai              9         6         3\n",
       "2         Kolka              7         5         2\n",
       "3       Lucknow              7         4         3\n",
       "4        Mumbai              7         3         4\n",
       "5     Bengaluru              7         4         3\n",
       "6     Hyderabad              7         5         1\n",
       "7        Mohali              5         1         4\n",
       "8        Jaipur              5         4         1\n",
       "9         Delhi              5         4         1\n",
       "10  Visakhapnam              2         1         1\n",
       "11       Guwahi              2     False      True\n",
       "12   Dharamsala              2         0         2"
      ]
     },
     "execution_count": 183,
     "metadata": {},
     "output_type": "execute_result"
    }
   ],
   "source": [
    "# ven = df.groupby(['date', 'cleaned_venue']).size()\n",
    "# ven\n",
    "venue_matches = df['cleaned_venue'].value_counts().reset_index()\n",
    "venue_matches.columns=['Venue','Total Matches']\n",
    "\n",
    "# home_wins = df.groupby(by='cleaned_venue')[df['home_win'].sum()]\n",
    "venue_wins = df.groupby('cleaned_venue').agg(home_wins=('home_win', 'sum'), away_wins=('away_win', 'sum')).reset_index()\n",
    "venue_wins\n",
    "\n",
    "# Merge both counts into a single DataFrame\n",
    "venue_analysis = pd.merge(venue_matches, venue_wins, left_on='Venue', right_on='cleaned_venue')\n",
    "venue_analysis.drop('cleaned_venue', axis=1, inplace=True)\n",
    "venue_analysis"
   ]
  },
  {
   "cell_type": "code",
   "execution_count": 184,
   "metadata": {},
   "outputs": [
    {
     "data": {
      "application/vnd.plotly.v1+json": {
       "config": {
        "plotlyServerURL": "https://plot.ly"
       },
       "data": [
        {
         "alignmentgroup": "True",
         "hovertemplate": "Venue=%{x}<br>Number of Matches=%{marker.color}<extra></extra>",
         "legendgroup": "",
         "marker": {
          "color": [
           9,
           9,
           7,
           7,
           7,
           7,
           7,
           5,
           5,
           5,
           2,
           2,
           2
          ],
          "coloraxis": "coloraxis",
          "pattern": {
           "shape": ""
          }
         },
         "name": "",
         "offsetgroup": "",
         "orientation": "v",
         "showlegend": false,
         "textposition": "auto",
         "type": "bar",
         "x": [
          "Ahmedabad",
          "Chennai",
          "Kolka",
          "Lucknow",
          "Mumbai",
          "Bengaluru",
          "Hyderabad",
          "Mohali",
          "Jaipur",
          "Delhi",
          "Visakhapnam",
          "Guwahi",
          "Dharamsala"
         ],
         "xaxis": "x",
         "y": [
          9,
          9,
          7,
          7,
          7,
          7,
          7,
          5,
          5,
          5,
          2,
          2,
          2
         ],
         "yaxis": "y"
        }
       ],
       "layout": {
        "barmode": "relative",
        "coloraxis": {
         "colorbar": {
          "title": {
           "text": "Number of Matches"
          }
         },
         "colorscale": [
          [
           0,
           "rgb(247,252,245)"
          ],
          [
           0.125,
           "rgb(229,245,224)"
          ],
          [
           0.25,
           "rgb(199,233,192)"
          ],
          [
           0.375,
           "rgb(161,217,155)"
          ],
          [
           0.5,
           "rgb(116,196,118)"
          ],
          [
           0.625,
           "rgb(65,171,93)"
          ],
          [
           0.75,
           "rgb(35,139,69)"
          ],
          [
           0.875,
           "rgb(0,109,44)"
          ],
          [
           1,
           "rgb(0,68,27)"
          ]
         ]
        },
        "legend": {
         "tracegroupgap": 0
        },
        "template": {
         "data": {
          "bar": [
           {
            "error_x": {
             "color": "#2a3f5f"
            },
            "error_y": {
             "color": "#2a3f5f"
            },
            "marker": {
             "line": {
              "color": "#E5ECF6",
              "width": 0.5
             },
             "pattern": {
              "fillmode": "overlay",
              "size": 10,
              "solidity": 0.2
             }
            },
            "type": "bar"
           }
          ],
          "barpolar": [
           {
            "marker": {
             "line": {
              "color": "#E5ECF6",
              "width": 0.5
             },
             "pattern": {
              "fillmode": "overlay",
              "size": 10,
              "solidity": 0.2
             }
            },
            "type": "barpolar"
           }
          ],
          "carpet": [
           {
            "aaxis": {
             "endlinecolor": "#2a3f5f",
             "gridcolor": "white",
             "linecolor": "white",
             "minorgridcolor": "white",
             "startlinecolor": "#2a3f5f"
            },
            "baxis": {
             "endlinecolor": "#2a3f5f",
             "gridcolor": "white",
             "linecolor": "white",
             "minorgridcolor": "white",
             "startlinecolor": "#2a3f5f"
            },
            "type": "carpet"
           }
          ],
          "choropleth": [
           {
            "colorbar": {
             "outlinewidth": 0,
             "ticks": ""
            },
            "type": "choropleth"
           }
          ],
          "contour": [
           {
            "colorbar": {
             "outlinewidth": 0,
             "ticks": ""
            },
            "colorscale": [
             [
              0,
              "#0d0887"
             ],
             [
              0.1111111111111111,
              "#46039f"
             ],
             [
              0.2222222222222222,
              "#7201a8"
             ],
             [
              0.3333333333333333,
              "#9c179e"
             ],
             [
              0.4444444444444444,
              "#bd3786"
             ],
             [
              0.5555555555555556,
              "#d8576b"
             ],
             [
              0.6666666666666666,
              "#ed7953"
             ],
             [
              0.7777777777777778,
              "#fb9f3a"
             ],
             [
              0.8888888888888888,
              "#fdca26"
             ],
             [
              1,
              "#f0f921"
             ]
            ],
            "type": "contour"
           }
          ],
          "contourcarpet": [
           {
            "colorbar": {
             "outlinewidth": 0,
             "ticks": ""
            },
            "type": "contourcarpet"
           }
          ],
          "heatmap": [
           {
            "colorbar": {
             "outlinewidth": 0,
             "ticks": ""
            },
            "colorscale": [
             [
              0,
              "#0d0887"
             ],
             [
              0.1111111111111111,
              "#46039f"
             ],
             [
              0.2222222222222222,
              "#7201a8"
             ],
             [
              0.3333333333333333,
              "#9c179e"
             ],
             [
              0.4444444444444444,
              "#bd3786"
             ],
             [
              0.5555555555555556,
              "#d8576b"
             ],
             [
              0.6666666666666666,
              "#ed7953"
             ],
             [
              0.7777777777777778,
              "#fb9f3a"
             ],
             [
              0.8888888888888888,
              "#fdca26"
             ],
             [
              1,
              "#f0f921"
             ]
            ],
            "type": "heatmap"
           }
          ],
          "heatmapgl": [
           {
            "colorbar": {
             "outlinewidth": 0,
             "ticks": ""
            },
            "colorscale": [
             [
              0,
              "#0d0887"
             ],
             [
              0.1111111111111111,
              "#46039f"
             ],
             [
              0.2222222222222222,
              "#7201a8"
             ],
             [
              0.3333333333333333,
              "#9c179e"
             ],
             [
              0.4444444444444444,
              "#bd3786"
             ],
             [
              0.5555555555555556,
              "#d8576b"
             ],
             [
              0.6666666666666666,
              "#ed7953"
             ],
             [
              0.7777777777777778,
              "#fb9f3a"
             ],
             [
              0.8888888888888888,
              "#fdca26"
             ],
             [
              1,
              "#f0f921"
             ]
            ],
            "type": "heatmapgl"
           }
          ],
          "histogram": [
           {
            "marker": {
             "pattern": {
              "fillmode": "overlay",
              "size": 10,
              "solidity": 0.2
             }
            },
            "type": "histogram"
           }
          ],
          "histogram2d": [
           {
            "colorbar": {
             "outlinewidth": 0,
             "ticks": ""
            },
            "colorscale": [
             [
              0,
              "#0d0887"
             ],
             [
              0.1111111111111111,
              "#46039f"
             ],
             [
              0.2222222222222222,
              "#7201a8"
             ],
             [
              0.3333333333333333,
              "#9c179e"
             ],
             [
              0.4444444444444444,
              "#bd3786"
             ],
             [
              0.5555555555555556,
              "#d8576b"
             ],
             [
              0.6666666666666666,
              "#ed7953"
             ],
             [
              0.7777777777777778,
              "#fb9f3a"
             ],
             [
              0.8888888888888888,
              "#fdca26"
             ],
             [
              1,
              "#f0f921"
             ]
            ],
            "type": "histogram2d"
           }
          ],
          "histogram2dcontour": [
           {
            "colorbar": {
             "outlinewidth": 0,
             "ticks": ""
            },
            "colorscale": [
             [
              0,
              "#0d0887"
             ],
             [
              0.1111111111111111,
              "#46039f"
             ],
             [
              0.2222222222222222,
              "#7201a8"
             ],
             [
              0.3333333333333333,
              "#9c179e"
             ],
             [
              0.4444444444444444,
              "#bd3786"
             ],
             [
              0.5555555555555556,
              "#d8576b"
             ],
             [
              0.6666666666666666,
              "#ed7953"
             ],
             [
              0.7777777777777778,
              "#fb9f3a"
             ],
             [
              0.8888888888888888,
              "#fdca26"
             ],
             [
              1,
              "#f0f921"
             ]
            ],
            "type": "histogram2dcontour"
           }
          ],
          "mesh3d": [
           {
            "colorbar": {
             "outlinewidth": 0,
             "ticks": ""
            },
            "type": "mesh3d"
           }
          ],
          "parcoords": [
           {
            "line": {
             "colorbar": {
              "outlinewidth": 0,
              "ticks": ""
             }
            },
            "type": "parcoords"
           }
          ],
          "pie": [
           {
            "automargin": true,
            "type": "pie"
           }
          ],
          "scatter": [
           {
            "fillpattern": {
             "fillmode": "overlay",
             "size": 10,
             "solidity": 0.2
            },
            "type": "scatter"
           }
          ],
          "scatter3d": [
           {
            "line": {
             "colorbar": {
              "outlinewidth": 0,
              "ticks": ""
             }
            },
            "marker": {
             "colorbar": {
              "outlinewidth": 0,
              "ticks": ""
             }
            },
            "type": "scatter3d"
           }
          ],
          "scattercarpet": [
           {
            "marker": {
             "colorbar": {
              "outlinewidth": 0,
              "ticks": ""
             }
            },
            "type": "scattercarpet"
           }
          ],
          "scattergeo": [
           {
            "marker": {
             "colorbar": {
              "outlinewidth": 0,
              "ticks": ""
             }
            },
            "type": "scattergeo"
           }
          ],
          "scattergl": [
           {
            "marker": {
             "colorbar": {
              "outlinewidth": 0,
              "ticks": ""
             }
            },
            "type": "scattergl"
           }
          ],
          "scattermapbox": [
           {
            "marker": {
             "colorbar": {
              "outlinewidth": 0,
              "ticks": ""
             }
            },
            "type": "scattermapbox"
           }
          ],
          "scatterpolar": [
           {
            "marker": {
             "colorbar": {
              "outlinewidth": 0,
              "ticks": ""
             }
            },
            "type": "scatterpolar"
           }
          ],
          "scatterpolargl": [
           {
            "marker": {
             "colorbar": {
              "outlinewidth": 0,
              "ticks": ""
             }
            },
            "type": "scatterpolargl"
           }
          ],
          "scatterternary": [
           {
            "marker": {
             "colorbar": {
              "outlinewidth": 0,
              "ticks": ""
             }
            },
            "type": "scatterternary"
           }
          ],
          "surface": [
           {
            "colorbar": {
             "outlinewidth": 0,
             "ticks": ""
            },
            "colorscale": [
             [
              0,
              "#0d0887"
             ],
             [
              0.1111111111111111,
              "#46039f"
             ],
             [
              0.2222222222222222,
              "#7201a8"
             ],
             [
              0.3333333333333333,
              "#9c179e"
             ],
             [
              0.4444444444444444,
              "#bd3786"
             ],
             [
              0.5555555555555556,
              "#d8576b"
             ],
             [
              0.6666666666666666,
              "#ed7953"
             ],
             [
              0.7777777777777778,
              "#fb9f3a"
             ],
             [
              0.8888888888888888,
              "#fdca26"
             ],
             [
              1,
              "#f0f921"
             ]
            ],
            "type": "surface"
           }
          ],
          "table": [
           {
            "cells": {
             "fill": {
              "color": "#EBF0F8"
             },
             "line": {
              "color": "white"
             }
            },
            "header": {
             "fill": {
              "color": "#C8D4E3"
             },
             "line": {
              "color": "white"
             }
            },
            "type": "table"
           }
          ]
         },
         "layout": {
          "annotationdefaults": {
           "arrowcolor": "#2a3f5f",
           "arrowhead": 0,
           "arrowwidth": 1
          },
          "autotypenumbers": "strict",
          "coloraxis": {
           "colorbar": {
            "outlinewidth": 0,
            "ticks": ""
           }
          },
          "colorscale": {
           "diverging": [
            [
             0,
             "#8e0152"
            ],
            [
             0.1,
             "#c51b7d"
            ],
            [
             0.2,
             "#de77ae"
            ],
            [
             0.3,
             "#f1b6da"
            ],
            [
             0.4,
             "#fde0ef"
            ],
            [
             0.5,
             "#f7f7f7"
            ],
            [
             0.6,
             "#e6f5d0"
            ],
            [
             0.7,
             "#b8e186"
            ],
            [
             0.8,
             "#7fbc41"
            ],
            [
             0.9,
             "#4d9221"
            ],
            [
             1,
             "#276419"
            ]
           ],
           "sequential": [
            [
             0,
             "#0d0887"
            ],
            [
             0.1111111111111111,
             "#46039f"
            ],
            [
             0.2222222222222222,
             "#7201a8"
            ],
            [
             0.3333333333333333,
             "#9c179e"
            ],
            [
             0.4444444444444444,
             "#bd3786"
            ],
            [
             0.5555555555555556,
             "#d8576b"
            ],
            [
             0.6666666666666666,
             "#ed7953"
            ],
            [
             0.7777777777777778,
             "#fb9f3a"
            ],
            [
             0.8888888888888888,
             "#fdca26"
            ],
            [
             1,
             "#f0f921"
            ]
           ],
           "sequentialminus": [
            [
             0,
             "#0d0887"
            ],
            [
             0.1111111111111111,
             "#46039f"
            ],
            [
             0.2222222222222222,
             "#7201a8"
            ],
            [
             0.3333333333333333,
             "#9c179e"
            ],
            [
             0.4444444444444444,
             "#bd3786"
            ],
            [
             0.5555555555555556,
             "#d8576b"
            ],
            [
             0.6666666666666666,
             "#ed7953"
            ],
            [
             0.7777777777777778,
             "#fb9f3a"
            ],
            [
             0.8888888888888888,
             "#fdca26"
            ],
            [
             1,
             "#f0f921"
            ]
           ]
          },
          "colorway": [
           "#636efa",
           "#EF553B",
           "#00cc96",
           "#ab63fa",
           "#FFA15A",
           "#19d3f3",
           "#FF6692",
           "#B6E880",
           "#FF97FF",
           "#FECB52"
          ],
          "font": {
           "color": "#2a3f5f"
          },
          "geo": {
           "bgcolor": "white",
           "lakecolor": "white",
           "landcolor": "#E5ECF6",
           "showlakes": true,
           "showland": true,
           "subunitcolor": "white"
          },
          "hoverlabel": {
           "align": "left"
          },
          "hovermode": "closest",
          "mapbox": {
           "style": "light"
          },
          "paper_bgcolor": "white",
          "plot_bgcolor": "#E5ECF6",
          "polar": {
           "angularaxis": {
            "gridcolor": "white",
            "linecolor": "white",
            "ticks": ""
           },
           "bgcolor": "#E5ECF6",
           "radialaxis": {
            "gridcolor": "white",
            "linecolor": "white",
            "ticks": ""
           }
          },
          "scene": {
           "xaxis": {
            "backgroundcolor": "#E5ECF6",
            "gridcolor": "white",
            "gridwidth": 2,
            "linecolor": "white",
            "showbackground": true,
            "ticks": "",
            "zerolinecolor": "white"
           },
           "yaxis": {
            "backgroundcolor": "#E5ECF6",
            "gridcolor": "white",
            "gridwidth": 2,
            "linecolor": "white",
            "showbackground": true,
            "ticks": "",
            "zerolinecolor": "white"
           },
           "zaxis": {
            "backgroundcolor": "#E5ECF6",
            "gridcolor": "white",
            "gridwidth": 2,
            "linecolor": "white",
            "showbackground": true,
            "ticks": "",
            "zerolinecolor": "white"
           }
          },
          "shapedefaults": {
           "line": {
            "color": "#2a3f5f"
           }
          },
          "ternary": {
           "aaxis": {
            "gridcolor": "white",
            "linecolor": "white",
            "ticks": ""
           },
           "baxis": {
            "gridcolor": "white",
            "linecolor": "white",
            "ticks": ""
           },
           "bgcolor": "#E5ECF6",
           "caxis": {
            "gridcolor": "white",
            "linecolor": "white",
            "ticks": ""
           }
          },
          "title": {
           "x": 0.05
          },
          "xaxis": {
           "automargin": true,
           "gridcolor": "white",
           "linecolor": "white",
           "ticks": "",
           "title": {
            "standoff": 15
           },
           "zerolinecolor": "white",
           "zerolinewidth": 2
          },
          "yaxis": {
           "automargin": true,
           "gridcolor": "white",
           "linecolor": "white",
           "ticks": "",
           "title": {
            "standoff": 15
           },
           "zerolinecolor": "white",
           "zerolinewidth": 2
          }
         }
        },
        "title": {
         "text": "Total Number of Matches Played at Each Venue"
        },
        "xaxis": {
         "anchor": "y",
         "domain": [
          0,
          1
         ],
         "title": {
          "text": "Venue"
         }
        },
        "yaxis": {
         "anchor": "x",
         "domain": [
          0,
          1
         ],
         "title": {
          "text": "Number of Matches"
         }
        }
       }
      }
     },
     "metadata": {},
     "output_type": "display_data"
    }
   ],
   "source": [
    "px.bar(\n",
    "    venue_analysis,\n",
    "    x='Venue',\n",
    "    y='Total Matches',\n",
    "    title='Total Number of Matches Played at Each Venue',\n",
    "    labels={'Total Matches': 'Number of Matches'},\n",
    "    color='Total Matches',\n",
    "    color_continuous_scale='Greens'\n",
    ")"
   ]
  },
  {
   "cell_type": "code",
   "execution_count": 219,
   "metadata": {},
   "outputs": [
    {
     "data": {
      "application/vnd.plotly.v1+json": {
       "config": {
        "plotlyServerURL": "https://plot.ly"
       },
       "data": [
        {
         "alignmentgroup": "True",
         "hovertemplate": "variable=home_wins<br>value=%{x}<br>count=%{y}<extra></extra>",
         "legendgroup": "home_wins",
         "marker": {
          "color": "blue",
          "pattern": {
           "shape": ""
          }
         },
         "name": "home_wins",
         "offsetgroup": "home_wins",
         "orientation": "v",
         "showlegend": true,
         "textposition": "auto",
         "type": "bar",
         "x": [
          5,
          6,
          5,
          4,
          3,
          4,
          5,
          1,
          4,
          4,
          1,
          false,
          0
         ],
         "xaxis": "x",
         "y": [
          1,
          1,
          1,
          1,
          1,
          1,
          1,
          1,
          1,
          1,
          1,
          1,
          1
         ],
         "yaxis": "y"
        },
        {
         "alignmentgroup": "True",
         "hovertemplate": "variable=away_wins<br>value=%{x}<br>count=%{y}<extra></extra>",
         "legendgroup": "away_wins",
         "marker": {
          "color": "orange",
          "pattern": {
           "shape": ""
          }
         },
         "name": "away_wins",
         "offsetgroup": "away_wins",
         "orientation": "v",
         "showlegend": true,
         "textposition": "auto",
         "type": "bar",
         "x": [
          3,
          3,
          2,
          3,
          4,
          3,
          1,
          4,
          1,
          1,
          1,
          true,
          2
         ],
         "xaxis": "x",
         "y": [
          1,
          1,
          1,
          1,
          1,
          1,
          1,
          1,
          1,
          1,
          1,
          1,
          1
         ],
         "yaxis": "y"
        }
       ],
       "layout": {
        "barmode": "stack",
        "legend": {
         "title": {
          "text": "Win Type"
         },
         "tracegroupgap": 0
        },
        "plot_bgcolor": "white",
        "template": {
         "data": {
          "bar": [
           {
            "error_x": {
             "color": "#2a3f5f"
            },
            "error_y": {
             "color": "#2a3f5f"
            },
            "marker": {
             "line": {
              "color": "#E5ECF6",
              "width": 0.5
             },
             "pattern": {
              "fillmode": "overlay",
              "size": 10,
              "solidity": 0.2
             }
            },
            "type": "bar"
           }
          ],
          "barpolar": [
           {
            "marker": {
             "line": {
              "color": "#E5ECF6",
              "width": 0.5
             },
             "pattern": {
              "fillmode": "overlay",
              "size": 10,
              "solidity": 0.2
             }
            },
            "type": "barpolar"
           }
          ],
          "carpet": [
           {
            "aaxis": {
             "endlinecolor": "#2a3f5f",
             "gridcolor": "white",
             "linecolor": "white",
             "minorgridcolor": "white",
             "startlinecolor": "#2a3f5f"
            },
            "baxis": {
             "endlinecolor": "#2a3f5f",
             "gridcolor": "white",
             "linecolor": "white",
             "minorgridcolor": "white",
             "startlinecolor": "#2a3f5f"
            },
            "type": "carpet"
           }
          ],
          "choropleth": [
           {
            "colorbar": {
             "outlinewidth": 0,
             "ticks": ""
            },
            "type": "choropleth"
           }
          ],
          "contour": [
           {
            "colorbar": {
             "outlinewidth": 0,
             "ticks": ""
            },
            "colorscale": [
             [
              0,
              "#0d0887"
             ],
             [
              0.1111111111111111,
              "#46039f"
             ],
             [
              0.2222222222222222,
              "#7201a8"
             ],
             [
              0.3333333333333333,
              "#9c179e"
             ],
             [
              0.4444444444444444,
              "#bd3786"
             ],
             [
              0.5555555555555556,
              "#d8576b"
             ],
             [
              0.6666666666666666,
              "#ed7953"
             ],
             [
              0.7777777777777778,
              "#fb9f3a"
             ],
             [
              0.8888888888888888,
              "#fdca26"
             ],
             [
              1,
              "#f0f921"
             ]
            ],
            "type": "contour"
           }
          ],
          "contourcarpet": [
           {
            "colorbar": {
             "outlinewidth": 0,
             "ticks": ""
            },
            "type": "contourcarpet"
           }
          ],
          "heatmap": [
           {
            "colorbar": {
             "outlinewidth": 0,
             "ticks": ""
            },
            "colorscale": [
             [
              0,
              "#0d0887"
             ],
             [
              0.1111111111111111,
              "#46039f"
             ],
             [
              0.2222222222222222,
              "#7201a8"
             ],
             [
              0.3333333333333333,
              "#9c179e"
             ],
             [
              0.4444444444444444,
              "#bd3786"
             ],
             [
              0.5555555555555556,
              "#d8576b"
             ],
             [
              0.6666666666666666,
              "#ed7953"
             ],
             [
              0.7777777777777778,
              "#fb9f3a"
             ],
             [
              0.8888888888888888,
              "#fdca26"
             ],
             [
              1,
              "#f0f921"
             ]
            ],
            "type": "heatmap"
           }
          ],
          "heatmapgl": [
           {
            "colorbar": {
             "outlinewidth": 0,
             "ticks": ""
            },
            "colorscale": [
             [
              0,
              "#0d0887"
             ],
             [
              0.1111111111111111,
              "#46039f"
             ],
             [
              0.2222222222222222,
              "#7201a8"
             ],
             [
              0.3333333333333333,
              "#9c179e"
             ],
             [
              0.4444444444444444,
              "#bd3786"
             ],
             [
              0.5555555555555556,
              "#d8576b"
             ],
             [
              0.6666666666666666,
              "#ed7953"
             ],
             [
              0.7777777777777778,
              "#fb9f3a"
             ],
             [
              0.8888888888888888,
              "#fdca26"
             ],
             [
              1,
              "#f0f921"
             ]
            ],
            "type": "heatmapgl"
           }
          ],
          "histogram": [
           {
            "marker": {
             "pattern": {
              "fillmode": "overlay",
              "size": 10,
              "solidity": 0.2
             }
            },
            "type": "histogram"
           }
          ],
          "histogram2d": [
           {
            "colorbar": {
             "outlinewidth": 0,
             "ticks": ""
            },
            "colorscale": [
             [
              0,
              "#0d0887"
             ],
             [
              0.1111111111111111,
              "#46039f"
             ],
             [
              0.2222222222222222,
              "#7201a8"
             ],
             [
              0.3333333333333333,
              "#9c179e"
             ],
             [
              0.4444444444444444,
              "#bd3786"
             ],
             [
              0.5555555555555556,
              "#d8576b"
             ],
             [
              0.6666666666666666,
              "#ed7953"
             ],
             [
              0.7777777777777778,
              "#fb9f3a"
             ],
             [
              0.8888888888888888,
              "#fdca26"
             ],
             [
              1,
              "#f0f921"
             ]
            ],
            "type": "histogram2d"
           }
          ],
          "histogram2dcontour": [
           {
            "colorbar": {
             "outlinewidth": 0,
             "ticks": ""
            },
            "colorscale": [
             [
              0,
              "#0d0887"
             ],
             [
              0.1111111111111111,
              "#46039f"
             ],
             [
              0.2222222222222222,
              "#7201a8"
             ],
             [
              0.3333333333333333,
              "#9c179e"
             ],
             [
              0.4444444444444444,
              "#bd3786"
             ],
             [
              0.5555555555555556,
              "#d8576b"
             ],
             [
              0.6666666666666666,
              "#ed7953"
             ],
             [
              0.7777777777777778,
              "#fb9f3a"
             ],
             [
              0.8888888888888888,
              "#fdca26"
             ],
             [
              1,
              "#f0f921"
             ]
            ],
            "type": "histogram2dcontour"
           }
          ],
          "mesh3d": [
           {
            "colorbar": {
             "outlinewidth": 0,
             "ticks": ""
            },
            "type": "mesh3d"
           }
          ],
          "parcoords": [
           {
            "line": {
             "colorbar": {
              "outlinewidth": 0,
              "ticks": ""
             }
            },
            "type": "parcoords"
           }
          ],
          "pie": [
           {
            "automargin": true,
            "type": "pie"
           }
          ],
          "scatter": [
           {
            "fillpattern": {
             "fillmode": "overlay",
             "size": 10,
             "solidity": 0.2
            },
            "type": "scatter"
           }
          ],
          "scatter3d": [
           {
            "line": {
             "colorbar": {
              "outlinewidth": 0,
              "ticks": ""
             }
            },
            "marker": {
             "colorbar": {
              "outlinewidth": 0,
              "ticks": ""
             }
            },
            "type": "scatter3d"
           }
          ],
          "scattercarpet": [
           {
            "marker": {
             "colorbar": {
              "outlinewidth": 0,
              "ticks": ""
             }
            },
            "type": "scattercarpet"
           }
          ],
          "scattergeo": [
           {
            "marker": {
             "colorbar": {
              "outlinewidth": 0,
              "ticks": ""
             }
            },
            "type": "scattergeo"
           }
          ],
          "scattergl": [
           {
            "marker": {
             "colorbar": {
              "outlinewidth": 0,
              "ticks": ""
             }
            },
            "type": "scattergl"
           }
          ],
          "scattermapbox": [
           {
            "marker": {
             "colorbar": {
              "outlinewidth": 0,
              "ticks": ""
             }
            },
            "type": "scattermapbox"
           }
          ],
          "scatterpolar": [
           {
            "marker": {
             "colorbar": {
              "outlinewidth": 0,
              "ticks": ""
             }
            },
            "type": "scatterpolar"
           }
          ],
          "scatterpolargl": [
           {
            "marker": {
             "colorbar": {
              "outlinewidth": 0,
              "ticks": ""
             }
            },
            "type": "scatterpolargl"
           }
          ],
          "scatterternary": [
           {
            "marker": {
             "colorbar": {
              "outlinewidth": 0,
              "ticks": ""
             }
            },
            "type": "scatterternary"
           }
          ],
          "surface": [
           {
            "colorbar": {
             "outlinewidth": 0,
             "ticks": ""
            },
            "colorscale": [
             [
              0,
              "#0d0887"
             ],
             [
              0.1111111111111111,
              "#46039f"
             ],
             [
              0.2222222222222222,
              "#7201a8"
             ],
             [
              0.3333333333333333,
              "#9c179e"
             ],
             [
              0.4444444444444444,
              "#bd3786"
             ],
             [
              0.5555555555555556,
              "#d8576b"
             ],
             [
              0.6666666666666666,
              "#ed7953"
             ],
             [
              0.7777777777777778,
              "#fb9f3a"
             ],
             [
              0.8888888888888888,
              "#fdca26"
             ],
             [
              1,
              "#f0f921"
             ]
            ],
            "type": "surface"
           }
          ],
          "table": [
           {
            "cells": {
             "fill": {
              "color": "#EBF0F8"
             },
             "line": {
              "color": "white"
             }
            },
            "header": {
             "fill": {
              "color": "#C8D4E3"
             },
             "line": {
              "color": "white"
             }
            },
            "type": "table"
           }
          ]
         },
         "layout": {
          "annotationdefaults": {
           "arrowcolor": "#2a3f5f",
           "arrowhead": 0,
           "arrowwidth": 1
          },
          "autotypenumbers": "strict",
          "coloraxis": {
           "colorbar": {
            "outlinewidth": 0,
            "ticks": ""
           }
          },
          "colorscale": {
           "diverging": [
            [
             0,
             "#8e0152"
            ],
            [
             0.1,
             "#c51b7d"
            ],
            [
             0.2,
             "#de77ae"
            ],
            [
             0.3,
             "#f1b6da"
            ],
            [
             0.4,
             "#fde0ef"
            ],
            [
             0.5,
             "#f7f7f7"
            ],
            [
             0.6,
             "#e6f5d0"
            ],
            [
             0.7,
             "#b8e186"
            ],
            [
             0.8,
             "#7fbc41"
            ],
            [
             0.9,
             "#4d9221"
            ],
            [
             1,
             "#276419"
            ]
           ],
           "sequential": [
            [
             0,
             "#0d0887"
            ],
            [
             0.1111111111111111,
             "#46039f"
            ],
            [
             0.2222222222222222,
             "#7201a8"
            ],
            [
             0.3333333333333333,
             "#9c179e"
            ],
            [
             0.4444444444444444,
             "#bd3786"
            ],
            [
             0.5555555555555556,
             "#d8576b"
            ],
            [
             0.6666666666666666,
             "#ed7953"
            ],
            [
             0.7777777777777778,
             "#fb9f3a"
            ],
            [
             0.8888888888888888,
             "#fdca26"
            ],
            [
             1,
             "#f0f921"
            ]
           ],
           "sequentialminus": [
            [
             0,
             "#0d0887"
            ],
            [
             0.1111111111111111,
             "#46039f"
            ],
            [
             0.2222222222222222,
             "#7201a8"
            ],
            [
             0.3333333333333333,
             "#9c179e"
            ],
            [
             0.4444444444444444,
             "#bd3786"
            ],
            [
             0.5555555555555556,
             "#d8576b"
            ],
            [
             0.6666666666666666,
             "#ed7953"
            ],
            [
             0.7777777777777778,
             "#fb9f3a"
            ],
            [
             0.8888888888888888,
             "#fdca26"
            ],
            [
             1,
             "#f0f921"
            ]
           ]
          },
          "colorway": [
           "#636efa",
           "#EF553B",
           "#00cc96",
           "#ab63fa",
           "#FFA15A",
           "#19d3f3",
           "#FF6692",
           "#B6E880",
           "#FF97FF",
           "#FECB52"
          ],
          "font": {
           "color": "#2a3f5f"
          },
          "geo": {
           "bgcolor": "white",
           "lakecolor": "white",
           "landcolor": "#E5ECF6",
           "showlakes": true,
           "showland": true,
           "subunitcolor": "white"
          },
          "hoverlabel": {
           "align": "left"
          },
          "hovermode": "closest",
          "mapbox": {
           "style": "light"
          },
          "paper_bgcolor": "white",
          "plot_bgcolor": "#E5ECF6",
          "polar": {
           "angularaxis": {
            "gridcolor": "white",
            "linecolor": "white",
            "ticks": ""
           },
           "bgcolor": "#E5ECF6",
           "radialaxis": {
            "gridcolor": "white",
            "linecolor": "white",
            "ticks": ""
           }
          },
          "scene": {
           "xaxis": {
            "backgroundcolor": "#E5ECF6",
            "gridcolor": "white",
            "gridwidth": 2,
            "linecolor": "white",
            "showbackground": true,
            "ticks": "",
            "zerolinecolor": "white"
           },
           "yaxis": {
            "backgroundcolor": "#E5ECF6",
            "gridcolor": "white",
            "gridwidth": 2,
            "linecolor": "white",
            "showbackground": true,
            "ticks": "",
            "zerolinecolor": "white"
           },
           "zaxis": {
            "backgroundcolor": "#E5ECF6",
            "gridcolor": "white",
            "gridwidth": 2,
            "linecolor": "white",
            "showbackground": true,
            "ticks": "",
            "zerolinecolor": "white"
           }
          },
          "shapedefaults": {
           "line": {
            "color": "#2a3f5f"
           }
          },
          "ternary": {
           "aaxis": {
            "gridcolor": "white",
            "linecolor": "white",
            "ticks": ""
           },
           "baxis": {
            "gridcolor": "white",
            "linecolor": "white",
            "ticks": ""
           },
           "bgcolor": "#E5ECF6",
           "caxis": {
            "gridcolor": "white",
            "linecolor": "white",
            "ticks": ""
           }
          },
          "title": {
           "x": 0.05
          },
          "xaxis": {
           "automargin": true,
           "gridcolor": "white",
           "linecolor": "white",
           "ticks": "",
           "title": {
            "standoff": 15
           },
           "zerolinecolor": "white",
           "zerolinewidth": 2
          },
          "yaxis": {
           "automargin": true,
           "gridcolor": "white",
           "linecolor": "white",
           "ticks": "",
           "title": {
            "standoff": 15
           },
           "zerolinecolor": "white",
           "zerolinewidth": 2
          }
         }
        },
        "title": {
         "text": "Home vs. Away Wins by Venue"
        },
        "xaxis": {
         "anchor": "y",
         "domain": [
          0,
          1
         ],
         "title": {
          "text": "Venue"
         }
        },
        "yaxis": {
         "anchor": "x",
         "domain": [
          0,
          1
         ],
         "title": {
          "text": "Number of Wins"
         }
        }
       }
      }
     },
     "metadata": {},
     "output_type": "display_data"
    }
   ],
   "source": [
    "# px.bar(\n",
    "#     venue_analysis,\n",
    "#     x='Venue',\n",
    "#     y=['home_wins','away_wins'],\n",
    "#     title='Homes wins vs Away wins at Each Venue',\n",
    "#     labels={'value': 'Number of Wins', 'variable': 'Win Type'},\n",
    "#     color_discrete_map={'home_wins': 'blue', 'away_wins': 'orange'}\n",
    "# )\n",
    "# Stacked bar chart for home vs. away wins by venue\n",
    "fig_wins = px.bar(\n",
    "    venue_analysis,\n",
    "    x='Venue',\n",
    "    y=['home_wins', 'away_wins'],\n",
    "    title='Home vs. Away Wins by Venue',\n",
    "    # labels={'value': 'Number of Wins', 'variable': 'Win Type'},\n",
    "    color_discrete_map={'home_wins': 'blue', 'away_wins': 'orange'}\n",
    ")\n",
    "\n",
    "fig_wins.update_layout(\n",
    "    xaxis_title='Venue',\n",
    "    yaxis_title='Number of Wins',\n",
    "    legend_title='Win Type',\n",
    "    barmode='stack',  # Stacked bar mode\n",
    "    plot_bgcolor='white'\n",
    ")\n",
    "\n",
    "# Show the plot\n",
    "fig_wins.show()\n"
   ]
  },
  {
   "cell_type": "code",
   "execution_count": 186,
   "metadata": {},
   "outputs": [],
   "source": [
    "df.to_csv('ipl_2024.csv', index=False)"
   ]
  },
  {
   "cell_type": "code",
   "execution_count": 187,
   "metadata": {},
   "outputs": [
    {
     "data": {
      "application/vnd.plotly.v1+json": {
       "config": {
        "plotlyServerURL": "https://plot.ly"
       },
       "data": [
        {
         "alignmentgroup": "True",
         "hovertemplate": "variable=wins<br>Team=%{x}<br>Count=%{y}<extra></extra>",
         "legendgroup": "wins",
         "marker": {
          "color": "#636efa",
          "pattern": {
           "shape": ""
          }
         },
         "name": "wins",
         "offsetgroup": "wins",
         "orientation": "v",
         "showlegend": true,
         "textposition": "auto",
         "type": "bar",
         "x": [
          "CSK",
          "DC",
          "GT",
          "KKR",
          "LSG",
          "MI",
          "PBKS",
          "RCB",
          "RR",
          "SRH"
         ],
         "xaxis": "x",
         "y": [
          7,
          7,
          6,
          13,
          7,
          4,
          5,
          7,
          9,
          9
         ],
         "yaxis": "y"
        },
        {
         "alignmentgroup": "True",
         "hovertemplate": "variable=losses<br>Team=%{x}<br>Count=%{y}<extra></extra>",
         "legendgroup": "losses",
         "marker": {
          "color": "#EF553B",
          "pattern": {
           "shape": ""
          }
         },
         "name": "losses",
         "offsetgroup": "losses",
         "orientation": "v",
         "showlegend": true,
         "textposition": "auto",
         "type": "bar",
         "x": [
          "CSK",
          "DC",
          "GT",
          "KKR",
          "LSG",
          "MI",
          "PBKS",
          "RCB",
          "RR",
          "SRH"
         ],
         "xaxis": "x",
         "y": [
          7,
          7,
          8,
          3,
          7,
          10,
          9,
          8,
          7,
          8
         ],
         "yaxis": "y"
        }
       ],
       "layout": {
        "barmode": "group",
        "legend": {
         "title": {
          "text": "variable"
         },
         "tracegroupgap": 0
        },
        "template": {
         "data": {
          "bar": [
           {
            "error_x": {
             "color": "#2a3f5f"
            },
            "error_y": {
             "color": "#2a3f5f"
            },
            "marker": {
             "line": {
              "color": "#E5ECF6",
              "width": 0.5
             },
             "pattern": {
              "fillmode": "overlay",
              "size": 10,
              "solidity": 0.2
             }
            },
            "type": "bar"
           }
          ],
          "barpolar": [
           {
            "marker": {
             "line": {
              "color": "#E5ECF6",
              "width": 0.5
             },
             "pattern": {
              "fillmode": "overlay",
              "size": 10,
              "solidity": 0.2
             }
            },
            "type": "barpolar"
           }
          ],
          "carpet": [
           {
            "aaxis": {
             "endlinecolor": "#2a3f5f",
             "gridcolor": "white",
             "linecolor": "white",
             "minorgridcolor": "white",
             "startlinecolor": "#2a3f5f"
            },
            "baxis": {
             "endlinecolor": "#2a3f5f",
             "gridcolor": "white",
             "linecolor": "white",
             "minorgridcolor": "white",
             "startlinecolor": "#2a3f5f"
            },
            "type": "carpet"
           }
          ],
          "choropleth": [
           {
            "colorbar": {
             "outlinewidth": 0,
             "ticks": ""
            },
            "type": "choropleth"
           }
          ],
          "contour": [
           {
            "colorbar": {
             "outlinewidth": 0,
             "ticks": ""
            },
            "colorscale": [
             [
              0,
              "#0d0887"
             ],
             [
              0.1111111111111111,
              "#46039f"
             ],
             [
              0.2222222222222222,
              "#7201a8"
             ],
             [
              0.3333333333333333,
              "#9c179e"
             ],
             [
              0.4444444444444444,
              "#bd3786"
             ],
             [
              0.5555555555555556,
              "#d8576b"
             ],
             [
              0.6666666666666666,
              "#ed7953"
             ],
             [
              0.7777777777777778,
              "#fb9f3a"
             ],
             [
              0.8888888888888888,
              "#fdca26"
             ],
             [
              1,
              "#f0f921"
             ]
            ],
            "type": "contour"
           }
          ],
          "contourcarpet": [
           {
            "colorbar": {
             "outlinewidth": 0,
             "ticks": ""
            },
            "type": "contourcarpet"
           }
          ],
          "heatmap": [
           {
            "colorbar": {
             "outlinewidth": 0,
             "ticks": ""
            },
            "colorscale": [
             [
              0,
              "#0d0887"
             ],
             [
              0.1111111111111111,
              "#46039f"
             ],
             [
              0.2222222222222222,
              "#7201a8"
             ],
             [
              0.3333333333333333,
              "#9c179e"
             ],
             [
              0.4444444444444444,
              "#bd3786"
             ],
             [
              0.5555555555555556,
              "#d8576b"
             ],
             [
              0.6666666666666666,
              "#ed7953"
             ],
             [
              0.7777777777777778,
              "#fb9f3a"
             ],
             [
              0.8888888888888888,
              "#fdca26"
             ],
             [
              1,
              "#f0f921"
             ]
            ],
            "type": "heatmap"
           }
          ],
          "heatmapgl": [
           {
            "colorbar": {
             "outlinewidth": 0,
             "ticks": ""
            },
            "colorscale": [
             [
              0,
              "#0d0887"
             ],
             [
              0.1111111111111111,
              "#46039f"
             ],
             [
              0.2222222222222222,
              "#7201a8"
             ],
             [
              0.3333333333333333,
              "#9c179e"
             ],
             [
              0.4444444444444444,
              "#bd3786"
             ],
             [
              0.5555555555555556,
              "#d8576b"
             ],
             [
              0.6666666666666666,
              "#ed7953"
             ],
             [
              0.7777777777777778,
              "#fb9f3a"
             ],
             [
              0.8888888888888888,
              "#fdca26"
             ],
             [
              1,
              "#f0f921"
             ]
            ],
            "type": "heatmapgl"
           }
          ],
          "histogram": [
           {
            "marker": {
             "pattern": {
              "fillmode": "overlay",
              "size": 10,
              "solidity": 0.2
             }
            },
            "type": "histogram"
           }
          ],
          "histogram2d": [
           {
            "colorbar": {
             "outlinewidth": 0,
             "ticks": ""
            },
            "colorscale": [
             [
              0,
              "#0d0887"
             ],
             [
              0.1111111111111111,
              "#46039f"
             ],
             [
              0.2222222222222222,
              "#7201a8"
             ],
             [
              0.3333333333333333,
              "#9c179e"
             ],
             [
              0.4444444444444444,
              "#bd3786"
             ],
             [
              0.5555555555555556,
              "#d8576b"
             ],
             [
              0.6666666666666666,
              "#ed7953"
             ],
             [
              0.7777777777777778,
              "#fb9f3a"
             ],
             [
              0.8888888888888888,
              "#fdca26"
             ],
             [
              1,
              "#f0f921"
             ]
            ],
            "type": "histogram2d"
           }
          ],
          "histogram2dcontour": [
           {
            "colorbar": {
             "outlinewidth": 0,
             "ticks": ""
            },
            "colorscale": [
             [
              0,
              "#0d0887"
             ],
             [
              0.1111111111111111,
              "#46039f"
             ],
             [
              0.2222222222222222,
              "#7201a8"
             ],
             [
              0.3333333333333333,
              "#9c179e"
             ],
             [
              0.4444444444444444,
              "#bd3786"
             ],
             [
              0.5555555555555556,
              "#d8576b"
             ],
             [
              0.6666666666666666,
              "#ed7953"
             ],
             [
              0.7777777777777778,
              "#fb9f3a"
             ],
             [
              0.8888888888888888,
              "#fdca26"
             ],
             [
              1,
              "#f0f921"
             ]
            ],
            "type": "histogram2dcontour"
           }
          ],
          "mesh3d": [
           {
            "colorbar": {
             "outlinewidth": 0,
             "ticks": ""
            },
            "type": "mesh3d"
           }
          ],
          "parcoords": [
           {
            "line": {
             "colorbar": {
              "outlinewidth": 0,
              "ticks": ""
             }
            },
            "type": "parcoords"
           }
          ],
          "pie": [
           {
            "automargin": true,
            "type": "pie"
           }
          ],
          "scatter": [
           {
            "fillpattern": {
             "fillmode": "overlay",
             "size": 10,
             "solidity": 0.2
            },
            "type": "scatter"
           }
          ],
          "scatter3d": [
           {
            "line": {
             "colorbar": {
              "outlinewidth": 0,
              "ticks": ""
             }
            },
            "marker": {
             "colorbar": {
              "outlinewidth": 0,
              "ticks": ""
             }
            },
            "type": "scatter3d"
           }
          ],
          "scattercarpet": [
           {
            "marker": {
             "colorbar": {
              "outlinewidth": 0,
              "ticks": ""
             }
            },
            "type": "scattercarpet"
           }
          ],
          "scattergeo": [
           {
            "marker": {
             "colorbar": {
              "outlinewidth": 0,
              "ticks": ""
             }
            },
            "type": "scattergeo"
           }
          ],
          "scattergl": [
           {
            "marker": {
             "colorbar": {
              "outlinewidth": 0,
              "ticks": ""
             }
            },
            "type": "scattergl"
           }
          ],
          "scattermapbox": [
           {
            "marker": {
             "colorbar": {
              "outlinewidth": 0,
              "ticks": ""
             }
            },
            "type": "scattermapbox"
           }
          ],
          "scatterpolar": [
           {
            "marker": {
             "colorbar": {
              "outlinewidth": 0,
              "ticks": ""
             }
            },
            "type": "scatterpolar"
           }
          ],
          "scatterpolargl": [
           {
            "marker": {
             "colorbar": {
              "outlinewidth": 0,
              "ticks": ""
             }
            },
            "type": "scatterpolargl"
           }
          ],
          "scatterternary": [
           {
            "marker": {
             "colorbar": {
              "outlinewidth": 0,
              "ticks": ""
             }
            },
            "type": "scatterternary"
           }
          ],
          "surface": [
           {
            "colorbar": {
             "outlinewidth": 0,
             "ticks": ""
            },
            "colorscale": [
             [
              0,
              "#0d0887"
             ],
             [
              0.1111111111111111,
              "#46039f"
             ],
             [
              0.2222222222222222,
              "#7201a8"
             ],
             [
              0.3333333333333333,
              "#9c179e"
             ],
             [
              0.4444444444444444,
              "#bd3786"
             ],
             [
              0.5555555555555556,
              "#d8576b"
             ],
             [
              0.6666666666666666,
              "#ed7953"
             ],
             [
              0.7777777777777778,
              "#fb9f3a"
             ],
             [
              0.8888888888888888,
              "#fdca26"
             ],
             [
              1,
              "#f0f921"
             ]
            ],
            "type": "surface"
           }
          ],
          "table": [
           {
            "cells": {
             "fill": {
              "color": "#EBF0F8"
             },
             "line": {
              "color": "white"
             }
            },
            "header": {
             "fill": {
              "color": "#C8D4E3"
             },
             "line": {
              "color": "white"
             }
            },
            "type": "table"
           }
          ]
         },
         "layout": {
          "annotationdefaults": {
           "arrowcolor": "#2a3f5f",
           "arrowhead": 0,
           "arrowwidth": 1
          },
          "autotypenumbers": "strict",
          "coloraxis": {
           "colorbar": {
            "outlinewidth": 0,
            "ticks": ""
           }
          },
          "colorscale": {
           "diverging": [
            [
             0,
             "#8e0152"
            ],
            [
             0.1,
             "#c51b7d"
            ],
            [
             0.2,
             "#de77ae"
            ],
            [
             0.3,
             "#f1b6da"
            ],
            [
             0.4,
             "#fde0ef"
            ],
            [
             0.5,
             "#f7f7f7"
            ],
            [
             0.6,
             "#e6f5d0"
            ],
            [
             0.7,
             "#b8e186"
            ],
            [
             0.8,
             "#7fbc41"
            ],
            [
             0.9,
             "#4d9221"
            ],
            [
             1,
             "#276419"
            ]
           ],
           "sequential": [
            [
             0,
             "#0d0887"
            ],
            [
             0.1111111111111111,
             "#46039f"
            ],
            [
             0.2222222222222222,
             "#7201a8"
            ],
            [
             0.3333333333333333,
             "#9c179e"
            ],
            [
             0.4444444444444444,
             "#bd3786"
            ],
            [
             0.5555555555555556,
             "#d8576b"
            ],
            [
             0.6666666666666666,
             "#ed7953"
            ],
            [
             0.7777777777777778,
             "#fb9f3a"
            ],
            [
             0.8888888888888888,
             "#fdca26"
            ],
            [
             1,
             "#f0f921"
            ]
           ],
           "sequentialminus": [
            [
             0,
             "#0d0887"
            ],
            [
             0.1111111111111111,
             "#46039f"
            ],
            [
             0.2222222222222222,
             "#7201a8"
            ],
            [
             0.3333333333333333,
             "#9c179e"
            ],
            [
             0.4444444444444444,
             "#bd3786"
            ],
            [
             0.5555555555555556,
             "#d8576b"
            ],
            [
             0.6666666666666666,
             "#ed7953"
            ],
            [
             0.7777777777777778,
             "#fb9f3a"
            ],
            [
             0.8888888888888888,
             "#fdca26"
            ],
            [
             1,
             "#f0f921"
            ]
           ]
          },
          "colorway": [
           "#636efa",
           "#EF553B",
           "#00cc96",
           "#ab63fa",
           "#FFA15A",
           "#19d3f3",
           "#FF6692",
           "#B6E880",
           "#FF97FF",
           "#FECB52"
          ],
          "font": {
           "color": "#2a3f5f"
          },
          "geo": {
           "bgcolor": "white",
           "lakecolor": "white",
           "landcolor": "#E5ECF6",
           "showlakes": true,
           "showland": true,
           "subunitcolor": "white"
          },
          "hoverlabel": {
           "align": "left"
          },
          "hovermode": "closest",
          "mapbox": {
           "style": "light"
          },
          "paper_bgcolor": "white",
          "plot_bgcolor": "#E5ECF6",
          "polar": {
           "angularaxis": {
            "gridcolor": "white",
            "linecolor": "white",
            "ticks": ""
           },
           "bgcolor": "#E5ECF6",
           "radialaxis": {
            "gridcolor": "white",
            "linecolor": "white",
            "ticks": ""
           }
          },
          "scene": {
           "xaxis": {
            "backgroundcolor": "#E5ECF6",
            "gridcolor": "white",
            "gridwidth": 2,
            "linecolor": "white",
            "showbackground": true,
            "ticks": "",
            "zerolinecolor": "white"
           },
           "yaxis": {
            "backgroundcolor": "#E5ECF6",
            "gridcolor": "white",
            "gridwidth": 2,
            "linecolor": "white",
            "showbackground": true,
            "ticks": "",
            "zerolinecolor": "white"
           },
           "zaxis": {
            "backgroundcolor": "#E5ECF6",
            "gridcolor": "white",
            "gridwidth": 2,
            "linecolor": "white",
            "showbackground": true,
            "ticks": "",
            "zerolinecolor": "white"
           }
          },
          "shapedefaults": {
           "line": {
            "color": "#2a3f5f"
           }
          },
          "ternary": {
           "aaxis": {
            "gridcolor": "white",
            "linecolor": "white",
            "ticks": ""
           },
           "baxis": {
            "gridcolor": "white",
            "linecolor": "white",
            "ticks": ""
           },
           "bgcolor": "#E5ECF6",
           "caxis": {
            "gridcolor": "white",
            "linecolor": "white",
            "ticks": ""
           }
          },
          "title": {
           "x": 0.05
          },
          "xaxis": {
           "automargin": true,
           "gridcolor": "white",
           "linecolor": "white",
           "ticks": "",
           "title": {
            "standoff": 15
           },
           "zerolinecolor": "white",
           "zerolinewidth": 2
          },
          "yaxis": {
           "automargin": true,
           "gridcolor": "white",
           "linecolor": "white",
           "ticks": "",
           "title": {
            "standoff": 15
           },
           "zerolinecolor": "white",
           "zerolinewidth": 2
          }
         }
        },
        "title": {
         "text": "Win/Loss Distribution for Each Team"
        },
        "xaxis": {
         "anchor": "y",
         "domain": [
          0,
          1
         ],
         "title": {
          "text": "Team"
         }
        },
        "yaxis": {
         "anchor": "x",
         "domain": [
          0,
          1
         ],
         "title": {
          "text": "Count"
         }
        }
       }
      }
     },
     "metadata": {},
     "output_type": "display_data"
    }
   ],
   "source": [
    "\n",
    "# Example: Calculate total wins and losses for each team\n",
    "df['win'] = df.apply(lambda row: row['home_team_abbrev'] if row['home_win'] else row['away_team_abbrev'], axis=1)\n",
    "df['loss'] = df.apply(lambda row: row['away_team_abbrev'] if row['home_win'] else row['home_team_abbrev'], axis=1)\n",
    "\n",
    "# Count wins and losses for each team\n",
    "wins = df['win'].value_counts().reset_index()\n",
    "losses = df['loss'].value_counts().reset_index()\n",
    "wins.columns= ['team_name','win_counts']\n",
    "losses.columns= ['team_name','loss_counts']\n",
    "\n",
    "# Merge wins and losses into a single DataFrame\n",
    "team_stats = pd.merge(wins, losses, left_on='team_name', right_on='team_name', how='outer')\n",
    "team_stats.columns = ['team', 'wins', 'losses']\n",
    "team_stats = team_stats.fillna(0)  # Fill NaN values with 0\n",
    "team_stats\n",
    "#  Create the bar plot\n",
    "fig = px.bar(team_stats, \n",
    "             x='team', \n",
    "             y=['wins', 'losses'], \n",
    "             title='Win/Loss Distribution for Each Team', \n",
    "             labels={'value': 'Count', 'team': 'Team'},\n",
    "             barmode='group')\n",
    "\n",
    "# Display the plot\n",
    "fig.show()\n"
   ]
  },
  {
   "cell_type": "code",
   "execution_count": 221,
   "metadata": {},
   "outputs": [],
   "source": [
    "df1 =pd.read_csv('ipl2024 Matches.csv')"
   ]
  },
  {
   "cell_type": "code",
   "execution_count": 222,
   "metadata": {},
   "outputs": [
    {
     "data": {
      "text/html": [
       "<div>\n",
       "<style scoped>\n",
       "    .dataframe tbody tr th:only-of-type {\n",
       "        vertical-align: middle;\n",
       "    }\n",
       "\n",
       "    .dataframe tbody tr th {\n",
       "        vertical-align: top;\n",
       "    }\n",
       "\n",
       "    .dataframe thead th {\n",
       "        text-align: right;\n",
       "    }\n",
       "</style>\n",
       "<table border=\"1\" class=\"dataframe\">\n",
       "  <thead>\n",
       "    <tr style=\"text-align: right;\">\n",
       "      <th></th>\n",
       "      <th>id</th>\n",
       "      <th>date</th>\n",
       "      <th>team1</th>\n",
       "      <th>team2</th>\n",
       "      <th>toss_winner</th>\n",
       "      <th>decision</th>\n",
       "      <th>first_score</th>\n",
       "      <th>first_wkts</th>\n",
       "      <th>second_score</th>\n",
       "      <th>second_wkts</th>\n",
       "      <th>winner</th>\n",
       "      <th>player_of_the_match</th>\n",
       "      <th>most_runs</th>\n",
       "      <th>most_wkts</th>\n",
       "    </tr>\n",
       "  </thead>\n",
       "  <tbody>\n",
       "    <tr>\n",
       "      <th>0</th>\n",
       "      <td>1</td>\n",
       "      <td>March 22,2024</td>\n",
       "      <td>Banglore</td>\n",
       "      <td>Chennai</td>\n",
       "      <td>Banglore</td>\n",
       "      <td>Bat</td>\n",
       "      <td>173</td>\n",
       "      <td>6</td>\n",
       "      <td>176</td>\n",
       "      <td>4</td>\n",
       "      <td>Chennai</td>\n",
       "      <td>Mustafizur Rahman</td>\n",
       "      <td>Anuj Rawat</td>\n",
       "      <td>Mustafizur Rahman</td>\n",
       "    </tr>\n",
       "    <tr>\n",
       "      <th>1</th>\n",
       "      <td>2</td>\n",
       "      <td>March 23,2024</td>\n",
       "      <td>Delhi</td>\n",
       "      <td>Punjab</td>\n",
       "      <td>Punjab</td>\n",
       "      <td>Field</td>\n",
       "      <td>174</td>\n",
       "      <td>9</td>\n",
       "      <td>177</td>\n",
       "      <td>6</td>\n",
       "      <td>Punjab</td>\n",
       "      <td>Sam Curran</td>\n",
       "      <td>Sam Curran</td>\n",
       "      <td>Kuldeep Yadav</td>\n",
       "    </tr>\n",
       "    <tr>\n",
       "      <th>2</th>\n",
       "      <td>3</td>\n",
       "      <td>March 23,2024</td>\n",
       "      <td>Kolkata</td>\n",
       "      <td>Hyderabad</td>\n",
       "      <td>Hyderabad</td>\n",
       "      <td>Field</td>\n",
       "      <td>208</td>\n",
       "      <td>7</td>\n",
       "      <td>204</td>\n",
       "      <td>7</td>\n",
       "      <td>Kolkata</td>\n",
       "      <td>Andre Russell</td>\n",
       "      <td>Andre Russell</td>\n",
       "      <td>T Natarajan</td>\n",
       "    </tr>\n",
       "    <tr>\n",
       "      <th>3</th>\n",
       "      <td>4</td>\n",
       "      <td>March 24,2024</td>\n",
       "      <td>Rajasthan</td>\n",
       "      <td>Lucknow</td>\n",
       "      <td>Rajasthan</td>\n",
       "      <td>Bat</td>\n",
       "      <td>193</td>\n",
       "      <td>4</td>\n",
       "      <td>173</td>\n",
       "      <td>6</td>\n",
       "      <td>Rajasthan</td>\n",
       "      <td>Sanju Samson</td>\n",
       "      <td>Sanju Samson</td>\n",
       "      <td>Trent Boult</td>\n",
       "    </tr>\n",
       "    <tr>\n",
       "      <th>4</th>\n",
       "      <td>5</td>\n",
       "      <td>March 24,2024</td>\n",
       "      <td>Gujarat</td>\n",
       "      <td>Mumbai</td>\n",
       "      <td>Mumbai</td>\n",
       "      <td>Field</td>\n",
       "      <td>168</td>\n",
       "      <td>6</td>\n",
       "      <td>162</td>\n",
       "      <td>9</td>\n",
       "      <td>Gujarat</td>\n",
       "      <td>Sai Sudharsan</td>\n",
       "      <td>Dewald Brevis</td>\n",
       "      <td>Jasprit Bumrah</td>\n",
       "    </tr>\n",
       "    <tr>\n",
       "      <th>...</th>\n",
       "      <td>...</td>\n",
       "      <td>...</td>\n",
       "      <td>...</td>\n",
       "      <td>...</td>\n",
       "      <td>...</td>\n",
       "      <td>...</td>\n",
       "      <td>...</td>\n",
       "      <td>...</td>\n",
       "      <td>...</td>\n",
       "      <td>...</td>\n",
       "      <td>...</td>\n",
       "      <td>...</td>\n",
       "      <td>...</td>\n",
       "      <td>...</td>\n",
       "    </tr>\n",
       "    <tr>\n",
       "      <th>69</th>\n",
       "      <td>70</td>\n",
       "      <td>May 19,2024</td>\n",
       "      <td>Rajasthan</td>\n",
       "      <td>Kolkata</td>\n",
       "      <td>Kolkata</td>\n",
       "      <td>NaN</td>\n",
       "      <td>0</td>\n",
       "      <td>0</td>\n",
       "      <td>0</td>\n",
       "      <td>0</td>\n",
       "      <td>Abandoned</td>\n",
       "      <td>NaN</td>\n",
       "      <td>NaN</td>\n",
       "      <td>NaN</td>\n",
       "    </tr>\n",
       "    <tr>\n",
       "      <th>70</th>\n",
       "      <td>71</td>\n",
       "      <td>May 21,2024</td>\n",
       "      <td>Hyderabad</td>\n",
       "      <td>Kolkata</td>\n",
       "      <td>Hyderabad</td>\n",
       "      <td>Bat</td>\n",
       "      <td>159</td>\n",
       "      <td>10</td>\n",
       "      <td>164</td>\n",
       "      <td>2</td>\n",
       "      <td>Kolkata</td>\n",
       "      <td>Mitchell Starc</td>\n",
       "      <td>Shreyas Iyer</td>\n",
       "      <td>Mitchell Starc</td>\n",
       "    </tr>\n",
       "    <tr>\n",
       "      <th>71</th>\n",
       "      <td>72</td>\n",
       "      <td>May 22,2024</td>\n",
       "      <td>Banglore</td>\n",
       "      <td>Rajasthan</td>\n",
       "      <td>Rajasthan</td>\n",
       "      <td>Field</td>\n",
       "      <td>172</td>\n",
       "      <td>8</td>\n",
       "      <td>174</td>\n",
       "      <td>6</td>\n",
       "      <td>Rajasthan</td>\n",
       "      <td>Ravichandran Ashwin</td>\n",
       "      <td>Yashasvi Jaiswal</td>\n",
       "      <td>Avesh Khan</td>\n",
       "    </tr>\n",
       "    <tr>\n",
       "      <th>72</th>\n",
       "      <td>73</td>\n",
       "      <td>May 24,2024</td>\n",
       "      <td>Hyderabad</td>\n",
       "      <td>Rajasthan</td>\n",
       "      <td>Rajasthan</td>\n",
       "      <td>Field</td>\n",
       "      <td>175</td>\n",
       "      <td>9</td>\n",
       "      <td>139</td>\n",
       "      <td>7</td>\n",
       "      <td>Hyderabad</td>\n",
       "      <td>Shahbaz Ahmed</td>\n",
       "      <td>Dhruv Jurel</td>\n",
       "      <td>Shahbaz Ahmed</td>\n",
       "    </tr>\n",
       "    <tr>\n",
       "      <th>73</th>\n",
       "      <td>74</td>\n",
       "      <td>May 26,2024</td>\n",
       "      <td>Hyderabad</td>\n",
       "      <td>Kolkata</td>\n",
       "      <td>Hyderabad</td>\n",
       "      <td>Bat</td>\n",
       "      <td>113</td>\n",
       "      <td>10</td>\n",
       "      <td>114</td>\n",
       "      <td>2</td>\n",
       "      <td>Kolkata</td>\n",
       "      <td>Mitchell Starc</td>\n",
       "      <td>Venkatesh Iyer</td>\n",
       "      <td>Andre Russell</td>\n",
       "    </tr>\n",
       "  </tbody>\n",
       "</table>\n",
       "<p>74 rows × 14 columns</p>\n",
       "</div>"
      ],
      "text/plain": [
       "    id           date      team1      team2 toss_winner decision  first_score  \\\n",
       "0    1  March 22,2024   Banglore    Chennai    Banglore      Bat          173   \n",
       "1    2  March 23,2024      Delhi     Punjab      Punjab    Field          174   \n",
       "2    3  March 23,2024    Kolkata  Hyderabad   Hyderabad    Field          208   \n",
       "3    4  March 24,2024  Rajasthan    Lucknow   Rajasthan      Bat          193   \n",
       "4    5  March 24,2024    Gujarat     Mumbai      Mumbai    Field          168   \n",
       "..  ..            ...        ...        ...         ...      ...          ...   \n",
       "69  70    May 19,2024  Rajasthan    Kolkata     Kolkata      NaN            0   \n",
       "70  71    May 21,2024  Hyderabad    Kolkata   Hyderabad      Bat          159   \n",
       "71  72    May 22,2024   Banglore  Rajasthan   Rajasthan    Field          172   \n",
       "72  73    May 24,2024  Hyderabad  Rajasthan   Rajasthan    Field          175   \n",
       "73  74    May 26,2024  Hyderabad    Kolkata   Hyderabad      Bat          113   \n",
       "\n",
       "    first_wkts  second_score  second_wkts     winner  player_of_the_match  \\\n",
       "0            6           176            4    Chennai    Mustafizur Rahman   \n",
       "1            9           177            6     Punjab           Sam Curran   \n",
       "2            7           204            7    Kolkata        Andre Russell   \n",
       "3            4           173            6  Rajasthan         Sanju Samson   \n",
       "4            6           162            9    Gujarat        Sai Sudharsan   \n",
       "..         ...           ...          ...        ...                  ...   \n",
       "69           0             0            0  Abandoned                  NaN   \n",
       "70          10           164            2    Kolkata       Mitchell Starc   \n",
       "71           8           174            6  Rajasthan  Ravichandran Ashwin   \n",
       "72           9           139            7  Hyderabad        Shahbaz Ahmed   \n",
       "73          10           114            2    Kolkata       Mitchell Starc   \n",
       "\n",
       "           most_runs          most_wkts  \n",
       "0         Anuj Rawat  Mustafizur Rahman  \n",
       "1         Sam Curran      Kuldeep Yadav  \n",
       "2      Andre Russell        T Natarajan  \n",
       "3       Sanju Samson        Trent Boult  \n",
       "4      Dewald Brevis     Jasprit Bumrah  \n",
       "..               ...                ...  \n",
       "69               NaN                NaN  \n",
       "70      Shreyas Iyer     Mitchell Starc  \n",
       "71  Yashasvi Jaiswal         Avesh Khan  \n",
       "72      Dhruv Jurel       Shahbaz Ahmed  \n",
       "73    Venkatesh Iyer      Andre Russell  \n",
       "\n",
       "[74 rows x 14 columns]"
      ]
     },
     "execution_count": 222,
     "metadata": {},
     "output_type": "execute_result"
    }
   ],
   "source": [
    "df1"
   ]
  },
  {
   "cell_type": "code",
   "execution_count": 224,
   "metadata": {},
   "outputs": [],
   "source": [
    "df['toss_winner'] = df1['toss_winner']\n",
    "df['toss_decision'] = df1['decision']\n",
    "df['player_of_the_match'] = df1['player_of_the_match']\n",
    "df['most_runs']=df1['most_runs']\n",
    "df['most_wkts'] = df1['most_wkts']"
   ]
  },
  {
   "cell_type": "code",
   "execution_count": 225,
   "metadata": {},
   "outputs": [
    {
     "data": {
      "text/html": [
       "<div>\n",
       "<style scoped>\n",
       "    .dataframe tbody tr th:only-of-type {\n",
       "        vertical-align: middle;\n",
       "    }\n",
       "\n",
       "    .dataframe tbody tr th {\n",
       "        vertical-align: top;\n",
       "    }\n",
       "\n",
       "    .dataframe thead th {\n",
       "        text-align: right;\n",
       "    }\n",
       "</style>\n",
       "<table border=\"1\" class=\"dataframe\">\n",
       "  <thead>\n",
       "    <tr style=\"text-align: right;\">\n",
       "      <th></th>\n",
       "      <th>match_no</th>\n",
       "      <th>date</th>\n",
       "      <th>cleaned_venue</th>\n",
       "      <th>match_type</th>\n",
       "      <th>home_team</th>\n",
       "      <th>away_team</th>\n",
       "      <th>home_team_abbrev</th>\n",
       "      <th>away_team_abbrev</th>\n",
       "      <th>home_score_runs</th>\n",
       "      <th>away_score_runs</th>\n",
       "      <th>home_target</th>\n",
       "      <th>away_target</th>\n",
       "      <th>result_outcome</th>\n",
       "      <th>balls_remaining</th>\n",
       "      <th>winning_margin</th>\n",
       "      <th>winning_type</th>\n",
       "      <th>home_win</th>\n",
       "      <th>away_win</th>\n",
       "      <th>toss_winner</th>\n",
       "      <th>toss_decision</th>\n",
       "      <th>player_of_the_match</th>\n",
       "      <th>most_runs</th>\n",
       "      <th>most_wkts</th>\n",
       "    </tr>\n",
       "  </thead>\n",
       "  <tbody>\n",
       "    <tr>\n",
       "      <th>0</th>\n",
       "      <td>1st</td>\n",
       "      <td>2024-03-22</td>\n",
       "      <td>Chennai</td>\n",
       "      <td>Night</td>\n",
       "      <td>Chennai Super Kings</td>\n",
       "      <td>Royal Challengers Bengaluru</td>\n",
       "      <td>CSK</td>\n",
       "      <td>RCB</td>\n",
       "      <td>176.0</td>\n",
       "      <td>173.0</td>\n",
       "      <td>174</td>\n",
       "      <td>0</td>\n",
       "      <td>CSK won by 6 wkts</td>\n",
       "      <td>8</td>\n",
       "      <td>6</td>\n",
       "      <td>Wickets</td>\n",
       "      <td>True</td>\n",
       "      <td>False</td>\n",
       "      <td>Banglore</td>\n",
       "      <td>Bat</td>\n",
       "      <td>Mustafizur Rahman</td>\n",
       "      <td>Anuj Rawat</td>\n",
       "      <td>Mustafizur Rahman</td>\n",
       "    </tr>\n",
       "    <tr>\n",
       "      <th>2</th>\n",
       "      <td>3rd</td>\n",
       "      <td>2024-03-23</td>\n",
       "      <td>Kolka</td>\n",
       "      <td>Night</td>\n",
       "      <td>Kolkata Knight Riders</td>\n",
       "      <td>Sunrisers Hyderabad</td>\n",
       "      <td>KKR</td>\n",
       "      <td>SRH</td>\n",
       "      <td>208.0</td>\n",
       "      <td>204.0</td>\n",
       "      <td>0</td>\n",
       "      <td>209</td>\n",
       "      <td>KKR won by 4 runs</td>\n",
       "      <td>0</td>\n",
       "      <td>4</td>\n",
       "      <td>Runs</td>\n",
       "      <td>True</td>\n",
       "      <td>False</td>\n",
       "      <td>Hyderabad</td>\n",
       "      <td>Field</td>\n",
       "      <td>Andre Russell</td>\n",
       "      <td>Andre Russell</td>\n",
       "      <td>T Natarajan</td>\n",
       "    </tr>\n",
       "    <tr>\n",
       "      <th>1</th>\n",
       "      <td>2nd</td>\n",
       "      <td>2024-03-23</td>\n",
       "      <td>Mohali</td>\n",
       "      <td>Day/Night</td>\n",
       "      <td>Punjab Kings</td>\n",
       "      <td>Delhi Capitals</td>\n",
       "      <td>PBKS</td>\n",
       "      <td>DC</td>\n",
       "      <td>177.0</td>\n",
       "      <td>174.0</td>\n",
       "      <td>175</td>\n",
       "      <td>0</td>\n",
       "      <td>PBKS won by 4 wkts</td>\n",
       "      <td>4</td>\n",
       "      <td>4</td>\n",
       "      <td>Wickets</td>\n",
       "      <td>True</td>\n",
       "      <td>False</td>\n",
       "      <td>Punjab</td>\n",
       "      <td>Field</td>\n",
       "      <td>Sam Curran</td>\n",
       "      <td>Sam Curran</td>\n",
       "      <td>Kuldeep Yadav</td>\n",
       "    </tr>\n",
       "    <tr>\n",
       "      <th>3</th>\n",
       "      <td>4th</td>\n",
       "      <td>2024-03-24</td>\n",
       "      <td>Jaipur</td>\n",
       "      <td>Day/Night</td>\n",
       "      <td>Rajasthan Royals</td>\n",
       "      <td>Lucknow Super Giants</td>\n",
       "      <td>RR</td>\n",
       "      <td>LSG</td>\n",
       "      <td>193.0</td>\n",
       "      <td>173.0</td>\n",
       "      <td>0</td>\n",
       "      <td>194</td>\n",
       "      <td>RR won by 20 runs</td>\n",
       "      <td>0</td>\n",
       "      <td>20</td>\n",
       "      <td>Runs</td>\n",
       "      <td>True</td>\n",
       "      <td>False</td>\n",
       "      <td>Rajasthan</td>\n",
       "      <td>Bat</td>\n",
       "      <td>Sanju Samson</td>\n",
       "      <td>Sanju Samson</td>\n",
       "      <td>Trent Boult</td>\n",
       "    </tr>\n",
       "    <tr>\n",
       "      <th>4</th>\n",
       "      <td>5th</td>\n",
       "      <td>2024-03-24</td>\n",
       "      <td>Ahmedabad</td>\n",
       "      <td>Night</td>\n",
       "      <td>Gujarat Titans</td>\n",
       "      <td>Mumbai Indians</td>\n",
       "      <td>GT</td>\n",
       "      <td>MI</td>\n",
       "      <td>168.0</td>\n",
       "      <td>162.0</td>\n",
       "      <td>0</td>\n",
       "      <td>169</td>\n",
       "      <td>GT won by 6 runs</td>\n",
       "      <td>0</td>\n",
       "      <td>6</td>\n",
       "      <td>Runs</td>\n",
       "      <td>True</td>\n",
       "      <td>False</td>\n",
       "      <td>Mumbai</td>\n",
       "      <td>Field</td>\n",
       "      <td>Sai Sudharsan</td>\n",
       "      <td>Dewald Brevis</td>\n",
       "      <td>Jasprit Bumrah</td>\n",
       "    </tr>\n",
       "    <tr>\n",
       "      <th>...</th>\n",
       "      <td>...</td>\n",
       "      <td>...</td>\n",
       "      <td>...</td>\n",
       "      <td>...</td>\n",
       "      <td>...</td>\n",
       "      <td>...</td>\n",
       "      <td>...</td>\n",
       "      <td>...</td>\n",
       "      <td>...</td>\n",
       "      <td>...</td>\n",
       "      <td>...</td>\n",
       "      <td>...</td>\n",
       "      <td>...</td>\n",
       "      <td>...</td>\n",
       "      <td>...</td>\n",
       "      <td>...</td>\n",
       "      <td>...</td>\n",
       "      <td>...</td>\n",
       "      <td>...</td>\n",
       "      <td>...</td>\n",
       "      <td>...</td>\n",
       "      <td>...</td>\n",
       "      <td>...</td>\n",
       "    </tr>\n",
       "    <tr>\n",
       "      <th>73</th>\n",
       "      <td>70th</td>\n",
       "      <td>2024-05-19</td>\n",
       "      <td>Guwahi</td>\n",
       "      <td>Night</td>\n",
       "      <td>Rajasthan Royals</td>\n",
       "      <td>Kolkata Knight Riders</td>\n",
       "      <td>RR</td>\n",
       "      <td>KKR</td>\n",
       "      <td>NaN</td>\n",
       "      <td>NaN</td>\n",
       "      <td>0</td>\n",
       "      <td>0</td>\n",
       "      <td>No result</td>\n",
       "      <td>abandoned with a toss)</td>\n",
       "      <td>0</td>\n",
       "      <td>None</td>\n",
       "      <td>None</td>\n",
       "      <td>None</td>\n",
       "      <td>Hyderabad</td>\n",
       "      <td>Bat</td>\n",
       "      <td>Mitchell Starc</td>\n",
       "      <td>Venkatesh Iyer</td>\n",
       "      <td>Andre Russell</td>\n",
       "    </tr>\n",
       "    <tr>\n",
       "      <th>39</th>\n",
       "      <td>qualifier 1</td>\n",
       "      <td>2024-05-21</td>\n",
       "      <td>Ahmedabad</td>\n",
       "      <td>Night</td>\n",
       "      <td>Kolkata Knight Riders</td>\n",
       "      <td>Sunrisers Hyderabad</td>\n",
       "      <td>KKR</td>\n",
       "      <td>SRH</td>\n",
       "      <td>164.0</td>\n",
       "      <td>159.0</td>\n",
       "      <td>160</td>\n",
       "      <td>0</td>\n",
       "      <td>KKR won by 8 wkts</td>\n",
       "      <td>38</td>\n",
       "      <td>8</td>\n",
       "      <td>Wickets</td>\n",
       "      <td>True</td>\n",
       "      <td>False</td>\n",
       "      <td>Gujarat</td>\n",
       "      <td>Field</td>\n",
       "      <td>Rishabh Pant</td>\n",
       "      <td>Rishabh Pant</td>\n",
       "      <td>Sandeep Warrier</td>\n",
       "    </tr>\n",
       "    <tr>\n",
       "      <th>40</th>\n",
       "      <td>eliminator</td>\n",
       "      <td>2024-05-22</td>\n",
       "      <td>Ahmedabad</td>\n",
       "      <td>Night</td>\n",
       "      <td>Rajasthan Royals</td>\n",
       "      <td>Royal Challengers Bengaluru</td>\n",
       "      <td>RR</td>\n",
       "      <td>RCB</td>\n",
       "      <td>174.0</td>\n",
       "      <td>172.0</td>\n",
       "      <td>173</td>\n",
       "      <td>0</td>\n",
       "      <td>RR won by 4 wkts</td>\n",
       "      <td>6</td>\n",
       "      <td>4</td>\n",
       "      <td>Wickets</td>\n",
       "      <td>True</td>\n",
       "      <td>False</td>\n",
       "      <td>Banglore</td>\n",
       "      <td>Bat</td>\n",
       "      <td>Rajat Patidar</td>\n",
       "      <td>Virat Kohli</td>\n",
       "      <td>Jaydev Unadkat</td>\n",
       "    </tr>\n",
       "    <tr>\n",
       "      <th>70</th>\n",
       "      <td>qualifier 2</td>\n",
       "      <td>2024-05-24</td>\n",
       "      <td>Chennai</td>\n",
       "      <td>Night</td>\n",
       "      <td>Rajasthan Royals</td>\n",
       "      <td>Sunrisers Hyderabad</td>\n",
       "      <td>RR</td>\n",
       "      <td>SRH</td>\n",
       "      <td>139.0</td>\n",
       "      <td>175.0</td>\n",
       "      <td>176</td>\n",
       "      <td>0</td>\n",
       "      <td>SRH won by 36 runs</td>\n",
       "      <td>0</td>\n",
       "      <td>36</td>\n",
       "      <td>Runs</td>\n",
       "      <td>False</td>\n",
       "      <td>True</td>\n",
       "      <td>Hyderabad</td>\n",
       "      <td>Bat</td>\n",
       "      <td>Mitchell Starc</td>\n",
       "      <td>Shreyas Iyer</td>\n",
       "      <td>Mitchell Starc</td>\n",
       "    </tr>\n",
       "    <tr>\n",
       "      <th>41</th>\n",
       "      <td>final</td>\n",
       "      <td>2024-05-26</td>\n",
       "      <td>Chennai</td>\n",
       "      <td>Night</td>\n",
       "      <td>Kolkata Knight Riders</td>\n",
       "      <td>Sunrisers Hyderabad</td>\n",
       "      <td>KKR</td>\n",
       "      <td>SRH</td>\n",
       "      <td>114.0</td>\n",
       "      <td>113.0</td>\n",
       "      <td>114</td>\n",
       "      <td>0</td>\n",
       "      <td>KKR won by 8 wkts</td>\n",
       "      <td>57</td>\n",
       "      <td>8</td>\n",
       "      <td>Wickets</td>\n",
       "      <td>True</td>\n",
       "      <td>False</td>\n",
       "      <td>Punjab</td>\n",
       "      <td>Field</td>\n",
       "      <td>Jonny Bairstow</td>\n",
       "      <td>Jonny Bairstow</td>\n",
       "      <td>Arshdeep Singh</td>\n",
       "    </tr>\n",
       "  </tbody>\n",
       "</table>\n",
       "<p>74 rows × 23 columns</p>\n",
       "</div>"
      ],
      "text/plain": [
       "       match_no       date cleaned_venue match_type              home_team  \\\n",
       "0           1st 2024-03-22       Chennai      Night    Chennai Super Kings   \n",
       "2           3rd 2024-03-23         Kolka      Night  Kolkata Knight Riders   \n",
       "1           2nd 2024-03-23        Mohali  Day/Night           Punjab Kings   \n",
       "3           4th 2024-03-24        Jaipur  Day/Night       Rajasthan Royals   \n",
       "4           5th 2024-03-24     Ahmedabad      Night         Gujarat Titans   \n",
       "..          ...        ...           ...        ...                    ...   \n",
       "73         70th 2024-05-19        Guwahi      Night       Rajasthan Royals   \n",
       "39  qualifier 1 2024-05-21     Ahmedabad      Night  Kolkata Knight Riders   \n",
       "40   eliminator 2024-05-22     Ahmedabad      Night       Rajasthan Royals   \n",
       "70  qualifier 2 2024-05-24       Chennai      Night       Rajasthan Royals   \n",
       "41        final 2024-05-26       Chennai      Night  Kolkata Knight Riders   \n",
       "\n",
       "                      away_team home_team_abbrev away_team_abbrev  \\\n",
       "0   Royal Challengers Bengaluru              CSK              RCB   \n",
       "2           Sunrisers Hyderabad              KKR              SRH   \n",
       "1                Delhi Capitals             PBKS               DC   \n",
       "3          Lucknow Super Giants               RR              LSG   \n",
       "4                Mumbai Indians               GT               MI   \n",
       "..                          ...              ...              ...   \n",
       "73        Kolkata Knight Riders               RR              KKR   \n",
       "39          Sunrisers Hyderabad              KKR              SRH   \n",
       "40  Royal Challengers Bengaluru               RR              RCB   \n",
       "70          Sunrisers Hyderabad               RR              SRH   \n",
       "41          Sunrisers Hyderabad              KKR              SRH   \n",
       "\n",
       "    home_score_runs  away_score_runs home_target away_target  \\\n",
       "0             176.0            173.0         174           0   \n",
       "2             208.0            204.0           0         209   \n",
       "1             177.0            174.0         175           0   \n",
       "3             193.0            173.0           0         194   \n",
       "4             168.0            162.0           0         169   \n",
       "..              ...              ...         ...         ...   \n",
       "73              NaN              NaN           0           0   \n",
       "39            164.0            159.0         160           0   \n",
       "40            174.0            172.0         173           0   \n",
       "70            139.0            175.0         176           0   \n",
       "41            114.0            113.0         114           0   \n",
       "\n",
       "         result_outcome         balls_remaining  winning_margin winning_type  \\\n",
       "0    CSK won by 6 wkts                        8               6      Wickets   \n",
       "2     KKR won by 4 runs                       0               4         Runs   \n",
       "1   PBKS won by 4 wkts                        4               4      Wickets   \n",
       "3     RR won by 20 runs                       0              20         Runs   \n",
       "4      GT won by 6 runs                       0               6         Runs   \n",
       "..                  ...                     ...             ...          ...   \n",
       "73           No result   abandoned with a toss)               0         None   \n",
       "39   KKR won by 8 wkts                       38               8      Wickets   \n",
       "40    RR won by 4 wkts                        6               4      Wickets   \n",
       "70   SRH won by 36 runs                       0              36         Runs   \n",
       "41   KKR won by 8 wkts                       57               8      Wickets   \n",
       "\n",
       "   home_win away_win toss_winner toss_decision player_of_the_match  \\\n",
       "0      True    False    Banglore           Bat   Mustafizur Rahman   \n",
       "2      True    False   Hyderabad         Field       Andre Russell   \n",
       "1      True    False      Punjab         Field          Sam Curran   \n",
       "3      True    False   Rajasthan           Bat        Sanju Samson   \n",
       "4      True    False      Mumbai         Field       Sai Sudharsan   \n",
       "..      ...      ...         ...           ...                 ...   \n",
       "73     None     None   Hyderabad           Bat      Mitchell Starc   \n",
       "39     True    False     Gujarat         Field        Rishabh Pant   \n",
       "40     True    False    Banglore           Bat       Rajat Patidar   \n",
       "70    False     True   Hyderabad           Bat      Mitchell Starc   \n",
       "41     True    False      Punjab         Field      Jonny Bairstow   \n",
       "\n",
       "         most_runs          most_wkts  \n",
       "0       Anuj Rawat  Mustafizur Rahman  \n",
       "2    Andre Russell        T Natarajan  \n",
       "1       Sam Curran      Kuldeep Yadav  \n",
       "3     Sanju Samson        Trent Boult  \n",
       "4    Dewald Brevis     Jasprit Bumrah  \n",
       "..             ...                ...  \n",
       "73  Venkatesh Iyer      Andre Russell  \n",
       "39    Rishabh Pant    Sandeep Warrier  \n",
       "40     Virat Kohli     Jaydev Unadkat  \n",
       "70    Shreyas Iyer     Mitchell Starc  \n",
       "41  Jonny Bairstow     Arshdeep Singh  \n",
       "\n",
       "[74 rows x 23 columns]"
      ]
     },
     "execution_count": 225,
     "metadata": {},
     "output_type": "execute_result"
    }
   ],
   "source": [
    "df "
   ]
  },
  {
   "cell_type": "code",
   "execution_count": null,
   "metadata": {},
   "outputs": [],
   "source": []
  }
 ],
 "metadata": {
  "kernelspec": {
   "display_name": "base",
   "language": "python",
   "name": "python3"
  },
  "language_info": {
   "codemirror_mode": {
    "name": "ipython",
    "version": 3
   },
   "file_extension": ".py",
   "mimetype": "text/x-python",
   "name": "python",
   "nbconvert_exporter": "python",
   "pygments_lexer": "ipython3",
   "version": "3.12.3"
  }
 },
 "nbformat": 4,
 "nbformat_minor": 2
}
