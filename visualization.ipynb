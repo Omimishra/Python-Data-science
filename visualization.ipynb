{
 "cells": [
  {
   "cell_type": "markdown",
   "metadata": {},
   "source": [
    "# visualization \n",
    "\n",
    "- libraries\n",
    "     - matplotlib - base of all visualization\n",
    "     - seaborn - high level interface for drawing attractive and informative statistical graphics (images)\n",
    "     - plotly express - interactive plots (web based)"
   ]
  },
  {
   "cell_type": "markdown",
   "metadata": {},
   "source": [
    "# graphs \n",
    "\n",
    "1. Univariate graphs - graphs that take a single variable\n",
    "    - Line Plot - for growth/decay over period\n",
    "    - Histogram - for distribution of data\n",
    "    - Density Plot - for distribution of data in normalised form\n",
    "    - Box Plot - for distribution of data in quartiles\n",
    "    - Pie chart - for distribution of data in percentage\n",
    "    - Bar chart - for discrete data comparison\n",
    "\n",
    "2. Bivariate graphs - Graphs that take two variables\n",
    "    - Scatter Plot - relation between two variables\n",
    "    - Heat Map - relation between two variables in matrix form\n",
    "    - Violin Plot - relation between two variables in density form\n",
    "    - Pair plot - relation between two variables in grid form\n",
    "\n",
    "3. Multivariate graphs - Graphs that take more than two\n",
    "     - Bubble Plot - relation between two variables with size\n",
    "     - 3D Scatter Plot - relation between 3 variables on x,y,z axis\n",
    "     - Stacked bar Chart - relation between 3 variables in bar form"
   ]
  },
  {
   "cell_type": "code",
   "execution_count": null,
   "metadata": {},
   "outputs": [],
   "source": [
    "import numpy as np\n",
    "import seaborn as sns\n",
    "import matplotlib.pyplot as plt\n",
    "import plotly.express as px"
   ]
  },
  {
   "cell_type": "code",
   "execution_count": null,
   "metadata": {},
   "outputs": [],
   "source": [
    "x = np.random.normal(size=1000)\n",
    "plt.hist(x , bins=np.arange(-3,3,0.25),edgecolor='lightblue' )\n",
    "plt.show()\n",
    "# bins means dividing the data into specified segments\n"
   ]
  },
  {
   "cell_type": "code",
   "execution_count": null,
   "metadata": {},
   "outputs": [],
   "source": [
    "sns.histplot(x, bins=np.arange(-3,3,.25),kde=True)"
   ]
  },
  {
   "cell_type": "code",
   "execution_count": null,
   "metadata": {},
   "outputs": [],
   "source": [
    "px.histogram(x,nbins=50)"
   ]
  },
  {
   "cell_type": "code",
   "execution_count": null,
   "metadata": {},
   "outputs": [],
   "source": [
    "# box plot\n",
    "x = np.random.normal(size=1000)\n",
    "plt.boxplot(x)\n",
    "plt.show()"
   ]
  },
  {
   "cell_type": "code",
   "execution_count": null,
   "metadata": {},
   "outputs": [],
   "source": [
    "sns.boxplot(x)"
   ]
  },
  {
   "cell_type": "code",
   "execution_count": null,
   "metadata": {},
   "outputs": [],
   "source": [
    "px.box(x)"
   ]
  },
  {
   "cell_type": "code",
   "execution_count": null,
   "metadata": {},
   "outputs": [],
   "source": [
    "rainfall = [20,99,12,56,34,25]\n",
    "labels = ['jan','feb','mar','april','may','june']\n",
    "plt.pie(rainfall ,\n",
    "        autopct='%.2f%%',\n",
    "        labels=labels\n",
    "        )\n",
    "plt.show()"
   ]
  },
  {
   "cell_type": "code",
   "execution_count": null,
   "metadata": {},
   "outputs": [],
   "source": [
    "px.pie(\n",
    "    values=rainfall,\n",
    "    names=labels,\n",
    "    hole=.5 #for donut chart\n",
    ")"
   ]
  },
  {
   "cell_type": "code",
   "execution_count": null,
   "metadata": {},
   "outputs": [],
   "source": [
    "# area chart \n",
    "x= np.arange(10)\n",
    "y = np.random.randint(1,10,10)\n",
    "plt.fill_between(x,y)\n",
    "plt.show()"
   ]
  },
  {
   "cell_type": "code",
   "execution_count": null,
   "metadata": {},
   "outputs": [],
   "source": [
    "px.area(x=x,y=y)"
   ]
  },
  {
   "cell_type": "code",
   "execution_count": null,
   "metadata": {},
   "outputs": [],
   "source": [
    "years = np.arange(2010,2020,dtype=int)\n",
    "sales = np.random.randint(1000,5000,10)\n",
    "plt.bar(years,sales)"
   ]
  },
  {
   "cell_type": "code",
   "execution_count": null,
   "metadata": {},
   "outputs": [],
   "source": [
    "sns.barplot(x=years,y=sales)"
   ]
  },
  {
   "cell_type": "code",
   "execution_count": null,
   "metadata": {},
   "outputs": [],
   "source": [
    "px.bar(x=years,y=sales)"
   ]
  },
  {
   "cell_type": "code",
   "execution_count": null,
   "metadata": {},
   "outputs": [],
   "source": [
    "px.bar_polar(r=years,theta=sales)"
   ]
  },
  {
   "cell_type": "code",
   "execution_count": null,
   "metadata": {},
   "outputs": [],
   "source": [
    "x = np.random.normal(size=500)\n",
    "y = np.random.normal(size=500)\n",
    "plt.scatter(x,y,alpha=.25,edgecolors='blue')"
   ]
  },
  {
   "cell_type": "code",
   "execution_count": null,
   "metadata": {},
   "outputs": [],
   "source": [
    "sns.scatterplot(x=x,y=y)"
   ]
  },
  {
   "cell_type": "code",
   "execution_count": null,
   "metadata": {},
   "outputs": [],
   "source": [
    "px.scatter(x=x,y=y)"
   ]
  },
  {
   "cell_type": "code",
   "execution_count": null,
   "metadata": {},
   "outputs": [],
   "source": [
    "sns.heatmap(np.random.rand(10,10))"
   ]
  },
  {
   "cell_type": "code",
   "execution_count": null,
   "metadata": {},
   "outputs": [],
   "source": [
    "px.density_heatmap(x=x,y=y)"
   ]
  },
  {
   "cell_type": "code",
   "execution_count": null,
   "metadata": {},
   "outputs": [],
   "source": [
    "#violin plot\n",
    "x = np.random.normal(size=1000)\n",
    "sns.violinplot(x)"
   ]
  },
  {
   "cell_type": "code",
   "execution_count": null,
   "metadata": {},
   "outputs": [],
   "source": [
    "sns.swarmplot(x)"
   ]
  },
  {
   "cell_type": "code",
   "execution_count": null,
   "metadata": {},
   "outputs": [],
   "source": [
    "# bubble plot \n",
    "x = np.random.normal(size=500)\n",
    "y = np.random.normal(size=500)\n",
    "z = np.random.randint(10,200,500)\n",
    "plt.scatter(x,y,s=z,alpha=.5,c=z)"
   ]
  },
  {
   "cell_type": "code",
   "execution_count": null,
   "metadata": {},
   "outputs": [],
   "source": [
    "px.scatter(x=x,y=y,size=z,color=z)"
   ]
  },
  {
   "cell_type": "code",
   "execution_count": null,
   "metadata": {},
   "outputs": [],
   "source": []
  }
 ],
 "metadata": {
  "kernelspec": {
   "display_name": "base",
   "language": "python",
   "name": "python3"
  },
  "language_info": {
   "codemirror_mode": {
    "name": "ipython",
    "version": 3
   },
   "file_extension": ".py",
   "mimetype": "text/x-python",
   "name": "python",
   "nbconvert_exporter": "python",
   "pygments_lexer": "ipython3",
   "version": "3.12.3"
  }
 },
 "nbformat": 4,
 "nbformat_minor": 2
}
