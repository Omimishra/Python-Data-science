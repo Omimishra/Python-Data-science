{
 "cells": [
  {
   "cell_type": "markdown",
   "metadata": {},
   "source": [
    "# SQLalchemy\n",
    "Database <-> Python\n",
    "```\n",
    "pip install sqlalchemy\n",
    "```"
   ]
  },
  {
   "cell_type": "code",
   "execution_count": 1,
   "metadata": {},
   "outputs": [],
   "source": [
    "from sqlalchemy import create_engine\n",
    "from sqlalchemy.orm import sessionmaker, declarative_base\n",
    "from sqlalchemy import Column,Integer,String,DateTime\n",
    "from datetime import datetime"
   ]
  },
  {
   "cell_type": "code",
   "execution_count": 2,
   "metadata": {},
   "outputs": [],
   "source": [
    "Base = declarative_base()\n",
    "class Task(Base):\n",
    "    __tablename__ = 'tasks'\n",
    "    id = Column(Integer,primary_key=True)\n",
    "    task = Column(String)\n",
    "    deadline = Column(DateTime,default=datetime.now())"
   ]
  },
  {
   "cell_type": "code",
   "execution_count": 3,
   "metadata": {},
   "outputs": [
    {
     "name": "stdout",
     "output_type": "stream",
     "text": [
      "2024-08-16 17:40:54,991 INFO sqlalchemy.engine.Engine BEGIN (implicit)\n",
      "2024-08-16 17:40:54,991 INFO sqlalchemy.engine.Engine PRAGMA main.table_info(\"tasks\")\n",
      "2024-08-16 17:40:54,991 INFO sqlalchemy.engine.Engine [raw sql] ()\n",
      "2024-08-16 17:40:54,991 INFO sqlalchemy.engine.Engine COMMIT\n"
     ]
    }
   ],
   "source": [
    "engine = create_engine(\"sqlite:///mydb.sqlite3\",echo=True)\n",
    "Base.metadata.create_all(engine)"
   ]
  },
  {
   "cell_type": "code",
   "execution_count": 4,
   "metadata": {},
   "outputs": [],
   "source": [
    "def open_db():\n",
    "    engine = create_engine(\"sqlite:///mydb.sqlite3\")\n",
    "    Session = sessionmaker(bind=engine)\n",
    "    return Session()"
   ]
  },
  {
   "cell_type": "markdown",
   "metadata": {},
   "source": [
    "ORM - Object Relational Mapper"
   ]
  },
  {
   "cell_type": "code",
   "execution_count": 7,
   "metadata": {},
   "outputs": [],
   "source": [
    "#adding the values\n",
    "db = open_db()\n",
    "db.add(Task(task=\"Learn SQLAlchemy\", deadline = datetime(2024,8,1)))\n",
    "db.add(Task(task=\"Happy Independence Day\"))\n",
    "db.add(Task(task=\"Take out the trash\"))\n",
    "db.add(Task(task=\"Clean the fridge\",deadline = datetime(2024,8,23)))\n",
    "db.add(Task(task=\"Generate reports\",deadline = datetime(2024,8,16)))\n",
    "db.add(Task(task=\"Pay subscription fees\",deadline = datetime(2024,8,18)))\n",
    "db.add(Task(task=\"Celebrate birthday\",deadline = datetime(2024,8,25)))\n",
    "db.commit() #for saving\n",
    "db.close()"
   ]
  },
  {
   "cell_type": "markdown",
   "metadata": {},
   "source": [
    "# quering the database\n",
    "- get all the data\n",
    "- get specific data using filter"
   ]
  },
  {
   "cell_type": "code",
   "execution_count": 8,
   "metadata": {},
   "outputs": [],
   "source": [
    "# all the data\n",
    "db = open_db() #open the database\n"
   ]
  },
  {
   "cell_type": "code",
   "execution_count": 39,
   "metadata": {},
   "outputs": [
    {
     "name": "stdout",
     "output_type": "stream",
     "text": [
      "#  1 | Learn SQLAlchemy               | 2024-08-01 | 00:00:00\n",
      "#  2 | Happy Independence Day         | 2024-08-14 | 18:50:59.970402\n",
      "# 15 | Take out the trash             | 2024-08-16 | 17:40:54.933204\n",
      "# 17 | Generate student reports       | 2024-08-20 | 00:00:00\n",
      "# 18 | Pay subscription fees          | 2024-08-18 | 00:00:00\n",
      "# 19 | Celebrate birthday             | 2024-08-25 | 00:00:00\n"
     ]
    }
   ],
   "source": [
    "tasks = db.query(Task).all()\n",
    "for item in tasks: # item is a object which has following properties\n",
    "    print(f'# {item.id:2} | {item.task:30} | {item.deadline.date()} | {item.deadline.time()}')\n",
    "db.close()"
   ]
  },
  {
   "cell_type": "code",
   "execution_count": 24,
   "metadata": {},
   "outputs": [
    {
     "name": "stdout",
     "output_type": "stream",
     "text": [
      "# 16 | Clean the fridge               | 2024-08-23 | 00:00:00\n"
     ]
    }
   ],
   "source": [
    "# get item by id\n",
    "id=16\n",
    "db = open_db()\n",
    "task = db.get(Task,id)\n",
    "if task:\n",
    "    print(f'# {task.id} | {task.task:30} | {task.deadline.date()} | {task.deadline.time()}')"
   ]
  },
  {
   "cell_type": "code",
   "execution_count": 27,
   "metadata": {},
   "outputs": [
    {
     "name": "stdout",
     "output_type": "stream",
     "text": [
      "# 15 | Take out the trash             | 2024-08-16 | 17:40:54.933204\n"
     ]
    }
   ],
   "source": [
    "# filter item by title\n",
    "title = 'Take out the trash'\n",
    "db = open_db()\n",
    "tasks = db.query(Task).filter(Task.task == title).all()\n",
    "for item in tasks:\n",
    "    print(f'# {item.id:2} | {item.task:30} | {item.deadline.date()} | {item.deadline.time()}')\n",
    "db.close()"
   ]
  },
  {
   "cell_type": "code",
   "execution_count": 33,
   "metadata": {},
   "outputs": [
    {
     "name": "stdout",
     "output_type": "stream",
     "text": [
      "# 17 | Generate reports               | 2024-08-16 | 00:00:00\n"
     ]
    }
   ],
   "source": [
    "#filter item by date\n",
    "date = \"16-08-2024\"\n",
    "date = datetime.strptime(date,\"%d-%m-%Y\")\n",
    "db = open_db()\n",
    "tasks = db.query(Task).filter(Task.deadline == date).all()\n",
    "for item in tasks:\n",
    "    print(f'# {item.id:2} | {item.task:30} | {item.deadline.date()} | {item.deadline.time()}')\n",
    "db.close()"
   ]
  },
  {
   "cell_type": "code",
   "execution_count": 46,
   "metadata": {},
   "outputs": [
    {
     "data": {
      "text/plain": [
       "[]"
      ]
     },
     "execution_count": 46,
     "metadata": {},
     "output_type": "execute_result"
    }
   ],
   "source": [
    "db.query(Task).filter(Task.task.icontains).all()"
   ]
  },
  {
   "cell_type": "code",
   "execution_count": 48,
   "metadata": {},
   "outputs": [
    {
     "name": "stdout",
     "output_type": "stream",
     "text": [
      "#  2 | Happy Independence Day         | 2024-08-14 | 18:50:59.970402\n",
      "# 19 | Celebrate birthday             | 2024-08-25 | 00:00:00\n"
     ]
    }
   ],
   "source": [
    "db = open_db()\n",
    "tasks = db.query(Task).filter(Task.task.icontains(\"day\")).all()\n",
    "for item in tasks:\n",
    "    print(f'# {item.id:2} | {item.task:30} | {item.deadline.date()} | {item.deadline.time()}')\n"
   ]
  },
  {
   "cell_type": "code",
   "execution_count": 36,
   "metadata": {},
   "outputs": [],
   "source": [
    "#update item\n",
    "id = 17\n",
    "db = open_db()\n",
    "result = db.get(Task,id)\n",
    "if result:\n",
    "    result.task=\"Generate student reports\"\n",
    "    result.deadline= datetime(2024,8,20)\n",
    "    db.commit()\n",
    "db.close()"
   ]
  },
  {
   "cell_type": "code",
   "execution_count": 37,
   "metadata": {},
   "outputs": [
    {
     "name": "stdout",
     "output_type": "stream",
     "text": [
      "Item deleted\n"
     ]
    }
   ],
   "source": [
    "# delete item\n",
    "id = 16\n",
    "db = open_db()\n",
    "result = db.get(Task,id)\n",
    "if result:\n",
    "    db.delete(result)\n",
    "    db.commit()\n",
    "    print(\"Item deleted\")"
   ]
  }
 ],
 "metadata": {
  "kernelspec": {
   "display_name": "base",
   "language": "python",
   "name": "python3"
  },
  "language_info": {
   "codemirror_mode": {
    "name": "ipython",
    "version": 3
   },
   "file_extension": ".py",
   "mimetype": "text/x-python",
   "name": "python",
   "nbconvert_exporter": "python",
   "pygments_lexer": "ipython3",
   "version": "3.12.3"
  }
 },
 "nbformat": 4,
 "nbformat_minor": 2
}
