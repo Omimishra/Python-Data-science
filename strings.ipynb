{
 "cells": [
  {
   "cell_type": "markdown",
   "metadata": {},
   "source": [
    "### Strings\n",
    "- creation\n",
    "- indexing and slicing\n",
    "- methods"
   ]
  },
  {
   "cell_type": "code",
   "execution_count": null,
   "metadata": {},
   "outputs": [],
   "source": [
    "# single quoted\n",
    "a = 'apple'\n",
    "print (type(a))"
   ]
  },
  {
   "cell_type": "code",
   "execution_count": null,
   "metadata": {},
   "outputs": [],
   "source": [
    "# double quoted\n",
    "b = \"big apple\"\n",
    "print (type(b))"
   ]
  },
  {
   "cell_type": "code",
   "execution_count": null,
   "metadata": {},
   "outputs": [],
   "source": [
    "# triple quoted (in multiple lines)\n",
    "c = '''this is a string\n",
    "and its in triple\n",
    "quotes'''\n",
    "print(type(c))"
   ]
  },
  {
   "cell_type": "code",
   "execution_count": 3,
   "metadata": {},
   "outputs": [
    {
     "name": "stdout",
     "output_type": "stream",
     "text": [
      "<class 'str'>\n"
     ]
    }
   ],
   "source": [
    "d = str(1278353)\n",
    "print (type(d))"
   ]
  },
  {
   "cell_type": "markdown",
   "metadata": {},
   "source": [
    "types of string\n",
    "- byte `b'hello'`\n",
    "- raw `r'hello'`\n",
    "- format `f'hello {a}'`"
   ]
  },
  {
   "cell_type": "code",
   "execution_count": 4,
   "metadata": {},
   "outputs": [
    {
     "name": "stdout",
     "output_type": "stream",
     "text": [
      "b'this is a byte string'\n",
      "this is \\n\\n\\n a byte string\n",
      "apple is a value\n"
     ]
    }
   ],
   "source": [
    "print (b'this is a byte string')\n",
    "print (r'this is \\n\\n\\n a byte string')\n",
    "print (f'{a} is a value')\n"
   ]
  },
  {
   "cell_type": "markdown",
   "metadata": {},
   "source": [
    "# indexing\n",
    "```\n",
    "    -5  -4  -3  -2  -1\n",
    "     a   p   p   l   e\n",
    "     0   1   2   3   4\n",
    "```"
   ]
  },
  {
   "cell_type": "code",
   "execution_count": 5,
   "metadata": {},
   "outputs": [
    {
     "name": "stdout",
     "output_type": "stream",
     "text": [
      "G\n",
      "r\n",
      "e\n",
      "e\n",
      "k\n"
     ]
    }
   ],
   "source": [
    "word = 'Greek'\n",
    "print (word[0])\n",
    "print (word[1])\n",
    "print (word[2])\n",
    "print (word[-2])\n",
    "print (word[-1])\n"
   ]
  },
  {
   "cell_type": "code",
   "execution_count": 6,
   "metadata": {},
   "outputs": [
    {
     "name": "stdout",
     "output_type": "stream",
     "text": [
      "d\n",
      "n\n"
     ]
    }
   ],
   "source": [
    "msg = \"Journey before destination\"\n",
    "print(msg[15])\n",
    "print(msg[-6])\n",
    "    "
   ]
  },
  {
   "cell_type": "markdown",
   "metadata": {},
   "source": [
    "# Slicing\n",
    "```\n",
    "sequence[start : stop]\n",
    "```"
   ]
  },
  {
   "cell_type": "code",
   "execution_count": 8,
   "metadata": {},
   "outputs": [
    {
     "name": "stdout",
     "output_type": "stream",
     "text": [
      "Journey\n"
     ]
    }
   ],
   "source": [
    "print (msg[0:7])"
   ]
  },
  {
   "cell_type": "code",
   "execution_count": 9,
   "metadata": {},
   "outputs": [
    {
     "name": "stdout",
     "output_type": "stream",
     "text": [
      "before\n"
     ]
    }
   ],
   "source": [
    "print (msg[8:14])"
   ]
  },
  {
   "cell_type": "code",
   "execution_count": 15,
   "metadata": {},
   "outputs": [
    {
     "name": "stdout",
     "output_type": "stream",
     "text": [
      "destination\n"
     ]
    }
   ],
   "source": [
    "print (msg[15:])"
   ]
  },
  {
   "cell_type": "code",
   "execution_count": 18,
   "metadata": {},
   "outputs": [
    {
     "name": "stdout",
     "output_type": "stream",
     "text": [
      "Journey before destination\n"
     ]
    }
   ],
   "source": [
    "print (msg[:])"
   ]
  },
  {
   "cell_type": "code",
   "execution_count": 20,
   "metadata": {},
   "outputs": [
    {
     "name": "stdout",
     "output_type": "stream",
     "text": [
      "Vijay\n",
      "deenanath\n",
      "chauhan\n"
     ]
    }
   ],
   "source": [
    "name = 'Vijay deenanath chauhan'\n",
    "firstname = name[:5] #first 5 characters\n",
    "middlename = name[6:-8]\n",
    "lastname = name[16:]\n",
    "print (firstname)\n",
    "print (middlename)\n",
    "print (lastname)\n"
   ]
  },
  {
   "cell_type": "code",
   "execution_count": 24,
   "metadata": {},
   "outputs": [
    {
     "name": "stdout",
     "output_type": "stream",
     "text": [
      "nahuahc htananeed yajiV\n",
      "Vjydeaahcahn\n",
      "ia ennt hua\n",
      " deenanath ch\n"
     ]
    }
   ],
   "source": [
    "#reverse \n",
    "print (name[::-1])\n",
    "\n",
    "#step\n",
    "print(name[::2])\n",
    "print (name[1::2])\n",
    "\n",
    "#leaving out the start and end\n",
    "print (name[5:-5])"
   ]
  },
  {
   "cell_type": "code",
   "execution_count": 31,
   "metadata": {},
   "outputs": [
    {
     "name": "stdout",
     "output_type": "stream",
     "text": [
      "5599.25\n"
     ]
    }
   ],
   "source": [
    "x = '$5599.25 only'\n",
    "y = x[1:-5]\n",
    "print (float(y))"
   ]
  },
  {
   "cell_type": "markdown",
   "metadata": {},
   "source": [
    "# string methods\n",
    "- formatting\n",
    "    - upper()\n",
    "    - lower()\n",
    "    - title()\n",
    "    - swapcase()\n",
    "    - casefold()\n",
    "    - center()\n",
    "    - ljust()\n",
    "    - rjust()\n"
   ]
  },
  {
   "cell_type": "code",
   "execution_count": 35,
   "metadata": {},
   "outputs": [
    {
     "name": "stdout",
     "output_type": "stream",
     "text": [
      "LIFE IS BEAUTIFUL\n",
      "life is beautiful\n",
      "Life Is Beautiful\n",
      "Life is beautiful\n",
      "lIFE IS bEAUTIFUL\n",
      "life is beautiful\n",
      "                Life is Beautiful                 \n",
      "                                 Life is Beautiful\n",
      "Life is Beautiful                                 \n",
      "Life is Beautiful*********************************\n",
      "*********************************Life is Beautiful\n",
      "****************Life is Beautiful*****************\n"
     ]
    }
   ],
   "source": [
    "msg = \"Life is Beautiful\"\n",
    "print(msg.upper())\n",
    "print(msg.lower())\n",
    "print(msg.title())\n",
    "print(msg.capitalize())\n",
    "print(msg.swapcase())\n",
    "print(msg.casefold())\n",
    "print(msg.center(50))\n",
    "print(msg.rjust(50))\n",
    "print(msg.ljust(50))\n",
    "print(msg.ljust(50,'*'))\n",
    "print(msg.rjust(50,'*'))\n",
    "print(msg.center(50,\"*\"))\n"
   ]
  },
  {
   "cell_type": "markdown",
   "metadata": {},
   "source": [
    "- validation\n",
    "     - isalpha()\n",
    "     - isalnum()\n",
    "     - isnumeric()\n",
    "     - isdigit()\n",
    "     - isspace()\n",
    "     - isascii()\n",
    "     - isprintable()\n",
    "     - isupper()\n",
    "     - islower()"
   ]
  },
  {
   "cell_type": "code",
   "execution_count": 38,
   "metadata": {},
   "outputs": [
    {
     "name": "stdout",
     "output_type": "stream",
     "text": [
      "apple#123\n",
      "False\n",
      "False\n",
      "False\n",
      "False\n",
      "False\n",
      "True\n",
      "True\n",
      "False\n",
      "True\n"
     ]
    }
   ],
   "source": [
    "data = input('enter anything you want')\n",
    "print(data)\n",
    "print(data.isalpha())\n",
    "print(data.isalnum())\n",
    "print(data.isnumeric())\n",
    "print(data.isdigit())\n",
    "print(data.isspace())\n",
    "print(data.isascii())\n",
    "print(data.isprintable())\n",
    "print(data.isupper())\n",
    "print(data.islower())\n",
    "\n"
   ]
  }
 ],
 "metadata": {
  "kernelspec": {
   "display_name": "base",
   "language": "python",
   "name": "python3"
  },
  "language_info": {
   "codemirror_mode": {
    "name": "ipython",
    "version": 3
   },
   "file_extension": ".py",
   "mimetype": "text/x-python",
   "name": "python",
   "nbconvert_exporter": "python",
   "pygments_lexer": "ipython3",
   "version": "3.12.3"
  }
 },
 "nbformat": 4,
 "nbformat_minor": 2
}
