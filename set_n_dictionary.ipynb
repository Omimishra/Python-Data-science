{
 "cells": [
  {
   "cell_type": "markdown",
   "metadata": {},
   "source": [
    "# set\n",
    "- create\n",
    "- method"
   ]
  },
  {
   "cell_type": "code",
   "execution_count": 19,
   "metadata": {},
   "outputs": [
    {
     "name": "stdout",
     "output_type": "stream",
     "text": [
      "set()\n",
      "{1, 2, 3, 4, 5}\n",
      "{'banana', 'cherry', 'apple'}\n",
      "{'banana', 67, 'apple', 205}\n",
      "{1, 2, 3, 4, 5, 6, 7, 8, 9, 10}\n",
      "{'a', 'r', ' ', 'y', 'o', 'p', 't', 'e', 'h'}\n"
     ]
    }
   ],
   "source": [
    "x =  set() #empty set\n",
    "print (x)\n",
    "y = {1,2,3,4,5,1,2}\n",
    "print (y)\n",
    "fruits = {'apple','banana','cherry'}\n",
    "print (fruits)\n",
    "data = {'apple',205,67,'banana'}\n",
    "print (data)\n",
    "a = set ([1,2,3,4,5,6,7,8,9,10])\n",
    "b = set ('harry potter')\n",
    "print (a)\n",
    "print (b)\n"
   ]
  },
  {
   "cell_type": "code",
   "execution_count": 20,
   "metadata": {},
   "outputs": [
    {
     "name": "stdout",
     "output_type": "stream",
     "text": [
      "{'The emperor', 'Sinners consumed', 'The fine print'}\n"
     ]
    }
   ],
   "source": [
    "a = set()\n",
    "a.add('The emperor')\n",
    "a.add('The fine print')\n",
    "a.add('Sinners consumed')\n",
    "print (a)"
   ]
  },
  {
   "cell_type": "code",
   "execution_count": 21,
   "metadata": {},
   "outputs": [
    {
     "name": "stdout",
     "output_type": "stream",
     "text": [
      "{'The emperor', 'King of wrath', 'Sinners consumed', 'The fine print', 'Haunting adeline', 'Better than the movies'}\n"
     ]
    }
   ],
   "source": [
    "a.update (['Better than the movies','Haunting adeline','King of wrath'])\n",
    "print (a)"
   ]
  },
  {
   "cell_type": "code",
   "execution_count": 22,
   "metadata": {},
   "outputs": [
    {
     "name": "stdout",
     "output_type": "stream",
     "text": [
      "{'The emperor', 'King of wrath', 'Sinners consumed', 'The fine print', 'Haunting adeline', 'Better than the movies'}\n"
     ]
    }
   ],
   "source": [
    "a.add('Better than the movies')\n",
    "print (a)"
   ]
  },
  {
   "cell_type": "code",
   "execution_count": 23,
   "metadata": {},
   "outputs": [
    {
     "name": "stdout",
     "output_type": "stream",
     "text": [
      "{'The emperor', 'King of wrath', 'Sinners consumed', 'Haunting adeline', 'Better than the movies'}\n"
     ]
    }
   ],
   "source": [
    "a.discard('The fine print') #no error\n",
    "print (a)"
   ]
  },
  {
   "cell_type": "code",
   "execution_count": 24,
   "metadata": {},
   "outputs": [
    {
     "name": "stdout",
     "output_type": "stream",
     "text": [
      "{1, 2, 3, 4, 5}\n",
      "{1, 2, 3, 4, 5, 6, 7, 8}\n",
      "{1, 2, 3, 4, 5, 6, 7, 8}\n"
     ]
    }
   ],
   "source": [
    "a = {1,2,3}\n",
    "b = {3,4,5}\n",
    "c = {6,7,8}\n",
    "print (a.union(b))\n",
    "print (a.union(b,c))\n",
    "print (a | b | c) # | is union"
   ]
  },
  {
   "cell_type": "code",
   "execution_count": 25,
   "metadata": {},
   "outputs": [
    {
     "name": "stdout",
     "output_type": "stream",
     "text": [
      "{3}\n",
      "{3}\n",
      "set()\n",
      "set()\n"
     ]
    }
   ],
   "source": [
    "print (a.intersection( b ))\n",
    "print (a & b) # & is intersection\n",
    "print (a & c)\n",
    "print (a & b & c)"
   ]
  },
  {
   "cell_type": "code",
   "execution_count": 27,
   "metadata": {},
   "outputs": [
    {
     "name": "stdout",
     "output_type": "stream",
     "text": [
      "{1, 2}\n",
      "{4, 5}\n",
      "{1, 2}\n"
     ]
    }
   ],
   "source": [
    "print (a.difference(b)) # unique value of a\n",
    "print (b.difference(a))\n",
    "print (a-b)"
   ]
  },
  {
   "cell_type": "code",
   "execution_count": 28,
   "metadata": {},
   "outputs": [
    {
     "name": "stdout",
     "output_type": "stream",
     "text": [
      "{1, 2, 4, 5}\n",
      "{1, 2, 4, 5}\n"
     ]
    }
   ],
   "source": [
    "print (a.symmetric_difference(b)) # except common value\n",
    "print (a ^ b ) # ^ is symmetric difference"
   ]
  },
  {
   "cell_type": "code",
   "execution_count": null,
   "metadata": {},
   "outputs": [],
   "source": []
  }
 ],
 "metadata": {
  "kernelspec": {
   "display_name": "base",
   "language": "python",
   "name": "python3"
  },
  "language_info": {
   "codemirror_mode": {
    "name": "ipython",
    "version": 3
   },
   "file_extension": ".py",
   "mimetype": "text/x-python",
   "name": "python",
   "nbconvert_exporter": "python",
   "pygments_lexer": "ipython3",
   "version": "3.12.3"
  }
 },
 "nbformat": 4,
 "nbformat_minor": 2
}
