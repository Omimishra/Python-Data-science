{
 "cells": [
  {
   "cell_type": "markdown",
   "metadata": {},
   "source": [
    "# set\n",
    "- create\n",
    "- method"
   ]
  },
  {
   "cell_type": "code",
   "execution_count": 19,
   "metadata": {},
   "outputs": [
    {
     "name": "stdout",
     "output_type": "stream",
     "text": [
      "set()\n",
      "{1, 2, 3, 4, 5}\n",
      "{'banana', 'cherry', 'apple'}\n",
      "{'banana', 67, 'apple', 205}\n",
      "{1, 2, 3, 4, 5, 6, 7, 8, 9, 10}\n",
      "{'a', 'r', ' ', 'y', 'o', 'p', 't', 'e', 'h'}\n"
     ]
    }
   ],
   "source": [
    "x =  set() #empty set\n",
    "print (x)\n",
    "y = {1,2,3,4,5,1,2}\n",
    "print (y)\n",
    "fruits = {'apple','banana','cherry'}\n",
    "print (fruits)\n",
    "data = {'apple',205,67,'banana'}\n",
    "print (data)\n",
    "a = set ([1,2,3,4,5,6,7,8,9,10])\n",
    "b = set ('harry potter')\n",
    "print (a)\n",
    "print (b)\n"
   ]
  },
  {
   "cell_type": "code",
   "execution_count": 20,
   "metadata": {},
   "outputs": [
    {
     "name": "stdout",
     "output_type": "stream",
     "text": [
      "{'The emperor', 'Sinners consumed', 'The fine print'}\n"
     ]
    }
   ],
   "source": [
    "a = set()\n",
    "a.add('The emperor')\n",
    "a.add('The fine print')\n",
    "a.add('Sinners consumed')\n",
    "print (a)"
   ]
  },
  {
   "cell_type": "code",
   "execution_count": 21,
   "metadata": {},
   "outputs": [
    {
     "name": "stdout",
     "output_type": "stream",
     "text": [
      "{'The emperor', 'King of wrath', 'Sinners consumed', 'The fine print', 'Haunting adeline', 'Better than the movies'}\n"
     ]
    }
   ],
   "source": [
    "a.update (['Better than the movies','Haunting adeline','King of wrath'])\n",
    "print (a)"
   ]
  },
  {
   "cell_type": "code",
   "execution_count": 22,
   "metadata": {},
   "outputs": [
    {
     "name": "stdout",
     "output_type": "stream",
     "text": [
      "{'The emperor', 'King of wrath', 'Sinners consumed', 'The fine print', 'Haunting adeline', 'Better than the movies'}\n"
     ]
    }
   ],
   "source": [
    "a.add('Better than the movies')\n",
    "print (a)"
   ]
  },
  {
   "cell_type": "code",
   "execution_count": 23,
   "metadata": {},
   "outputs": [
    {
     "name": "stdout",
     "output_type": "stream",
     "text": [
      "{'The emperor', 'King of wrath', 'Sinners consumed', 'Haunting adeline', 'Better than the movies'}\n"
     ]
    }
   ],
   "source": [
    "a.discard('The fine print') #no error\n",
    "print (a)"
   ]
  },
  {
   "cell_type": "code",
   "execution_count": 24,
   "metadata": {},
   "outputs": [
    {
     "name": "stdout",
     "output_type": "stream",
     "text": [
      "{1, 2, 3, 4, 5}\n",
      "{1, 2, 3, 4, 5, 6, 7, 8}\n",
      "{1, 2, 3, 4, 5, 6, 7, 8}\n"
     ]
    }
   ],
   "source": [
    "a = {1,2,3}\n",
    "b = {3,4,5}\n",
    "c = {6,7,8}\n",
    "print (a.union(b))\n",
    "print (a.union(b,c))\n",
    "print (a | b | c) # | is union"
   ]
  },
  {
   "cell_type": "code",
   "execution_count": 25,
   "metadata": {},
   "outputs": [
    {
     "name": "stdout",
     "output_type": "stream",
     "text": [
      "{3}\n",
      "{3}\n",
      "set()\n",
      "set()\n"
     ]
    }
   ],
   "source": [
    "print (a.intersection( b ))\n",
    "print (a & b) # & is intersection\n",
    "print (a & c)\n",
    "print (a & b & c)"
   ]
  },
  {
   "cell_type": "code",
   "execution_count": 27,
   "metadata": {},
   "outputs": [
    {
     "name": "stdout",
     "output_type": "stream",
     "text": [
      "{1, 2}\n",
      "{4, 5}\n",
      "{1, 2}\n"
     ]
    }
   ],
   "source": [
    "print (a.difference(b)) # unique value of a\n",
    "print (b.difference(a))\n",
    "print (a-b)"
   ]
  },
  {
   "cell_type": "code",
   "execution_count": 28,
   "metadata": {},
   "outputs": [
    {
     "name": "stdout",
     "output_type": "stream",
     "text": [
      "{1, 2, 4, 5}\n",
      "{1, 2, 4, 5}\n"
     ]
    }
   ],
   "source": [
    "print (a.symmetric_difference(b)) # except common value\n",
    "print (a ^ b ) # ^ is symmetric difference"
   ]
  },
  {
   "cell_type": "markdown",
   "metadata": {},
   "source": [
    "### Dictionary"
   ]
  },
  {
   "cell_type": "code",
   "execution_count": 1,
   "metadata": {},
   "outputs": [
    {
     "name": "stdout",
     "output_type": "stream",
     "text": [
      "{'name': 'Alex', 'isMarried': True, 'hasChildren': False, 'age': 29, 'city': 'New York', 'profession': 'Photographer'}\n",
      "{'food': 500, 'rent': 1700, 'insurance': 200}\n"
     ]
    }
   ],
   "source": [
    "data = [\"Alex\", True, False, 29, \"New York\", \"Photographer\"]\n",
    "\n",
    "datadict = {\n",
    "    'name': 'Alex',\n",
    "    'isMarried': True,\n",
    "    'hasChildren': False,\n",
    "    'age': 29,\n",
    "    'city': 'New York',\n",
    "    'profession': 'Photographer'\n",
    "}\n",
    "\n",
    "movies = {} # empty dictionary\n",
    "\n",
    "expenditure = dict(\n",
    "    food = 500,\n",
    "    rent = 1700,\n",
    "    insurance = 200,\n",
    ")\n",
    "\n",
    "print(datadict)\n",
    "print(expenditure)  "
   ]
  },
  {
   "cell_type": "code",
   "execution_count": 2,
   "metadata": {},
   "outputs": [
    {
     "name": "stdout",
     "output_type": "stream",
     "text": [
      "Alex\n",
      "True\n",
      "New York\n"
     ]
    }
   ],
   "source": [
    "print(datadict['name'])\n",
    "print(datadict['isMarried'])\n",
    "print(datadict['city'])\n",
    "# print(datadict['state']) # KeyError"
   ]
  },
  {
   "cell_type": "code",
   "execution_count": 3,
   "metadata": {},
   "outputs": [
    {
     "name": "stdout",
     "output_type": "stream",
     "text": [
      "New York\n",
      "None\n",
      "29\n",
      "100\n"
     ]
    }
   ],
   "source": [
    "print(datadict.get('city'))\n",
    "print(datadict.get('City'))     # City is not in the dictionary\n",
    "print(datadict.get('age', 100)) # default value not used\n",
    "print(datadict.get('AGE', 100)) # AGE is not in the dictionary"
   ]
  },
  {
   "cell_type": "code",
   "execution_count": 4,
   "metadata": {},
   "outputs": [
    {
     "name": "stdout",
     "output_type": "stream",
     "text": [
      "{'Deadpool & Wolverine': 'Shawn Levy', 'BahuBali': 'SS Rajamouli', 'Inception': 'Christopher Nolan'}\n"
     ]
    }
   ],
   "source": [
    "movies['Deadpool & Wolverine'] = \"Shawn Levy\" \n",
    "movies['BahuBali'] = \"SS Rajamouli\"\n",
    "movies['Inception'] = \"Christopher Nolan\"\n",
    "print(movies)"
   ]
  },
  {
   "cell_type": "code",
   "execution_count": 6,
   "metadata": {},
   "outputs": [
    {
     "name": "stdout",
     "output_type": "stream",
     "text": [
      "{'Deadpool & Wolverine': 'Shawn Levy', 'BahuBali': 'SS Rajamouli', 'Inception': 'Christopher Nolan', 'The Dark Knight': 'Christopher Nolan', 'The Prestige': 'Christopher Nolan', 'The Matrix': 'Wachowski Brothers'}\n"
     ]
    }
   ],
   "source": [
    "movies.update(\n",
    "    {\n",
    "    'The Dark Knight': 'Christopher Nolan', \n",
    "    'The Prestige': 'Christopher Nolan',\n",
    "    'The Matrix': 'Wachowski Brothers',\n",
    "    }\n",
    ")\n",
    "print(movies)"
   ]
  },
  {
   "cell_type": "code",
   "execution_count": 7,
   "metadata": {},
   "outputs": [
    {
     "name": "stdout",
     "output_type": "stream",
     "text": [
      "{'name': 'Alexander', 'isMarried': True, 'hasChildren': False, 'age': 29, 'city': 'New York', 'profession': 'Photographer'}\n"
     ]
    }
   ],
   "source": [
    "datadict['name'] = 'Alexander'\n",
    "print(datadict)\n"
   ]
  },
  {
   "cell_type": "code",
   "execution_count": 9,
   "metadata": {},
   "outputs": [
    {
     "data": {
      "text/plain": [
       "'SS Rajamouli'"
      ]
     },
     "execution_count": 9,
     "metadata": {},
     "output_type": "execute_result"
    }
   ],
   "source": [
    "movies.pop(\"BahuBali\")"
   ]
  },
  {
   "cell_type": "code",
   "execution_count": 10,
   "metadata": {},
   "outputs": [
    {
     "data": {
      "text/plain": [
       "{'Deadpool & Wolverine': 'Shawn Levy',\n",
       " 'Inception': 'Christopher Nolan',\n",
       " 'The Dark Knight': 'Christopher Nolan',\n",
       " 'The Prestige': 'Christopher Nolan',\n",
       " 'The Matrix': 'Wachowski Brothers'}"
      ]
     },
     "execution_count": 10,
     "metadata": {},
     "output_type": "execute_result"
    }
   ],
   "source": [
    "movies"
   ]
  },
  {
   "cell_type": "code",
   "execution_count": null,
   "metadata": {},
   "outputs": [],
   "source": [
    "for item in datadict:\n",
    "    print(item)"
   ]
  },
  {
   "cell_type": "code",
   "execution_count": null,
   "metadata": {},
   "outputs": [],
   "source": [
    "for item in datadict:\n",
    "    print(datadict[item])"
   ]
  },
  {
   "cell_type": "code",
   "execution_count": null,
   "metadata": {},
   "outputs": [],
   "source": [
    "for k,v in datadict.items():\n",
    "    print(k, v)"
   ]
  },
  {
   "cell_type": "code",
   "execution_count": null,
   "metadata": {},
   "outputs": [],
   "source": [
    "movies.keys()"
   ]
  },
  {
   "cell_type": "code",
   "execution_count": null,
   "metadata": {},
   "outputs": [],
   "source": [
    "movies.values()"
   ]
  },
  {
   "cell_type": "markdown",
   "metadata": {},
   "source": [
    "nested dictionary"
   ]
  },
  {
   "cell_type": "code",
   "execution_count": null,
   "metadata": {},
   "outputs": [],
   "source": [
    "report = {\n",
    "    '01' : {\n",
    "        'name' : \"Alex\",\n",
    "        'subjects' : {\n",
    "            'maths' : 90,\n",
    "            'science' : 85,\n",
    "            'english' : 95\n",
    "        }\n",
    "    },\n",
    "    '02' : {\n",
    "        'name' : \"John\",\n",
    "        'subjects' : {\n",
    "            'maths' : 80,\n",
    "            'science' : 75,\n",
    "            'english' : 85\n",
    "        }\n",
    "    },\n",
    "}"
   ]
  },
  {
   "cell_type": "code",
   "execution_count": null,
   "metadata": {},
   "outputs": [],
   "source": [
    "report['02']['subjects']['english']"
   ]
  },
  {
   "cell_type": "code",
   "execution_count": null,
   "metadata": {},
   "outputs": [],
   "source": [
    "from pprint import pp"
   ]
  },
  {
   "cell_type": "code",
   "execution_count": null,
   "metadata": {},
   "outputs": [],
   "source": [
    "pp(report)"
   ]
  },
  {
   "cell_type": "code",
   "execution_count": null,
   "metadata": {},
   "outputs": [],
   "source": [
    "rainfall_data = {\n",
    "    'year' : [2019, 2020, 2021, 2022, 2023],\n",
    "    'rainfall' : [100, 200, 150, 300, 250]\n",
    "}\n",
    "print(rainfall_data)"
   ]
  }
 ],
 "metadata": {
  "kernelspec": {
   "display_name": "base",
   "language": "python",
   "name": "python3"
  },
  "language_info": {
   "codemirror_mode": {
    "name": "ipython",
    "version": 3
   },
   "file_extension": ".py",
   "mimetype": "text/x-python",
   "name": "python",
   "nbconvert_exporter": "python",
   "pygments_lexer": "ipython3",
   "version": "3.12.3"
  }
 },
 "nbformat": 4,
 "nbformat_minor": 2
}
